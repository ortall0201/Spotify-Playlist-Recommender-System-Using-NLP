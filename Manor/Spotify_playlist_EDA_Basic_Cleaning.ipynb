{
  "nbformat": 4,
  "nbformat_minor": 0,
  "metadata": {
    "colab": {
      "provenance": [],
      "toc_visible": true,
      "include_colab_link": true
    },
    "kernelspec": {
      "name": "python3",
      "display_name": "Python 3"
    },
    "language_info": {
      "name": "python"
    }
  },
  "cells": [
    {
      "cell_type": "markdown",
      "metadata": {
        "id": "view-in-github",
        "colab_type": "text"
      },
      "source": [
        "<a href=\"https://colab.research.google.com/github/ortall0201/Spotify-Playlist-Recommender-System-Using-NLP/blob/main/Manor/Spotify_playlist_EDA_Basic_Cleaning.ipynb\" target=\"_parent\"><img src=\"https://colab.research.google.com/assets/colab-badge.svg\" alt=\"Open In Colab\"/></a>"
      ]
    },
    {
      "cell_type": "markdown",
      "source": [
        "# Primary Data Structuring\n",
        "* Dataset structure consists of four columns - user_id, artist, track name, and playlist name - given by the user\n",
        "* Nevertheless it appeard that original file consisted of rows which some had many hyphens and quotation marks, making them appear as being of more or less than 4 columns.\n",
        "* This was dealt with keeping the lines that were made of four elements, and then ensuring each element was indeed what it was intended to be.\n",
        "\n"
      ],
      "metadata": {
        "id": "h_t2kB8dhV1Q"
      }
    },
    {
      "cell_type": "markdown",
      "source": [
        "This section focuses on preparing the dataset for further processing by addressing formatting issues and ensuring data consistency. The dataset initially contained four key columns: user_id, artist_name, track_name, and playlist_name. However, several formatting challenges were identified and resolved through the following steps:"
      ],
      "metadata": {
        "id": "6vbyg5oPn1gO"
      }
    },
    {
      "cell_type": "code",
      "execution_count": null,
      "metadata": {
        "id": "_bVQDUfV1W7i",
        "outputId": "a1911746-548d-4c93-ec1c-ad1604562d3c",
        "colab": {
          "base_uri": "https://localhost:8080/"
        }
      },
      "outputs": [
        {
          "output_type": "stream",
          "name": "stdout",
          "text": [
            "Mounted at /content/drive\n"
          ]
        }
      ],
      "source": [
        "import pandas as pd\n",
        "\n",
        "from google.colab import drive\n",
        "drive.mount('/content/drive')\n",
        "csv_file_path = '/content/drive/My Drive/Colab Notebooks/Final Project/spotify_dataset.csv'"
      ]
    },
    {
      "cell_type": "markdown",
      "source": [
        "## First step - keeping rows of 4 elements only\n",
        "\n",
        "* Goal: Eliminate rows with incorrect formatting caused by missing or extra fields.\n",
        "* Logic: Each row was checked to ensure it contained exactly four elements.\n",
        "Rows not meeting this criterion were excluded.\n"
      ],
      "metadata": {
        "id": "S3sRm4lZnRNi"
      }
    },
    {
      "cell_type": "code",
      "source": [
        "import csv\n",
        "\n",
        "# First step - keeping rows of 4 elements only\n",
        "\n",
        "# List to store valid rows\n",
        "valid_rows = []\n",
        "\n",
        "# Open the CSV file and filter for rows with 4 columns\n",
        "with open(csv_file_path, 'r', encoding='utf-8') as file:\n",
        "    reader = csv.reader(file)\n",
        "    headers = next(reader)  # Read the header\n",
        "    for row in reader:\n",
        "        if len(row) == 4:  # Keep only rows with exactly 4 columns\n",
        "            valid_rows.append(row)\n",
        "\n",
        "# Convert valid rows to a DataFrame\n",
        "df_valid = pd.DataFrame(valid_rows, columns=headers)\n",
        "\n",
        "print(len(df_valid))\n",
        "\n",
        "# Display the first few rows\n",
        "df_valid.head()\n",
        "\n"
      ],
      "metadata": {
        "colab": {
          "base_uri": "https://localhost:8080/",
          "height": 224
        },
        "id": "xNat39MC5Fbq",
        "outputId": "c40b57dd-8913-42d4-f8fd-ab5da557d2d1"
      },
      "execution_count": null,
      "outputs": [
        {
          "output_type": "stream",
          "name": "stdout",
          "text": [
            "12890475\n"
          ]
        },
        {
          "output_type": "execute_result",
          "data": {
            "text/plain": [
              "                            user_id                      \"artistname\"  \\\n",
              "0  9cc0cfd4d7d7885102480dd99e7a90d6                    Elvis Costello   \n",
              "1  9cc0cfd4d7d7885102480dd99e7a90d6  Elvis Costello & The Attractions   \n",
              "2  9cc0cfd4d7d7885102480dd99e7a90d6                      Tiffany Page   \n",
              "3  9cc0cfd4d7d7885102480dd99e7a90d6  Elvis Costello & The Attractions   \n",
              "4  9cc0cfd4d7d7885102480dd99e7a90d6                    Elvis Costello   \n",
              "\n",
              "                                         \"trackname\"  \"playlistname\"  \n",
              "0               (The Angels Wanna Wear My) Red Shoes  HARD ROCK 2010  \n",
              "1  (What's So Funny 'Bout) Peace, Love And Unders...  HARD ROCK 2010  \n",
              "2                                   7 Years Too Late  HARD ROCK 2010  \n",
              "3                              Accidents Will Happen  HARD ROCK 2010  \n",
              "4                                             Alison  HARD ROCK 2010  "
            ],
            "text/html": [
              "\n",
              "  <div id=\"df-63a136cb-03f0-4ad1-ab88-0cb1d5d4cd42\" class=\"colab-df-container\">\n",
              "    <div>\n",
              "<style scoped>\n",
              "    .dataframe tbody tr th:only-of-type {\n",
              "        vertical-align: middle;\n",
              "    }\n",
              "\n",
              "    .dataframe tbody tr th {\n",
              "        vertical-align: top;\n",
              "    }\n",
              "\n",
              "    .dataframe thead th {\n",
              "        text-align: right;\n",
              "    }\n",
              "</style>\n",
              "<table border=\"1\" class=\"dataframe\">\n",
              "  <thead>\n",
              "    <tr style=\"text-align: right;\">\n",
              "      <th></th>\n",
              "      <th>user_id</th>\n",
              "      <th>\"artistname\"</th>\n",
              "      <th>\"trackname\"</th>\n",
              "      <th>\"playlistname\"</th>\n",
              "    </tr>\n",
              "  </thead>\n",
              "  <tbody>\n",
              "    <tr>\n",
              "      <th>0</th>\n",
              "      <td>9cc0cfd4d7d7885102480dd99e7a90d6</td>\n",
              "      <td>Elvis Costello</td>\n",
              "      <td>(The Angels Wanna Wear My) Red Shoes</td>\n",
              "      <td>HARD ROCK 2010</td>\n",
              "    </tr>\n",
              "    <tr>\n",
              "      <th>1</th>\n",
              "      <td>9cc0cfd4d7d7885102480dd99e7a90d6</td>\n",
              "      <td>Elvis Costello &amp; The Attractions</td>\n",
              "      <td>(What's So Funny 'Bout) Peace, Love And Unders...</td>\n",
              "      <td>HARD ROCK 2010</td>\n",
              "    </tr>\n",
              "    <tr>\n",
              "      <th>2</th>\n",
              "      <td>9cc0cfd4d7d7885102480dd99e7a90d6</td>\n",
              "      <td>Tiffany Page</td>\n",
              "      <td>7 Years Too Late</td>\n",
              "      <td>HARD ROCK 2010</td>\n",
              "    </tr>\n",
              "    <tr>\n",
              "      <th>3</th>\n",
              "      <td>9cc0cfd4d7d7885102480dd99e7a90d6</td>\n",
              "      <td>Elvis Costello &amp; The Attractions</td>\n",
              "      <td>Accidents Will Happen</td>\n",
              "      <td>HARD ROCK 2010</td>\n",
              "    </tr>\n",
              "    <tr>\n",
              "      <th>4</th>\n",
              "      <td>9cc0cfd4d7d7885102480dd99e7a90d6</td>\n",
              "      <td>Elvis Costello</td>\n",
              "      <td>Alison</td>\n",
              "      <td>HARD ROCK 2010</td>\n",
              "    </tr>\n",
              "  </tbody>\n",
              "</table>\n",
              "</div>\n",
              "    <div class=\"colab-df-buttons\">\n",
              "\n",
              "  <div class=\"colab-df-container\">\n",
              "    <button class=\"colab-df-convert\" onclick=\"convertToInteractive('df-63a136cb-03f0-4ad1-ab88-0cb1d5d4cd42')\"\n",
              "            title=\"Convert this dataframe to an interactive table.\"\n",
              "            style=\"display:none;\">\n",
              "\n",
              "  <svg xmlns=\"http://www.w3.org/2000/svg\" height=\"24px\" viewBox=\"0 -960 960 960\">\n",
              "    <path d=\"M120-120v-720h720v720H120Zm60-500h600v-160H180v160Zm220 220h160v-160H400v160Zm0 220h160v-160H400v160ZM180-400h160v-160H180v160Zm440 0h160v-160H620v160ZM180-180h160v-160H180v160Zm440 0h160v-160H620v160Z\"/>\n",
              "  </svg>\n",
              "    </button>\n",
              "\n",
              "  <style>\n",
              "    .colab-df-container {\n",
              "      display:flex;\n",
              "      gap: 12px;\n",
              "    }\n",
              "\n",
              "    .colab-df-convert {\n",
              "      background-color: #E8F0FE;\n",
              "      border: none;\n",
              "      border-radius: 50%;\n",
              "      cursor: pointer;\n",
              "      display: none;\n",
              "      fill: #1967D2;\n",
              "      height: 32px;\n",
              "      padding: 0 0 0 0;\n",
              "      width: 32px;\n",
              "    }\n",
              "\n",
              "    .colab-df-convert:hover {\n",
              "      background-color: #E2EBFA;\n",
              "      box-shadow: 0px 1px 2px rgba(60, 64, 67, 0.3), 0px 1px 3px 1px rgba(60, 64, 67, 0.15);\n",
              "      fill: #174EA6;\n",
              "    }\n",
              "\n",
              "    .colab-df-buttons div {\n",
              "      margin-bottom: 4px;\n",
              "    }\n",
              "\n",
              "    [theme=dark] .colab-df-convert {\n",
              "      background-color: #3B4455;\n",
              "      fill: #D2E3FC;\n",
              "    }\n",
              "\n",
              "    [theme=dark] .colab-df-convert:hover {\n",
              "      background-color: #434B5C;\n",
              "      box-shadow: 0px 1px 3px 1px rgba(0, 0, 0, 0.15);\n",
              "      filter: drop-shadow(0px 1px 2px rgba(0, 0, 0, 0.3));\n",
              "      fill: #FFFFFF;\n",
              "    }\n",
              "  </style>\n",
              "\n",
              "    <script>\n",
              "      const buttonEl =\n",
              "        document.querySelector('#df-63a136cb-03f0-4ad1-ab88-0cb1d5d4cd42 button.colab-df-convert');\n",
              "      buttonEl.style.display =\n",
              "        google.colab.kernel.accessAllowed ? 'block' : 'none';\n",
              "\n",
              "      async function convertToInteractive(key) {\n",
              "        const element = document.querySelector('#df-63a136cb-03f0-4ad1-ab88-0cb1d5d4cd42');\n",
              "        const dataTable =\n",
              "          await google.colab.kernel.invokeFunction('convertToInteractive',\n",
              "                                                    [key], {});\n",
              "        if (!dataTable) return;\n",
              "\n",
              "        const docLinkHtml = 'Like what you see? Visit the ' +\n",
              "          '<a target=\"_blank\" href=https://colab.research.google.com/notebooks/data_table.ipynb>data table notebook</a>'\n",
              "          + ' to learn more about interactive tables.';\n",
              "        element.innerHTML = '';\n",
              "        dataTable['output_type'] = 'display_data';\n",
              "        await google.colab.output.renderOutput(dataTable, element);\n",
              "        const docLink = document.createElement('div');\n",
              "        docLink.innerHTML = docLinkHtml;\n",
              "        element.appendChild(docLink);\n",
              "      }\n",
              "    </script>\n",
              "  </div>\n",
              "\n",
              "\n",
              "<div id=\"df-651b247a-4654-4432-94b0-a1f341a43e2e\">\n",
              "  <button class=\"colab-df-quickchart\" onclick=\"quickchart('df-651b247a-4654-4432-94b0-a1f341a43e2e')\"\n",
              "            title=\"Suggest charts\"\n",
              "            style=\"display:none;\">\n",
              "\n",
              "<svg xmlns=\"http://www.w3.org/2000/svg\" height=\"24px\"viewBox=\"0 0 24 24\"\n",
              "     width=\"24px\">\n",
              "    <g>\n",
              "        <path d=\"M19 3H5c-1.1 0-2 .9-2 2v14c0 1.1.9 2 2 2h14c1.1 0 2-.9 2-2V5c0-1.1-.9-2-2-2zM9 17H7v-7h2v7zm4 0h-2V7h2v10zm4 0h-2v-4h2v4z\"/>\n",
              "    </g>\n",
              "</svg>\n",
              "  </button>\n",
              "\n",
              "<style>\n",
              "  .colab-df-quickchart {\n",
              "      --bg-color: #E8F0FE;\n",
              "      --fill-color: #1967D2;\n",
              "      --hover-bg-color: #E2EBFA;\n",
              "      --hover-fill-color: #174EA6;\n",
              "      --disabled-fill-color: #AAA;\n",
              "      --disabled-bg-color: #DDD;\n",
              "  }\n",
              "\n",
              "  [theme=dark] .colab-df-quickchart {\n",
              "      --bg-color: #3B4455;\n",
              "      --fill-color: #D2E3FC;\n",
              "      --hover-bg-color: #434B5C;\n",
              "      --hover-fill-color: #FFFFFF;\n",
              "      --disabled-bg-color: #3B4455;\n",
              "      --disabled-fill-color: #666;\n",
              "  }\n",
              "\n",
              "  .colab-df-quickchart {\n",
              "    background-color: var(--bg-color);\n",
              "    border: none;\n",
              "    border-radius: 50%;\n",
              "    cursor: pointer;\n",
              "    display: none;\n",
              "    fill: var(--fill-color);\n",
              "    height: 32px;\n",
              "    padding: 0;\n",
              "    width: 32px;\n",
              "  }\n",
              "\n",
              "  .colab-df-quickchart:hover {\n",
              "    background-color: var(--hover-bg-color);\n",
              "    box-shadow: 0 1px 2px rgba(60, 64, 67, 0.3), 0 1px 3px 1px rgba(60, 64, 67, 0.15);\n",
              "    fill: var(--button-hover-fill-color);\n",
              "  }\n",
              "\n",
              "  .colab-df-quickchart-complete:disabled,\n",
              "  .colab-df-quickchart-complete:disabled:hover {\n",
              "    background-color: var(--disabled-bg-color);\n",
              "    fill: var(--disabled-fill-color);\n",
              "    box-shadow: none;\n",
              "  }\n",
              "\n",
              "  .colab-df-spinner {\n",
              "    border: 2px solid var(--fill-color);\n",
              "    border-color: transparent;\n",
              "    border-bottom-color: var(--fill-color);\n",
              "    animation:\n",
              "      spin 1s steps(1) infinite;\n",
              "  }\n",
              "\n",
              "  @keyframes spin {\n",
              "    0% {\n",
              "      border-color: transparent;\n",
              "      border-bottom-color: var(--fill-color);\n",
              "      border-left-color: var(--fill-color);\n",
              "    }\n",
              "    20% {\n",
              "      border-color: transparent;\n",
              "      border-left-color: var(--fill-color);\n",
              "      border-top-color: var(--fill-color);\n",
              "    }\n",
              "    30% {\n",
              "      border-color: transparent;\n",
              "      border-left-color: var(--fill-color);\n",
              "      border-top-color: var(--fill-color);\n",
              "      border-right-color: var(--fill-color);\n",
              "    }\n",
              "    40% {\n",
              "      border-color: transparent;\n",
              "      border-right-color: var(--fill-color);\n",
              "      border-top-color: var(--fill-color);\n",
              "    }\n",
              "    60% {\n",
              "      border-color: transparent;\n",
              "      border-right-color: var(--fill-color);\n",
              "    }\n",
              "    80% {\n",
              "      border-color: transparent;\n",
              "      border-right-color: var(--fill-color);\n",
              "      border-bottom-color: var(--fill-color);\n",
              "    }\n",
              "    90% {\n",
              "      border-color: transparent;\n",
              "      border-bottom-color: var(--fill-color);\n",
              "    }\n",
              "  }\n",
              "</style>\n",
              "\n",
              "  <script>\n",
              "    async function quickchart(key) {\n",
              "      const quickchartButtonEl =\n",
              "        document.querySelector('#' + key + ' button');\n",
              "      quickchartButtonEl.disabled = true;  // To prevent multiple clicks.\n",
              "      quickchartButtonEl.classList.add('colab-df-spinner');\n",
              "      try {\n",
              "        const charts = await google.colab.kernel.invokeFunction(\n",
              "            'suggestCharts', [key], {});\n",
              "      } catch (error) {\n",
              "        console.error('Error during call to suggestCharts:', error);\n",
              "      }\n",
              "      quickchartButtonEl.classList.remove('colab-df-spinner');\n",
              "      quickchartButtonEl.classList.add('colab-df-quickchart-complete');\n",
              "    }\n",
              "    (() => {\n",
              "      let quickchartButtonEl =\n",
              "        document.querySelector('#df-651b247a-4654-4432-94b0-a1f341a43e2e button');\n",
              "      quickchartButtonEl.style.display =\n",
              "        google.colab.kernel.accessAllowed ? 'block' : 'none';\n",
              "    })();\n",
              "  </script>\n",
              "</div>\n",
              "\n",
              "    </div>\n",
              "  </div>\n"
            ],
            "application/vnd.google.colaboratory.intrinsic+json": {
              "type": "dataframe",
              "summary": "{\n  \"name\": \"# df_valid\",\n  \"rows\": 5,\n  \"fields\": [\n    {\n      \"column\": \"user_id\",\n      \"properties\": {\n        \"dtype\": \"category\",\n        \"num_unique_values\": 1,\n        \"samples\": [\n          \"9cc0cfd4d7d7885102480dd99e7a90d6\"\n        ],\n        \"semantic_type\": \"\",\n        \"description\": \"\"\n      }\n    },\n    {\n      \"column\": \" \\\"artistname\\\"\",\n      \"properties\": {\n        \"dtype\": \"string\",\n        \"num_unique_values\": 3,\n        \"samples\": [\n          \"Elvis Costello\"\n        ],\n        \"semantic_type\": \"\",\n        \"description\": \"\"\n      }\n    },\n    {\n      \"column\": \" \\\"trackname\\\"\",\n      \"properties\": {\n        \"dtype\": \"string\",\n        \"num_unique_values\": 5,\n        \"samples\": [\n          \"(What's So Funny 'Bout) Peace, Love And Understanding\"\n        ],\n        \"semantic_type\": \"\",\n        \"description\": \"\"\n      }\n    },\n    {\n      \"column\": \" \\\"playlistname\\\"\",\n      \"properties\": {\n        \"dtype\": \"category\",\n        \"num_unique_values\": 1,\n        \"samples\": [\n          \"HARD ROCK 2010\"\n        ],\n        \"semantic_type\": \"\",\n        \"description\": \"\"\n      }\n    }\n  ]\n}"
            }
          },
          "metadata": {},
          "execution_count": 3
        }
      ]
    },
    {
      "cell_type": "markdown",
      "source": [
        "## Second step - Dealing with single quotation marks (sign of corrupt line)\n",
        "\n",
        "* Issue: Some rows contained misplaced or duplicate quotation marks, leading to data corruption.\n",
        "* Solution: Rows containing single quotation marks (\") were identified and removed.\n"
      ],
      "metadata": {
        "id": "zYMrqUHXnPUE"
      }
    },
    {
      "cell_type": "code",
      "source": [
        "# Second step - Dealing with single quotation marks (sign of corrupt line)\n",
        "\n",
        "# Remove adjacent double quotation marks (\"\") in all rows and columns\n",
        "df_cleaned = df_valid.applymap(lambda x: x.replace('\"\"', '') if isinstance(x, str) else x)\n",
        "\n",
        "# Filter rows where any column contains a single quotation mark - sign of a corrupted line (\")\n",
        "rows_with_quotes = df_cleaned[df_cleaned.apply(lambda x: x.astype(str).str.contains('\"').any(), axis=1)]\n",
        "\n",
        "# Count the number of corrupted rows\n",
        "print(f\"Number of rows containing single quotation mark: {len(rows_with_quotes)}\")\n",
        "\n",
        "# Display df after cleaning\n",
        "rows_with_quotes"
      ],
      "metadata": {
        "colab": {
          "base_uri": "https://localhost:8080/",
          "height": 476
        },
        "id": "X22fcy2Z6vcQ",
        "outputId": "31f40337-69b5-4e2f-f488-30d0f2d09919"
      },
      "execution_count": null,
      "outputs": [
        {
          "output_type": "stream",
          "name": "stderr",
          "text": [
            "<ipython-input-4-06fd0373b33a>:4: FutureWarning: DataFrame.applymap has been deprecated. Use DataFrame.map instead.\n",
            "  df_cleaned = df_valid.applymap(lambda x: x.replace('\"\"', '') if isinstance(x, str) else x)\n"
          ]
        },
        {
          "output_type": "stream",
          "name": "stdout",
          "text": [
            "Number of rows containing single quotation mark: 67072\n"
          ]
        },
        {
          "output_type": "execute_result",
          "data": {
            "text/plain": [
              "                                   user_id  \\\n",
              "304       07f0fc3be95dcd878966b1f9572ff670   \n",
              "305       07f0fc3be95dcd878966b1f9572ff670   \n",
              "849       07f0fc3be95dcd878966b1f9572ff670   \n",
              "2037      944c80d26922ae634d6ce445b1fdff7f   \n",
              "2245      944c80d26922ae634d6ce445b1fdff7f   \n",
              "...                                    ...   \n",
              "12889469  488ead471813ae982119153f792e4a3e   \n",
              "12889578  488ead471813ae982119153f792e4a3e   \n",
              "12889579  488ead471813ae982119153f792e4a3e   \n",
              "12889584  488ead471813ae982119153f792e4a3e   \n",
              "12889606  488ead471813ae982119153f792e4a3e   \n",
              "\n",
              "                                  \"artistname\"  \\\n",
              "304                    Wolfgang Amadeus Mozart   \n",
              "305                       Ludwig van Beethoven   \n",
              "849                           Sequoia Bisquits   \n",
              "2037                     Matthew Mdot\" Finley\"   \n",
              "2245                     Matthew Mdot\" Finley\"   \n",
              "...                                        ...   \n",
              "12889469                                  Cher   \n",
              "12889578  Atif Aslam, Pritam & Sunidhi Chauhan   \n",
              "12889579                         Kanika Kapoor   \n",
              "12889584                         Jeet Gannguli   \n",
              "12889606                                Pritam   \n",
              "\n",
              "                                                \"trackname\"  \\\n",
              "304       Serenade No. 13 in G Major, K. 525 Eine Kleine...   \n",
              "305       Sonata No. 23 In F Minor, Op. 57 Appassionata\"...   \n",
              "849       Memories of green (from Squaresoft's Chrono Tr...   \n",
              "2037                                                   Fire   \n",
              "2245                                           Tear It Down   \n",
              "...                                                     ...   \n",
              "12889469  You Haven't Seen the Last of Me (Almighty Radi...   \n",
              "12889578                        Be Intehaan (From Race 2\")\"   \n",
              "12889579                     Chhil Gaye Naina (From NH10\")\"   \n",
              "12889584                   Khamoshiyan (From Khamoshiyan\")\"   \n",
              "12889606                        Shaayraana (From Holiday\")\"   \n",
              "\n",
              "                     \"playlistname\"  \n",
              "304                       Classique  \n",
              "305                       Classique  \n",
              "849                         Starred  \n",
              "2037                        Starred  \n",
              "2245                        Starred  \n",
              "...                             ...  \n",
              "12889469  Happy Atlanta Pride 2011!  \n",
              "12889578         Mom's Indian Songs  \n",
              "12889579         Mom's Indian Songs  \n",
              "12889584         Mom's Indian Songs  \n",
              "12889606         Mom's Indian Songs  \n",
              "\n",
              "[67072 rows x 4 columns]"
            ],
            "text/html": [
              "\n",
              "  <div id=\"df-b1215acd-fef9-4e79-8927-89d700e0ca57\" class=\"colab-df-container\">\n",
              "    <div>\n",
              "<style scoped>\n",
              "    .dataframe tbody tr th:only-of-type {\n",
              "        vertical-align: middle;\n",
              "    }\n",
              "\n",
              "    .dataframe tbody tr th {\n",
              "        vertical-align: top;\n",
              "    }\n",
              "\n",
              "    .dataframe thead th {\n",
              "        text-align: right;\n",
              "    }\n",
              "</style>\n",
              "<table border=\"1\" class=\"dataframe\">\n",
              "  <thead>\n",
              "    <tr style=\"text-align: right;\">\n",
              "      <th></th>\n",
              "      <th>user_id</th>\n",
              "      <th>\"artistname\"</th>\n",
              "      <th>\"trackname\"</th>\n",
              "      <th>\"playlistname\"</th>\n",
              "    </tr>\n",
              "  </thead>\n",
              "  <tbody>\n",
              "    <tr>\n",
              "      <th>304</th>\n",
              "      <td>07f0fc3be95dcd878966b1f9572ff670</td>\n",
              "      <td>Wolfgang Amadeus Mozart</td>\n",
              "      <td>Serenade No. 13 in G Major, K. 525 Eine Kleine...</td>\n",
              "      <td>Classique</td>\n",
              "    </tr>\n",
              "    <tr>\n",
              "      <th>305</th>\n",
              "      <td>07f0fc3be95dcd878966b1f9572ff670</td>\n",
              "      <td>Ludwig van Beethoven</td>\n",
              "      <td>Sonata No. 23 In F Minor, Op. 57 Appassionata\"...</td>\n",
              "      <td>Classique</td>\n",
              "    </tr>\n",
              "    <tr>\n",
              "      <th>849</th>\n",
              "      <td>07f0fc3be95dcd878966b1f9572ff670</td>\n",
              "      <td>Sequoia Bisquits</td>\n",
              "      <td>Memories of green (from Squaresoft's Chrono Tr...</td>\n",
              "      <td>Starred</td>\n",
              "    </tr>\n",
              "    <tr>\n",
              "      <th>2037</th>\n",
              "      <td>944c80d26922ae634d6ce445b1fdff7f</td>\n",
              "      <td>Matthew Mdot\" Finley\"</td>\n",
              "      <td>Fire</td>\n",
              "      <td>Starred</td>\n",
              "    </tr>\n",
              "    <tr>\n",
              "      <th>2245</th>\n",
              "      <td>944c80d26922ae634d6ce445b1fdff7f</td>\n",
              "      <td>Matthew Mdot\" Finley\"</td>\n",
              "      <td>Tear It Down</td>\n",
              "      <td>Starred</td>\n",
              "    </tr>\n",
              "    <tr>\n",
              "      <th>...</th>\n",
              "      <td>...</td>\n",
              "      <td>...</td>\n",
              "      <td>...</td>\n",
              "      <td>...</td>\n",
              "    </tr>\n",
              "    <tr>\n",
              "      <th>12889469</th>\n",
              "      <td>488ead471813ae982119153f792e4a3e</td>\n",
              "      <td>Cher</td>\n",
              "      <td>You Haven't Seen the Last of Me (Almighty Radi...</td>\n",
              "      <td>Happy Atlanta Pride 2011!</td>\n",
              "    </tr>\n",
              "    <tr>\n",
              "      <th>12889578</th>\n",
              "      <td>488ead471813ae982119153f792e4a3e</td>\n",
              "      <td>Atif Aslam, Pritam &amp; Sunidhi Chauhan</td>\n",
              "      <td>Be Intehaan (From Race 2\")\"</td>\n",
              "      <td>Mom's Indian Songs</td>\n",
              "    </tr>\n",
              "    <tr>\n",
              "      <th>12889579</th>\n",
              "      <td>488ead471813ae982119153f792e4a3e</td>\n",
              "      <td>Kanika Kapoor</td>\n",
              "      <td>Chhil Gaye Naina (From NH10\")\"</td>\n",
              "      <td>Mom's Indian Songs</td>\n",
              "    </tr>\n",
              "    <tr>\n",
              "      <th>12889584</th>\n",
              "      <td>488ead471813ae982119153f792e4a3e</td>\n",
              "      <td>Jeet Gannguli</td>\n",
              "      <td>Khamoshiyan (From Khamoshiyan\")\"</td>\n",
              "      <td>Mom's Indian Songs</td>\n",
              "    </tr>\n",
              "    <tr>\n",
              "      <th>12889606</th>\n",
              "      <td>488ead471813ae982119153f792e4a3e</td>\n",
              "      <td>Pritam</td>\n",
              "      <td>Shaayraana (From Holiday\")\"</td>\n",
              "      <td>Mom's Indian Songs</td>\n",
              "    </tr>\n",
              "  </tbody>\n",
              "</table>\n",
              "<p>67072 rows × 4 columns</p>\n",
              "</div>\n",
              "    <div class=\"colab-df-buttons\">\n",
              "\n",
              "  <div class=\"colab-df-container\">\n",
              "    <button class=\"colab-df-convert\" onclick=\"convertToInteractive('df-b1215acd-fef9-4e79-8927-89d700e0ca57')\"\n",
              "            title=\"Convert this dataframe to an interactive table.\"\n",
              "            style=\"display:none;\">\n",
              "\n",
              "  <svg xmlns=\"http://www.w3.org/2000/svg\" height=\"24px\" viewBox=\"0 -960 960 960\">\n",
              "    <path d=\"M120-120v-720h720v720H120Zm60-500h600v-160H180v160Zm220 220h160v-160H400v160Zm0 220h160v-160H400v160ZM180-400h160v-160H180v160Zm440 0h160v-160H620v160ZM180-180h160v-160H180v160Zm440 0h160v-160H620v160Z\"/>\n",
              "  </svg>\n",
              "    </button>\n",
              "\n",
              "  <style>\n",
              "    .colab-df-container {\n",
              "      display:flex;\n",
              "      gap: 12px;\n",
              "    }\n",
              "\n",
              "    .colab-df-convert {\n",
              "      background-color: #E8F0FE;\n",
              "      border: none;\n",
              "      border-radius: 50%;\n",
              "      cursor: pointer;\n",
              "      display: none;\n",
              "      fill: #1967D2;\n",
              "      height: 32px;\n",
              "      padding: 0 0 0 0;\n",
              "      width: 32px;\n",
              "    }\n",
              "\n",
              "    .colab-df-convert:hover {\n",
              "      background-color: #E2EBFA;\n",
              "      box-shadow: 0px 1px 2px rgba(60, 64, 67, 0.3), 0px 1px 3px 1px rgba(60, 64, 67, 0.15);\n",
              "      fill: #174EA6;\n",
              "    }\n",
              "\n",
              "    .colab-df-buttons div {\n",
              "      margin-bottom: 4px;\n",
              "    }\n",
              "\n",
              "    [theme=dark] .colab-df-convert {\n",
              "      background-color: #3B4455;\n",
              "      fill: #D2E3FC;\n",
              "    }\n",
              "\n",
              "    [theme=dark] .colab-df-convert:hover {\n",
              "      background-color: #434B5C;\n",
              "      box-shadow: 0px 1px 3px 1px rgba(0, 0, 0, 0.15);\n",
              "      filter: drop-shadow(0px 1px 2px rgba(0, 0, 0, 0.3));\n",
              "      fill: #FFFFFF;\n",
              "    }\n",
              "  </style>\n",
              "\n",
              "    <script>\n",
              "      const buttonEl =\n",
              "        document.querySelector('#df-b1215acd-fef9-4e79-8927-89d700e0ca57 button.colab-df-convert');\n",
              "      buttonEl.style.display =\n",
              "        google.colab.kernel.accessAllowed ? 'block' : 'none';\n",
              "\n",
              "      async function convertToInteractive(key) {\n",
              "        const element = document.querySelector('#df-b1215acd-fef9-4e79-8927-89d700e0ca57');\n",
              "        const dataTable =\n",
              "          await google.colab.kernel.invokeFunction('convertToInteractive',\n",
              "                                                    [key], {});\n",
              "        if (!dataTable) return;\n",
              "\n",
              "        const docLinkHtml = 'Like what you see? Visit the ' +\n",
              "          '<a target=\"_blank\" href=https://colab.research.google.com/notebooks/data_table.ipynb>data table notebook</a>'\n",
              "          + ' to learn more about interactive tables.';\n",
              "        element.innerHTML = '';\n",
              "        dataTable['output_type'] = 'display_data';\n",
              "        await google.colab.output.renderOutput(dataTable, element);\n",
              "        const docLink = document.createElement('div');\n",
              "        docLink.innerHTML = docLinkHtml;\n",
              "        element.appendChild(docLink);\n",
              "      }\n",
              "    </script>\n",
              "  </div>\n",
              "\n",
              "\n",
              "<div id=\"df-74c2ad96-e257-4744-8179-ad97c620cf82\">\n",
              "  <button class=\"colab-df-quickchart\" onclick=\"quickchart('df-74c2ad96-e257-4744-8179-ad97c620cf82')\"\n",
              "            title=\"Suggest charts\"\n",
              "            style=\"display:none;\">\n",
              "\n",
              "<svg xmlns=\"http://www.w3.org/2000/svg\" height=\"24px\"viewBox=\"0 0 24 24\"\n",
              "     width=\"24px\">\n",
              "    <g>\n",
              "        <path d=\"M19 3H5c-1.1 0-2 .9-2 2v14c0 1.1.9 2 2 2h14c1.1 0 2-.9 2-2V5c0-1.1-.9-2-2-2zM9 17H7v-7h2v7zm4 0h-2V7h2v10zm4 0h-2v-4h2v4z\"/>\n",
              "    </g>\n",
              "</svg>\n",
              "  </button>\n",
              "\n",
              "<style>\n",
              "  .colab-df-quickchart {\n",
              "      --bg-color: #E8F0FE;\n",
              "      --fill-color: #1967D2;\n",
              "      --hover-bg-color: #E2EBFA;\n",
              "      --hover-fill-color: #174EA6;\n",
              "      --disabled-fill-color: #AAA;\n",
              "      --disabled-bg-color: #DDD;\n",
              "  }\n",
              "\n",
              "  [theme=dark] .colab-df-quickchart {\n",
              "      --bg-color: #3B4455;\n",
              "      --fill-color: #D2E3FC;\n",
              "      --hover-bg-color: #434B5C;\n",
              "      --hover-fill-color: #FFFFFF;\n",
              "      --disabled-bg-color: #3B4455;\n",
              "      --disabled-fill-color: #666;\n",
              "  }\n",
              "\n",
              "  .colab-df-quickchart {\n",
              "    background-color: var(--bg-color);\n",
              "    border: none;\n",
              "    border-radius: 50%;\n",
              "    cursor: pointer;\n",
              "    display: none;\n",
              "    fill: var(--fill-color);\n",
              "    height: 32px;\n",
              "    padding: 0;\n",
              "    width: 32px;\n",
              "  }\n",
              "\n",
              "  .colab-df-quickchart:hover {\n",
              "    background-color: var(--hover-bg-color);\n",
              "    box-shadow: 0 1px 2px rgba(60, 64, 67, 0.3), 0 1px 3px 1px rgba(60, 64, 67, 0.15);\n",
              "    fill: var(--button-hover-fill-color);\n",
              "  }\n",
              "\n",
              "  .colab-df-quickchart-complete:disabled,\n",
              "  .colab-df-quickchart-complete:disabled:hover {\n",
              "    background-color: var(--disabled-bg-color);\n",
              "    fill: var(--disabled-fill-color);\n",
              "    box-shadow: none;\n",
              "  }\n",
              "\n",
              "  .colab-df-spinner {\n",
              "    border: 2px solid var(--fill-color);\n",
              "    border-color: transparent;\n",
              "    border-bottom-color: var(--fill-color);\n",
              "    animation:\n",
              "      spin 1s steps(1) infinite;\n",
              "  }\n",
              "\n",
              "  @keyframes spin {\n",
              "    0% {\n",
              "      border-color: transparent;\n",
              "      border-bottom-color: var(--fill-color);\n",
              "      border-left-color: var(--fill-color);\n",
              "    }\n",
              "    20% {\n",
              "      border-color: transparent;\n",
              "      border-left-color: var(--fill-color);\n",
              "      border-top-color: var(--fill-color);\n",
              "    }\n",
              "    30% {\n",
              "      border-color: transparent;\n",
              "      border-left-color: var(--fill-color);\n",
              "      border-top-color: var(--fill-color);\n",
              "      border-right-color: var(--fill-color);\n",
              "    }\n",
              "    40% {\n",
              "      border-color: transparent;\n",
              "      border-right-color: var(--fill-color);\n",
              "      border-top-color: var(--fill-color);\n",
              "    }\n",
              "    60% {\n",
              "      border-color: transparent;\n",
              "      border-right-color: var(--fill-color);\n",
              "    }\n",
              "    80% {\n",
              "      border-color: transparent;\n",
              "      border-right-color: var(--fill-color);\n",
              "      border-bottom-color: var(--fill-color);\n",
              "    }\n",
              "    90% {\n",
              "      border-color: transparent;\n",
              "      border-bottom-color: var(--fill-color);\n",
              "    }\n",
              "  }\n",
              "</style>\n",
              "\n",
              "  <script>\n",
              "    async function quickchart(key) {\n",
              "      const quickchartButtonEl =\n",
              "        document.querySelector('#' + key + ' button');\n",
              "      quickchartButtonEl.disabled = true;  // To prevent multiple clicks.\n",
              "      quickchartButtonEl.classList.add('colab-df-spinner');\n",
              "      try {\n",
              "        const charts = await google.colab.kernel.invokeFunction(\n",
              "            'suggestCharts', [key], {});\n",
              "      } catch (error) {\n",
              "        console.error('Error during call to suggestCharts:', error);\n",
              "      }\n",
              "      quickchartButtonEl.classList.remove('colab-df-spinner');\n",
              "      quickchartButtonEl.classList.add('colab-df-quickchart-complete');\n",
              "    }\n",
              "    (() => {\n",
              "      let quickchartButtonEl =\n",
              "        document.querySelector('#df-74c2ad96-e257-4744-8179-ad97c620cf82 button');\n",
              "      quickchartButtonEl.style.display =\n",
              "        google.colab.kernel.accessAllowed ? 'block' : 'none';\n",
              "    })();\n",
              "  </script>\n",
              "</div>\n",
              "\n",
              "  <div id=\"id_83d957c7-ea02-4041-9a84-618604f3bfd3\">\n",
              "    <style>\n",
              "      .colab-df-generate {\n",
              "        background-color: #E8F0FE;\n",
              "        border: none;\n",
              "        border-radius: 50%;\n",
              "        cursor: pointer;\n",
              "        display: none;\n",
              "        fill: #1967D2;\n",
              "        height: 32px;\n",
              "        padding: 0 0 0 0;\n",
              "        width: 32px;\n",
              "      }\n",
              "\n",
              "      .colab-df-generate:hover {\n",
              "        background-color: #E2EBFA;\n",
              "        box-shadow: 0px 1px 2px rgba(60, 64, 67, 0.3), 0px 1px 3px 1px rgba(60, 64, 67, 0.15);\n",
              "        fill: #174EA6;\n",
              "      }\n",
              "\n",
              "      [theme=dark] .colab-df-generate {\n",
              "        background-color: #3B4455;\n",
              "        fill: #D2E3FC;\n",
              "      }\n",
              "\n",
              "      [theme=dark] .colab-df-generate:hover {\n",
              "        background-color: #434B5C;\n",
              "        box-shadow: 0px 1px 3px 1px rgba(0, 0, 0, 0.15);\n",
              "        filter: drop-shadow(0px 1px 2px rgba(0, 0, 0, 0.3));\n",
              "        fill: #FFFFFF;\n",
              "      }\n",
              "    </style>\n",
              "    <button class=\"colab-df-generate\" onclick=\"generateWithVariable('rows_with_quotes')\"\n",
              "            title=\"Generate code using this dataframe.\"\n",
              "            style=\"display:none;\">\n",
              "\n",
              "  <svg xmlns=\"http://www.w3.org/2000/svg\" height=\"24px\"viewBox=\"0 0 24 24\"\n",
              "       width=\"24px\">\n",
              "    <path d=\"M7,19H8.4L18.45,9,17,7.55,7,17.6ZM5,21V16.75L18.45,3.32a2,2,0,0,1,2.83,0l1.4,1.43a1.91,1.91,0,0,1,.58,1.4,1.91,1.91,0,0,1-.58,1.4L9.25,21ZM18.45,9,17,7.55Zm-12,3A5.31,5.31,0,0,0,4.9,8.1,5.31,5.31,0,0,0,1,6.5,5.31,5.31,0,0,0,4.9,4.9,5.31,5.31,0,0,0,6.5,1,5.31,5.31,0,0,0,8.1,4.9,5.31,5.31,0,0,0,12,6.5,5.46,5.46,0,0,0,6.5,12Z\"/>\n",
              "  </svg>\n",
              "    </button>\n",
              "    <script>\n",
              "      (() => {\n",
              "      const buttonEl =\n",
              "        document.querySelector('#id_83d957c7-ea02-4041-9a84-618604f3bfd3 button.colab-df-generate');\n",
              "      buttonEl.style.display =\n",
              "        google.colab.kernel.accessAllowed ? 'block' : 'none';\n",
              "\n",
              "      buttonEl.onclick = () => {\n",
              "        google.colab.notebook.generateWithVariable('rows_with_quotes');\n",
              "      }\n",
              "      })();\n",
              "    </script>\n",
              "  </div>\n",
              "\n",
              "    </div>\n",
              "  </div>\n"
            ],
            "application/vnd.google.colaboratory.intrinsic+json": {
              "type": "dataframe",
              "variable_name": "rows_with_quotes",
              "summary": "{\n  \"name\": \"rows_with_quotes\",\n  \"rows\": 67072,\n  \"fields\": [\n    {\n      \"column\": \"user_id\",\n      \"properties\": {\n        \"dtype\": \"category\",\n        \"num_unique_values\": 7539,\n        \"samples\": [\n          \"d34788d4425bb176b6001ea9a049c5c6\",\n          \"ef32f2b2d7e6eca64355e9a0ae3cf94a\",\n          \"f73f2067b7a762245c8cd115a40e8fdc\"\n        ],\n        \"semantic_type\": \"\",\n        \"description\": \"\"\n      }\n    },\n    {\n      \"column\": \" \\\"artistname\\\"\",\n      \"properties\": {\n        \"dtype\": \"category\",\n        \"num_unique_values\": 7980,\n        \"samples\": [\n          \"Barry de Vorzon\",\n          \"Blonde Redhead\",\n          \"Rusted Root\"\n        ],\n        \"semantic_type\": \"\",\n        \"description\": \"\"\n      }\n    },\n    {\n      \"column\": \" \\\"trackname\\\"\",\n      \"properties\": {\n        \"dtype\": \"category\",\n        \"num_unique_values\": 28638,\n        \"samples\": [\n          \"Presentazione Canzoni al pesto\\\" - live tour 'Anime Salve'\\\"\",\n          \"Haydn : Die Sch\\u00f6pfung [The Creation] H.21/2 : Part 1 Und Gott sprach - Es bringe die Erde\\\" [Gabriel]\\\"\",\n          \"Go Back\"\n        ],\n        \"semantic_type\": \"\",\n        \"description\": \"\"\n      }\n    },\n    {\n      \"column\": \" \\\"playlistname\\\"\",\n      \"properties\": {\n        \"dtype\": \"category\",\n        \"num_unique_values\": 13613,\n        \"samples\": [\n          \"Pet Shop Boys\",\n          \"Mias Preferidas\",\n          \"arias\"\n        ],\n        \"semantic_type\": \"\",\n        \"description\": \"\"\n      }\n    }\n  ]\n}"
            }
          },
          "metadata": {},
          "execution_count": 4
        }
      ]
    },
    {
      "cell_type": "code",
      "source": [
        "# Subtract rows_with_quotes from df_cleaned\n",
        "df_no_quotes = df_cleaned[~df_cleaned.index.isin(rows_with_quotes.index)]\n",
        "\n",
        "# Display the result\n",
        "print(df_no_quotes)\n",
        "\n",
        "# Count the number of remaining rows\n",
        "print(f\"Number of rows in clean dataset: {len(df_no_quotes)}\")\n"
      ],
      "metadata": {
        "colab": {
          "base_uri": "https://localhost:8080/"
        },
        "id": "TI7dqHvBZGlN",
        "outputId": "18494511-3c9c-4eee-b809-3568a3f03e10"
      },
      "execution_count": null,
      "outputs": [
        {
          "output_type": "stream",
          "name": "stdout",
          "text": [
            "                                   user_id                      \"artistname\"  \\\n",
            "0         9cc0cfd4d7d7885102480dd99e7a90d6                    Elvis Costello   \n",
            "1         9cc0cfd4d7d7885102480dd99e7a90d6  Elvis Costello & The Attractions   \n",
            "2         9cc0cfd4d7d7885102480dd99e7a90d6                      Tiffany Page   \n",
            "3         9cc0cfd4d7d7885102480dd99e7a90d6  Elvis Costello & The Attractions   \n",
            "4         9cc0cfd4d7d7885102480dd99e7a90d6                    Elvis Costello   \n",
            "...                                    ...                               ...   \n",
            "12890470  2302bf9c64dc63d88a750215ed187f2c                       Mötley Crüe   \n",
            "12890471  2302bf9c64dc63d88a750215ed187f2c                       John Lennon   \n",
            "12890472  2302bf9c64dc63d88a750215ed187f2c                         Tom Petty   \n",
            "12890473  2302bf9c64dc63d88a750215ed187f2c                         Tom Petty   \n",
            "12890474  2302bf9c64dc63d88a750215ed187f2c                          Skid Row   \n",
            "\n",
            "                                                \"trackname\"  \"playlistname\"  \n",
            "0                      (The Angels Wanna Wear My) Red Shoes  HARD ROCK 2010  \n",
            "1         (What's So Funny 'Bout) Peace, Love And Unders...  HARD ROCK 2010  \n",
            "2                                          7 Years Too Late  HARD ROCK 2010  \n",
            "3                                     Accidents Will Happen  HARD ROCK 2010  \n",
            "4                                                    Alison  HARD ROCK 2010  \n",
            "...                                                     ...             ...  \n",
            "12890470                                          Wild Side          iPhone  \n",
            "12890471                                              Woman          iPhone  \n",
            "12890472                        You Don't Know How It Feels          iPhone  \n",
            "12890473                                       You Wreck Me          iPhone  \n",
            "12890474                                    Youth Gone Wild          iPhone  \n",
            "\n",
            "[12823403 rows x 4 columns]\n",
            "Number of rows in clean dataset: 12823403\n"
          ]
        }
      ]
    },
    {
      "cell_type": "markdown",
      "source": [
        "## Standartization of song texts\n",
        "\n",
        "* Goal: Normalize non-ASCII characters (e.g., accented characters) to ensure consistency across the dataset.\n",
        "* Tool Used: The unidecode library was used to convert all text to ASCII.\n",
        "* Impact: This step ensured that text from various languages and encodings was unified."
      ],
      "metadata": {
        "id": "0dhOBcVond6s"
      }
    },
    {
      "cell_type": "code",
      "source": [
        "pip install unidecode\n"
      ],
      "metadata": {
        "colab": {
          "base_uri": "https://localhost:8080/"
        },
        "id": "3IFamrOHObO6",
        "outputId": "def06238-6dda-48c4-b566-bcddaf851631"
      },
      "execution_count": null,
      "outputs": [
        {
          "output_type": "stream",
          "name": "stdout",
          "text": [
            "Collecting unidecode\n",
            "  Downloading Unidecode-1.3.8-py3-none-any.whl.metadata (13 kB)\n",
            "Downloading Unidecode-1.3.8-py3-none-any.whl (235 kB)\n",
            "\u001b[?25l   \u001b[90m━━━━━━━━━━━━━━━━━━━━━━━━━━━━━━━━━━━━━━━━\u001b[0m \u001b[32m0.0/235.5 kB\u001b[0m \u001b[31m?\u001b[0m eta \u001b[36m-:--:--\u001b[0m\r\u001b[2K   \u001b[90m━━━━━━━━━━━━━━━━━━━━━━━━━━━━━━━━━━━━━━━━\u001b[0m \u001b[32m235.5/235.5 kB\u001b[0m \u001b[31m7.4 MB/s\u001b[0m eta \u001b[36m0:00:00\u001b[0m\n",
            "\u001b[?25hInstalling collected packages: unidecode\n",
            "Successfully installed unidecode-1.3.8\n"
          ]
        }
      ]
    },
    {
      "cell_type": "code",
      "source": [],
      "metadata": {
        "id": "IELDjuefMw-3"
      },
      "execution_count": null,
      "outputs": []
    },
    {
      "cell_type": "code",
      "source": [
        "# Third step - Standartizing text to ASCII\n",
        "\n",
        "import unidecode\n",
        "\n",
        "# Function to remove non-ASCII characters\n",
        "def unify_to_ascii(text):\n",
        "    if isinstance(text, str):\n",
        "        return unidecode.unidecode(text)\n",
        "    return text\n",
        "\n",
        "# Apply to the entire DataFrame\n",
        "df_cleaned_final = df_no_quotes.applymap(unify_to_ascii)\n",
        "\n",
        "# Display a sample\n",
        "print(df_cleaned_final.head())\n"
      ],
      "metadata": {
        "colab": {
          "base_uri": "https://localhost:8080/"
        },
        "id": "vCQLkhX0PWNS",
        "outputId": "13eddc86-5e7e-45ac-d759-b1e1f2020ee0"
      },
      "execution_count": null,
      "outputs": [
        {
          "output_type": "stream",
          "name": "stderr",
          "text": [
            "<ipython-input-8-19b70c0c1fc2>:10: FutureWarning: DataFrame.applymap has been deprecated. Use DataFrame.map instead.\n",
            "  df_cleaned_final = df_no_quotes.applymap(unify_to_ascii)\n"
          ]
        },
        {
          "output_type": "stream",
          "name": "stdout",
          "text": [
            "                            user_id                      \"artistname\"  \\\n",
            "0  9cc0cfd4d7d7885102480dd99e7a90d6                    Elvis Costello   \n",
            "1  9cc0cfd4d7d7885102480dd99e7a90d6  Elvis Costello & The Attractions   \n",
            "2  9cc0cfd4d7d7885102480dd99e7a90d6                      Tiffany Page   \n",
            "3  9cc0cfd4d7d7885102480dd99e7a90d6  Elvis Costello & The Attractions   \n",
            "4  9cc0cfd4d7d7885102480dd99e7a90d6                    Elvis Costello   \n",
            "\n",
            "                                         \"trackname\"  \"playlistname\"  \n",
            "0               (The Angels Wanna Wear My) Red Shoes  HARD ROCK 2010  \n",
            "1  (What's So Funny 'Bout) Peace, Love And Unders...  HARD ROCK 2010  \n",
            "2                                   7 Years Too Late  HARD ROCK 2010  \n",
            "3                              Accidents Will Happen  HARD ROCK 2010  \n",
            "4                                             Alison  HARD ROCK 2010  \n"
          ]
        }
      ]
    },
    {
      "cell_type": "markdown",
      "source": [
        "## Saving Intermediate Outputs\n",
        "* Purpose: To avoid overloading RAM and allow processing to resume seamlessly after runtime resets.\n",
        "* Logic: The cleaned dataset was saved to disk for reloading as needed."
      ],
      "metadata": {
        "id": "6ldr2Ujgoh1F"
      }
    },
    {
      "cell_type": "code",
      "source": [
        "# optional step, to handle RAM overload and crash\n",
        "\n",
        "output_file_path = '/content/drive/My Drive/Colab Notebooks/Final Project/cleaned_step2.csv'\n",
        "df_cleaned_final.to_csv(output_file_path, index=False)\n",
        "\n",
        "# reset runtime"
      ],
      "metadata": {
        "id": "zRmp5qyDNViP"
      },
      "execution_count": null,
      "outputs": []
    },
    {
      "cell_type": "code",
      "execution_count": null,
      "metadata": {
        "outputId": "1c1003bb-c098-4665-977c-78edf382f55a",
        "colab": {
          "base_uri": "https://localhost:8080/"
        },
        "id": "foR-HBN4OsF3"
      },
      "outputs": [
        {
          "output_type": "stream",
          "name": "stdout",
          "text": [
            "Mounted at /content/drive\n"
          ]
        }
      ],
      "source": [
        "# optional step after resetting runtime\n",
        "\n",
        "import pandas as pd\n",
        "\n",
        "from google.colab import drive\n",
        "drive.mount('/content/drive')\n",
        "df_cleaned_final = '/content/drive/My Drive/Colab Notebooks/Final Project/cleaned_step2.csv'"
      ]
    },
    {
      "cell_type": "markdown",
      "source": [
        "## Final Adjustments\n",
        "* Column Renaming: Standardized column names to reflect their content accurately (user_id, artist_name, track_name, playlist_name).\n",
        "* Verification: Random samples of the cleaned dataset were inspected for consistency."
      ],
      "metadata": {
        "id": "PSwqCoa4o5By"
      }
    },
    {
      "cell_type": "code",
      "source": [
        "df_cleaned_final = pd.read_csv(df_cleaned_final)"
      ],
      "metadata": {
        "id": "i1OukgtFO7Ay"
      },
      "execution_count": null,
      "outputs": []
    },
    {
      "cell_type": "code",
      "source": [
        "# 4th step - Adjusting column names\n",
        "\n",
        "df_cleaned_final.columns = ['user_id', 'artist_name', 'track_name', 'playlist_name']\n"
      ],
      "metadata": {
        "id": "sxclqWCQU5jO"
      },
      "execution_count": null,
      "outputs": []
    },
    {
      "cell_type": "code",
      "source": [
        "df_cleaned_final.sample(5)"
      ],
      "metadata": {
        "colab": {
          "base_uri": "https://localhost:8080/",
          "height": 206
        },
        "id": "1vkEpHyFkjCf",
        "outputId": "7917d5c9-720c-4998-c2cc-1311bf79c132"
      },
      "execution_count": null,
      "outputs": [
        {
          "output_type": "execute_result",
          "data": {
            "text/plain": [
              "                                   user_id  \\\n",
              "7850139   00909b16e60501d9da9acf7bd2c5b00d   \n",
              "11493754  5711c5c6e1e476930378248a69f4f4a3   \n",
              "10033549  9ff7ed4b2a9864fa42524ea0ce787e34   \n",
              "4870277   767bd9e933b8a46e56df7a8802049ec9   \n",
              "2456461   5f801dc79f3c9012505226b71fa44fb5   \n",
              "\n",
              "                                 artist_name  \\\n",
              "7850139   Clifford Brown & Max Roach Quintet   \n",
              "11493754              Florence + The Machine   \n",
              "10033549                      REO Speedwagon   \n",
              "4870277                                Monty   \n",
              "2456461                        Alkaline Trio   \n",
              "\n",
              "                                          track_name  \\\n",
              "7850139   I Don't Stand A Ghost Of A Chance With You   \n",
              "11493754                           Dog Days are Over   \n",
              "10033549                          Keep On Loving You   \n",
              "4870277                    Turn To Me - Original Mix   \n",
              "2456461                                  Private Eye   \n",
              "\n",
              "                       playlist_name  \n",
              "7850139   Brownie Speaks with others  \n",
              "11493754       happy happy love time  \n",
              "10033549    Vice City - Emotion 98.3  \n",
              "4870277          Dub Step Collection  \n",
              "2456461                 DK Favorites  "
            ],
            "text/html": [
              "\n",
              "  <div id=\"df-6d28d5a8-002d-4827-8614-4590591d7cfe\" class=\"colab-df-container\">\n",
              "    <div>\n",
              "<style scoped>\n",
              "    .dataframe tbody tr th:only-of-type {\n",
              "        vertical-align: middle;\n",
              "    }\n",
              "\n",
              "    .dataframe tbody tr th {\n",
              "        vertical-align: top;\n",
              "    }\n",
              "\n",
              "    .dataframe thead th {\n",
              "        text-align: right;\n",
              "    }\n",
              "</style>\n",
              "<table border=\"1\" class=\"dataframe\">\n",
              "  <thead>\n",
              "    <tr style=\"text-align: right;\">\n",
              "      <th></th>\n",
              "      <th>user_id</th>\n",
              "      <th>artist_name</th>\n",
              "      <th>track_name</th>\n",
              "      <th>playlist_name</th>\n",
              "    </tr>\n",
              "  </thead>\n",
              "  <tbody>\n",
              "    <tr>\n",
              "      <th>7850139</th>\n",
              "      <td>00909b16e60501d9da9acf7bd2c5b00d</td>\n",
              "      <td>Clifford Brown &amp; Max Roach Quintet</td>\n",
              "      <td>I Don't Stand A Ghost Of A Chance With You</td>\n",
              "      <td>Brownie Speaks with others</td>\n",
              "    </tr>\n",
              "    <tr>\n",
              "      <th>11493754</th>\n",
              "      <td>5711c5c6e1e476930378248a69f4f4a3</td>\n",
              "      <td>Florence + The Machine</td>\n",
              "      <td>Dog Days are Over</td>\n",
              "      <td>happy happy love time</td>\n",
              "    </tr>\n",
              "    <tr>\n",
              "      <th>10033549</th>\n",
              "      <td>9ff7ed4b2a9864fa42524ea0ce787e34</td>\n",
              "      <td>REO Speedwagon</td>\n",
              "      <td>Keep On Loving You</td>\n",
              "      <td>Vice City - Emotion 98.3</td>\n",
              "    </tr>\n",
              "    <tr>\n",
              "      <th>4870277</th>\n",
              "      <td>767bd9e933b8a46e56df7a8802049ec9</td>\n",
              "      <td>Monty</td>\n",
              "      <td>Turn To Me - Original Mix</td>\n",
              "      <td>Dub Step Collection</td>\n",
              "    </tr>\n",
              "    <tr>\n",
              "      <th>2456461</th>\n",
              "      <td>5f801dc79f3c9012505226b71fa44fb5</td>\n",
              "      <td>Alkaline Trio</td>\n",
              "      <td>Private Eye</td>\n",
              "      <td>DK Favorites</td>\n",
              "    </tr>\n",
              "  </tbody>\n",
              "</table>\n",
              "</div>\n",
              "    <div class=\"colab-df-buttons\">\n",
              "\n",
              "  <div class=\"colab-df-container\">\n",
              "    <button class=\"colab-df-convert\" onclick=\"convertToInteractive('df-6d28d5a8-002d-4827-8614-4590591d7cfe')\"\n",
              "            title=\"Convert this dataframe to an interactive table.\"\n",
              "            style=\"display:none;\">\n",
              "\n",
              "  <svg xmlns=\"http://www.w3.org/2000/svg\" height=\"24px\" viewBox=\"0 -960 960 960\">\n",
              "    <path d=\"M120-120v-720h720v720H120Zm60-500h600v-160H180v160Zm220 220h160v-160H400v160Zm0 220h160v-160H400v160ZM180-400h160v-160H180v160Zm440 0h160v-160H620v160ZM180-180h160v-160H180v160Zm440 0h160v-160H620v160Z\"/>\n",
              "  </svg>\n",
              "    </button>\n",
              "\n",
              "  <style>\n",
              "    .colab-df-container {\n",
              "      display:flex;\n",
              "      gap: 12px;\n",
              "    }\n",
              "\n",
              "    .colab-df-convert {\n",
              "      background-color: #E8F0FE;\n",
              "      border: none;\n",
              "      border-radius: 50%;\n",
              "      cursor: pointer;\n",
              "      display: none;\n",
              "      fill: #1967D2;\n",
              "      height: 32px;\n",
              "      padding: 0 0 0 0;\n",
              "      width: 32px;\n",
              "    }\n",
              "\n",
              "    .colab-df-convert:hover {\n",
              "      background-color: #E2EBFA;\n",
              "      box-shadow: 0px 1px 2px rgba(60, 64, 67, 0.3), 0px 1px 3px 1px rgba(60, 64, 67, 0.15);\n",
              "      fill: #174EA6;\n",
              "    }\n",
              "\n",
              "    .colab-df-buttons div {\n",
              "      margin-bottom: 4px;\n",
              "    }\n",
              "\n",
              "    [theme=dark] .colab-df-convert {\n",
              "      background-color: #3B4455;\n",
              "      fill: #D2E3FC;\n",
              "    }\n",
              "\n",
              "    [theme=dark] .colab-df-convert:hover {\n",
              "      background-color: #434B5C;\n",
              "      box-shadow: 0px 1px 3px 1px rgba(0, 0, 0, 0.15);\n",
              "      filter: drop-shadow(0px 1px 2px rgba(0, 0, 0, 0.3));\n",
              "      fill: #FFFFFF;\n",
              "    }\n",
              "  </style>\n",
              "\n",
              "    <script>\n",
              "      const buttonEl =\n",
              "        document.querySelector('#df-6d28d5a8-002d-4827-8614-4590591d7cfe button.colab-df-convert');\n",
              "      buttonEl.style.display =\n",
              "        google.colab.kernel.accessAllowed ? 'block' : 'none';\n",
              "\n",
              "      async function convertToInteractive(key) {\n",
              "        const element = document.querySelector('#df-6d28d5a8-002d-4827-8614-4590591d7cfe');\n",
              "        const dataTable =\n",
              "          await google.colab.kernel.invokeFunction('convertToInteractive',\n",
              "                                                    [key], {});\n",
              "        if (!dataTable) return;\n",
              "\n",
              "        const docLinkHtml = 'Like what you see? Visit the ' +\n",
              "          '<a target=\"_blank\" href=https://colab.research.google.com/notebooks/data_table.ipynb>data table notebook</a>'\n",
              "          + ' to learn more about interactive tables.';\n",
              "        element.innerHTML = '';\n",
              "        dataTable['output_type'] = 'display_data';\n",
              "        await google.colab.output.renderOutput(dataTable, element);\n",
              "        const docLink = document.createElement('div');\n",
              "        docLink.innerHTML = docLinkHtml;\n",
              "        element.appendChild(docLink);\n",
              "      }\n",
              "    </script>\n",
              "  </div>\n",
              "\n",
              "\n",
              "<div id=\"df-d05bf5bb-2ac3-4ec5-ae7d-5f01d185459e\">\n",
              "  <button class=\"colab-df-quickchart\" onclick=\"quickchart('df-d05bf5bb-2ac3-4ec5-ae7d-5f01d185459e')\"\n",
              "            title=\"Suggest charts\"\n",
              "            style=\"display:none;\">\n",
              "\n",
              "<svg xmlns=\"http://www.w3.org/2000/svg\" height=\"24px\"viewBox=\"0 0 24 24\"\n",
              "     width=\"24px\">\n",
              "    <g>\n",
              "        <path d=\"M19 3H5c-1.1 0-2 .9-2 2v14c0 1.1.9 2 2 2h14c1.1 0 2-.9 2-2V5c0-1.1-.9-2-2-2zM9 17H7v-7h2v7zm4 0h-2V7h2v10zm4 0h-2v-4h2v4z\"/>\n",
              "    </g>\n",
              "</svg>\n",
              "  </button>\n",
              "\n",
              "<style>\n",
              "  .colab-df-quickchart {\n",
              "      --bg-color: #E8F0FE;\n",
              "      --fill-color: #1967D2;\n",
              "      --hover-bg-color: #E2EBFA;\n",
              "      --hover-fill-color: #174EA6;\n",
              "      --disabled-fill-color: #AAA;\n",
              "      --disabled-bg-color: #DDD;\n",
              "  }\n",
              "\n",
              "  [theme=dark] .colab-df-quickchart {\n",
              "      --bg-color: #3B4455;\n",
              "      --fill-color: #D2E3FC;\n",
              "      --hover-bg-color: #434B5C;\n",
              "      --hover-fill-color: #FFFFFF;\n",
              "      --disabled-bg-color: #3B4455;\n",
              "      --disabled-fill-color: #666;\n",
              "  }\n",
              "\n",
              "  .colab-df-quickchart {\n",
              "    background-color: var(--bg-color);\n",
              "    border: none;\n",
              "    border-radius: 50%;\n",
              "    cursor: pointer;\n",
              "    display: none;\n",
              "    fill: var(--fill-color);\n",
              "    height: 32px;\n",
              "    padding: 0;\n",
              "    width: 32px;\n",
              "  }\n",
              "\n",
              "  .colab-df-quickchart:hover {\n",
              "    background-color: var(--hover-bg-color);\n",
              "    box-shadow: 0 1px 2px rgba(60, 64, 67, 0.3), 0 1px 3px 1px rgba(60, 64, 67, 0.15);\n",
              "    fill: var(--button-hover-fill-color);\n",
              "  }\n",
              "\n",
              "  .colab-df-quickchart-complete:disabled,\n",
              "  .colab-df-quickchart-complete:disabled:hover {\n",
              "    background-color: var(--disabled-bg-color);\n",
              "    fill: var(--disabled-fill-color);\n",
              "    box-shadow: none;\n",
              "  }\n",
              "\n",
              "  .colab-df-spinner {\n",
              "    border: 2px solid var(--fill-color);\n",
              "    border-color: transparent;\n",
              "    border-bottom-color: var(--fill-color);\n",
              "    animation:\n",
              "      spin 1s steps(1) infinite;\n",
              "  }\n",
              "\n",
              "  @keyframes spin {\n",
              "    0% {\n",
              "      border-color: transparent;\n",
              "      border-bottom-color: var(--fill-color);\n",
              "      border-left-color: var(--fill-color);\n",
              "    }\n",
              "    20% {\n",
              "      border-color: transparent;\n",
              "      border-left-color: var(--fill-color);\n",
              "      border-top-color: var(--fill-color);\n",
              "    }\n",
              "    30% {\n",
              "      border-color: transparent;\n",
              "      border-left-color: var(--fill-color);\n",
              "      border-top-color: var(--fill-color);\n",
              "      border-right-color: var(--fill-color);\n",
              "    }\n",
              "    40% {\n",
              "      border-color: transparent;\n",
              "      border-right-color: var(--fill-color);\n",
              "      border-top-color: var(--fill-color);\n",
              "    }\n",
              "    60% {\n",
              "      border-color: transparent;\n",
              "      border-right-color: var(--fill-color);\n",
              "    }\n",
              "    80% {\n",
              "      border-color: transparent;\n",
              "      border-right-color: var(--fill-color);\n",
              "      border-bottom-color: var(--fill-color);\n",
              "    }\n",
              "    90% {\n",
              "      border-color: transparent;\n",
              "      border-bottom-color: var(--fill-color);\n",
              "    }\n",
              "  }\n",
              "</style>\n",
              "\n",
              "  <script>\n",
              "    async function quickchart(key) {\n",
              "      const quickchartButtonEl =\n",
              "        document.querySelector('#' + key + ' button');\n",
              "      quickchartButtonEl.disabled = true;  // To prevent multiple clicks.\n",
              "      quickchartButtonEl.classList.add('colab-df-spinner');\n",
              "      try {\n",
              "        const charts = await google.colab.kernel.invokeFunction(\n",
              "            'suggestCharts', [key], {});\n",
              "      } catch (error) {\n",
              "        console.error('Error during call to suggestCharts:', error);\n",
              "      }\n",
              "      quickchartButtonEl.classList.remove('colab-df-spinner');\n",
              "      quickchartButtonEl.classList.add('colab-df-quickchart-complete');\n",
              "    }\n",
              "    (() => {\n",
              "      let quickchartButtonEl =\n",
              "        document.querySelector('#df-d05bf5bb-2ac3-4ec5-ae7d-5f01d185459e button');\n",
              "      quickchartButtonEl.style.display =\n",
              "        google.colab.kernel.accessAllowed ? 'block' : 'none';\n",
              "    })();\n",
              "  </script>\n",
              "</div>\n",
              "\n",
              "    </div>\n",
              "  </div>\n"
            ],
            "application/vnd.google.colaboratory.intrinsic+json": {
              "type": "dataframe",
              "summary": "{\n  \"name\": \"df_cleaned_final\",\n  \"rows\": 5,\n  \"fields\": [\n    {\n      \"column\": \"user_id\",\n      \"properties\": {\n        \"dtype\": \"string\",\n        \"num_unique_values\": 5,\n        \"samples\": [\n          \"5711c5c6e1e476930378248a69f4f4a3\",\n          \"5f801dc79f3c9012505226b71fa44fb5\",\n          \"9ff7ed4b2a9864fa42524ea0ce787e34\"\n        ],\n        \"semantic_type\": \"\",\n        \"description\": \"\"\n      }\n    },\n    {\n      \"column\": \"artist_name\",\n      \"properties\": {\n        \"dtype\": \"string\",\n        \"num_unique_values\": 5,\n        \"samples\": [\n          \"Florence + The Machine\",\n          \"Alkaline Trio\",\n          \"REO Speedwagon\"\n        ],\n        \"semantic_type\": \"\",\n        \"description\": \"\"\n      }\n    },\n    {\n      \"column\": \"track_name\",\n      \"properties\": {\n        \"dtype\": \"string\",\n        \"num_unique_values\": 5,\n        \"samples\": [\n          \"Dog Days are Over\",\n          \"Private Eye\",\n          \"Keep On Loving You\"\n        ],\n        \"semantic_type\": \"\",\n        \"description\": \"\"\n      }\n    },\n    {\n      \"column\": \"playlist_name\",\n      \"properties\": {\n        \"dtype\": \"string\",\n        \"num_unique_values\": 5,\n        \"samples\": [\n          \"happy happy love time\",\n          \"DK Favorites\",\n          \"Vice City - Emotion 98.3\"\n        ],\n        \"semantic_type\": \"\",\n        \"description\": \"\"\n      }\n    }\n  ]\n}"
            }
          },
          "metadata": {},
          "execution_count": 4
        }
      ]
    },
    {
      "cell_type": "markdown",
      "source": [
        "# Data Cleaning and preliminary preprocessing\n",
        "\n",
        "This section focuses on cleaning and preparing the dataset to ensure uniformity, remove noise, and derive features critical for the recommendation task. These steps address missing values, duplicates, inconsistent text formats, and unnecessary noise."
      ],
      "metadata": {
        "id": "UZ8LK89iq10f"
      }
    },
    {
      "cell_type": "markdown",
      "source": [
        "1. Handling Missing Values\n",
        "* Goal: Remove rows containing missing values to maintain data integrity.\n",
        "* Logic: Use dropna() to eliminate rows with null entries in any column.\n",
        "2. Lowercasing Text\n",
        "* Goal: Standardize string data for case-insensitive matching.\n",
        "* Logic: Convert all string columns (e.g., artist names, track names, playlist names) to lowercase.\n",
        "3. Removing Duplicate Rows\n",
        "* Goal: Eliminate duplicate entries to reduce redundancy and avoid over-representing certain data points.\n",
        "* Logic: Use drop_duplicates() to identify and remove duplicate rows.\n",
        "4. Removing One-Character Artist and Track Names\n",
        "* Goal: Remove invalid or noise entries, such as artist names or track names that are too short to be meaningful.\n",
        "* Logic: Filter out rows where artist_name or track_name is less than 2 characters."
      ],
      "metadata": {
        "id": "8YXaExKCppre"
      }
    },
    {
      "cell_type": "code",
      "source": [
        "#Data Cleaning and lowercasing\n",
        "\n",
        "import pandas as pd\n",
        "\n",
        "# Step 1: Handle missing values\n",
        "print(f\"Shape Before Cleaning {df_cleaned_final.shape}\")\n",
        "df_cleaned_final = df_cleaned_final.dropna()  # Remove rows with missing values\n",
        "print(f\"Shape After Dropping NA {df_cleaned_final.shape}\")\n",
        "print(\"\")\n",
        "\n",
        "# Step 2: Convert all string columns to lowercase\n",
        "string_columns = df_cleaned_final.select_dtypes(include='object').columns  # Identify string columns\n",
        "df_cleaned_final[string_columns] = df_cleaned_final[string_columns].apply(lambda col: col.str.lower())\n",
        "print(f\"Shape After Converting to Lowercase {df_cleaned_final.shape}\")\n",
        "print(\"\")\n",
        "\n",
        "# Step 3: Remove duplicate Rows\n",
        "print(f\"Number of duplicate rows: {df_cleaned_final.duplicated().sum()}\")\n",
        "df_cleaned_final = df_cleaned_final.drop_duplicates()\n",
        "print(f\"Shape After Dropping Duplicates {df_cleaned_final.shape}\")\n",
        "print(\"\")\n",
        "\n",
        "# Step 4: Removing one-char artists and track names\n",
        "print(df_cleaned_final[df_cleaned_final['artist_name'].str.len() < 2])  # Artists with very short names\n",
        "print(df_cleaned_final[df_cleaned_final['track_name'].str.len() < 2])  # Tracks with very short names\n",
        "df_cleaned_final = df_cleaned_final[df_cleaned_final['artist_name'].str.len() >= 2]\n",
        "df_cleaned_final = df_cleaned_final[df_cleaned_final['track_name'].str.len() >= 2]\n",
        "print(f\"Shape After Removing Short Artists and Tracks {df_cleaned_final.shape}\")\n",
        "print(\"\")\n",
        "\n",
        "\n"
      ],
      "metadata": {
        "colab": {
          "base_uri": "https://localhost:8080/"
        },
        "id": "Qs5iKCpnxSrw",
        "outputId": "f7b6f185-dd69-4853-b2c3-f1396f1afdcf"
      },
      "execution_count": null,
      "outputs": [
        {
          "output_type": "stream",
          "name": "stdout",
          "text": [
            "Shape Before Cleaning (12823403, 4)\n",
            "Shape After Dropping NA (12779965, 4)\n",
            "\n",
            "Shape After Converting to Lowercase (12779965, 4)\n",
            "\n",
            "Number of duplicate rows: 29505\n",
            "Shape After Dropping Duplicates (12750460, 4)\n",
            "\n",
            "                                   user_id artist_name  \\\n",
            "14108     650c4d63a819dbb77cc15a87f407039a               \n",
            "45019     db937456654d2465292c4daa947c95de           m   \n",
            "49502     db937456654d2465292c4daa947c95de           t   \n",
            "51893     db937456654d2465292c4daa947c95de           m   \n",
            "77239     6cdb890a9fff57be31b072777350e632           x   \n",
            "...                                    ...         ...   \n",
            "12785766  675687eafb4c14f1ea561e6089ee2ec0           x   \n",
            "12786002  675687eafb4c14f1ea561e6089ee2ec0           x   \n",
            "12786173  675687eafb4c14f1ea561e6089ee2ec0           x   \n",
            "12786684  675687eafb4c14f1ea561e6089ee2ec0           x   \n",
            "12787412  675687eafb4c14f1ea561e6089ee2ec0           x   \n",
            "\n",
            "                                         track_name          playlist_name  \n",
            "14108                            central park blues              overboard  \n",
            "45019         3ox feat. heidrun-beating of my heart                 strane  \n",
            "49502                             rex-christmas bop                 strane  \n",
            "51893         3ox feat. heidrun-beating of my heart                trening  \n",
            "77239                               the hungry wolf  perfect records edits  \n",
            "...                                             ...                    ...  \n",
            "12785766              sex and dying in high society                starred  \n",
            "12786002                               soul kitchen                starred  \n",
            "12786173                                 sugarlight                starred  \n",
            "12786684        the world's a mess; it's in my kiss                starred  \n",
            "12787412  your phone's off the hook, but you're not                starred  \n",
            "\n",
            "[1610 rows x 4 columns]\n",
            "                                   user_id           artist_name track_name  \\\n",
            "3091      c50566d83fba17b20697039d5824db78             athletics          i   \n",
            "3207      c50566d83fba17b20697039d5824db78             athletics          v   \n",
            "3383      c50566d83fba17b20697039d5824db78  three trapped tigers          6   \n",
            "5861      c50566d83fba17b20697039d5824db78            air review          h   \n",
            "6268      c50566d83fba17b20697039d5824db78             athletics          i   \n",
            "...                                    ...                   ...        ...   \n",
            "12816937  aedf684d88f71c448add86ee4873278e         mitch hedberg          x   \n",
            "12819292  8e430be89a7c972611c503bb23fbc3f7                 barem          a   \n",
            "12819706  8e430be89a7c972611c503bb23fbc3f7            follakzoid          9   \n",
            "12821293  8d27d5741b3210e41ab3a499c1141af9          zodiak killa          6   \n",
            "12823071  488ead471813ae982119153f792e4a3e          yoga pop ups          3   \n",
            "\n",
            "                             playlist_name  \n",
            "3091                         december 2013  \n",
            "3207                         december 2013  \n",
            "3383                    everything at once  \n",
            "5861                    everything at once  \n",
            "6268                    everything at once  \n",
            "...                                    ...  \n",
            "12816937                            comedy  \n",
            "12819292  2011- albums i have to listen to  \n",
            "12819706       cd's & vinyls february 2013  \n",
            "12821293              mis pistas de shazam  \n",
            "12823071                       yoga pop up  \n",
            "\n",
            "[4787 rows x 4 columns]\n",
            "Shape After Removing Short Artists and Tracks (12744063, 4)\n",
            "\n"
          ]
        }
      ]
    },
    {
      "cell_type": "markdown",
      "source": [
        "## Adding new features\n",
        "* song_name: Combines artist_name and track_name into a unified identifier for each song.\n",
        "> Example: artist_name = 'adele', track_name = 'hello' → song_name = 'adele - hello'\n",
        "* unq_playlist_name: Combines user_id and playlist_name into a unique identifier for each playlist.\n",
        "> Example: user_id = 'user123', playlist_name = 'my hits' → unq_playlist_name = 'user123 - my hits'"
      ],
      "metadata": {
        "id": "3nVq4rdYqKvv"
      }
    },
    {
      "cell_type": "code",
      "source": [
        "# New Feature - song name = artist + track\n",
        "\n",
        "df_cleaned_final['song_name'] = df_cleaned_final['artist_name'] + ' - ' + df_cleaned_final['track_name']\n",
        "unique_songs = df_cleaned_final['song_name'].nunique()\n",
        "\n"
      ],
      "metadata": {
        "id": "M3EcgbkTVKiA"
      },
      "execution_count": null,
      "outputs": []
    },
    {
      "cell_type": "code",
      "source": [
        "print(f\"Number of unique songs: {unique_songs}\")"
      ],
      "metadata": {
        "colab": {
          "base_uri": "https://localhost:8080/"
        },
        "id": "9FjOjXGtroO2",
        "outputId": "f37e790a-def8-4064-ee93-a93e8df5aba9"
      },
      "execution_count": null,
      "outputs": [
        {
          "output_type": "stream",
          "name": "stdout",
          "text": [
            "Number of unique songs: 2658530\n"
          ]
        }
      ]
    },
    {
      "cell_type": "code",
      "source": [
        "# New Feature unq_playlist_name = user_id + playlist\n",
        "\n",
        "df_cleaned_final['unq_playlist_name'] = df_cleaned_final['user_id'] + ' - ' + df_cleaned_final['playlist_name']\n",
        "unique_playlists = df_cleaned_final['unq_playlist_name'].nunique()\n",
        "print(f\"Number of unique playlists: {unique_playlists}\")"
      ],
      "metadata": {
        "colab": {
          "base_uri": "https://localhost:8080/"
        },
        "id": "Uk1pBqS1rY5Y",
        "outputId": "322eeb20-d6e9-4132-d25b-08b1ddf550cf"
      },
      "execution_count": null,
      "outputs": [
        {
          "output_type": "stream",
          "name": "stdout",
          "text": [
            "Number of unique playlists: 230708\n"
          ]
        }
      ]
    },
    {
      "cell_type": "code",
      "source": [
        "# optional step, to handle RAM overload and crash\n",
        "\n",
        "output_file_path = '/content/drive/My Drive/Colab Notebooks/Final Project/cleaned_step3.csv'\n",
        "df_cleaned_final.to_csv(output_file_path, index=False)\n",
        "\n",
        "# reset runtime"
      ],
      "metadata": {
        "id": "8DQExBs_paFF"
      },
      "execution_count": null,
      "outputs": []
    },
    {
      "cell_type": "code",
      "source": [],
      "metadata": {
        "id": "4ayhohFfAHS-"
      },
      "execution_count": null,
      "outputs": []
    },
    {
      "cell_type": "markdown",
      "source": [
        "# Optional Starting point - Call the current preprocesed data from here\n",
        "\n"
      ],
      "metadata": {
        "id": "ou8kVHKB6BU4"
      }
    },
    {
      "cell_type": "code",
      "source": [
        "import pandas as pd\n",
        "\n",
        "# otside users should download the following file to your drive and uploade it as \"df_cleaned_final\"\n",
        "# file link: https://drive.google.com/file/d/1zTEsmlHihMUmWNw90VDIvnK5s8SvJgLH/view?usp=sharing\n",
        "# Then correct the file path accordingly\n",
        "\n",
        "from google.colab import drive\n",
        "drive.mount('/content/drive')\n",
        "df_cleaned_final = '/content/drive/My Drive/Colab Notebooks/Final Project/cleaned_step3.csv'\n",
        "df_cleaned_final = pd.read_csv(df_cleaned_final)\n"
      ],
      "metadata": {
        "colab": {
          "base_uri": "https://localhost:8080/"
        },
        "id": "wQXwMjNM6MVg",
        "outputId": "ba126343-6c84-40ca-b3da-1f489f7e39cf"
      },
      "execution_count": 1,
      "outputs": [
        {
          "output_type": "stream",
          "name": "stdout",
          "text": [
            "Mounted at /content/drive\n"
          ]
        }
      ]
    },
    {
      "cell_type": "code",
      "source": [
        "df_cleaned_final.shape"
      ],
      "metadata": {
        "colab": {
          "base_uri": "https://localhost:8080/"
        },
        "id": "rT1EKh2O8wRa",
        "outputId": "dffebbb8-6ded-4991-d08e-75cfbea799a0"
      },
      "execution_count": 2,
      "outputs": [
        {
          "output_type": "execute_result",
          "data": {
            "text/plain": [
              "(12744063, 6)"
            ]
          },
          "metadata": {},
          "execution_count": 2
        }
      ]
    },
    {
      "cell_type": "markdown",
      "source": [
        "# Numbers and Distributions\n",
        "This section provides insights into the dataset's composition and distributions, highlighting key metrics like the number of unique users, artists, songs, and playlists. Additionally, it explores playlist diversity, songs per artist, and playlist lengths through statistical summaries and visualizations.\n",
        "\n"
      ],
      "metadata": {
        "id": "YrFSLCMTsRAW"
      }
    },
    {
      "cell_type": "code",
      "source": [
        "# Number of unique artists\n",
        "\n",
        "df_cleaned_final['artist_name'].nunique()\n",
        "print(f\"Number of unique artists: {df_cleaned_final['artist_name'].nunique()}\")\n",
        "\n",
        "# Number of unique users\n",
        "\n",
        "unique_users = df_cleaned_final['user_id'].nunique()\n",
        "print(f\"Number of unique users: {unique_users}\")\n",
        "\n",
        "# Number of unique songs\n",
        "\n",
        "unique_songs = df_cleaned_final['song_name'].nunique()\n",
        "print(f\"Number of unique songs: {unique_songs}\")"
      ],
      "metadata": {
        "colab": {
          "base_uri": "https://localhost:8080/"
        },
        "id": "hTgoLX0cyl-R",
        "outputId": "4e835479-e75d-4233-b709-ce67cf9454c9"
      },
      "execution_count": null,
      "outputs": [
        {
          "output_type": "stream",
          "name": "stdout",
          "text": [
            "Number of unique artists: 279658\n",
            "Number of unique users: 15898\n"
          ]
        }
      ]
    },
    {
      "cell_type": "markdown",
      "source": [
        "## Songs per playlists"
      ],
      "metadata": {
        "id": "B-fKqv5e1GNt"
      }
    },
    {
      "cell_type": "code",
      "source": [
        "# Songs per playlists\n",
        "songs_per_playlist = df_cleaned_final.groupby(['unq_playlist_name'])['song_name'].nunique()\n",
        "\n",
        "# Descriptive statistics\n",
        "mean_songs = songs_per_playlist.mean()\n",
        "mode_songs = songs_per_playlist.mode()\n",
        "quantiles = songs_per_playlist.quantile([0.25, 0.5, 0.75])\n",
        "\n",
        "print(f\"Mean songs per playlist: {mean_songs:.2f}\")\n",
        "print(f\"Mode songs per playlist: {mode_songs}\")\n",
        "print(f\"25th percentile: {quantiles[0.25]}, Median: {quantiles[0.5]}, 75th percentile: {quantiles[0.75]}\")\n"
      ],
      "metadata": {
        "colab": {
          "base_uri": "https://localhost:8080/"
        },
        "id": "yV6seS6aXz6b",
        "outputId": "f86571d1-5973-49cd-8bac-76dcd1784c7f"
      },
      "execution_count": null,
      "outputs": [
        {
          "output_type": "stream",
          "name": "stdout",
          "text": [
            "Mean songs per playlist: 55.24\n",
            "Mode songs per playlist: 0    12\n",
            "Name: song_name, dtype: int64\n",
            "25th percentile: 11.0, Median: 16.0, 75th percentile: 38.0\n"
          ]
        }
      ]
    },
    {
      "cell_type": "code",
      "source": [
        "# Playlist Diversity\n",
        "playlist_diversity = df_cleaned_final.groupby('unq_playlist_name')['song_name'].nunique()\n",
        "print(playlist_diversity.describe())"
      ],
      "metadata": {
        "colab": {
          "base_uri": "https://localhost:8080/"
        },
        "id": "RqHsLupLvAFD",
        "outputId": "b7d50f28-52b9-4502-f2e4-4f9d7d7ef2cd"
      },
      "execution_count": null,
      "outputs": [
        {
          "output_type": "stream",
          "name": "stdout",
          "text": [
            "count    230708.000000\n",
            "mean         55.238930\n",
            "std         269.603424\n",
            "min           1.000000\n",
            "25%          11.000000\n",
            "50%          16.000000\n",
            "75%          38.000000\n",
            "max       47259.000000\n",
            "Name: song_name, dtype: float64\n"
          ]
        }
      ]
    },
    {
      "cell_type": "code",
      "source": [
        "from matplotlib import pyplot as plt\n",
        "import seaborn as sns\n",
        "\n",
        "# Histogram for song distribution\n",
        "plt.hist(songs_per_playlist, bins=30, color='purple', alpha=0.7)\n",
        "plt.title(\"Distribution of Songs Per Playlist\")\n",
        "plt.xlabel(\"Number of Songs\")\n",
        "plt.ylabel(\"Number of Playlists\")\n",
        "plt.show()\n",
        "\n",
        "# Boxplot for song distribution\n",
        "plt.boxplot(songs_per_playlist, vert=False, patch_artist=True, boxprops=dict(color=\"navy\"))\n",
        "plt.title(\"Boxplot of Songs Per Playlist\")\n",
        "plt.xlabel(\"Number of Songs\")\n",
        "plt.show()\n"
      ],
      "metadata": {
        "colab": {
          "base_uri": "https://localhost:8080/",
          "height": 927
        },
        "id": "OW1uZpbxYMfj",
        "outputId": "d154c813-8ccf-43f8-8b6b-911e35413f45"
      },
      "execution_count": null,
      "outputs": [
        {
          "output_type": "display_data",
          "data": {
            "text/plain": [
              "<Figure size 640x480 with 1 Axes>"
            ],
            "image/png": "[encoded data removed]"
          },
          "metadata": {}
        },
        {
          "output_type": "display_data",
          "data": {
            "text/plain": [
              "<Figure size 640x480 with 1 Axes>"
            ],
            "image/png": "[encoded data removed]"
          },
          "metadata": {}
        }
      ]
    },
    {
      "cell_type": "markdown",
      "source": [
        "## Songs per artist"
      ],
      "metadata": {
        "id": "67HGEvu11QcW"
      }
    },
    {
      "cell_type": "code",
      "source": [
        "track_details_per_artist = df_cleaned_final.groupby('artist_name').agg({'song_name': ['nunique', list]})\n",
        "track_details_per_artist.columns = ['unique_song_count', 'song_names_list']\n",
        "\n",
        "# Sort in descending order (most songs first)\n",
        "sorted_by_song_count_desc = track_details_per_artist.sort_values(by='unique_song_count', ascending=False)\n",
        "sorted_by_song_count_desc.head(10)"
      ],
      "metadata": {
        "colab": {
          "base_uri": "https://localhost:8080/",
          "height": 394
        },
        "id": "Y9zrcPKhxB1n",
        "outputId": "a255404d-6e82-42d8-eb41-1e25791fc668"
      },
      "execution_count": null,
      "outputs": [
        {
          "output_type": "execute_result",
          "data": {
            "text/plain": [
              "                         unique_song_count  \\\n",
              "artist_name                                  \n",
              "various artists                       6725   \n",
              "johann sebastian bach                 6303   \n",
              "wolfgang amadeus mozart               4510   \n",
              "vitamin string quartet                3597   \n",
              "grateful dead                         3378   \n",
              "frank sinatra                         2966   \n",
              "ella fitzgerald                       2845   \n",
              "ludwig van beethoven                  2425   \n",
              "lata mangeshkar                       2419   \n",
              "johnny cash                           2213   \n",
              "\n",
              "                                                           song_names_list  \n",
              "artist_name                                                                 \n",
              "various artists          [various artists - i fancy laura marling, vari...  \n",
              "johann sebastian bach    [johann sebastian bach - air, johann sebastian...  \n",
              "wolfgang amadeus mozart  [wolfgang amadeus mozart - piano sonata no. 11...  \n",
              "vitamin string quartet   [vitamin string quartet - jack and sally monta...  \n",
              "grateful dead            [grateful dead - box of rain - remastered vers...  \n",
              "frank sinatra            [frank sinatra - serenade in blue, frank sinat...  \n",
              "ella fitzgerald          [ella fitzgerald - dream a little dream of me,...  \n",
              "ludwig van beethoven     [ludwig van beethoven - fur elise, ludwig van ...  \n",
              "lata mangeshkar          [lata mangeshkar - tujhe dekha to yeh, lata ma...  \n",
              "johnny cash              [johnny cash - hurt, johnny cash - hurt, johnn...  "
            ],
            "text/html": [
              "\n",
              "  <div id=\"df-747a13b7-205f-4285-9c9e-866ebc217b06\" class=\"colab-df-container\">\n",
              "    <div>\n",
              "<style scoped>\n",
              "    .dataframe tbody tr th:only-of-type {\n",
              "        vertical-align: middle;\n",
              "    }\n",
              "\n",
              "    .dataframe tbody tr th {\n",
              "        vertical-align: top;\n",
              "    }\n",
              "\n",
              "    .dataframe thead th {\n",
              "        text-align: right;\n",
              "    }\n",
              "</style>\n",
              "<table border=\"1\" class=\"dataframe\">\n",
              "  <thead>\n",
              "    <tr style=\"text-align: right;\">\n",
              "      <th></th>\n",
              "      <th>unique_song_count</th>\n",
              "      <th>song_names_list</th>\n",
              "    </tr>\n",
              "    <tr>\n",
              "      <th>artist_name</th>\n",
              "      <th></th>\n",
              "      <th></th>\n",
              "    </tr>\n",
              "  </thead>\n",
              "  <tbody>\n",
              "    <tr>\n",
              "      <th>various artists</th>\n",
              "      <td>6725</td>\n",
              "      <td>[various artists - i fancy laura marling, vari...</td>\n",
              "    </tr>\n",
              "    <tr>\n",
              "      <th>johann sebastian bach</th>\n",
              "      <td>6303</td>\n",
              "      <td>[johann sebastian bach - air, johann sebastian...</td>\n",
              "    </tr>\n",
              "    <tr>\n",
              "      <th>wolfgang amadeus mozart</th>\n",
              "      <td>4510</td>\n",
              "      <td>[wolfgang amadeus mozart - piano sonata no. 11...</td>\n",
              "    </tr>\n",
              "    <tr>\n",
              "      <th>vitamin string quartet</th>\n",
              "      <td>3597</td>\n",
              "      <td>[vitamin string quartet - jack and sally monta...</td>\n",
              "    </tr>\n",
              "    <tr>\n",
              "      <th>grateful dead</th>\n",
              "      <td>3378</td>\n",
              "      <td>[grateful dead - box of rain - remastered vers...</td>\n",
              "    </tr>\n",
              "    <tr>\n",
              "      <th>frank sinatra</th>\n",
              "      <td>2966</td>\n",
              "      <td>[frank sinatra - serenade in blue, frank sinat...</td>\n",
              "    </tr>\n",
              "    <tr>\n",
              "      <th>ella fitzgerald</th>\n",
              "      <td>2845</td>\n",
              "      <td>[ella fitzgerald - dream a little dream of me,...</td>\n",
              "    </tr>\n",
              "    <tr>\n",
              "      <th>ludwig van beethoven</th>\n",
              "      <td>2425</td>\n",
              "      <td>[ludwig van beethoven - fur elise, ludwig van ...</td>\n",
              "    </tr>\n",
              "    <tr>\n",
              "      <th>lata mangeshkar</th>\n",
              "      <td>2419</td>\n",
              "      <td>[lata mangeshkar - tujhe dekha to yeh, lata ma...</td>\n",
              "    </tr>\n",
              "    <tr>\n",
              "      <th>johnny cash</th>\n",
              "      <td>2213</td>\n",
              "      <td>[johnny cash - hurt, johnny cash - hurt, johnn...</td>\n",
              "    </tr>\n",
              "  </tbody>\n",
              "</table>\n",
              "</div>\n",
              "    <div class=\"colab-df-buttons\">\n",
              "\n",
              "  <div class=\"colab-df-container\">\n",
              "    <button class=\"colab-df-convert\" onclick=\"convertToInteractive('df-747a13b7-205f-4285-9c9e-866ebc217b06')\"\n",
              "            title=\"Convert this dataframe to an interactive table.\"\n",
              "            style=\"display:none;\">\n",
              "\n",
              "  <svg xmlns=\"http://www.w3.org/2000/svg\" height=\"24px\" viewBox=\"0 -960 960 960\">\n",
              "    <path d=\"M120-120v-720h720v720H120Zm60-500h600v-160H180v160Zm220 220h160v-160H400v160Zm0 220h160v-160H400v160ZM180-400h160v-160H180v160Zm440 0h160v-160H620v160ZM180-180h160v-160H180v160Zm440 0h160v-160H620v160Z\"/>\n",
              "  </svg>\n",
              "    </button>\n",
              "\n",
              "  <style>\n",
              "    .colab-df-container {\n",
              "      display:flex;\n",
              "      gap: 12px;\n",
              "    }\n",
              "\n",
              "    .colab-df-convert {\n",
              "      background-color: #E8F0FE;\n",
              "      border: none;\n",
              "      border-radius: 50%;\n",
              "      cursor: pointer;\n",
              "      display: none;\n",
              "      fill: #1967D2;\n",
              "      height: 32px;\n",
              "      padding: 0 0 0 0;\n",
              "      width: 32px;\n",
              "    }\n",
              "\n",
              "    .colab-df-convert:hover {\n",
              "      background-color: #E2EBFA;\n",
              "      box-shadow: 0px 1px 2px rgba(60, 64, 67, 0.3), 0px 1px 3px 1px rgba(60, 64, 67, 0.15);\n",
              "      fill: #174EA6;\n",
              "    }\n",
              "\n",
              "    .colab-df-buttons div {\n",
              "      margin-bottom: 4px;\n",
              "    }\n",
              "\n",
              "    [theme=dark] .colab-df-convert {\n",
              "      background-color: #3B4455;\n",
              "      fill: #D2E3FC;\n",
              "    }\n",
              "\n",
              "    [theme=dark] .colab-df-convert:hover {\n",
              "      background-color: #434B5C;\n",
              "      box-shadow: 0px 1px 3px 1px rgba(0, 0, 0, 0.15);\n",
              "      filter: drop-shadow(0px 1px 2px rgba(0, 0, 0, 0.3));\n",
              "      fill: #FFFFFF;\n",
              "    }\n",
              "  </style>\n",
              "\n",
              "    <script>\n",
              "      const buttonEl =\n",
              "        document.querySelector('#df-747a13b7-205f-4285-9c9e-866ebc217b06 button.colab-df-convert');\n",
              "      buttonEl.style.display =\n",
              "        google.colab.kernel.accessAllowed ? 'block' : 'none';\n",
              "\n",
              "      async function convertToInteractive(key) {\n",
              "        const element = document.querySelector('#df-747a13b7-205f-4285-9c9e-866ebc217b06');\n",
              "        const dataTable =\n",
              "          await google.colab.kernel.invokeFunction('convertToInteractive',\n",
              "                                                    [key], {});\n",
              "        if (!dataTable) return;\n",
              "\n",
              "        const docLinkHtml = 'Like what you see? Visit the ' +\n",
              "          '<a target=\"_blank\" href=https://colab.research.google.com/notebooks/data_table.ipynb>data table notebook</a>'\n",
              "          + ' to learn more about interactive tables.';\n",
              "        element.innerHTML = '';\n",
              "        dataTable['output_type'] = 'display_data';\n",
              "        await google.colab.output.renderOutput(dataTable, element);\n",
              "        const docLink = document.createElement('div');\n",
              "        docLink.innerHTML = docLinkHtml;\n",
              "        element.appendChild(docLink);\n",
              "      }\n",
              "    </script>\n",
              "  </div>\n",
              "\n",
              "\n",
              "<div id=\"df-dcc8c7fd-3968-4be3-9d6e-14ed8b8042a6\">\n",
              "  <button class=\"colab-df-quickchart\" onclick=\"quickchart('df-dcc8c7fd-3968-4be3-9d6e-14ed8b8042a6')\"\n",
              "            title=\"Suggest charts\"\n",
              "            style=\"display:none;\">\n",
              "\n",
              "<svg xmlns=\"http://www.w3.org/2000/svg\" height=\"24px\"viewBox=\"0 0 24 24\"\n",
              "     width=\"24px\">\n",
              "    <g>\n",
              "        <path d=\"M19 3H5c-1.1 0-2 .9-2 2v14c0 1.1.9 2 2 2h14c1.1 0 2-.9 2-2V5c0-1.1-.9-2-2-2zM9 17H7v-7h2v7zm4 0h-2V7h2v10zm4 0h-2v-4h2v4z\"/>\n",
              "    </g>\n",
              "</svg>\n",
              "  </button>\n",
              "\n",
              "<style>\n",
              "  .colab-df-quickchart {\n",
              "      --bg-color: #E8F0FE;\n",
              "      --fill-color: #1967D2;\n",
              "      --hover-bg-color: #E2EBFA;\n",
              "      --hover-fill-color: #174EA6;\n",
              "      --disabled-fill-color: #AAA;\n",
              "      --disabled-bg-color: #DDD;\n",
              "  }\n",
              "\n",
              "  [theme=dark] .colab-df-quickchart {\n",
              "      --bg-color: #3B4455;\n",
              "      --fill-color: #D2E3FC;\n",
              "      --hover-bg-color: #434B5C;\n",
              "      --hover-fill-color: #FFFFFF;\n",
              "      --disabled-bg-color: #3B4455;\n",
              "      --disabled-fill-color: #666;\n",
              "  }\n",
              "\n",
              "  .colab-df-quickchart {\n",
              "    background-color: var(--bg-color);\n",
              "    border: none;\n",
              "    border-radius: 50%;\n",
              "    cursor: pointer;\n",
              "    display: none;\n",
              "    fill: var(--fill-color);\n",
              "    height: 32px;\n",
              "    padding: 0;\n",
              "    width: 32px;\n",
              "  }\n",
              "\n",
              "  .colab-df-quickchart:hover {\n",
              "    background-color: var(--hover-bg-color);\n",
              "    box-shadow: 0 1px 2px rgba(60, 64, 67, 0.3), 0 1px 3px 1px rgba(60, 64, 67, 0.15);\n",
              "    fill: var(--button-hover-fill-color);\n",
              "  }\n",
              "\n",
              "  .colab-df-quickchart-complete:disabled,\n",
              "  .colab-df-quickchart-complete:disabled:hover {\n",
              "    background-color: var(--disabled-bg-color);\n",
              "    fill: var(--disabled-fill-color);\n",
              "    box-shadow: none;\n",
              "  }\n",
              "\n",
              "  .colab-df-spinner {\n",
              "    border: 2px solid var(--fill-color);\n",
              "    border-color: transparent;\n",
              "    border-bottom-color: var(--fill-color);\n",
              "    animation:\n",
              "      spin 1s steps(1) infinite;\n",
              "  }\n",
              "\n",
              "  @keyframes spin {\n",
              "    0% {\n",
              "      border-color: transparent;\n",
              "      border-bottom-color: var(--fill-color);\n",
              "      border-left-color: var(--fill-color);\n",
              "    }\n",
              "    20% {\n",
              "      border-color: transparent;\n",
              "      border-left-color: var(--fill-color);\n",
              "      border-top-color: var(--fill-color);\n",
              "    }\n",
              "    30% {\n",
              "      border-color: transparent;\n",
              "      border-left-color: var(--fill-color);\n",
              "      border-top-color: var(--fill-color);\n",
              "      border-right-color: var(--fill-color);\n",
              "    }\n",
              "    40% {\n",
              "      border-color: transparent;\n",
              "      border-right-color: var(--fill-color);\n",
              "      border-top-color: var(--fill-color);\n",
              "    }\n",
              "    60% {\n",
              "      border-color: transparent;\n",
              "      border-right-color: var(--fill-color);\n",
              "    }\n",
              "    80% {\n",
              "      border-color: transparent;\n",
              "      border-right-color: var(--fill-color);\n",
              "      border-bottom-color: var(--fill-color);\n",
              "    }\n",
              "    90% {\n",
              "      border-color: transparent;\n",
              "      border-bottom-color: var(--fill-color);\n",
              "    }\n",
              "  }\n",
              "</style>\n",
              "\n",
              "  <script>\n",
              "    async function quickchart(key) {\n",
              "      const quickchartButtonEl =\n",
              "        document.querySelector('#' + key + ' button');\n",
              "      quickchartButtonEl.disabled = true;  // To prevent multiple clicks.\n",
              "      quickchartButtonEl.classList.add('colab-df-spinner');\n",
              "      try {\n",
              "        const charts = await google.colab.kernel.invokeFunction(\n",
              "            'suggestCharts', [key], {});\n",
              "      } catch (error) {\n",
              "        console.error('Error during call to suggestCharts:', error);\n",
              "      }\n",
              "      quickchartButtonEl.classList.remove('colab-df-spinner');\n",
              "      quickchartButtonEl.classList.add('colab-df-quickchart-complete');\n",
              "    }\n",
              "    (() => {\n",
              "      let quickchartButtonEl =\n",
              "        document.querySelector('#df-dcc8c7fd-3968-4be3-9d6e-14ed8b8042a6 button');\n",
              "      quickchartButtonEl.style.display =\n",
              "        google.colab.kernel.accessAllowed ? 'block' : 'none';\n",
              "    })();\n",
              "  </script>\n",
              "</div>\n",
              "\n",
              "    </div>\n",
              "  </div>\n"
            ],
            "application/vnd.google.colaboratory.intrinsic+json": {
              "type": "dataframe",
              "variable_name": "sorted_by_song_count_desc"
            }
          },
          "metadata": {},
          "execution_count": 30
        }
      ]
    },
    {
      "cell_type": "code",
      "source": [
        "from matplotlib import pyplot as plt\n",
        "\n",
        "# Plotting the sorted data\n",
        "plt.figure(figsize=(10, 8))  # You can adjust the figure size if needed\n",
        "sorted_by_song_count_desc['unique_song_count'].head(20).plot(kind='bar', color='skyblue')  # Plot top 20 artists\n",
        "\n",
        "plt.title('Number of Unique Tracks per Artist')\n",
        "plt.xlabel('Artist Name')\n",
        "plt.ylabel('Unique Track Count')\n",
        "plt.xticks(rotation=45, ha='right')  # Rotate x-axis labels for readability\n",
        "plt.tight_layout()  # Adjust layout to prevent clipping of labels\n",
        "plt.show()\n"
      ],
      "metadata": {
        "colab": {
          "base_uri": "https://localhost:8080/",
          "height": 807
        },
        "id": "sqf5YF5dyGsK",
        "outputId": "6e8bfa5f-c4ae-4e91-b47b-6971c1e4f663"
      },
      "execution_count": null,
      "outputs": [
        {
          "output_type": "display_data",
          "data": {
            "text/plain": [
              "<Figure size 1000x800 with 1 Axes>"
            ],
            "image/png": "[encoded data removed]"
          },
          "metadata": {}
        }
      ]
    },
    {
      "cell_type": "markdown",
      "source": [
        "## Playlists Lengths"
      ],
      "metadata": {
        "id": "vYMD6cuk1e_V"
      }
    },
    {
      "cell_type": "code",
      "source": [
        "import matplotlib.pyplot as plt\n",
        "\n",
        "# Calculate playlist lengths\n",
        "playlist_lengths = df_cleaned_final.groupby('unq_playlist_name')['song_name'].count()\n",
        "\n",
        "# Save the playlist lengths for reference\n",
        "playlist_lengths.to_csv('playlist_lengths.csv')\n",
        "\n",
        "# Plot histogram for playlist lengths\n",
        "plt.figure(figsize=(10, 5))\n",
        "playlist_lengths.plot(kind='hist', bins=50, edgecolor='black', logy=True)\n",
        "plt.title('Playlist Length Distribution')\n",
        "plt.xlabel('Number of Tracks per Playlist')\n",
        "plt.ylabel('Frequency')\n",
        "plt.grid(axis='y')\n",
        "plt.show()\n",
        "\n",
        "# Boxplot to visualize outliers\n",
        "plt.figure(figsize=(10, 2))\n",
        "playlist_lengths.plot(kind='box', vert=False)\n",
        "plt.title('Boxplot of Playlist Lengths')\n",
        "plt.grid(axis='x')\n",
        "plt.show()\n",
        "\n",
        "# Basic statistics of playlist lengths\n",
        "print(\"Playlist Length Statistics:\")\n",
        "print(playlist_lengths.describe())\n"
      ],
      "metadata": {
        "colab": {
          "base_uri": "https://localhost:8080/",
          "height": 881
        },
        "id": "EK_vAekDowsG",
        "outputId": "120eaf2b-9a05-473a-f308-60e409759e4a"
      },
      "execution_count": null,
      "outputs": [
        {
          "output_type": "display_data",
          "data": {
            "text/plain": [
              "<Figure size 1000x500 with 1 Axes>"
            ],
            "image/png": "[encoded data removed]"
          },
          "metadata": {}
        },
        {
          "output_type": "display_data",
          "data": {
            "text/plain": [
              "<Figure size 1000x200 with 1 Axes>"
            ],
            "image/png": "[encoded data removed]"
          },
          "metadata": {}
        },
        {
          "output_type": "stream",
          "name": "stdout",
          "text": [
            "Playlist Length Statistics:\n",
            "count    230708.000000\n",
            "mean         55.238930\n",
            "std         269.603424\n",
            "min           1.000000\n",
            "25%          11.000000\n",
            "50%          16.000000\n",
            "75%          38.000000\n",
            "max       47259.000000\n",
            "Name: song_name, dtype: float64\n"
          ]
        }
      ]
    },
    {
      "cell_type": "markdown",
      "source": [
        "# Further preprocessing\n",
        "\n",
        "* Remove Extreme Outliers:\n",
        "\n",
        ">> Playlists with unusually long lengths (beyond the 99th percentile) may distort the model's understanding of typical user behavior and introduce bias. These are excluded to focus on representative playlists.\n",
        "Preserve Data Integrity:\n",
        "\n",
        ">> To avoid over-pruning, we retain playlists with at least 3 songs, ensuring that even smaller, valid playlists are included in the dataset.\n",
        "\n",
        "* This approach strikes a balance between:\n",
        "\n",
        ">> Removing noise: Outliers that may mislead the model.\n",
        "\n",
        ">> Maximizing data usage: Keeping the majority of playlists intact for robust training and analysis."
      ],
      "metadata": {
        "id": "Mr_xiQCHoB2R"
      }
    },
    {
      "cell_type": "code",
      "source": [
        "# Calculate the length of each playlist\n",
        "playlist_lengths = df_cleaned_final.groupby('unq_playlist_name')['song_name'].count()\n",
        "\n",
        "# Calculate the 99th percentile of playlist lengths\n",
        "max_length_threshold = playlist_lengths.quantile(0.99)\n",
        "print(f\"99th Percentile of Playlist Length: {max_length_threshold}\")\n",
        "\n",
        "# Filter playlists with at least 3 songs and within the 99th percentile length\n",
        "valid_playlists = playlist_lengths[\n",
        "    (playlist_lengths >= 3) & (playlist_lengths <= max_length_threshold)\n",
        "].index\n",
        "\n",
        "# Keep only valid playlists in the dataset\n",
        "df_filtered = df_cleaned_final[df_cleaned_final['unq_playlist_name'].isin(valid_playlists)]\n",
        "\n",
        "print(f\"Shape after filtering playlists: {df_filtered.shape}\")\n"
      ],
      "metadata": {
        "id": "WDYr4J3OzK5h",
        "outputId": "eaa205f4-9e3c-4ce4-a1c3-3bb585569610",
        "colab": {
          "base_uri": "https://localhost:8080/"
        }
      },
      "execution_count": 3,
      "outputs": [
        {
          "output_type": "stream",
          "name": "stdout",
          "text": [
            "99th Percentile of Playlist Length: 625.0\n",
            "Shape after filtering playlists: (8827817, 6)\n"
          ]
        }
      ]
    },
    {
      "cell_type": "code",
      "source": [
        "# Basic Information about the Dataset\n",
        "print(\"Basic Information:\")\n",
        "print(df_filtered.info())\n",
        "print(\"\\n\")\n",
        "\n",
        "# Summary Statistics for Numerical Columns\n",
        "print(\"Summary Statistics:\")\n",
        "print(df_filtered.describe(include='all'))  # Includes numerical and categorical columns\n",
        "print(\"\\n\")\n",
        "\n",
        "# Count of Unique Values in Key Columns\n",
        "print(f\"Number of unique users: {df_filtered['user_id'].nunique()}\")\n",
        "print(f\"Number of unique artists: {df_filtered['artist_name'].nunique()}\")\n",
        "print(f\"Number of unique songs: {df_filtered['song_name'].nunique()}\")\n",
        "print(f\"Number of unique playlists: {df_filtered['unq_playlist_name'].nunique()}\")\n",
        "print(\"\\n\")\n",
        "\n",
        "# Distribution of Playlist Lengths\n",
        "playlist_lengths = df_filtered.groupby('unq_playlist_name')['song_name'].count()\n",
        "print(\"Playlist Length Statistics:\")\n",
        "print(playlist_lengths.describe())\n",
        "\n",
        "# Visualize Playlist Length Distribution\n",
        "import matplotlib.pyplot as plt\n",
        "import seaborn as sns\n",
        "\n",
        "# Histogram of Playlist Lengths\n",
        "plt.figure(figsize=(10, 5))\n",
        "sns.histplot(playlist_lengths, bins=30, kde=False, color='purple', edgecolor='black')\n",
        "plt.title(\"Distribution of Playlist Lengths\")\n",
        "plt.xlabel(\"Number of Songs per Playlist\")\n",
        "plt.ylabel(\"Number of Playlists\")\n",
        "plt.grid(axis='y')\n",
        "plt.show()\n",
        "\n",
        "# Boxplot of Playlist Lengths\n",
        "plt.figure(figsize=(10, 2))\n",
        "sns.boxplot(x=playlist_lengths, color='skyblue')\n",
        "plt.title(\"Boxplot of Playlist Lengths\")\n",
        "plt.xlabel(\"Number of Songs per Playlist\")\n",
        "plt.grid(axis='x')\n",
        "plt.show()\n",
        "\n",
        "# Top 10 Most Frequent Artists\n",
        "top_artists = df_filtered['artist_name'].value_counts().head(10)\n",
        "print(\"Top 10 Most Frequent Artists:\")\n",
        "print(top_artists)\n",
        "\n",
        "# Bar Plot for Top Artists\n",
        "plt.figure(figsize=(8, 5))\n",
        "top_artists.plot(kind='bar', color='teal')\n",
        "plt.title(\"Top 10 Most Frequent Artists\")\n",
        "plt.xlabel(\"Artist Name\")\n",
        "plt.ylabel(\"Number of Songs in Playlists\")\n",
        "plt.xticks(rotation=45, ha='right')\n",
        "plt.tight_layout()\n",
        "plt.show()\n",
        "\n",
        "# Most Frequent Songs\n",
        "top_songs = df_filtered['song_name'].value_counts().head(10)\n",
        "print(\"Top 10 Most Frequent Songs:\")\n",
        "print(top_songs)\n",
        "\n",
        "# Bar Plot for Top Songs\n",
        "plt.figure(figsize=(8, 5))\n",
        "top_songs.plot(kind='bar', color='orange')\n",
        "plt.title(\"Top 10 Most Frequent Songs\")\n",
        "plt.xlabel(\"Song Name\")\n",
        "plt.ylabel(\"Number of Occurrences in Playlists\")\n",
        "plt.xticks(rotation=45, ha='right')\n",
        "plt.tight_layout()\n",
        "plt.show()\n"
      ],
      "metadata": {
        "id": "jCvF_ycR0AMO",
        "outputId": "5a1fc3dd-fb51-45ed-aab4-114e882cbd29",
        "colab": {
          "base_uri": "https://localhost:8080/",
          "height": 1000
        }
      },
      "execution_count": 4,
      "outputs": [
        {
          "output_type": "stream",
          "name": "stdout",
          "text": [
            "Basic Information:\n",
            "<class 'pandas.core.frame.DataFrame'>\n",
            "Index: 8827817 entries, 0 to 12744062\n",
            "Data columns (total 6 columns):\n",
            " #   Column             Dtype \n",
            "---  ------             ----- \n",
            " 0   user_id            object\n",
            " 1   artist_name        object\n",
            " 2   track_name         object\n",
            " 3   playlist_name      object\n",
            " 4   song_name          object\n",
            " 5   unq_playlist_name  object\n",
            "dtypes: object(6)\n",
            "memory usage: 471.5+ MB\n",
            "None\n",
            "\n",
            "\n",
            "Summary Statistics:\n",
            "                                 user_id artist_name track_name playlist_name  \\\n",
            "count                            8827817     8827816    8827808       8827817   \n",
            "unique                             15351      223713    1366395        133933   \n",
            "top     11da254d9d1948488318e3ea286bf484   daft punk      intro       starred   \n",
            "freq                                9818       28885       5553        444558   \n",
            "\n",
            "                  song_name                            unq_playlist_name  \n",
            "count               8827817                                      8827817  \n",
            "unique              1913711                                       214394  \n",
            "top     m83 - midnight city  3cfeb4a26363301934c17c9fadac3bfa - the buzz  \n",
            "freq                   2256                                          625  \n",
            "\n",
            "\n",
            "Number of unique users: 15351\n",
            "Number of unique artists: 223713\n",
            "Number of unique songs: 1913711\n",
            "Number of unique playlists: 214394\n",
            "\n",
            "\n",
            "Playlist Length Statistics:\n",
            "count    214394.000000\n",
            "mean         41.175672\n",
            "std          67.379076\n",
            "min           3.000000\n",
            "25%          11.000000\n",
            "50%          17.000000\n",
            "75%          40.000000\n",
            "max         625.000000\n",
            "Name: song_name, dtype: float64\n"
          ]
        },
        {
          "output_type": "display_data",
          "data": {
            "text/plain": [
              "<Figure size 1000x500 with 1 Axes>"
            ],
            "image/png": "[encoded data removed]"
          },
          "metadata": {}
        },
        {
          "output_type": "display_data",
          "data": {
            "text/plain": [
              "<Figure size 1000x200 with 1 Axes>"
            ],
            "image/png": "[encoded data removed]"
          },
          "metadata": {}
        },
        {
          "output_type": "stream",
          "name": "stdout",
          "text": [
            "Top 10 Most Frequent Artists:\n",
            "artist_name\n",
            "daft punk             28885\n",
            "coldplay              27654\n",
            "jay z                 22575\n",
            "kanye west            22162\n",
            "eminem                22065\n",
            "radiohead             20774\n",
            "michael jackson       20543\n",
            "queen                 19630\n",
            "rihanna               19124\n",
            "the rolling stones    18959\n",
            "Name: count, dtype: int64\n"
          ]
        },
        {
          "output_type": "display_data",
          "data": {
            "text/plain": [
              "<Figure size 800x500 with 1 Axes>"
            ],
            "image/png": "[encoded data removed]"
          },
          "metadata": {}
        },
        {
          "output_type": "stream",
          "name": "stdout",
          "text": [
            "Top 10 Most Frequent Songs:\n",
            "song_name\n",
            "m83 - midnight city                                           2256\n",
            "daft punk - get lucky - radio edit                            2065\n",
            "imagine dragons - radioactive                                 2059\n",
            "avicii - wake me up                                           2054\n",
            "lorde - royals                                                1968\n",
            "of monsters and men - little talks                            1950\n",
            "the lumineers - ho hey                                        1889\n",
            "macklemore & ryan lewis - can't hold us - feat. ray dalton    1856\n",
            "bastille - pompeii                                            1807\n",
            "robin thicke - blurred lines                                  1785\n",
            "Name: count, dtype: int64\n"
          ]
        },
        {
          "output_type": "display_data",
          "data": {
            "text/plain": [
              "<Figure size 800x500 with 1 Axes>"
            ],
            "image/png": "[encoded data removed]"
          },
          "metadata": {}
        }
      ]
    },
    {
      "cell_type": "markdown",
      "source": [
        "# Save final preprocessed data"
      ],
      "metadata": {
        "id": "vCI9uKUR1SAA"
      }
    },
    {
      "cell_type": "code",
      "source": [
        "# Save final preprocessed data\n",
        "\n",
        "output_file_path = '/content/drive/My Drive/Colab Notebooks/Final Project/cleaned_step3.csv'\n",
        "df_cleaned_final.to_csv(output_file_path, index=False)"
      ],
      "metadata": {
        "id": "oXiybcMw1B_F"
      },
      "execution_count": null,
      "outputs": []
    }
  ]
}