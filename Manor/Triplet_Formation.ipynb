{
  "cells": [
    {
      "cell_type": "markdown",
      "metadata": {
        "id": "view-in-github",
        "colab_type": "text"
      },
      "source": [
        "<a href=\"https://colab.research.google.com/github/ortall0201/Spotify-Playlist-Recommender-System-Using-NLP/blob/main/Manor/Triplet_Formation.ipynb\" target=\"_parent\"><img src=\"https://colab.research.google.com/assets/colab-badge.svg\" alt=\"Open In Colab\"/></a>"
      ]
    },
    {
      "cell_type": "code",
      "execution_count": 1,
      "metadata": {
        "colab": {
          "base_uri": "https://localhost:8080/"
        },
        "id": "_bVQDUfV1W7i",
        "outputId": "9324cc5e-894d-4534-d093-4e237ea5831a"
      },
      "outputs": [
        {
          "output_type": "stream",
          "name": "stdout",
          "text": [
            "Mounted at /content/drive\n"
          ]
        }
      ],
      "source": [
        "import pandas as pd\n",
        "\n",
        "from google.colab import drive\n",
        "drive.mount('/content/drive')\n"
      ]
    },
    {
      "cell_type": "code",
      "execution_count": 2,
      "metadata": {
        "id": "mW7peaqpaQFX"
      },
      "outputs": [],
      "source": [
        "# call preprocessed data\n",
        "\n",
        "csv_file_path = '/content/drive/My Drive/Colab Notebooks/Final Project/cleaned_step4.csv'\n",
        "playlists_df = pd.read_csv(csv_file_path)"
      ]
    },
    {
      "cell_type": "code",
      "execution_count": 3,
      "metadata": {
        "colab": {
          "base_uri": "https://localhost:8080/",
          "height": 206
        },
        "id": "d9Zo4D4BzbFo",
        "outputId": "29f65232-ec3e-4741-a96e-ea37cc470c1f"
      },
      "outputs": [
        {
          "output_type": "execute_result",
          "data": {
            "text/plain": [
              "                            user_id                       artist_name  \\\n",
              "0  9cc0cfd4d7d7885102480dd99e7a90d6                    elvis costello   \n",
              "1  9cc0cfd4d7d7885102480dd99e7a90d6  elvis costello & the attractions   \n",
              "2  9cc0cfd4d7d7885102480dd99e7a90d6                      tiffany page   \n",
              "3  9cc0cfd4d7d7885102480dd99e7a90d6  elvis costello & the attractions   \n",
              "4  9cc0cfd4d7d7885102480dd99e7a90d6                    elvis costello   \n",
              "\n",
              "                                          track_name   playlist_name  \\\n",
              "0               (the angels wanna wear my) red shoes  hard rock 2010   \n",
              "1  (what's so funny 'bout) peace, love and unders...  hard rock 2010   \n",
              "2                                   7 years too late  hard rock 2010   \n",
              "3                              accidents will happen  hard rock 2010   \n",
              "4                                             alison  hard rock 2010   \n",
              "\n",
              "                                           song_name  \\\n",
              "0  elvis costello - (the angels wanna wear my) re...   \n",
              "1  elvis costello & the attractions - (what's so ...   \n",
              "2                    tiffany page - 7 years too late   \n",
              "3  elvis costello & the attractions - accidents w...   \n",
              "4                            elvis costello - alison   \n",
              "\n",
              "                                   unq_playlist_name  track_word_count  \n",
              "0  9cc0cfd4d7d7885102480dd99e7a90d6 - hard rock 2010                 7  \n",
              "1  9cc0cfd4d7d7885102480dd99e7a90d6 - hard rock 2010                 8  \n",
              "2  9cc0cfd4d7d7885102480dd99e7a90d6 - hard rock 2010                 4  \n",
              "3  9cc0cfd4d7d7885102480dd99e7a90d6 - hard rock 2010                 3  \n",
              "4  9cc0cfd4d7d7885102480dd99e7a90d6 - hard rock 2010                 1  "
            ],
            "text/html": [
              "\n",
              "  <div id=\"df-94ae82d5-bce8-4767-b3d1-66effb2578f8\" class=\"colab-df-container\">\n",
              "    <div>\n",
              "<style scoped>\n",
              "    .dataframe tbody tr th:only-of-type {\n",
              "        vertical-align: middle;\n",
              "    }\n",
              "\n",
              "    .dataframe tbody tr th {\n",
              "        vertical-align: top;\n",
              "    }\n",
              "\n",
              "    .dataframe thead th {\n",
              "        text-align: right;\n",
              "    }\n",
              "</style>\n",
              "<table border=\"1\" class=\"dataframe\">\n",
              "  <thead>\n",
              "    <tr style=\"text-align: right;\">\n",
              "      <th></th>\n",
              "      <th>user_id</th>\n",
              "      <th>artist_name</th>\n",
              "      <th>track_name</th>\n",
              "      <th>playlist_name</th>\n",
              "      <th>song_name</th>\n",
              "      <th>unq_playlist_name</th>\n",
              "      <th>track_word_count</th>\n",
              "    </tr>\n",
              "  </thead>\n",
              "  <tbody>\n",
              "    <tr>\n",
              "      <th>0</th>\n",
              "      <td>9cc0cfd4d7d7885102480dd99e7a90d6</td>\n",
              "      <td>elvis costello</td>\n",
              "      <td>(the angels wanna wear my) red shoes</td>\n",
              "      <td>hard rock 2010</td>\n",
              "      <td>elvis costello - (the angels wanna wear my) re...</td>\n",
              "      <td>9cc0cfd4d7d7885102480dd99e7a90d6 - hard rock 2010</td>\n",
              "      <td>7</td>\n",
              "    </tr>\n",
              "    <tr>\n",
              "      <th>1</th>\n",
              "      <td>9cc0cfd4d7d7885102480dd99e7a90d6</td>\n",
              "      <td>elvis costello &amp; the attractions</td>\n",
              "      <td>(what's so funny 'bout) peace, love and unders...</td>\n",
              "      <td>hard rock 2010</td>\n",
              "      <td>elvis costello &amp; the attractions - (what's so ...</td>\n",
              "      <td>9cc0cfd4d7d7885102480dd99e7a90d6 - hard rock 2010</td>\n",
              "      <td>8</td>\n",
              "    </tr>\n",
              "    <tr>\n",
              "      <th>2</th>\n",
              "      <td>9cc0cfd4d7d7885102480dd99e7a90d6</td>\n",
              "      <td>tiffany page</td>\n",
              "      <td>7 years too late</td>\n",
              "      <td>hard rock 2010</td>\n",
              "      <td>tiffany page - 7 years too late</td>\n",
              "      <td>9cc0cfd4d7d7885102480dd99e7a90d6 - hard rock 2010</td>\n",
              "      <td>4</td>\n",
              "    </tr>\n",
              "    <tr>\n",
              "      <th>3</th>\n",
              "      <td>9cc0cfd4d7d7885102480dd99e7a90d6</td>\n",
              "      <td>elvis costello &amp; the attractions</td>\n",
              "      <td>accidents will happen</td>\n",
              "      <td>hard rock 2010</td>\n",
              "      <td>elvis costello &amp; the attractions - accidents w...</td>\n",
              "      <td>9cc0cfd4d7d7885102480dd99e7a90d6 - hard rock 2010</td>\n",
              "      <td>3</td>\n",
              "    </tr>\n",
              "    <tr>\n",
              "      <th>4</th>\n",
              "      <td>9cc0cfd4d7d7885102480dd99e7a90d6</td>\n",
              "      <td>elvis costello</td>\n",
              "      <td>alison</td>\n",
              "      <td>hard rock 2010</td>\n",
              "      <td>elvis costello - alison</td>\n",
              "      <td>9cc0cfd4d7d7885102480dd99e7a90d6 - hard rock 2010</td>\n",
              "      <td>1</td>\n",
              "    </tr>\n",
              "  </tbody>\n",
              "</table>\n",
              "</div>\n",
              "    <div class=\"colab-df-buttons\">\n",
              "\n",
              "  <div class=\"colab-df-container\">\n",
              "    <button class=\"colab-df-convert\" onclick=\"convertToInteractive('df-94ae82d5-bce8-4767-b3d1-66effb2578f8')\"\n",
              "            title=\"Convert this dataframe to an interactive table.\"\n",
              "            style=\"display:none;\">\n",
              "\n",
              "  <svg xmlns=\"http://www.w3.org/2000/svg\" height=\"24px\" viewBox=\"0 -960 960 960\">\n",
              "    <path d=\"M120-120v-720h720v720H120Zm60-500h600v-160H180v160Zm220 220h160v-160H400v160Zm0 220h160v-160H400v160ZM180-400h160v-160H180v160Zm440 0h160v-160H620v160ZM180-180h160v-160H180v160Zm440 0h160v-160H620v160Z\"/>\n",
              "  </svg>\n",
              "    </button>\n",
              "\n",
              "  <style>\n",
              "    .colab-df-container {\n",
              "      display:flex;\n",
              "      gap: 12px;\n",
              "    }\n",
              "\n",
              "    .colab-df-convert {\n",
              "      background-color: #E8F0FE;\n",
              "      border: none;\n",
              "      border-radius: 50%;\n",
              "      cursor: pointer;\n",
              "      display: none;\n",
              "      fill: #1967D2;\n",
              "      height: 32px;\n",
              "      padding: 0 0 0 0;\n",
              "      width: 32px;\n",
              "    }\n",
              "\n",
              "    .colab-df-convert:hover {\n",
              "      background-color: #E2EBFA;\n",
              "      box-shadow: 0px 1px 2px rgba(60, 64, 67, 0.3), 0px 1px 3px 1px rgba(60, 64, 67, 0.15);\n",
              "      fill: #174EA6;\n",
              "    }\n",
              "\n",
              "    .colab-df-buttons div {\n",
              "      margin-bottom: 4px;\n",
              "    }\n",
              "\n",
              "    [theme=dark] .colab-df-convert {\n",
              "      background-color: #3B4455;\n",
              "      fill: #D2E3FC;\n",
              "    }\n",
              "\n",
              "    [theme=dark] .colab-df-convert:hover {\n",
              "      background-color: #434B5C;\n",
              "      box-shadow: 0px 1px 3px 1px rgba(0, 0, 0, 0.15);\n",
              "      filter: drop-shadow(0px 1px 2px rgba(0, 0, 0, 0.3));\n",
              "      fill: #FFFFFF;\n",
              "    }\n",
              "  </style>\n",
              "\n",
              "    <script>\n",
              "      const buttonEl =\n",
              "        document.querySelector('#df-94ae82d5-bce8-4767-b3d1-66effb2578f8 button.colab-df-convert');\n",
              "      buttonEl.style.display =\n",
              "        google.colab.kernel.accessAllowed ? 'block' : 'none';\n",
              "\n",
              "      async function convertToInteractive(key) {\n",
              "        const element = document.querySelector('#df-94ae82d5-bce8-4767-b3d1-66effb2578f8');\n",
              "        const dataTable =\n",
              "          await google.colab.kernel.invokeFunction('convertToInteractive',\n",
              "                                                    [key], {});\n",
              "        if (!dataTable) return;\n",
              "\n",
              "        const docLinkHtml = 'Like what you see? Visit the ' +\n",
              "          '<a target=\"_blank\" href=https://colab.research.google.com/notebooks/data_table.ipynb>data table notebook</a>'\n",
              "          + ' to learn more about interactive tables.';\n",
              "        element.innerHTML = '';\n",
              "        dataTable['output_type'] = 'display_data';\n",
              "        await google.colab.output.renderOutput(dataTable, element);\n",
              "        const docLink = document.createElement('div');\n",
              "        docLink.innerHTML = docLinkHtml;\n",
              "        element.appendChild(docLink);\n",
              "      }\n",
              "    </script>\n",
              "  </div>\n",
              "\n",
              "\n",
              "<div id=\"df-be737a08-51ea-4bd5-9fdc-68fd3f4aa96b\">\n",
              "  <button class=\"colab-df-quickchart\" onclick=\"quickchart('df-be737a08-51ea-4bd5-9fdc-68fd3f4aa96b')\"\n",
              "            title=\"Suggest charts\"\n",
              "            style=\"display:none;\">\n",
              "\n",
              "<svg xmlns=\"http://www.w3.org/2000/svg\" height=\"24px\"viewBox=\"0 0 24 24\"\n",
              "     width=\"24px\">\n",
              "    <g>\n",
              "        <path d=\"M19 3H5c-1.1 0-2 .9-2 2v14c0 1.1.9 2 2 2h14c1.1 0 2-.9 2-2V5c0-1.1-.9-2-2-2zM9 17H7v-7h2v7zm4 0h-2V7h2v10zm4 0h-2v-4h2v4z\"/>\n",
              "    </g>\n",
              "</svg>\n",
              "  </button>\n",
              "\n",
              "<style>\n",
              "  .colab-df-quickchart {\n",
              "      --bg-color: #E8F0FE;\n",
              "      --fill-color: #1967D2;\n",
              "      --hover-bg-color: #E2EBFA;\n",
              "      --hover-fill-color: #174EA6;\n",
              "      --disabled-fill-color: #AAA;\n",
              "      --disabled-bg-color: #DDD;\n",
              "  }\n",
              "\n",
              "  [theme=dark] .colab-df-quickchart {\n",
              "      --bg-color: #3B4455;\n",
              "      --fill-color: #D2E3FC;\n",
              "      --hover-bg-color: #434B5C;\n",
              "      --hover-fill-color: #FFFFFF;\n",
              "      --disabled-bg-color: #3B4455;\n",
              "      --disabled-fill-color: #666;\n",
              "  }\n",
              "\n",
              "  .colab-df-quickchart {\n",
              "    background-color: var(--bg-color);\n",
              "    border: none;\n",
              "    border-radius: 50%;\n",
              "    cursor: pointer;\n",
              "    display: none;\n",
              "    fill: var(--fill-color);\n",
              "    height: 32px;\n",
              "    padding: 0;\n",
              "    width: 32px;\n",
              "  }\n",
              "\n",
              "  .colab-df-quickchart:hover {\n",
              "    background-color: var(--hover-bg-color);\n",
              "    box-shadow: 0 1px 2px rgba(60, 64, 67, 0.3), 0 1px 3px 1px rgba(60, 64, 67, 0.15);\n",
              "    fill: var(--button-hover-fill-color);\n",
              "  }\n",
              "\n",
              "  .colab-df-quickchart-complete:disabled,\n",
              "  .colab-df-quickchart-complete:disabled:hover {\n",
              "    background-color: var(--disabled-bg-color);\n",
              "    fill: var(--disabled-fill-color);\n",
              "    box-shadow: none;\n",
              "  }\n",
              "\n",
              "  .colab-df-spinner {\n",
              "    border: 2px solid var(--fill-color);\n",
              "    border-color: transparent;\n",
              "    border-bottom-color: var(--fill-color);\n",
              "    animation:\n",
              "      spin 1s steps(1) infinite;\n",
              "  }\n",
              "\n",
              "  @keyframes spin {\n",
              "    0% {\n",
              "      border-color: transparent;\n",
              "      border-bottom-color: var(--fill-color);\n",
              "      border-left-color: var(--fill-color);\n",
              "    }\n",
              "    20% {\n",
              "      border-color: transparent;\n",
              "      border-left-color: var(--fill-color);\n",
              "      border-top-color: var(--fill-color);\n",
              "    }\n",
              "    30% {\n",
              "      border-color: transparent;\n",
              "      border-left-color: var(--fill-color);\n",
              "      border-top-color: var(--fill-color);\n",
              "      border-right-color: var(--fill-color);\n",
              "    }\n",
              "    40% {\n",
              "      border-color: transparent;\n",
              "      border-right-color: var(--fill-color);\n",
              "      border-top-color: var(--fill-color);\n",
              "    }\n",
              "    60% {\n",
              "      border-color: transparent;\n",
              "      border-right-color: var(--fill-color);\n",
              "    }\n",
              "    80% {\n",
              "      border-color: transparent;\n",
              "      border-right-color: var(--fill-color);\n",
              "      border-bottom-color: var(--fill-color);\n",
              "    }\n",
              "    90% {\n",
              "      border-color: transparent;\n",
              "      border-bottom-color: var(--fill-color);\n",
              "    }\n",
              "  }\n",
              "</style>\n",
              "\n",
              "  <script>\n",
              "    async function quickchart(key) {\n",
              "      const quickchartButtonEl =\n",
              "        document.querySelector('#' + key + ' button');\n",
              "      quickchartButtonEl.disabled = true;  // To prevent multiple clicks.\n",
              "      quickchartButtonEl.classList.add('colab-df-spinner');\n",
              "      try {\n",
              "        const charts = await google.colab.kernel.invokeFunction(\n",
              "            'suggestCharts', [key], {});\n",
              "      } catch (error) {\n",
              "        console.error('Error during call to suggestCharts:', error);\n",
              "      }\n",
              "      quickchartButtonEl.classList.remove('colab-df-spinner');\n",
              "      quickchartButtonEl.classList.add('colab-df-quickchart-complete');\n",
              "    }\n",
              "    (() => {\n",
              "      let quickchartButtonEl =\n",
              "        document.querySelector('#df-be737a08-51ea-4bd5-9fdc-68fd3f4aa96b button');\n",
              "      quickchartButtonEl.style.display =\n",
              "        google.colab.kernel.accessAllowed ? 'block' : 'none';\n",
              "    })();\n",
              "  </script>\n",
              "</div>\n",
              "\n",
              "    </div>\n",
              "  </div>\n"
            ],
            "application/vnd.google.colaboratory.intrinsic+json": {
              "type": "dataframe",
              "variable_name": "playlists_df"
            }
          },
          "metadata": {},
          "execution_count": 3
        }
      ],
      "source": [
        "playlists_df.head()"
      ]
    },
    {
      "cell_type": "code",
      "execution_count": 4,
      "metadata": {
        "colab": {
          "base_uri": "https://localhost:8080/"
        },
        "id": "WsMwEjhs1OVU",
        "outputId": "1cefbc52-1de1-46d1-ce3e-aebdac24fdeb"
      },
      "outputs": [
        {
          "output_type": "execute_result",
          "data": {
            "text/plain": [
              "(8827807, 7)"
            ]
          },
          "metadata": {},
          "execution_count": 4
        }
      ],
      "source": [
        "playlists_df.shape"
      ]
    },
    {
      "cell_type": "code",
      "execution_count": 5,
      "metadata": {
        "colab": {
          "base_uri": "https://localhost:8080/"
        },
        "id": "I3ox1U_MpVYu",
        "outputId": "7f7d0f3d-4e70-4caa-d5f8-7ff60604a706"
      },
      "outputs": [
        {
          "output_type": "stream",
          "name": "stdout",
          "text": [
            "Number of unique artists: 223712\n",
            "Number of unique users: 15351\n",
            "Number of unique songs: 1913703\n"
          ]
        }
      ],
      "source": [
        "# Number of unique artists\n",
        "\n",
        "playlists_df['artist_name'].nunique()\n",
        "print(f\"Number of unique artists: {playlists_df['artist_name'].nunique()}\")\n",
        "\n",
        "# Number of unique users\n",
        "\n",
        "unique_users = playlists_df['user_id'].nunique()\n",
        "print(f\"Number of unique users: {unique_users}\")\n",
        "\n",
        "# Number of unique songs\n",
        "\n",
        "unique_songs = playlists_df['song_name'].nunique()\n",
        "print(f\"Number of unique songs: {unique_songs}\")"
      ]
    },
    {
      "cell_type": "code",
      "execution_count": 6,
      "metadata": {
        "colab": {
          "base_uri": "https://localhost:8080/"
        },
        "id": "TY_LkzAOBck7",
        "outputId": "2160ced5-844c-40e0-b94a-f10c096444c3"
      },
      "outputs": [
        {
          "output_type": "stream",
          "name": "stdout",
          "text": [
            "Starting triplet generation...\n"
          ]
        },
        {
          "output_type": "stream",
          "name": "stderr",
          "text": [
            "Processing playlists: 100%|██████████| 214394/214394 [03:20<00:00, 1071.84it/s]\n"
          ]
        },
        {
          "output_type": "stream",
          "name": "stdout",
          "text": [
            "Triplet generation complete. Generated 26473185 unique triplets.\n"
          ]
        }
      ],
      "source": [
        "import random\n",
        "from tqdm import tqdm  # For progress tracking\n",
        "\n",
        "import random\n",
        "from tqdm import tqdm  # For progress tracking\n",
        "\n",
        "def generate_triplets(df, max_positives=3, verbose=True):\n",
        "    \"\"\"\n",
        "    Generate triplets with random negative sampling (no precomputed pools).\n",
        "\n",
        "    Parameters:\n",
        "    - df: DataFrame with 'playlist_id' and 'song_id'.\n",
        "    - max_positives: Number of positives to sample per anchor.\n",
        "    - verbose: Whether to print progress updates.\n",
        "\n",
        "    Returns:\n",
        "    - List of triplets (anchor, positive, negative).\n",
        "    \"\"\"\n",
        "    playlists = df.groupby('unq_playlist_name')['song_name'].apply(list).to_dict()\n",
        "    all_songs = list(df['song_name'].unique())  # Global pool of songs\n",
        "    triplets = set()  # Use a set to track unique triplets\n",
        "\n",
        "    # Progress bar if verbose is enabled\n",
        "    if verbose:\n",
        "        print(\"Starting triplet generation...\")\n",
        "        pbar = tqdm(total=len(playlists), desc=\"Processing playlists\")\n",
        "\n",
        "    for playlist_id, playlist_songs in playlists.items():\n",
        "        for anchor in playlist_songs:\n",
        "            if len(playlist_songs) > 1:\n",
        "                # Sample up to max_positives for this anchor\n",
        "                positives = random.sample([song for song in playlist_songs if song != anchor],\n",
        "                                          min(max_positives, len(playlist_songs) - 1))\n",
        "                for positive in positives:\n",
        "                    # Randomly sample a negative from the global pool\n",
        "                    negative = random.choice(all_songs)\n",
        "                    # Ensure negative is not in the same playlist\n",
        "                    while negative in playlist_songs:\n",
        "                        negative = random.choice(all_songs)\n",
        "\n",
        "                    # Add the triplet\n",
        "                    triplets.add((anchor, positive, negative))\n",
        "\n",
        "        # Update progress bar\n",
        "        if verbose:\n",
        "            pbar.update(1)\n",
        "\n",
        "    if verbose:\n",
        "        pbar.close()\n",
        "        print(f\"Triplet generation complete. Generated {len(triplets)} unique triplets.\")\n",
        "\n",
        "    return list(triplets)\n",
        "\n",
        "\n",
        "\n",
        "triplets = generate_triplets(playlists_df)\n",
        "\n"
      ]
    },
    {
      "cell_type": "code",
      "execution_count": 20,
      "metadata": {
        "id": "g0R0hT4K2yHV"
      },
      "outputs": [],
      "source": [
        "# save triplets as df to avoid crash troubles\n",
        "\n",
        "triplets_df = pd.DataFrame(list(triplets), columns=['anchor', 'positive', 'negative'])\n",
        "output_csv_path = '/content/drive/My Drive/Colab Notebooks/Final Project/triplets.csv'\n",
        "triplets_df.to_csv(output_csv_path, index=False)\n",
        "\n"
      ]
    },
    {
      "cell_type": "code",
      "execution_count": 21,
      "metadata": {
        "colab": {
          "base_uri": "https://localhost:8080/"
        },
        "id": "pa3yLQXqmZOL",
        "outputId": "6b64eb8a-51c9-4a3d-9b4e-1718536b1384"
      },
      "outputs": [
        {
          "output_type": "execute_result",
          "data": {
            "text/plain": [
              "(19328608, 3)"
            ]
          },
          "metadata": {},
          "execution_count": 21
        }
      ],
      "source": [
        "triplets_df.shape"
      ]
    },
    {
      "cell_type": "code",
      "execution_count": 22,
      "metadata": {
        "colab": {
          "base_uri": "https://localhost:8080/",
          "height": 178
        },
        "id": "bdQM-RyTps8f",
        "outputId": "f7c387d0-a0bd-49d1-e6f1-ba94cd13059d"
      },
      "outputs": [
        {
          "output_type": "execute_result",
          "data": {
            "text/plain": [
              "anchor      0\n",
              "positive    0\n",
              "negative    0\n",
              "dtype: int64"
            ],
            "text/html": [
              "<div>\n",
              "<style scoped>\n",
              "    .dataframe tbody tr th:only-of-type {\n",
              "        vertical-align: middle;\n",
              "    }\n",
              "\n",
              "    .dataframe tbody tr th {\n",
              "        vertical-align: top;\n",
              "    }\n",
              "\n",
              "    .dataframe thead th {\n",
              "        text-align: right;\n",
              "    }\n",
              "</style>\n",
              "<table border=\"1\" class=\"dataframe\">\n",
              "  <thead>\n",
              "    <tr style=\"text-align: right;\">\n",
              "      <th></th>\n",
              "      <th>0</th>\n",
              "    </tr>\n",
              "  </thead>\n",
              "  <tbody>\n",
              "    <tr>\n",
              "      <th>anchor</th>\n",
              "      <td>0</td>\n",
              "    </tr>\n",
              "    <tr>\n",
              "      <th>positive</th>\n",
              "      <td>0</td>\n",
              "    </tr>\n",
              "    <tr>\n",
              "      <th>negative</th>\n",
              "      <td>0</td>\n",
              "    </tr>\n",
              "  </tbody>\n",
              "</table>\n",
              "</div><br><label><b>dtype:</b> int64</label>"
            ]
          },
          "metadata": {},
          "execution_count": 22
        }
      ],
      "source": [
        "triplets_df.isna().sum()"
      ]
    },
    {
      "cell_type": "code",
      "execution_count": 23,
      "metadata": {
        "colab": {
          "base_uri": "https://localhost:8080/"
        },
        "id": "zmT4buhsnNT1",
        "outputId": "8e28dc6a-f300-4a67-d21f-bd71f0cb408f"
      },
      "outputs": [
        {
          "output_type": "execute_result",
          "data": {
            "text/plain": [
              "{'anchor': 1913703, 'positive': 1843301, 'negative': 1913621}"
            ]
          },
          "metadata": {},
          "execution_count": 23
        }
      ],
      "source": [
        "unique_counts = {col: triplets_df[col].nunique() for col in triplets_df.columns}\n",
        "unique_counts"
      ]
    },
    {
      "cell_type": "code",
      "source": [
        "# call triplets back to set - mount drive (1)\n",
        "\n",
        "import pandas as pd\n",
        "from google.colab import drive\n",
        "drive.mount('/content/drive')\n"
      ],
      "metadata": {
        "colab": {
          "base_uri": "https://localhost:8080/"
        },
        "id": "CqyoPlgB57HT",
        "outputId": "1b08ed66-e299-4038-9279-7aff694ac3c2"
      },
      "execution_count": 1,
      "outputs": [
        {
          "output_type": "stream",
          "name": "stdout",
          "text": [
            "Mounted at /content/drive\n"
          ]
        }
      ]
    },
    {
      "cell_type": "code",
      "source": [
        "# call triplets back to set - call data (2)\n",
        "\n",
        "\n",
        "csv_file_path = '/content/drive/My Drive/Colab Notebooks/Final Project/triplets.csv'\n",
        "loaded_triplets = pd.read_csv(csv_file_path)\n",
        "triplets = set(loaded_triplets.itertuples(index=False, name=None))"
      ],
      "metadata": {
        "id": "J1_NaBRPAbNt"
      },
      "execution_count": 4,
      "outputs": []
    },
    {
      "cell_type": "code",
      "source": [
        "# Balance triplet anchors\n",
        "\n",
        "# Count occurrences of each anchor\n",
        "anchor_counts = Counter([triplet[0] for triplet in triplets])\n",
        "\n",
        "# Group triplets by anchor\n",
        "anchor_to_triplets = {}\n",
        "for triplet in triplets:\n",
        "    anchor = triplet[0]\n",
        "    if anchor not in anchor_to_triplets:\n",
        "        anchor_to_triplets[anchor] = []\n",
        "    anchor_to_triplets[anchor].append(triplet)\n",
        "\n",
        "# Downsample triplets for dominant anchors\n",
        "balanced_triplets = []\n",
        "for anchor, triplet_list in anchor_to_triplets.items():\n",
        "    if len(triplet_list) > 100:\n",
        "        # Randomly sample to limit the number of triplets\n",
        "        balanced_triplets.extend(random.sample(triplet_list, 100))\n",
        "    else:\n",
        "        # Keep all triplets for non-dominant anchors\n",
        "        balanced_triplets.extend(triplet_list)\n",
        "\n",
        "triplets = balanced_triplets\n",
        "\n"
      ],
      "metadata": {
        "id": "S3rTTbqgxGpJ"
      },
      "execution_count": 9,
      "outputs": []
    },
    {
      "cell_type": "code",
      "execution_count": 5,
      "metadata": {
        "colab": {
          "base_uri": "https://localhost:8080/"
        },
        "id": "MF5X2VyxrLkT",
        "outputId": "29a5c1a4-1c7f-4903-871c-b2cb5aaa24b3"
      },
      "outputs": [
        {
          "output_type": "stream",
          "name": "stdout",
          "text": [
            "Number of unique anchors: 1913703\n",
            "Songs missing as anchors: 0\n",
            "Most common anchors: [('the antlers - putting the dog to sleep', 100), ('regina spektor - jessica', 100), ('rick ross - free mason', 100), ('ryuichi sakamoto - merry christmas mr. lawrence', 100), (\"the smiths - i know it's over - 2011 remastered version\", 100)]\n"
          ]
        }
      ],
      "source": [
        "from collections import Counter\n",
        "\n",
        "# Count how often each song appears as an anchor\n",
        "anchors = [triplet[0] for triplet in triplets]\n",
        "anchor_counts = Counter(anchors)\n",
        "\n",
        "# Compare with the original dataset\n",
        "all_songs = set(playlists_df['song_name'])\n",
        "missing_songs = all_songs - set(anchors)\n",
        "\n",
        "print(f\"Number of unique anchors: {len(set(anchors))}\")\n",
        "print(f\"Songs missing as anchors: {len(missing_songs)}\")\n",
        "print(f\"Most common anchors: {anchor_counts.most_common(5)}\")\n"
      ]
    },
    {
      "cell_type": "code",
      "source": [
        "# Count how often each positive pair appears\n",
        "positive_pairs = [(triplet[0], triplet[1]) for triplet in triplets]\n",
        "positive_pair_counts = Counter(positive_pairs)\n",
        "\n",
        "print(f\"Number of unique positive pairs: {len(set(positive_pairs))}\")\n",
        "print(f\"Most common positive pairs: {positive_pair_counts.most_common(5)}\")\n"
      ],
      "metadata": {
        "colab": {
          "base_uri": "https://localhost:8080/"
        },
        "id": "CbigJgP1zOUt",
        "outputId": "54848673-1b66-41e6-b4a9-f8a620e559fb"
      },
      "execution_count": 12,
      "outputs": [
        {
          "output_type": "stream",
          "name": "stdout",
          "text": [
            "Number of unique positive pairs: 18206256\n",
            "Most common positive pairs: [(('lorde - still sane', 'lorde - tennis court'), 16), (('childish gambino - poke', 'childish gambino - v. 3005 - beach picnic version'), 15), (('brian eno - 1/2 - 2004 digital remaster', 'brian eno - 2/2 - 2004 digital remaster'), 15), (('godspeed you! black emperor - their helicopters sing', 'godspeed you! black emperor - mladic'), 14), (('brian eno - 1/2 - 2004 digital remaster', 'brian eno - 1/1 - 2004 digital remaster'), 14)]\n"
          ]
        }
      ]
    },
    {
      "cell_type": "code",
      "source": [
        "# Count how often each song appears as a negative\n",
        "negatives = [triplet[2] for triplet in triplets]\n",
        "negative_counts = Counter(negatives)\n",
        "\n",
        "print(f\"Number of unique negatives: {len(set(negatives))}\")\n",
        "print(f\"Most common negatives: {negative_counts.most_common(5)}\")\n"
      ],
      "metadata": {
        "colab": {
          "base_uri": "https://localhost:8080/"
        },
        "id": "aPAiR_oJzyBm",
        "outputId": "3de68d2c-c831-4581-c5c3-f8d0700fcb4d"
      },
      "execution_count": 13,
      "outputs": [
        {
          "output_type": "stream",
          "name": "stdout",
          "text": [
            "Number of unique negatives: 1913621\n",
            "Most common negatives: [(\"the ramones - we're a happy family\", 29), ('daniel givens - transitional', 29), ('andrew bird - railroad bill', 28), (\"shakin' stevens - rockin' little christmas - remastered version\", 28), ('woods of desolation - this autumn light', 28)]\n"
          ]
        }
      ]
    },
    {
      "cell_type": "code",
      "source": [
        "# Count how many playlists contribute to triplets\n",
        "playlist_ids_in_triplets = set(playlists_df[playlists_df['song_name'].isin(anchors)]['unq_playlist_name'])\n",
        "\n",
        "print(f\"Number of playlists in dataset: {playlists_df['unq_playlist_name'].nunique()}\")\n",
        "print(f\"Number of playlists in triplets: {len(playlist_ids_in_triplets)}\")\n"
      ],
      "metadata": {
        "colab": {
          "base_uri": "https://localhost:8080/"
        },
        "id": "tbjdlJy-0A9J",
        "outputId": "6d05709c-317d-4d23-92d9-c15920edb86d"
      },
      "execution_count": 15,
      "outputs": [
        {
          "output_type": "stream",
          "name": "stdout",
          "text": [
            "Number of playlists in dataset: 214394\n",
            "Number of playlists in triplets: 214394\n"
          ]
        }
      ]
    },
    {
      "cell_type": "code",
      "source": [
        "print(f\"Total triplets: {len(triplets)}\")\n",
        "print(f\"Unique triplets: {len(set(triplets))}\")\n",
        "print(f\"Proportion of unique triplets: {len(set(triplets)) / len(triplets):.2f}\")\n"
      ],
      "metadata": {
        "colab": {
          "base_uri": "https://localhost:8080/"
        },
        "id": "0E9E9NZ-KJS8",
        "outputId": "350d35f8-6fd5-43f2-ba2f-d0806e3cc6f3"
      },
      "execution_count": 7,
      "outputs": [
        {
          "output_type": "stream",
          "name": "stdout",
          "text": [
            "Total triplets: 19328608\n",
            "Unique triplets: 19328608\n",
            "Proportion of unique triplets: 1.00\n"
          ]
        }
      ]
    },
    {
      "cell_type": "code",
      "source": [
        "from collections import Counter\n",
        "import matplotlib.pyplot as plt\n",
        "import pandas as pd\n",
        "\n",
        "def check_triplet_balance_ratios(df, triplets):\n",
        "    \"\"\"\n",
        "    Check balance of triplets by analyzing song and playlist ratios.\n",
        "\n",
        "    Parameters:\n",
        "    - df: Original DataFrame with 'unq_playlist_name' and 'song_name'.\n",
        "    - triplets: List of generated triplets (anchor, positive, negative).\n",
        "\n",
        "    Returns:\n",
        "    - None. Displays summary statistics and visualizations.\n",
        "    \"\"\"\n",
        "    # Extract anchor, positive, and negative songs\n",
        "    anchors = [triplet[0] for triplet in triplets]\n",
        "    positives = [triplet[1] for triplet in triplets]\n",
        "    negatives = [triplet[2] for triplet in triplets]\n",
        "\n",
        "    # Count occurrences in triplets\n",
        "    anchor_counts = Counter(anchors)\n",
        "    positive_counts = Counter(positives)\n",
        "    negative_counts = Counter(negatives)\n",
        "\n",
        "    # Count occurrences in the dataset\n",
        "    dataset_song_counts = df['song_name'].value_counts()\n",
        "    total_songs = len(dataset_song_counts)\n",
        "\n",
        "    # Playlist coverage\n",
        "    total_playlists = df['unq_playlist_name'].nunique()\n",
        "    playlists_in_triplets = df[df['song_name'].isin(anchors)]['unq_playlist_name'].nunique()\n",
        "    playlist_coverage_ratio = playlists_in_triplets / total_playlists\n",
        "\n",
        "    # Unique vs. Total Triplets Ratio\n",
        "    unique_triplets_ratio = len(set(triplets)) / len(triplets)\n",
        "\n",
        "    # Display summary statistics\n",
        "    print(f\"Total songs in dataset: {total_songs}\")\n",
        "    print(f\"Total playlists in dataset: {total_playlists}\")\n",
        "    print(f\"Playlists contributing to triplets: {playlists_in_triplets} ({playlist_coverage_ratio:.2%})\")\n",
        "    print(f\"Unique triplets: {len(set(triplets))} / Total triplets: {len(triplets)} ({unique_triplets_ratio:.2%})\")\n",
        "\n",
        "\n",
        "check_triplet_balance_ratios(playlists_df, triplets)\n"
      ],
      "metadata": {
        "colab": {
          "base_uri": "https://localhost:8080/"
        },
        "id": "XnOnezX61vHb",
        "outputId": "08ca192a-926e-4ebc-f2ab-18f4f8b83507"
      },
      "execution_count": 5,
      "outputs": [
        {
          "output_type": "stream",
          "name": "stdout",
          "text": [
            "Total songs in dataset: 1913703\n",
            "Total playlists in dataset: 214394\n",
            "Playlists contributing to triplets: 214394 (100.00%)\n",
            "Unique triplets: 19328608 / Total triplets: 19328608 (100.00%)\n"
          ]
        }
      ]
    },
    {
      "cell_type": "code",
      "source": [
        "def check_triplet_balance_ratios_light(df, triplets, top_k=10):\n",
        "    \"\"\"\n",
        "    Check balance of triplets with summary statistics and light visualizations.\n",
        "\n",
        "    Parameters:\n",
        "    - df: Original DataFrame with 'unq_playlist_name' and 'song_name'.\n",
        "    - triplets: List of generated triplets (anchor, positive, negative).\n",
        "    - top_k: Number of top and bottom songs to display in statistics.\n",
        "\n",
        "    Returns:\n",
        "    - None. Prints summary statistics and displays key insights.\n",
        "    \"\"\"\n",
        "    from collections import Counter\n",
        "    import pandas as pd\n",
        "\n",
        "    # Extract anchor, positive, and negative songs\n",
        "    anchors = [triplet[0] for triplet in triplets]\n",
        "    positives = [triplet[1] for triplet in triplets]\n",
        "    negatives = [triplet[2] for triplet in triplets]\n",
        "\n",
        "    # Count occurrences in triplets\n",
        "    anchor_counts = Counter(anchors)\n",
        "    positive_counts = Counter(positives)\n",
        "    negative_counts = Counter(negatives)\n",
        "\n",
        "    # Count occurrences in the dataset\n",
        "    dataset_song_counts = df['song_name'].value_counts()\n",
        "\n",
        "    # Calculate ratios\n",
        "    song_ratios = pd.DataFrame({\n",
        "        'song_name': dataset_song_counts.index,\n",
        "        'dataset_ratio': dataset_song_counts / dataset_song_counts.sum(),\n",
        "        'anchor_ratio': [anchor_counts[song] / len(anchors) if song in anchor_counts else 0 for song in dataset_song_counts.index],\n",
        "        'positive_ratio': [positive_counts[song] / len(positives) if song in positive_counts else 0 for song in dataset_song_counts.index],\n",
        "        'negative_ratio': [negative_counts[song] / len(negatives) if song in negative_counts else 0 for song in dataset_song_counts.index],\n",
        "    })\n",
        "\n",
        "    # Summary statistics\n",
        "    print(\"Summary Statistics:\")\n",
        "    print(song_ratios.describe())\n",
        "\n",
        "    # Top-K and Bottom-K Songs\n",
        "    print(\"\\nTop-K Most Common Anchors:\")\n",
        "    print(song_ratios.nlargest(top_k, 'anchor_ratio')[['song_name', 'anchor_ratio']])\n",
        "\n",
        "    print(\"\\nTop-K Most Common Positives:\")\n",
        "    print(song_ratios.nlargest(top_k, 'positive_ratio')[['song_name', 'positive_ratio']])\n",
        "\n",
        "    print(\"\\nTop-K Most Common Negatives:\")\n",
        "    print(song_ratios.nlargest(top_k, 'negative_ratio')[['song_name', 'negative_ratio']])\n",
        "\n",
        "    print(\"\\nBottom-K Least Common Anchors:\")\n",
        "    print(song_ratios.nsmallest(top_k, 'anchor_ratio')[['song_name', 'anchor_ratio']])\n",
        "\n",
        "    # Optionally, plot subsampled ratios\n",
        "    subset_ratios = song_ratios.head(500)  # Limit to top 500 for plotting\n",
        "    subset_ratios.plot(x='song_name', y=['dataset_ratio', 'anchor_ratio', 'positive_ratio', 'negative_ratio'], kind='line', figsize=(12, 6))\n",
        "\n",
        "check_triplet_balance_ratios_light(playlists_df, triplets)\n",
        "\n"
      ],
      "metadata": {
        "colab": {
          "base_uri": "https://localhost:8080/",
          "height": 1000
        },
        "id": "m5QkBbwWC7Xu",
        "outputId": "2e9d959e-88d6-4043-cdb3-e022f54e29ae"
      },
      "execution_count": 6,
      "outputs": [
        {
          "output_type": "stream",
          "name": "stdout",
          "text": [
            "Summary Statistics:\n",
            "       dataset_ratio  anchor_ratio  positive_ratio  negative_ratio\n",
            "count   1.913703e+06  1.913703e+06    1.913703e+06    1.913703e+06\n",
            "mean    5.225471e-07  5.225471e-07    5.225471e-07    5.225471e-07\n",
            "std     2.454709e-06  9.064188e-07    1.658527e-06    1.645610e-07\n",
            "min     1.132784e-07  1.034736e-07    0.000000e+00    0.000000e+00\n",
            "25%     1.132784e-07  1.552103e-07    1.034736e-07    4.138943e-07\n",
            "50%     1.132784e-07  1.552103e-07    2.069471e-07    5.173678e-07\n",
            "75%     3.398353e-07  4.656310e-07    4.138943e-07    6.208414e-07\n",
            "max     2.555561e-04  5.173678e-06    1.555725e-04    1.500367e-06\n",
            "\n",
            "Top-K Most Common Anchors:\n",
            "                                                                                            song_name  \\\n",
            "song_name                                                                                               \n",
            "m83 - midnight city                                                               m83 - midnight city   \n",
            "daft punk - get lucky - radio edit                                 daft punk - get lucky - radio edit   \n",
            "imagine dragons - radioactive                                           imagine dragons - radioactive   \n",
            "avicii - wake me up                                                               avicii - wake me up   \n",
            "lorde - royals                                                                         lorde - royals   \n",
            "of monsters and men - little talks                                 of monsters and men - little talks   \n",
            "the lumineers - ho hey                                                         the lumineers - ho hey   \n",
            "macklemore & ryan lewis - can't hold us - feat....  macklemore & ryan lewis - can't hold us - feat...   \n",
            "bastille - pompeii                                                                 bastille - pompeii   \n",
            "robin thicke - blurred lines                                             robin thicke - blurred lines   \n",
            "\n",
            "                                                    anchor_ratio  \n",
            "song_name                                                         \n",
            "m83 - midnight city                                     0.000005  \n",
            "daft punk - get lucky - radio edit                      0.000005  \n",
            "imagine dragons - radioactive                           0.000005  \n",
            "avicii - wake me up                                     0.000005  \n",
            "lorde - royals                                          0.000005  \n",
            "of monsters and men - little talks                      0.000005  \n",
            "the lumineers - ho hey                                  0.000005  \n",
            "macklemore & ryan lewis - can't hold us - feat....      0.000005  \n",
            "bastille - pompeii                                      0.000005  \n",
            "robin thicke - blurred lines                            0.000005  \n",
            "\n",
            "Top-K Most Common Positives:\n",
            "                                                                                            song_name  \\\n",
            "song_name                                                                                               \n",
            "m83 - midnight city                                                               m83 - midnight city   \n",
            "daft punk - get lucky - radio edit                                 daft punk - get lucky - radio edit   \n",
            "avicii - wake me up                                                               avicii - wake me up   \n",
            "imagine dragons - radioactive                                           imagine dragons - radioactive   \n",
            "lorde - royals                                                                         lorde - royals   \n",
            "of monsters and men - little talks                                 of monsters and men - little talks   \n",
            "the lumineers - ho hey                                                         the lumineers - ho hey   \n",
            "macklemore & ryan lewis - can't hold us - feat....  macklemore & ryan lewis - can't hold us - feat...   \n",
            "gotye - somebody that i used to know                             gotye - somebody that i used to know   \n",
            "robin thicke - blurred lines                                             robin thicke - blurred lines   \n",
            "\n",
            "                                                    positive_ratio  \n",
            "song_name                                                           \n",
            "m83 - midnight city                                       0.000156  \n",
            "daft punk - get lucky - radio edit                        0.000146  \n",
            "avicii - wake me up                                       0.000134  \n",
            "imagine dragons - radioactive                             0.000123  \n",
            "lorde - royals                                            0.000120  \n",
            "of monsters and men - little talks                        0.000119  \n",
            "the lumineers - ho hey                                    0.000119  \n",
            "macklemore & ryan lewis - can't hold us - feat....        0.000114  \n",
            "gotye - somebody that i used to know                      0.000111  \n",
            "robin thicke - blurred lines                              0.000110  \n",
            "\n",
            "Top-K Most Common Negatives:\n",
            "                                                                                            song_name  \\\n",
            "song_name                                                                                               \n",
            "the ramones - we're a happy family                                 the ramones - we're a happy family   \n",
            "daniel givens - transitional                                             daniel givens - transitional   \n",
            "andrew bird - railroad bill                                               andrew bird - railroad bill   \n",
            "stephen malkmus & the jicks - long hard book             stephen malkmus & the jicks - long hard book   \n",
            "halo nova - lady vengeance - original mix                   halo nova - lady vengeance - original mix   \n",
            "shakin' stevens - rockin' little christmas - re...  shakin' stevens - rockin' little christmas - r...   \n",
            "woods of desolation - this autumn light                       woods of desolation - this autumn light   \n",
            "crooklyn dub outernational - the soundless hum ...  crooklyn dub outernational - the soundless hum...   \n",
            "white lies - turn the bells                                               white lies - turn the bells   \n",
            "miguel bose - este mundo va [dueto 2007]                     miguel bose - este mundo va [dueto 2007]   \n",
            "\n",
            "                                                    negative_ratio  \n",
            "song_name                                                           \n",
            "the ramones - we're a happy family                        0.000002  \n",
            "daniel givens - transitional                              0.000002  \n",
            "andrew bird - railroad bill                               0.000001  \n",
            "stephen malkmus & the jicks - long hard book              0.000001  \n",
            "halo nova - lady vengeance - original mix                 0.000001  \n",
            "shakin' stevens - rockin' little christmas - re...        0.000001  \n",
            "woods of desolation - this autumn light                   0.000001  \n",
            "crooklyn dub outernational - the soundless hum ...        0.000001  \n",
            "white lies - turn the bells                               0.000001  \n",
            "miguel bose - este mundo va [dueto 2007]                  0.000001  \n",
            "\n",
            "Bottom-K Least Common Anchors:\n",
            "                                                                                            song_name  \\\n",
            "song_name                                                                                               \n",
            "kid cudi - catch up                                                               kid cudi - catch up   \n",
            "the radio stars - this train is bound for glory       the radio stars - this train is bound for glory   \n",
            "no church in the wild - no church in the wild           no church in the wild - no church in the wild   \n",
            "old crow medicine show - wagon wheel (live)               old crow medicine show - wagon wheel (live)   \n",
            "grown ups - well water                                                         grown ups - well water   \n",
            "rachel's - forgiveness                                                         rachel's - forgiveness   \n",
            "anna oxa - caminando, caminando (camminando, ca...  anna oxa - caminando, caminando (camminando, c...   \n",
            "mango - chissa se nevica                                                     mango - chissa se nevica   \n",
            "jimmy c. newman - big mamou                                               jimmy c. newman - big mamou   \n",
            "michael doucet - parley-nous a boire                             michael doucet - parley-nous a boire   \n",
            "\n",
            "                                                    anchor_ratio  \n",
            "song_name                                                         \n",
            "kid cudi - catch up                                 1.034736e-07  \n",
            "the radio stars - this train is bound for glory     1.034736e-07  \n",
            "no church in the wild - no church in the wild       1.034736e-07  \n",
            "old crow medicine show - wagon wheel (live)         1.034736e-07  \n",
            "grown ups - well water                              1.034736e-07  \n",
            "rachel's - forgiveness                              1.034736e-07  \n",
            "anna oxa - caminando, caminando (camminando, ca...  1.034736e-07  \n",
            "mango - chissa se nevica                            1.034736e-07  \n",
            "jimmy c. newman - big mamou                         1.034736e-07  \n",
            "michael doucet - parley-nous a boire                1.034736e-07  \n"
          ]
        },
        {
          "output_type": "display_data",
          "data": {
            "text/plain": [
              "<Figure size 1200x600 with 1 Axes>"
            ],
            "image/png": "[encoded data removed]"
          },
          "metadata": {}
        }
      ]
    }
  ],
  "metadata": {
    "colab": {
      "provenance": [],
      "authorship_tag": "ABX9TyPL26GYVYUe87nZs1Igpeqy",
      "include_colab_link": true
    },
    "kernelspec": {
      "display_name": "Python 3",
      "name": "python3"
    },
    "language_info": {
      "name": "python"
    }
  },
  "nbformat": 4,
  "nbformat_minor": 0
}