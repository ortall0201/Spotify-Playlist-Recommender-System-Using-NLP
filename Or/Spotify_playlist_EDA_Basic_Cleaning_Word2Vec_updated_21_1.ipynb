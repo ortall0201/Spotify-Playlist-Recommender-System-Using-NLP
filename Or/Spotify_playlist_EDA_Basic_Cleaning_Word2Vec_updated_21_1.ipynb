{
  "cells": [
    {
      "cell_type": "markdown",
      "metadata": {
        "id": "view-in-github"
      },
      "source": [
        "<a href=\"https://colab.research.google.com/github/ortall0201/Spotify-Playlist-Recommender-System-Using-NLP/blob/main/Manor/Spotify_playlist_EDA_Basic_Cleaning.ipynb\" target=\"_parent\"><img src=\"https://colab.research.google.com/assets/colab-badge.svg\" alt=\"Open In Colab\"/></a>"
      ]
    },
    {
      "cell_type": "markdown",
      "metadata": {
        "id": "h_t2kB8dhV1Q"
      },
      "source": [
        "# Primary Data Structuring\n",
        "* Dataset structure consists of four columns - user_id, artist, track name, and playlist name - given by the user\n",
        "* Nevertheless it appeard that original file consisted of rows which some had many hyphens and quotation marks, making them appear as being of more or less than 4 columns.\n",
        "* This was dealt with keeping the lines that were made of four elements, and then ensuring each element was indeed what it was intended to be.\n",
        "\n"
      ]
    },
    {
      "cell_type": "code",
      "execution_count": null,
      "metadata": {
        "colab": {
          "base_uri": "https://localhost:8080/"
        },
        "id": "_bVQDUfV1W7i",
        "outputId": "3bd1c8d4-937a-4bcd-a3c4-7b754f9621a1"
      },
      "outputs": [
        {
          "name": "stdout",
          "output_type": "stream",
          "text": [
            "Drive already mounted at /content/drive; to attempt to forcibly remount, call drive.mount(\"/content/drive\", force_remount=True).\n"
          ]
        }
      ],
      "source": [
        "import pandas as pd\n",
        "\n",
        "from google.colab import drive\n",
        "drive.mount('/content/drive')\n",
        "csv_file_path = '/content/drive/My Drive/Colab Notebooks/Final Project/spotify_dataset.csv'\n",
        "\n"
      ]
    },
    {
      "cell_type": "code",
      "execution_count": null,
      "metadata": {
        "colab": {
          "base_uri": "https://localhost:8080/",
          "height": 211
        },
        "id": "xNat39MC5Fbq",
        "outputId": "471021e9-38f5-4bd4-d68e-208bd11ac3f9"
      },
      "outputs": [
        {
          "ename": "KeyboardInterrupt",
          "evalue": "",
          "output_type": "error",
          "traceback": [
            "\u001b[0;31m---------------------------------------------------------------------------\u001b[0m",
            "\u001b[0;31mKeyboardInterrupt\u001b[0m                         Traceback (most recent call last)",
            "\u001b[0;32m<ipython-input-11-cb487d851b70>\u001b[0m in \u001b[0;36m<cell line: 9>\u001b[0;34m()\u001b[0m\n\u001b[1;32m     11\u001b[0m     \u001b[0mheaders\u001b[0m \u001b[0;34m=\u001b[0m \u001b[0mnext\u001b[0m\u001b[0;34m(\u001b[0m\u001b[0mreader\u001b[0m\u001b[0;34m)\u001b[0m  \u001b[0;31m# Read the header\u001b[0m\u001b[0;34m\u001b[0m\u001b[0;34m\u001b[0m\u001b[0m\n\u001b[1;32m     12\u001b[0m     \u001b[0;32mfor\u001b[0m \u001b[0mrow\u001b[0m \u001b[0;32min\u001b[0m \u001b[0mreader\u001b[0m\u001b[0;34m:\u001b[0m\u001b[0;34m\u001b[0m\u001b[0;34m\u001b[0m\u001b[0m\n\u001b[0;32m---> 13\u001b[0;31m         \u001b[0;32mif\u001b[0m \u001b[0mlen\u001b[0m\u001b[0;34m(\u001b[0m\u001b[0mrow\u001b[0m\u001b[0;34m)\u001b[0m \u001b[0;34m==\u001b[0m \u001b[0;36m4\u001b[0m\u001b[0;34m:\u001b[0m  \u001b[0;31m# Keep only rows with exactly 4 columns\u001b[0m\u001b[0;34m\u001b[0m\u001b[0;34m\u001b[0m\u001b[0m\n\u001b[0m\u001b[1;32m     14\u001b[0m             \u001b[0mvalid_rows\u001b[0m\u001b[0;34m.\u001b[0m\u001b[0mappend\u001b[0m\u001b[0;34m(\u001b[0m\u001b[0mrow\u001b[0m\u001b[0;34m)\u001b[0m\u001b[0;34m\u001b[0m\u001b[0;34m\u001b[0m\u001b[0m\n\u001b[1;32m     15\u001b[0m \u001b[0;34m\u001b[0m\u001b[0m\n",
            "\u001b[0;31mKeyboardInterrupt\u001b[0m: "
          ]
        }
      ],
      "source": [
        "import csv\n",
        "\n",
        "# First step - keeping rows of 4 elements only\n",
        "\n",
        "# List to store valid rows\n",
        "valid_rows = []\n",
        "\n",
        "# Open the CSV file and filter for rows with 4 columns\n",
        "with open(csv_file_path, 'r', encoding='utf-8') as file:\n",
        "    reader = csv.reader(file)\n",
        "    headers = next(reader)  # Read the header\n",
        "    for row in reader:\n",
        "        if len(row) == 4:  # Keep only rows with exactly 4 columns\n",
        "            valid_rows.append(row)\n",
        "\n",
        "# Convert valid rows to a DataFrame\n",
        "df_valid = pd.DataFrame(valid_rows, columns=headers)\n",
        "\n",
        "print(len(df_valid))\n",
        "\n",
        "# Display the first few rows\n",
        "df_valid.head(10)\n",
        "\n"
      ]
    },
    {
      "cell_type": "code",
      "execution_count": null,
      "metadata": {
        "colab": {
          "base_uri": "https://localhost:8080/",
          "height": 412
        },
        "id": "X22fcy2Z6vcQ",
        "outputId": "063a770e-5dbd-4e30-d66c-52d2bedd05df"
      },
      "outputs": [
        {
          "name": "stderr",
          "output_type": "stream",
          "text": [
            "<ipython-input-10-06fd0373b33a>:4: FutureWarning: DataFrame.applymap has been deprecated. Use DataFrame.map instead.\n",
            "  df_cleaned = df_valid.applymap(lambda x: x.replace('\"\"', '') if isinstance(x, str) else x)\n"
          ]
        },
        {
          "ename": "KeyboardInterrupt",
          "evalue": "",
          "output_type": "error",
          "traceback": [
            "\u001b[0;31m---------------------------------------------------------------------------\u001b[0m",
            "\u001b[0;31mKeyboardInterrupt\u001b[0m                         Traceback (most recent call last)",
            "\u001b[0;32m<ipython-input-10-06fd0373b33a>\u001b[0m in \u001b[0;36m<cell line: 7>\u001b[0;34m()\u001b[0m\n\u001b[1;32m      5\u001b[0m \u001b[0;34m\u001b[0m\u001b[0m\n\u001b[1;32m      6\u001b[0m \u001b[0;31m# Filter rows where any column contains a single quotation mark - sign of a corrupted line (\")\u001b[0m\u001b[0;34m\u001b[0m\u001b[0;34m\u001b[0m\u001b[0m\n\u001b[0;32m----> 7\u001b[0;31m \u001b[0mrows_with_quotes\u001b[0m \u001b[0;34m=\u001b[0m \u001b[0mdf_cleaned\u001b[0m\u001b[0;34m[\u001b[0m\u001b[0mdf_cleaned\u001b[0m\u001b[0;34m.\u001b[0m\u001b[0mapply\u001b[0m\u001b[0;34m(\u001b[0m\u001b[0;32mlambda\u001b[0m \u001b[0mx\u001b[0m\u001b[0;34m:\u001b[0m \u001b[0mx\u001b[0m\u001b[0;34m.\u001b[0m\u001b[0mastype\u001b[0m\u001b[0;34m(\u001b[0m\u001b[0mstr\u001b[0m\u001b[0;34m)\u001b[0m\u001b[0;34m.\u001b[0m\u001b[0mstr\u001b[0m\u001b[0;34m.\u001b[0m\u001b[0mcontains\u001b[0m\u001b[0;34m(\u001b[0m\u001b[0;34m'\"'\u001b[0m\u001b[0;34m)\u001b[0m\u001b[0;34m.\u001b[0m\u001b[0many\u001b[0m\u001b[0;34m(\u001b[0m\u001b[0;34m)\u001b[0m\u001b[0;34m,\u001b[0m \u001b[0maxis\u001b[0m\u001b[0;34m=\u001b[0m\u001b[0;36m1\u001b[0m\u001b[0;34m)\u001b[0m\u001b[0;34m]\u001b[0m\u001b[0;34m\u001b[0m\u001b[0;34m\u001b[0m\u001b[0m\n\u001b[0m\u001b[1;32m      8\u001b[0m \u001b[0;34m\u001b[0m\u001b[0m\n\u001b[1;32m      9\u001b[0m \u001b[0;31m# Count the number of corrupted rows\u001b[0m\u001b[0;34m\u001b[0m\u001b[0;34m\u001b[0m\u001b[0m\n",
            "\u001b[0;32m/usr/local/lib/python3.10/dist-packages/pandas/core/frame.py\u001b[0m in \u001b[0;36mapply\u001b[0;34m(self, func, axis, raw, result_type, args, by_row, engine, engine_kwargs, **kwargs)\u001b[0m\n\u001b[1;32m  10372\u001b[0m             \u001b[0mkwargs\u001b[0m\u001b[0;34m=\u001b[0m\u001b[0mkwargs\u001b[0m\u001b[0;34m,\u001b[0m\u001b[0;34m\u001b[0m\u001b[0;34m\u001b[0m\u001b[0m\n\u001b[1;32m  10373\u001b[0m         )\n\u001b[0;32m> 10374\u001b[0;31m         \u001b[0;32mreturn\u001b[0m \u001b[0mop\u001b[0m\u001b[0;34m.\u001b[0m\u001b[0mapply\u001b[0m\u001b[0;34m(\u001b[0m\u001b[0;34m)\u001b[0m\u001b[0;34m.\u001b[0m\u001b[0m__finalize__\u001b[0m\u001b[0;34m(\u001b[0m\u001b[0mself\u001b[0m\u001b[0;34m,\u001b[0m \u001b[0mmethod\u001b[0m\u001b[0;34m=\u001b[0m\u001b[0;34m\"apply\"\u001b[0m\u001b[0;34m)\u001b[0m\u001b[0;34m\u001b[0m\u001b[0;34m\u001b[0m\u001b[0m\n\u001b[0m\u001b[1;32m  10375\u001b[0m \u001b[0;34m\u001b[0m\u001b[0m\n\u001b[1;32m  10376\u001b[0m     def map(\n",
            "\u001b[0;32m/usr/local/lib/python3.10/dist-packages/pandas/core/apply.py\u001b[0m in \u001b[0;36mapply\u001b[0;34m(self)\u001b[0m\n\u001b[1;32m    914\u001b[0m             \u001b[0;32mreturn\u001b[0m \u001b[0mself\u001b[0m\u001b[0;34m.\u001b[0m\u001b[0mapply_raw\u001b[0m\u001b[0;34m(\u001b[0m\u001b[0mengine\u001b[0m\u001b[0;34m=\u001b[0m\u001b[0mself\u001b[0m\u001b[0;34m.\u001b[0m\u001b[0mengine\u001b[0m\u001b[0;34m,\u001b[0m \u001b[0mengine_kwargs\u001b[0m\u001b[0;34m=\u001b[0m\u001b[0mself\u001b[0m\u001b[0;34m.\u001b[0m\u001b[0mengine_kwargs\u001b[0m\u001b[0;34m)\u001b[0m\u001b[0;34m\u001b[0m\u001b[0;34m\u001b[0m\u001b[0m\n\u001b[1;32m    915\u001b[0m \u001b[0;34m\u001b[0m\u001b[0m\n\u001b[0;32m--> 916\u001b[0;31m         \u001b[0;32mreturn\u001b[0m \u001b[0mself\u001b[0m\u001b[0;34m.\u001b[0m\u001b[0mapply_standard\u001b[0m\u001b[0;34m(\u001b[0m\u001b[0;34m)\u001b[0m\u001b[0;34m\u001b[0m\u001b[0;34m\u001b[0m\u001b[0m\n\u001b[0m\u001b[1;32m    917\u001b[0m \u001b[0;34m\u001b[0m\u001b[0m\n\u001b[1;32m    918\u001b[0m     \u001b[0;32mdef\u001b[0m \u001b[0magg\u001b[0m\u001b[0;34m(\u001b[0m\u001b[0mself\u001b[0m\u001b[0;34m)\u001b[0m\u001b[0;34m:\u001b[0m\u001b[0;34m\u001b[0m\u001b[0;34m\u001b[0m\u001b[0m\n",
            "\u001b[0;32m/usr/local/lib/python3.10/dist-packages/pandas/core/apply.py\u001b[0m in \u001b[0;36mapply_standard\u001b[0;34m(self)\u001b[0m\n\u001b[1;32m   1061\u001b[0m     \u001b[0;32mdef\u001b[0m \u001b[0mapply_standard\u001b[0m\u001b[0;34m(\u001b[0m\u001b[0mself\u001b[0m\u001b[0;34m)\u001b[0m\u001b[0;34m:\u001b[0m\u001b[0;34m\u001b[0m\u001b[0;34m\u001b[0m\u001b[0m\n\u001b[1;32m   1062\u001b[0m         \u001b[0;32mif\u001b[0m \u001b[0mself\u001b[0m\u001b[0;34m.\u001b[0m\u001b[0mengine\u001b[0m \u001b[0;34m==\u001b[0m \u001b[0;34m\"python\"\u001b[0m\u001b[0;34m:\u001b[0m\u001b[0;34m\u001b[0m\u001b[0;34m\u001b[0m\u001b[0m\n\u001b[0;32m-> 1063\u001b[0;31m             \u001b[0mresults\u001b[0m\u001b[0;34m,\u001b[0m \u001b[0mres_index\u001b[0m \u001b[0;34m=\u001b[0m \u001b[0mself\u001b[0m\u001b[0;34m.\u001b[0m\u001b[0mapply_series_generator\u001b[0m\u001b[0;34m(\u001b[0m\u001b[0;34m)\u001b[0m\u001b[0;34m\u001b[0m\u001b[0;34m\u001b[0m\u001b[0m\n\u001b[0m\u001b[1;32m   1064\u001b[0m         \u001b[0;32melse\u001b[0m\u001b[0;34m:\u001b[0m\u001b[0;34m\u001b[0m\u001b[0;34m\u001b[0m\u001b[0m\n\u001b[1;32m   1065\u001b[0m             \u001b[0mresults\u001b[0m\u001b[0;34m,\u001b[0m \u001b[0mres_index\u001b[0m \u001b[0;34m=\u001b[0m \u001b[0mself\u001b[0m\u001b[0;34m.\u001b[0m\u001b[0mapply_series_numba\u001b[0m\u001b[0;34m(\u001b[0m\u001b[0;34m)\u001b[0m\u001b[0;34m\u001b[0m\u001b[0;34m\u001b[0m\u001b[0m\n",
            "\u001b[0;32m/usr/local/lib/python3.10/dist-packages/pandas/core/apply.py\u001b[0m in \u001b[0;36mapply_series_generator\u001b[0;34m(self)\u001b[0m\n\u001b[1;32m   1077\u001b[0m \u001b[0;34m\u001b[0m\u001b[0m\n\u001b[1;32m   1078\u001b[0m         \u001b[0;32mwith\u001b[0m \u001b[0moption_context\u001b[0m\u001b[0;34m(\u001b[0m\u001b[0;34m\"mode.chained_assignment\"\u001b[0m\u001b[0;34m,\u001b[0m \u001b[0;32mNone\u001b[0m\u001b[0;34m)\u001b[0m\u001b[0;34m:\u001b[0m\u001b[0;34m\u001b[0m\u001b[0;34m\u001b[0m\u001b[0m\n\u001b[0;32m-> 1079\u001b[0;31m             \u001b[0;32mfor\u001b[0m \u001b[0mi\u001b[0m\u001b[0;34m,\u001b[0m \u001b[0mv\u001b[0m \u001b[0;32min\u001b[0m \u001b[0menumerate\u001b[0m\u001b[0;34m(\u001b[0m\u001b[0mseries_gen\u001b[0m\u001b[0;34m)\u001b[0m\u001b[0;34m:\u001b[0m\u001b[0;34m\u001b[0m\u001b[0;34m\u001b[0m\u001b[0m\n\u001b[0m\u001b[1;32m   1080\u001b[0m                 \u001b[0;31m# ignore SettingWithCopy here in case the user mutates\u001b[0m\u001b[0;34m\u001b[0m\u001b[0;34m\u001b[0m\u001b[0m\n\u001b[1;32m   1081\u001b[0m                 \u001b[0mresults\u001b[0m\u001b[0;34m[\u001b[0m\u001b[0mi\u001b[0m\u001b[0;34m]\u001b[0m \u001b[0;34m=\u001b[0m \u001b[0mself\u001b[0m\u001b[0;34m.\u001b[0m\u001b[0mfunc\u001b[0m\u001b[0;34m(\u001b[0m\u001b[0mv\u001b[0m\u001b[0;34m,\u001b[0m \u001b[0;34m*\u001b[0m\u001b[0mself\u001b[0m\u001b[0;34m.\u001b[0m\u001b[0margs\u001b[0m\u001b[0;34m,\u001b[0m \u001b[0;34m**\u001b[0m\u001b[0mself\u001b[0m\u001b[0;34m.\u001b[0m\u001b[0mkwargs\u001b[0m\u001b[0;34m)\u001b[0m\u001b[0;34m\u001b[0m\u001b[0;34m\u001b[0m\u001b[0m\n",
            "\u001b[0;32m/usr/local/lib/python3.10/dist-packages/pandas/core/apply.py\u001b[0m in \u001b[0;36mseries_generator\u001b[0;34m(self)\u001b[0m\n\u001b[1;32m   1269\u001b[0m                 \u001b[0;31m# GH#35462 re-pin mgr in case setitem changed it\u001b[0m\u001b[0;34m\u001b[0m\u001b[0;34m\u001b[0m\u001b[0m\n\u001b[1;32m   1270\u001b[0m                 \u001b[0mser\u001b[0m\u001b[0;34m.\u001b[0m\u001b[0m_mgr\u001b[0m \u001b[0;34m=\u001b[0m \u001b[0mmgr\u001b[0m\u001b[0;34m\u001b[0m\u001b[0;34m\u001b[0m\u001b[0m\n\u001b[0;32m-> 1271\u001b[0;31m                 \u001b[0mmgr\u001b[0m\u001b[0;34m.\u001b[0m\u001b[0mset_values\u001b[0m\u001b[0;34m(\u001b[0m\u001b[0marr\u001b[0m\u001b[0;34m)\u001b[0m\u001b[0;34m\u001b[0m\u001b[0;34m\u001b[0m\u001b[0m\n\u001b[0m\u001b[1;32m   1272\u001b[0m                 \u001b[0mobject\u001b[0m\u001b[0;34m.\u001b[0m\u001b[0m__setattr__\u001b[0m\u001b[0;34m(\u001b[0m\u001b[0mser\u001b[0m\u001b[0;34m,\u001b[0m \u001b[0;34m\"_name\"\u001b[0m\u001b[0;34m,\u001b[0m \u001b[0mname\u001b[0m\u001b[0;34m)\u001b[0m\u001b[0;34m\u001b[0m\u001b[0;34m\u001b[0m\u001b[0m\n\u001b[1;32m   1273\u001b[0m                 \u001b[0;32mif\u001b[0m \u001b[0;32mnot\u001b[0m \u001b[0mis_view\u001b[0m\u001b[0;34m:\u001b[0m\u001b[0;34m\u001b[0m\u001b[0;34m\u001b[0m\u001b[0m\n",
            "\u001b[0;32m/usr/local/lib/python3.10/dist-packages/pandas/core/internals/managers.py\u001b[0m in \u001b[0;36mset_values\u001b[0;34m(self, values)\u001b[0m\n\u001b[1;32m   2074\u001b[0m         \u001b[0;31m# which handles CoW by setting the refs manually if necessary\u001b[0m\u001b[0;34m\u001b[0m\u001b[0;34m\u001b[0m\u001b[0m\n\u001b[1;32m   2075\u001b[0m         \u001b[0mself\u001b[0m\u001b[0;34m.\u001b[0m\u001b[0mblocks\u001b[0m\u001b[0;34m[\u001b[0m\u001b[0;36m0\u001b[0m\u001b[0;34m]\u001b[0m\u001b[0;34m.\u001b[0m\u001b[0mvalues\u001b[0m \u001b[0;34m=\u001b[0m \u001b[0mvalues\u001b[0m\u001b[0;34m\u001b[0m\u001b[0;34m\u001b[0m\u001b[0m\n\u001b[0;32m-> 2076\u001b[0;31m         \u001b[0mself\u001b[0m\u001b[0;34m.\u001b[0m\u001b[0mblocks\u001b[0m\u001b[0;34m[\u001b[0m\u001b[0;36m0\u001b[0m\u001b[0;34m]\u001b[0m\u001b[0;34m.\u001b[0m\u001b[0m_mgr_locs\u001b[0m \u001b[0;34m=\u001b[0m \u001b[0mBlockPlacement\u001b[0m\u001b[0;34m(\u001b[0m\u001b[0mslice\u001b[0m\u001b[0;34m(\u001b[0m\u001b[0mlen\u001b[0m\u001b[0;34m(\u001b[0m\u001b[0mvalues\u001b[0m\u001b[0;34m)\u001b[0m\u001b[0;34m)\u001b[0m\u001b[0;34m)\u001b[0m\u001b[0;34m\u001b[0m\u001b[0;34m\u001b[0m\u001b[0m\n\u001b[0m\u001b[1;32m   2077\u001b[0m \u001b[0;34m\u001b[0m\u001b[0m\n\u001b[1;32m   2078\u001b[0m     \u001b[0;32mdef\u001b[0m \u001b[0m_equal_values\u001b[0m\u001b[0;34m(\u001b[0m\u001b[0mself\u001b[0m\u001b[0;34m,\u001b[0m \u001b[0mother\u001b[0m\u001b[0;34m:\u001b[0m \u001b[0mSelf\u001b[0m\u001b[0;34m)\u001b[0m \u001b[0;34m->\u001b[0m \u001b[0mbool\u001b[0m\u001b[0;34m:\u001b[0m\u001b[0;34m\u001b[0m\u001b[0;34m\u001b[0m\u001b[0m\n",
            "\u001b[0;31mKeyboardInterrupt\u001b[0m: "
          ]
        }
      ],
      "source": [
        "# Second step - Dealing with single quotation marks (sign of corrupt line)\n",
        "\n",
        "# Remove adjacent double quotation marks (\"\") in all rows and columns\n",
        "df_cleaned = df_valid.applymap(lambda x: x.replace('\"\"', '') if isinstance(x, str) else x)\n",
        "\n",
        "# Filter rows where any column contains a single quotation mark - sign of a corrupted line (\")\n",
        "rows_with_quotes = df_cleaned[df_cleaned.apply(lambda x: x.astype(str).str.contains('\"').any(), axis=1)]\n",
        "\n",
        "# Count the number of corrupted rows\n",
        "print(f\"Number of rows containing single quotation mark: {len(rows_with_quotes)}\")\n",
        "\n",
        "# Display df after cleaning\n",
        "rows_with_quotes"
      ]
    },
    {
      "cell_type": "code",
      "execution_count": null,
      "metadata": {
        "id": "TI7dqHvBZGlN"
      },
      "outputs": [],
      "source": [
        "# Subtract rows_with_quotes from df_cleaned\n",
        "df_no_quotes = df_cleaned[~df_cleaned.index.isin(rows_with_quotes.index)]\n",
        "\n",
        "# Display the result\n",
        "print(df_no_quotes)\n",
        "\n",
        "# Count the number of remaining rows\n",
        "print(f\"Number of rows in clean dataset: {len(df_no_quotes)}\")\n"
      ]
    },
    {
      "cell_type": "code",
      "execution_count": null,
      "metadata": {
        "id": "3IFamrOHObO6"
      },
      "outputs": [],
      "source": [
        "pip install unidecode\n"
      ]
    },
    {
      "cell_type": "code",
      "execution_count": null,
      "metadata": {
        "id": "IELDjuefMw-3"
      },
      "outputs": [],
      "source": []
    },
    {
      "cell_type": "code",
      "execution_count": null,
      "metadata": {
        "id": "vCQLkhX0PWNS"
      },
      "outputs": [],
      "source": [
        "# Third step - Standartizing text to ASCII\n",
        "\n",
        "import unidecode\n",
        "\n",
        "# Function to remove non-ASCII characters\n",
        "def unify_to_ascii(text):\n",
        "    if isinstance(text, str):\n",
        "        return unidecode.unidecode(text)\n",
        "    return text\n",
        "\n",
        "# Apply to the entire DataFrame\n",
        "df_cleaned_final = df_no_quotes.applymap(unify_to_ascii)\n",
        "\n",
        "# Display a sample\n",
        "print(df_cleaned_final.head())\n"
      ]
    },
    {
      "cell_type": "code",
      "execution_count": null,
      "metadata": {
        "id": "zRmp5qyDNViP"
      },
      "outputs": [],
      "source": [
        "# optional step, to handle RAM overload and crash\n",
        "\n",
        "output_file_path = '/content/drive/My Drive/Colab Notebooks/Final Project/cleaned_step2.csv'\n",
        "df_cleaned_final.to_csv(output_file_path, index=False)\n",
        "\n",
        "# reset runtime"
      ]
    },
    {
      "cell_type": "code",
      "execution_count": null,
      "metadata": {
        "colab": {
          "base_uri": "https://localhost:8080/"
        },
        "id": "foR-HBN4OsF3",
        "outputId": "1c1003bb-c098-4665-977c-78edf382f55a"
      },
      "outputs": [
        {
          "name": "stdout",
          "output_type": "stream",
          "text": [
            "Mounted at /content/drive\n"
          ]
        }
      ],
      "source": [
        "# optional step after resetting runtime\n",
        "\n",
        "import pandas as pd\n",
        "\n",
        "from google.colab import drive\n",
        "drive.mount('/content/drive')\n",
        "df_cleaned_final = '/content/drive/My Drive/Colab Notebooks/Final Project/cleaned_step2.csv'"
      ]
    },
    {
      "cell_type": "code",
      "execution_count": null,
      "metadata": {
        "id": "i1OukgtFO7Ay"
      },
      "outputs": [],
      "source": [
        "df_cleaned_final = pd.read_csv(df_cleaned_final)"
      ]
    },
    {
      "cell_type": "code",
      "execution_count": null,
      "metadata": {
        "id": "sxclqWCQU5jO"
      },
      "outputs": [],
      "source": [
        "# 4th step - Adjusting column names\n",
        "\n",
        "df_cleaned_final.columns = ['user_id', 'artist_name', 'track_name', 'playlist_name']\n"
      ]
    },
    {
      "cell_type": "code",
      "execution_count": null,
      "metadata": {
        "colab": {
          "base_uri": "https://localhost:8080/",
          "height": 206
        },
        "id": "1vkEpHyFkjCf",
        "outputId": "7917d5c9-720c-4998-c2cc-1311bf79c132"
      },
      "outputs": [
        {
          "data": {
            "application/vnd.google.colaboratory.intrinsic+json": {
              "summary": "{\n  \"name\": \"df_cleaned_final\",\n  \"rows\": 5,\n  \"fields\": [\n    {\n      \"column\": \"user_id\",\n      \"properties\": {\n        \"dtype\": \"string\",\n        \"num_unique_values\": 5,\n        \"samples\": [\n          \"5711c5c6e1e476930378248a69f4f4a3\",\n          \"5f801dc79f3c9012505226b71fa44fb5\",\n          \"9ff7ed4b2a9864fa42524ea0ce787e34\"\n        ],\n        \"semantic_type\": \"\",\n        \"description\": \"\"\n      }\n    },\n    {\n      \"column\": \"artist_name\",\n      \"properties\": {\n        \"dtype\": \"string\",\n        \"num_unique_values\": 5,\n        \"samples\": [\n          \"Florence + The Machine\",\n          \"Alkaline Trio\",\n          \"REO Speedwagon\"\n        ],\n        \"semantic_type\": \"\",\n        \"description\": \"\"\n      }\n    },\n    {\n      \"column\": \"track_name\",\n      \"properties\": {\n        \"dtype\": \"string\",\n        \"num_unique_values\": 5,\n        \"samples\": [\n          \"Dog Days are Over\",\n          \"Private Eye\",\n          \"Keep On Loving You\"\n        ],\n        \"semantic_type\": \"\",\n        \"description\": \"\"\n      }\n    },\n    {\n      \"column\": \"playlist_name\",\n      \"properties\": {\n        \"dtype\": \"string\",\n        \"num_unique_values\": 5,\n        \"samples\": [\n          \"happy happy love time\",\n          \"DK Favorites\",\n          \"Vice City - Emotion 98.3\"\n        ],\n        \"semantic_type\": \"\",\n        \"description\": \"\"\n      }\n    }\n  ]\n}",
              "type": "dataframe"
            },
            "text/html": [
              "\n",
              "  <div id=\"df-6d28d5a8-002d-4827-8614-4590591d7cfe\" class=\"colab-df-container\">\n",
              "    <div>\n",
              "<style scoped>\n",
              "    .dataframe tbody tr th:only-of-type {\n",
              "        vertical-align: middle;\n",
              "    }\n",
              "\n",
              "    .dataframe tbody tr th {\n",
              "        vertical-align: top;\n",
              "    }\n",
              "\n",
              "    .dataframe thead th {\n",
              "        text-align: right;\n",
              "    }\n",
              "</style>\n",
              "<table border=\"1\" class=\"dataframe\">\n",
              "  <thead>\n",
              "    <tr style=\"text-align: right;\">\n",
              "      <th></th>\n",
              "      <th>user_id</th>\n",
              "      <th>artist_name</th>\n",
              "      <th>track_name</th>\n",
              "      <th>playlist_name</th>\n",
              "    </tr>\n",
              "  </thead>\n",
              "  <tbody>\n",
              "    <tr>\n",
              "      <th>7850139</th>\n",
              "      <td>00909b16e60501d9da9acf7bd2c5b00d</td>\n",
              "      <td>Clifford Brown &amp; Max Roach Quintet</td>\n",
              "      <td>I Don't Stand A Ghost Of A Chance With You</td>\n",
              "      <td>Brownie Speaks with others</td>\n",
              "    </tr>\n",
              "    <tr>\n",
              "      <th>11493754</th>\n",
              "      <td>5711c5c6e1e476930378248a69f4f4a3</td>\n",
              "      <td>Florence + The Machine</td>\n",
              "      <td>Dog Days are Over</td>\n",
              "      <td>happy happy love time</td>\n",
              "    </tr>\n",
              "    <tr>\n",
              "      <th>10033549</th>\n",
              "      <td>9ff7ed4b2a9864fa42524ea0ce787e34</td>\n",
              "      <td>REO Speedwagon</td>\n",
              "      <td>Keep On Loving You</td>\n",
              "      <td>Vice City - Emotion 98.3</td>\n",
              "    </tr>\n",
              "    <tr>\n",
              "      <th>4870277</th>\n",
              "      <td>767bd9e933b8a46e56df7a8802049ec9</td>\n",
              "      <td>Monty</td>\n",
              "      <td>Turn To Me - Original Mix</td>\n",
              "      <td>Dub Step Collection</td>\n",
              "    </tr>\n",
              "    <tr>\n",
              "      <th>2456461</th>\n",
              "      <td>5f801dc79f3c9012505226b71fa44fb5</td>\n",
              "      <td>Alkaline Trio</td>\n",
              "      <td>Private Eye</td>\n",
              "      <td>DK Favorites</td>\n",
              "    </tr>\n",
              "  </tbody>\n",
              "</table>\n",
              "</div>\n",
              "    <div class=\"colab-df-buttons\">\n",
              "\n",
              "  <div class=\"colab-df-container\">\n",
              "    <button class=\"colab-df-convert\" onclick=\"convertToInteractive('df-6d28d5a8-002d-4827-8614-4590591d7cfe')\"\n",
              "            title=\"Convert this dataframe to an interactive table.\"\n",
              "            style=\"display:none;\">\n",
              "\n",
              "  <svg xmlns=\"http://www.w3.org/2000/svg\" height=\"24px\" viewBox=\"0 -960 960 960\">\n",
              "    <path d=\"M120-120v-720h720v720H120Zm60-500h600v-160H180v160Zm220 220h160v-160H400v160Zm0 220h160v-160H400v160ZM180-400h160v-160H180v160Zm440 0h160v-160H620v160ZM180-180h160v-160H180v160Zm440 0h160v-160H620v160Z\"/>\n",
              "  </svg>\n",
              "    </button>\n",
              "\n",
              "  <style>\n",
              "    .colab-df-container {\n",
              "      display:flex;\n",
              "      gap: 12px;\n",
              "    }\n",
              "\n",
              "    .colab-df-convert {\n",
              "      background-color: #E8F0FE;\n",
              "      border: none;\n",
              "      border-radius: 50%;\n",
              "      cursor: pointer;\n",
              "      display: none;\n",
              "      fill: #1967D2;\n",
              "      height: 32px;\n",
              "      padding: 0 0 0 0;\n",
              "      width: 32px;\n",
              "    }\n",
              "\n",
              "    .colab-df-convert:hover {\n",
              "      background-color: #E2EBFA;\n",
              "      box-shadow: 0px 1px 2px rgba(60, 64, 67, 0.3), 0px 1px 3px 1px rgba(60, 64, 67, 0.15);\n",
              "      fill: #174EA6;\n",
              "    }\n",
              "\n",
              "    .colab-df-buttons div {\n",
              "      margin-bottom: 4px;\n",
              "    }\n",
              "\n",
              "    [theme=dark] .colab-df-convert {\n",
              "      background-color: #3B4455;\n",
              "      fill: #D2E3FC;\n",
              "    }\n",
              "\n",
              "    [theme=dark] .colab-df-convert:hover {\n",
              "      background-color: #434B5C;\n",
              "      box-shadow: 0px 1px 3px 1px rgba(0, 0, 0, 0.15);\n",
              "      filter: drop-shadow(0px 1px 2px rgba(0, 0, 0, 0.3));\n",
              "      fill: #FFFFFF;\n",
              "    }\n",
              "  </style>\n",
              "\n",
              "    <script>\n",
              "      const buttonEl =\n",
              "        document.querySelector('#df-6d28d5a8-002d-4827-8614-4590591d7cfe button.colab-df-convert');\n",
              "      buttonEl.style.display =\n",
              "        google.colab.kernel.accessAllowed ? 'block' : 'none';\n",
              "\n",
              "      async function convertToInteractive(key) {\n",
              "        const element = document.querySelector('#df-6d28d5a8-002d-4827-8614-4590591d7cfe');\n",
              "        const dataTable =\n",
              "          await google.colab.kernel.invokeFunction('convertToInteractive',\n",
              "                                                    [key], {});\n",
              "        if (!dataTable) return;\n",
              "\n",
              "        const docLinkHtml = 'Like what you see? Visit the ' +\n",
              "          '<a target=\"_blank\" href=https://colab.research.google.com/notebooks/data_table.ipynb>data table notebook</a>'\n",
              "          + ' to learn more about interactive tables.';\n",
              "        element.innerHTML = '';\n",
              "        dataTable['output_type'] = 'display_data';\n",
              "        await google.colab.output.renderOutput(dataTable, element);\n",
              "        const docLink = document.createElement('div');\n",
              "        docLink.innerHTML = docLinkHtml;\n",
              "        element.appendChild(docLink);\n",
              "      }\n",
              "    </script>\n",
              "  </div>\n",
              "\n",
              "\n",
              "<div id=\"df-d05bf5bb-2ac3-4ec5-ae7d-5f01d185459e\">\n",
              "  <button class=\"colab-df-quickchart\" onclick=\"quickchart('df-d05bf5bb-2ac3-4ec5-ae7d-5f01d185459e')\"\n",
              "            title=\"Suggest charts\"\n",
              "            style=\"display:none;\">\n",
              "\n",
              "<svg xmlns=\"http://www.w3.org/2000/svg\" height=\"24px\"viewBox=\"0 0 24 24\"\n",
              "     width=\"24px\">\n",
              "    <g>\n",
              "        <path d=\"M19 3H5c-1.1 0-2 .9-2 2v14c0 1.1.9 2 2 2h14c1.1 0 2-.9 2-2V5c0-1.1-.9-2-2-2zM9 17H7v-7h2v7zm4 0h-2V7h2v10zm4 0h-2v-4h2v4z\"/>\n",
              "    </g>\n",
              "</svg>\n",
              "  </button>\n",
              "\n",
              "<style>\n",
              "  .colab-df-quickchart {\n",
              "      --bg-color: #E8F0FE;\n",
              "      --fill-color: #1967D2;\n",
              "      --hover-bg-color: #E2EBFA;\n",
              "      --hover-fill-color: #174EA6;\n",
              "      --disabled-fill-color: #AAA;\n",
              "      --disabled-bg-color: #DDD;\n",
              "  }\n",
              "\n",
              "  [theme=dark] .colab-df-quickchart {\n",
              "      --bg-color: #3B4455;\n",
              "      --fill-color: #D2E3FC;\n",
              "      --hover-bg-color: #434B5C;\n",
              "      --hover-fill-color: #FFFFFF;\n",
              "      --disabled-bg-color: #3B4455;\n",
              "      --disabled-fill-color: #666;\n",
              "  }\n",
              "\n",
              "  .colab-df-quickchart {\n",
              "    background-color: var(--bg-color);\n",
              "    border: none;\n",
              "    border-radius: 50%;\n",
              "    cursor: pointer;\n",
              "    display: none;\n",
              "    fill: var(--fill-color);\n",
              "    height: 32px;\n",
              "    padding: 0;\n",
              "    width: 32px;\n",
              "  }\n",
              "\n",
              "  .colab-df-quickchart:hover {\n",
              "    background-color: var(--hover-bg-color);\n",
              "    box-shadow: 0 1px 2px rgba(60, 64, 67, 0.3), 0 1px 3px 1px rgba(60, 64, 67, 0.15);\n",
              "    fill: var(--button-hover-fill-color);\n",
              "  }\n",
              "\n",
              "  .colab-df-quickchart-complete:disabled,\n",
              "  .colab-df-quickchart-complete:disabled:hover {\n",
              "    background-color: var(--disabled-bg-color);\n",
              "    fill: var(--disabled-fill-color);\n",
              "    box-shadow: none;\n",
              "  }\n",
              "\n",
              "  .colab-df-spinner {\n",
              "    border: 2px solid var(--fill-color);\n",
              "    border-color: transparent;\n",
              "    border-bottom-color: var(--fill-color);\n",
              "    animation:\n",
              "      spin 1s steps(1) infinite;\n",
              "  }\n",
              "\n",
              "  @keyframes spin {\n",
              "    0% {\n",
              "      border-color: transparent;\n",
              "      border-bottom-color: var(--fill-color);\n",
              "      border-left-color: var(--fill-color);\n",
              "    }\n",
              "    20% {\n",
              "      border-color: transparent;\n",
              "      border-left-color: var(--fill-color);\n",
              "      border-top-color: var(--fill-color);\n",
              "    }\n",
              "    30% {\n",
              "      border-color: transparent;\n",
              "      border-left-color: var(--fill-color);\n",
              "      border-top-color: var(--fill-color);\n",
              "      border-right-color: var(--fill-color);\n",
              "    }\n",
              "    40% {\n",
              "      border-color: transparent;\n",
              "      border-right-color: var(--fill-color);\n",
              "      border-top-color: var(--fill-color);\n",
              "    }\n",
              "    60% {\n",
              "      border-color: transparent;\n",
              "      border-right-color: var(--fill-color);\n",
              "    }\n",
              "    80% {\n",
              "      border-color: transparent;\n",
              "      border-right-color: var(--fill-color);\n",
              "      border-bottom-color: var(--fill-color);\n",
              "    }\n",
              "    90% {\n",
              "      border-color: transparent;\n",
              "      border-bottom-color: var(--fill-color);\n",
              "    }\n",
              "  }\n",
              "</style>\n",
              "\n",
              "  <script>\n",
              "    async function quickchart(key) {\n",
              "      const quickchartButtonEl =\n",
              "        document.querySelector('#' + key + ' button');\n",
              "      quickchartButtonEl.disabled = true;  // To prevent multiple clicks.\n",
              "      quickchartButtonEl.classList.add('colab-df-spinner');\n",
              "      try {\n",
              "        const charts = await google.colab.kernel.invokeFunction(\n",
              "            'suggestCharts', [key], {});\n",
              "      } catch (error) {\n",
              "        console.error('Error during call to suggestCharts:', error);\n",
              "      }\n",
              "      quickchartButtonEl.classList.remove('colab-df-spinner');\n",
              "      quickchartButtonEl.classList.add('colab-df-quickchart-complete');\n",
              "    }\n",
              "    (() => {\n",
              "      let quickchartButtonEl =\n",
              "        document.querySelector('#df-d05bf5bb-2ac3-4ec5-ae7d-5f01d185459e button');\n",
              "      quickchartButtonEl.style.display =\n",
              "        google.colab.kernel.accessAllowed ? 'block' : 'none';\n",
              "    })();\n",
              "  </script>\n",
              "</div>\n",
              "\n",
              "    </div>\n",
              "  </div>\n"
            ],
            "text/plain": [
              "                                   user_id  \\\n",
              "7850139   00909b16e60501d9da9acf7bd2c5b00d   \n",
              "11493754  5711c5c6e1e476930378248a69f4f4a3   \n",
              "10033549  9ff7ed4b2a9864fa42524ea0ce787e34   \n",
              "4870277   767bd9e933b8a46e56df7a8802049ec9   \n",
              "2456461   5f801dc79f3c9012505226b71fa44fb5   \n",
              "\n",
              "                                 artist_name  \\\n",
              "7850139   Clifford Brown & Max Roach Quintet   \n",
              "11493754              Florence + The Machine   \n",
              "10033549                      REO Speedwagon   \n",
              "4870277                                Monty   \n",
              "2456461                        Alkaline Trio   \n",
              "\n",
              "                                          track_name  \\\n",
              "7850139   I Don't Stand A Ghost Of A Chance With You   \n",
              "11493754                           Dog Days are Over   \n",
              "10033549                          Keep On Loving You   \n",
              "4870277                    Turn To Me - Original Mix   \n",
              "2456461                                  Private Eye   \n",
              "\n",
              "                       playlist_name  \n",
              "7850139   Brownie Speaks with others  \n",
              "11493754       happy happy love time  \n",
              "10033549    Vice City - Emotion 98.3  \n",
              "4870277          Dub Step Collection  \n",
              "2456461                 DK Favorites  "
            ]
          },
          "execution_count": 4,
          "metadata": {},
          "output_type": "execute_result"
        }
      ],
      "source": [
        "df_cleaned_final.sample(5)"
      ]
    },
    {
      "cell_type": "markdown",
      "metadata": {
        "id": "UZ8LK89iq10f"
      },
      "source": [
        "# Data Cleaning and preliminary preprocessing"
      ]
    },
    {
      "cell_type": "code",
      "execution_count": null,
      "metadata": {
        "colab": {
          "base_uri": "https://localhost:8080/"
        },
        "id": "Qs5iKCpnxSrw",
        "outputId": "f7b6f185-dd69-4853-b2c3-f1396f1afdcf"
      },
      "outputs": [
        {
          "name": "stdout",
          "output_type": "stream",
          "text": [
            "Shape Before Cleaning (12823403, 4)\n",
            "Shape After Dropping NA (12779965, 4)\n",
            "\n",
            "Shape After Converting to Lowercase (12779965, 4)\n",
            "\n",
            "Number of duplicate rows: 29505\n",
            "Shape After Dropping Duplicates (12750460, 4)\n",
            "\n",
            "                                   user_id artist_name  \\\n",
            "14108     650c4d63a819dbb77cc15a87f407039a               \n",
            "45019     db937456654d2465292c4daa947c95de           m   \n",
            "49502     db937456654d2465292c4daa947c95de           t   \n",
            "51893     db937456654d2465292c4daa947c95de           m   \n",
            "77239     6cdb890a9fff57be31b072777350e632           x   \n",
            "...                                    ...         ...   \n",
            "12785766  675687eafb4c14f1ea561e6089ee2ec0           x   \n",
            "12786002  675687eafb4c14f1ea561e6089ee2ec0           x   \n",
            "12786173  675687eafb4c14f1ea561e6089ee2ec0           x   \n",
            "12786684  675687eafb4c14f1ea561e6089ee2ec0           x   \n",
            "12787412  675687eafb4c14f1ea561e6089ee2ec0           x   \n",
            "\n",
            "                                         track_name          playlist_name  \n",
            "14108                            central park blues              overboard  \n",
            "45019         3ox feat. heidrun-beating of my heart                 strane  \n",
            "49502                             rex-christmas bop                 strane  \n",
            "51893         3ox feat. heidrun-beating of my heart                trening  \n",
            "77239                               the hungry wolf  perfect records edits  \n",
            "...                                             ...                    ...  \n",
            "12785766              sex and dying in high society                starred  \n",
            "12786002                               soul kitchen                starred  \n",
            "12786173                                 sugarlight                starred  \n",
            "12786684        the world's a mess; it's in my kiss                starred  \n",
            "12787412  your phone's off the hook, but you're not                starred  \n",
            "\n",
            "[1610 rows x 4 columns]\n",
            "                                   user_id           artist_name track_name  \\\n",
            "3091      c50566d83fba17b20697039d5824db78             athletics          i   \n",
            "3207      c50566d83fba17b20697039d5824db78             athletics          v   \n",
            "3383      c50566d83fba17b20697039d5824db78  three trapped tigers          6   \n",
            "5861      c50566d83fba17b20697039d5824db78            air review          h   \n",
            "6268      c50566d83fba17b20697039d5824db78             athletics          i   \n",
            "...                                    ...                   ...        ...   \n",
            "12816937  aedf684d88f71c448add86ee4873278e         mitch hedberg          x   \n",
            "12819292  8e430be89a7c972611c503bb23fbc3f7                 barem          a   \n",
            "12819706  8e430be89a7c972611c503bb23fbc3f7            follakzoid          9   \n",
            "12821293  8d27d5741b3210e41ab3a499c1141af9          zodiak killa          6   \n",
            "12823071  488ead471813ae982119153f792e4a3e          yoga pop ups          3   \n",
            "\n",
            "                             playlist_name  \n",
            "3091                         december 2013  \n",
            "3207                         december 2013  \n",
            "3383                    everything at once  \n",
            "5861                    everything at once  \n",
            "6268                    everything at once  \n",
            "...                                    ...  \n",
            "12816937                            comedy  \n",
            "12819292  2011- albums i have to listen to  \n",
            "12819706       cd's & vinyls february 2013  \n",
            "12821293              mis pistas de shazam  \n",
            "12823071                       yoga pop up  \n",
            "\n",
            "[4787 rows x 4 columns]\n",
            "Shape After Removing Short Artists and Tracks (12744063, 4)\n",
            "\n"
          ]
        }
      ],
      "source": [
        "#Data Cleaning and lowercasing\n",
        "\n",
        "import pandas as pd\n",
        "\n",
        "# Step 1: Handle missing values\n",
        "print(f\"Shape Before Cleaning {df_cleaned_final.shape}\")\n",
        "df_cleaned_final = df_cleaned_final.dropna()  # Remove rows with missing values\n",
        "print(f\"Shape After Dropping NA {df_cleaned_final.shape}\")\n",
        "print(\"\")\n",
        "\n",
        "# Step 2: Convert all string columns to lowercase\n",
        "string_columns = df_cleaned_final.select_dtypes(include='object').columns  # Identify string columns\n",
        "df_cleaned_final[string_columns] = df_cleaned_final[string_columns].apply(lambda col: col.str.lower())\n",
        "print(f\"Shape After Converting to Lowercase {df_cleaned_final.shape}\")\n",
        "print(\"\")\n",
        "\n",
        "# Step 3: Remove duplicate Rows\n",
        "print(f\"Number of duplicate rows: {df_cleaned_final.duplicated().sum()}\")\n",
        "df_cleaned_final = df_cleaned_final.drop_duplicates()\n",
        "print(f\"Shape After Dropping Duplicates {df_cleaned_final.shape}\")\n",
        "print(\"\")\n",
        "\n",
        "# Step 4: Removing one-char artists and track names\n",
        "print(df_cleaned_final[df_cleaned_final['artist_name'].str.len() < 2])  # Artists with very short names\n",
        "print(df_cleaned_final[df_cleaned_final['track_name'].str.len() < 2])  # Tracks with very short names\n",
        "df_cleaned_final = df_cleaned_final[df_cleaned_final['artist_name'].str.len() >= 2]\n",
        "df_cleaned_final = df_cleaned_final[df_cleaned_final['track_name'].str.len() >= 2]\n",
        "print(f\"Shape After Removing Short Artists and Tracks {df_cleaned_final.shape}\")\n",
        "print(\"\")\n",
        "\n",
        "\n"
      ]
    },
    {
      "cell_type": "code",
      "execution_count": null,
      "metadata": {
        "colab": {
          "base_uri": "https://localhost:8080/",
          "height": 430
        },
        "id": "M3EcgbkTVKiA",
        "outputId": "221c9a81-02bb-41a1-de38-1ddb0edfb322"
      },
      "outputs": [
        {
          "ename": "KeyboardInterrupt",
          "evalue": "",
          "output_type": "error",
          "traceback": [
            "\u001b[0;31m---------------------------------------------------------------------------\u001b[0m",
            "\u001b[0;31mTypeError\u001b[0m                                 Traceback (most recent call last)",
            "\u001b[0;32m/usr/local/lib/python3.10/dist-packages/pandas/core/ops/array_ops.py\u001b[0m in \u001b[0;36m_na_arithmetic_op\u001b[0;34m(left, right, op, is_cmp)\u001b[0m\n\u001b[1;32m    217\u001b[0m     \u001b[0;32mtry\u001b[0m\u001b[0;34m:\u001b[0m\u001b[0;34m\u001b[0m\u001b[0;34m\u001b[0m\u001b[0m\n\u001b[0;32m--> 218\u001b[0;31m         \u001b[0mresult\u001b[0m \u001b[0;34m=\u001b[0m \u001b[0mfunc\u001b[0m\u001b[0;34m(\u001b[0m\u001b[0mleft\u001b[0m\u001b[0;34m,\u001b[0m \u001b[0mright\u001b[0m\u001b[0;34m)\u001b[0m\u001b[0;34m\u001b[0m\u001b[0;34m\u001b[0m\u001b[0m\n\u001b[0m\u001b[1;32m    219\u001b[0m     \u001b[0;32mexcept\u001b[0m \u001b[0mTypeError\u001b[0m\u001b[0;34m:\u001b[0m\u001b[0;34m\u001b[0m\u001b[0;34m\u001b[0m\u001b[0m\n",
            "\u001b[0;31mTypeError\u001b[0m: unsupported operand type(s) for +: 'float' and 'str'",
            "\nDuring handling of the above exception, another exception occurred:\n",
            "\u001b[0;31mKeyboardInterrupt\u001b[0m                         Traceback (most recent call last)",
            "\u001b[0;32m<ipython-input-4-542ca7c99ffd>\u001b[0m in \u001b[0;36m<cell line: 3>\u001b[0;34m()\u001b[0m\n\u001b[1;32m      1\u001b[0m \u001b[0;31m# New Feature - song name = artist + track\u001b[0m\u001b[0;34m\u001b[0m\u001b[0;34m\u001b[0m\u001b[0m\n\u001b[1;32m      2\u001b[0m \u001b[0;34m\u001b[0m\u001b[0m\n\u001b[0;32m----> 3\u001b[0;31m \u001b[0mdf_cleaned_final\u001b[0m\u001b[0;34m[\u001b[0m\u001b[0;34m'song_name'\u001b[0m\u001b[0;34m]\u001b[0m \u001b[0;34m=\u001b[0m \u001b[0mdf_cleaned_final\u001b[0m\u001b[0;34m[\u001b[0m\u001b[0;34m'artist_name'\u001b[0m\u001b[0;34m]\u001b[0m \u001b[0;34m+\u001b[0m \u001b[0;34m' - '\u001b[0m \u001b[0;34m+\u001b[0m \u001b[0mdf_cleaned_final\u001b[0m\u001b[0;34m[\u001b[0m\u001b[0;34m'track_name'\u001b[0m\u001b[0;34m]\u001b[0m\u001b[0;34m\u001b[0m\u001b[0;34m\u001b[0m\u001b[0m\n\u001b[0m\u001b[1;32m      4\u001b[0m \u001b[0munique_songs\u001b[0m \u001b[0;34m=\u001b[0m \u001b[0mdf_cleaned_final\u001b[0m\u001b[0;34m[\u001b[0m\u001b[0;34m'song_name'\u001b[0m\u001b[0;34m]\u001b[0m\u001b[0;34m.\u001b[0m\u001b[0mnunique\u001b[0m\u001b[0;34m(\u001b[0m\u001b[0;34m)\u001b[0m\u001b[0;34m\u001b[0m\u001b[0;34m\u001b[0m\u001b[0m\n\u001b[1;32m      5\u001b[0m \u001b[0;34m\u001b[0m\u001b[0m\n",
            "\u001b[0;32m/usr/local/lib/python3.10/dist-packages/pandas/core/ops/common.py\u001b[0m in \u001b[0;36mnew_method\u001b[0;34m(self, other)\u001b[0m\n\u001b[1;32m     74\u001b[0m         \u001b[0mother\u001b[0m \u001b[0;34m=\u001b[0m \u001b[0mitem_from_zerodim\u001b[0m\u001b[0;34m(\u001b[0m\u001b[0mother\u001b[0m\u001b[0;34m)\u001b[0m\u001b[0;34m\u001b[0m\u001b[0;34m\u001b[0m\u001b[0m\n\u001b[1;32m     75\u001b[0m \u001b[0;34m\u001b[0m\u001b[0m\n\u001b[0;32m---> 76\u001b[0;31m         \u001b[0;32mreturn\u001b[0m \u001b[0mmethod\u001b[0m\u001b[0;34m(\u001b[0m\u001b[0mself\u001b[0m\u001b[0;34m,\u001b[0m \u001b[0mother\u001b[0m\u001b[0;34m)\u001b[0m\u001b[0;34m\u001b[0m\u001b[0;34m\u001b[0m\u001b[0m\n\u001b[0m\u001b[1;32m     77\u001b[0m \u001b[0;34m\u001b[0m\u001b[0m\n\u001b[1;32m     78\u001b[0m     \u001b[0;32mreturn\u001b[0m \u001b[0mnew_method\u001b[0m\u001b[0;34m\u001b[0m\u001b[0;34m\u001b[0m\u001b[0m\n",
            "\u001b[0;32m/usr/local/lib/python3.10/dist-packages/pandas/core/arraylike.py\u001b[0m in \u001b[0;36m__add__\u001b[0;34m(self, other)\u001b[0m\n\u001b[1;32m    184\u001b[0m         \u001b[0mmoose\u001b[0m     \u001b[0;36m3.0\u001b[0m     \u001b[0mNaN\u001b[0m\u001b[0;34m\u001b[0m\u001b[0;34m\u001b[0m\u001b[0m\n\u001b[1;32m    185\u001b[0m         \"\"\"\n\u001b[0;32m--> 186\u001b[0;31m         \u001b[0;32mreturn\u001b[0m \u001b[0mself\u001b[0m\u001b[0;34m.\u001b[0m\u001b[0m_arith_method\u001b[0m\u001b[0;34m(\u001b[0m\u001b[0mother\u001b[0m\u001b[0;34m,\u001b[0m \u001b[0moperator\u001b[0m\u001b[0;34m.\u001b[0m\u001b[0madd\u001b[0m\u001b[0;34m)\u001b[0m\u001b[0;34m\u001b[0m\u001b[0;34m\u001b[0m\u001b[0m\n\u001b[0m\u001b[1;32m    187\u001b[0m \u001b[0;34m\u001b[0m\u001b[0m\n\u001b[1;32m    188\u001b[0m     \u001b[0;34m@\u001b[0m\u001b[0munpack_zerodim_and_defer\u001b[0m\u001b[0;34m(\u001b[0m\u001b[0;34m\"__radd__\"\u001b[0m\u001b[0;34m)\u001b[0m\u001b[0;34m\u001b[0m\u001b[0;34m\u001b[0m\u001b[0m\n",
            "\u001b[0;32m/usr/local/lib/python3.10/dist-packages/pandas/core/series.py\u001b[0m in \u001b[0;36m_arith_method\u001b[0;34m(self, other, op)\u001b[0m\n\u001b[1;32m   6133\u001b[0m     \u001b[0;32mdef\u001b[0m \u001b[0m_arith_method\u001b[0m\u001b[0;34m(\u001b[0m\u001b[0mself\u001b[0m\u001b[0;34m,\u001b[0m \u001b[0mother\u001b[0m\u001b[0;34m,\u001b[0m \u001b[0mop\u001b[0m\u001b[0;34m)\u001b[0m\u001b[0;34m:\u001b[0m\u001b[0;34m\u001b[0m\u001b[0;34m\u001b[0m\u001b[0m\n\u001b[1;32m   6134\u001b[0m         \u001b[0mself\u001b[0m\u001b[0;34m,\u001b[0m \u001b[0mother\u001b[0m \u001b[0;34m=\u001b[0m \u001b[0mself\u001b[0m\u001b[0;34m.\u001b[0m\u001b[0m_align_for_op\u001b[0m\u001b[0;34m(\u001b[0m\u001b[0mother\u001b[0m\u001b[0;34m)\u001b[0m\u001b[0;34m\u001b[0m\u001b[0;34m\u001b[0m\u001b[0m\n\u001b[0;32m-> 6135\u001b[0;31m         \u001b[0;32mreturn\u001b[0m \u001b[0mbase\u001b[0m\u001b[0;34m.\u001b[0m\u001b[0mIndexOpsMixin\u001b[0m\u001b[0;34m.\u001b[0m\u001b[0m_arith_method\u001b[0m\u001b[0;34m(\u001b[0m\u001b[0mself\u001b[0m\u001b[0;34m,\u001b[0m \u001b[0mother\u001b[0m\u001b[0;34m,\u001b[0m \u001b[0mop\u001b[0m\u001b[0;34m)\u001b[0m\u001b[0;34m\u001b[0m\u001b[0;34m\u001b[0m\u001b[0m\n\u001b[0m\u001b[1;32m   6136\u001b[0m \u001b[0;34m\u001b[0m\u001b[0m\n\u001b[1;32m   6137\u001b[0m     \u001b[0;32mdef\u001b[0m \u001b[0m_align_for_op\u001b[0m\u001b[0;34m(\u001b[0m\u001b[0mself\u001b[0m\u001b[0;34m,\u001b[0m \u001b[0mright\u001b[0m\u001b[0;34m,\u001b[0m \u001b[0malign_asobject\u001b[0m\u001b[0;34m:\u001b[0m \u001b[0mbool\u001b[0m \u001b[0;34m=\u001b[0m \u001b[0;32mFalse\u001b[0m\u001b[0;34m)\u001b[0m\u001b[0;34m:\u001b[0m\u001b[0;34m\u001b[0m\u001b[0;34m\u001b[0m\u001b[0m\n",
            "\u001b[0;32m/usr/local/lib/python3.10/dist-packages/pandas/core/base.py\u001b[0m in \u001b[0;36m_arith_method\u001b[0;34m(self, other, op)\u001b[0m\n\u001b[1;32m   1380\u001b[0m \u001b[0;34m\u001b[0m\u001b[0m\n\u001b[1;32m   1381\u001b[0m         \u001b[0;32mwith\u001b[0m \u001b[0mnp\u001b[0m\u001b[0;34m.\u001b[0m\u001b[0merrstate\u001b[0m\u001b[0;34m(\u001b[0m\u001b[0mall\u001b[0m\u001b[0;34m=\u001b[0m\u001b[0;34m\"ignore\"\u001b[0m\u001b[0;34m)\u001b[0m\u001b[0;34m:\u001b[0m\u001b[0;34m\u001b[0m\u001b[0;34m\u001b[0m\u001b[0m\n\u001b[0;32m-> 1382\u001b[0;31m             \u001b[0mresult\u001b[0m \u001b[0;34m=\u001b[0m \u001b[0mops\u001b[0m\u001b[0;34m.\u001b[0m\u001b[0marithmetic_op\u001b[0m\u001b[0;34m(\u001b[0m\u001b[0mlvalues\u001b[0m\u001b[0;34m,\u001b[0m \u001b[0mrvalues\u001b[0m\u001b[0;34m,\u001b[0m \u001b[0mop\u001b[0m\u001b[0;34m)\u001b[0m\u001b[0;34m\u001b[0m\u001b[0;34m\u001b[0m\u001b[0m\n\u001b[0m\u001b[1;32m   1383\u001b[0m \u001b[0;34m\u001b[0m\u001b[0m\n\u001b[1;32m   1384\u001b[0m         \u001b[0;32mreturn\u001b[0m \u001b[0mself\u001b[0m\u001b[0;34m.\u001b[0m\u001b[0m_construct_result\u001b[0m\u001b[0;34m(\u001b[0m\u001b[0mresult\u001b[0m\u001b[0;34m,\u001b[0m \u001b[0mname\u001b[0m\u001b[0;34m=\u001b[0m\u001b[0mres_name\u001b[0m\u001b[0;34m)\u001b[0m\u001b[0;34m\u001b[0m\u001b[0;34m\u001b[0m\u001b[0m\n",
            "\u001b[0;32m/usr/local/lib/python3.10/dist-packages/pandas/core/ops/array_ops.py\u001b[0m in \u001b[0;36marithmetic_op\u001b[0;34m(left, right, op)\u001b[0m\n\u001b[1;32m    281\u001b[0m         \u001b[0;31m# error: Argument 1 to \"_na_arithmetic_op\" has incompatible type\u001b[0m\u001b[0;34m\u001b[0m\u001b[0;34m\u001b[0m\u001b[0m\n\u001b[1;32m    282\u001b[0m         \u001b[0;31m# \"Union[ExtensionArray, ndarray[Any, Any]]\"; expected \"ndarray[Any, Any]\"\u001b[0m\u001b[0;34m\u001b[0m\u001b[0;34m\u001b[0m\u001b[0m\n\u001b[0;32m--> 283\u001b[0;31m         \u001b[0mres_values\u001b[0m \u001b[0;34m=\u001b[0m \u001b[0m_na_arithmetic_op\u001b[0m\u001b[0;34m(\u001b[0m\u001b[0mleft\u001b[0m\u001b[0;34m,\u001b[0m \u001b[0mright\u001b[0m\u001b[0;34m,\u001b[0m \u001b[0mop\u001b[0m\u001b[0;34m)\u001b[0m  \u001b[0;31m# type: ignore[arg-type]\u001b[0m\u001b[0;34m\u001b[0m\u001b[0;34m\u001b[0m\u001b[0m\n\u001b[0m\u001b[1;32m    284\u001b[0m \u001b[0;34m\u001b[0m\u001b[0m\n\u001b[1;32m    285\u001b[0m     \u001b[0;32mreturn\u001b[0m \u001b[0mres_values\u001b[0m\u001b[0;34m\u001b[0m\u001b[0;34m\u001b[0m\u001b[0m\n",
            "\u001b[0;32m/usr/local/lib/python3.10/dist-packages/pandas/core/ops/array_ops.py\u001b[0m in \u001b[0;36m_na_arithmetic_op\u001b[0;34m(left, right, op, is_cmp)\u001b[0m\n\u001b[1;32m    225\u001b[0m             \u001b[0;31m# Don't do this for comparisons, as that will handle complex numbers\u001b[0m\u001b[0;34m\u001b[0m\u001b[0;34m\u001b[0m\u001b[0m\n\u001b[1;32m    226\u001b[0m             \u001b[0;31m#  incorrectly, see GH#32047\u001b[0m\u001b[0;34m\u001b[0m\u001b[0;34m\u001b[0m\u001b[0m\n\u001b[0;32m--> 227\u001b[0;31m             \u001b[0mresult\u001b[0m \u001b[0;34m=\u001b[0m \u001b[0m_masked_arith_op\u001b[0m\u001b[0;34m(\u001b[0m\u001b[0mleft\u001b[0m\u001b[0;34m,\u001b[0m \u001b[0mright\u001b[0m\u001b[0;34m,\u001b[0m \u001b[0mop\u001b[0m\u001b[0;34m)\u001b[0m\u001b[0;34m\u001b[0m\u001b[0;34m\u001b[0m\u001b[0m\n\u001b[0m\u001b[1;32m    228\u001b[0m         \u001b[0;32melse\u001b[0m\u001b[0;34m:\u001b[0m\u001b[0;34m\u001b[0m\u001b[0;34m\u001b[0m\u001b[0m\n\u001b[1;32m    229\u001b[0m             \u001b[0;32mraise\u001b[0m\u001b[0;34m\u001b[0m\u001b[0;34m\u001b[0m\u001b[0m\n",
            "\u001b[0;32m/usr/local/lib/python3.10/dist-packages/pandas/core/ops/array_ops.py\u001b[0m in \u001b[0;36m_masked_arith_op\u001b[0;34m(x, y, op)\u001b[0m\n\u001b[1;32m    180\u001b[0m \u001b[0;34m\u001b[0m\u001b[0m\n\u001b[1;32m    181\u001b[0m         \u001b[0;32mif\u001b[0m \u001b[0mmask\u001b[0m\u001b[0;34m.\u001b[0m\u001b[0many\u001b[0m\u001b[0;34m(\u001b[0m\u001b[0;34m)\u001b[0m\u001b[0;34m:\u001b[0m\u001b[0;34m\u001b[0m\u001b[0;34m\u001b[0m\u001b[0m\n\u001b[0;32m--> 182\u001b[0;31m             \u001b[0mresult\u001b[0m\u001b[0;34m[\u001b[0m\u001b[0mmask\u001b[0m\u001b[0;34m]\u001b[0m \u001b[0;34m=\u001b[0m \u001b[0mop\u001b[0m\u001b[0;34m(\u001b[0m\u001b[0mxrav\u001b[0m\u001b[0;34m[\u001b[0m\u001b[0mmask\u001b[0m\u001b[0;34m]\u001b[0m\u001b[0;34m,\u001b[0m \u001b[0my\u001b[0m\u001b[0;34m)\u001b[0m\u001b[0;34m\u001b[0m\u001b[0;34m\u001b[0m\u001b[0m\n\u001b[0m\u001b[1;32m    183\u001b[0m \u001b[0;34m\u001b[0m\u001b[0m\n\u001b[1;32m    184\u001b[0m     \u001b[0mnp\u001b[0m\u001b[0;34m.\u001b[0m\u001b[0mputmask\u001b[0m\u001b[0;34m(\u001b[0m\u001b[0mresult\u001b[0m\u001b[0;34m,\u001b[0m \u001b[0;34m~\u001b[0m\u001b[0mmask\u001b[0m\u001b[0;34m,\u001b[0m \u001b[0mnp\u001b[0m\u001b[0;34m.\u001b[0m\u001b[0mnan\u001b[0m\u001b[0;34m)\u001b[0m\u001b[0;34m\u001b[0m\u001b[0;34m\u001b[0m\u001b[0m\n",
            "\u001b[0;31mKeyboardInterrupt\u001b[0m: "
          ]
        }
      ],
      "source": [
        "# New Feature - song name = artist + track\n",
        "\n",
        "df_cleaned_final['song_name'] = df_cleaned_final['artist_name'] + ' - ' + df_cleaned_final['track_name']\n",
        "\n",
        "#Ensures that duplicate entries (same artist and track combination) are not counted multiple times.\n",
        "unique_songs = df_cleaned_final['song_name'].nunique()\n",
        "\n",
        "\n",
        "#For example: Ed Sheeran +\tShape of You=\tEd Sheeran - Shape of You\"\n",
        "#Prevents ambiguity when multiple artists have songs with the same name\n",
        "# 2,658,530 unique_songs\n",
        "\n"
      ]
    },
    {
      "cell_type": "code",
      "execution_count": null,
      "metadata": {
        "colab": {
          "base_uri": "https://localhost:8080/"
        },
        "id": "9FjOjXGtroO2",
        "outputId": "f37e790a-def8-4064-ee93-a93e8df5aba9"
      },
      "outputs": [
        {
          "name": "stdout",
          "output_type": "stream",
          "text": [
            "Number of unique songs: 2658530\n"
          ]
        }
      ],
      "source": [
        "#print(f\"Number of unique songs: {unique_songs}\")"
      ]
    },
    {
      "cell_type": "code",
      "execution_count": null,
      "metadata": {
        "colab": {
          "base_uri": "https://localhost:8080/"
        },
        "id": "Uk1pBqS1rY5Y",
        "outputId": "322eeb20-d6e9-4132-d25b-08b1ddf550cf"
      },
      "outputs": [
        {
          "name": "stdout",
          "output_type": "stream",
          "text": [
            "Number of unique playlists: 230708\n"
          ]
        }
      ],
      "source": [
        "# New Feature unq_playlist_name = user_id + playlist\n",
        "\n",
        "df_cleaned_final['unq_playlist_name'] = df_cleaned_final['user_id'] + ' - ' + df_cleaned_final['playlist_name']\n",
        "unique_playlists = df_cleaned_final['unq_playlist_name'].nunique()\n",
        "print(f\"Number of unique playlists: {unique_playlists}\")\n",
        "\n"
      ]
    },
    {
      "cell_type": "code",
      "execution_count": null,
      "metadata": {
        "id": "8DQExBs_paFF"
      },
      "outputs": [],
      "source": [
        "# optional step, to handle RAM overload and crash\n",
        "\n",
        "output_file_path = '/content/drive/My Drive/Colab Notebooks/Final Project/cleaned_step3.csv'\n",
        "df_cleaned_final.to_csv(output_file_path, index=False)\n",
        "\n",
        "# reset runtime"
      ]
    },
    {
      "cell_type": "code",
      "execution_count": null,
      "metadata": {
        "id": "4ayhohFfAHS-"
      },
      "outputs": [],
      "source": []
    },
    {
      "cell_type": "markdown",
      "metadata": {
        "id": "ou8kVHKB6BU4"
      },
      "source": [
        "# Optional Starting point - Call the current preprocesed data from here"
      ]
    },
    {
      "cell_type": "code",
      "execution_count": null,
      "metadata": {
        "id": "wQXwMjNM6MVg"
      },
      "outputs": [],
      "source": [
        "import pandas as pd\n",
        "\n",
        "# Unfortunately, you should download the file to your drive\n",
        "# file link: https://drive.google.com/file/d/1zTEsmlHihMUmWNw90VDIvnK5s8SvJgLH/view?usp=sharing\n",
        "# Then correct the file path accordingly\n",
        "\n",
        "from google.colab import drive\n",
        "drive.mount('/content/drive')\n",
        "df_cleaned_final = '/content/drive/My Drive/Colab Notebooks/Final Project/cleaned_step3.csv'\n",
        "df_cleaned_final = pd.read_csv(df_cleaned_final)\n"
      ]
    },
    {
      "cell_type": "code",
      "execution_count": null,
      "metadata": {
        "colab": {
          "base_uri": "https://localhost:8080/"
        },
        "id": "rT1EKh2O8wRa",
        "outputId": "c222e978-1122-4449-a333-9014f0b27b8c"
      },
      "outputs": [
        {
          "data": {
            "text/plain": [
              "(12744063, 6)"
            ]
          },
          "execution_count": 2,
          "metadata": {},
          "output_type": "execute_result"
        }
      ],
      "source": [
        "df_cleaned_final.shape"
      ]
    },
    {
      "cell_type": "code",
      "execution_count": null,
      "metadata": {
        "colab": {
          "base_uri": "https://localhost:8080/",
          "height": 206
        },
        "id": "YQ-VGshpo8W0",
        "outputId": "b191b3bf-c307-4b25-cfd3-10a7feb19b54"
      },
      "outputs": [
        {
          "data": {
            "application/vnd.google.colaboratory.intrinsic+json": {
              "type": "dataframe",
              "variable_name": "df_cleaned_final"
            },
            "text/html": [
              "\n",
              "  <div id=\"df-4b773c74-4c9f-4e9a-ac55-661b21c5952c\" class=\"colab-df-container\">\n",
              "    <div>\n",
              "<style scoped>\n",
              "    .dataframe tbody tr th:only-of-type {\n",
              "        vertical-align: middle;\n",
              "    }\n",
              "\n",
              "    .dataframe tbody tr th {\n",
              "        vertical-align: top;\n",
              "    }\n",
              "\n",
              "    .dataframe thead th {\n",
              "        text-align: right;\n",
              "    }\n",
              "</style>\n",
              "<table border=\"1\" class=\"dataframe\">\n",
              "  <thead>\n",
              "    <tr style=\"text-align: right;\">\n",
              "      <th></th>\n",
              "      <th>user_id</th>\n",
              "      <th>artist_name</th>\n",
              "      <th>track_name</th>\n",
              "      <th>playlist_name</th>\n",
              "      <th>song_name</th>\n",
              "      <th>unq_playlist_name</th>\n",
              "    </tr>\n",
              "  </thead>\n",
              "  <tbody>\n",
              "    <tr>\n",
              "      <th>0</th>\n",
              "      <td>9cc0cfd4d7d7885102480dd99e7a90d6</td>\n",
              "      <td>elvis costello</td>\n",
              "      <td>(the angels wanna wear my) red shoes</td>\n",
              "      <td>hard rock 2010</td>\n",
              "      <td>elvis costello - (the angels wanna wear my) re...</td>\n",
              "      <td>9cc0cfd4d7d7885102480dd99e7a90d6 - hard rock 2010</td>\n",
              "    </tr>\n",
              "    <tr>\n",
              "      <th>1</th>\n",
              "      <td>9cc0cfd4d7d7885102480dd99e7a90d6</td>\n",
              "      <td>elvis costello &amp; the attractions</td>\n",
              "      <td>(what's so funny 'bout) peace, love and unders...</td>\n",
              "      <td>hard rock 2010</td>\n",
              "      <td>elvis costello &amp; the attractions - (what's so ...</td>\n",
              "      <td>9cc0cfd4d7d7885102480dd99e7a90d6 - hard rock 2010</td>\n",
              "    </tr>\n",
              "    <tr>\n",
              "      <th>2</th>\n",
              "      <td>9cc0cfd4d7d7885102480dd99e7a90d6</td>\n",
              "      <td>tiffany page</td>\n",
              "      <td>7 years too late</td>\n",
              "      <td>hard rock 2010</td>\n",
              "      <td>tiffany page - 7 years too late</td>\n",
              "      <td>9cc0cfd4d7d7885102480dd99e7a90d6 - hard rock 2010</td>\n",
              "    </tr>\n",
              "    <tr>\n",
              "      <th>3</th>\n",
              "      <td>9cc0cfd4d7d7885102480dd99e7a90d6</td>\n",
              "      <td>elvis costello &amp; the attractions</td>\n",
              "      <td>accidents will happen</td>\n",
              "      <td>hard rock 2010</td>\n",
              "      <td>elvis costello &amp; the attractions - accidents w...</td>\n",
              "      <td>9cc0cfd4d7d7885102480dd99e7a90d6 - hard rock 2010</td>\n",
              "    </tr>\n",
              "    <tr>\n",
              "      <th>4</th>\n",
              "      <td>9cc0cfd4d7d7885102480dd99e7a90d6</td>\n",
              "      <td>elvis costello</td>\n",
              "      <td>alison</td>\n",
              "      <td>hard rock 2010</td>\n",
              "      <td>elvis costello - alison</td>\n",
              "      <td>9cc0cfd4d7d7885102480dd99e7a90d6 - hard rock 2010</td>\n",
              "    </tr>\n",
              "  </tbody>\n",
              "</table>\n",
              "</div>\n",
              "    <div class=\"colab-df-buttons\">\n",
              "\n",
              "  <div class=\"colab-df-container\">\n",
              "    <button class=\"colab-df-convert\" onclick=\"convertToInteractive('df-4b773c74-4c9f-4e9a-ac55-661b21c5952c')\"\n",
              "            title=\"Convert this dataframe to an interactive table.\"\n",
              "            style=\"display:none;\">\n",
              "\n",
              "  <svg xmlns=\"http://www.w3.org/2000/svg\" height=\"24px\" viewBox=\"0 -960 960 960\">\n",
              "    <path d=\"M120-120v-720h720v720H120Zm60-500h600v-160H180v160Zm220 220h160v-160H400v160Zm0 220h160v-160H400v160ZM180-400h160v-160H180v160Zm440 0h160v-160H620v160ZM180-180h160v-160H180v160Zm440 0h160v-160H620v160Z\"/>\n",
              "  </svg>\n",
              "    </button>\n",
              "\n",
              "  <style>\n",
              "    .colab-df-container {\n",
              "      display:flex;\n",
              "      gap: 12px;\n",
              "    }\n",
              "\n",
              "    .colab-df-convert {\n",
              "      background-color: #E8F0FE;\n",
              "      border: none;\n",
              "      border-radius: 50%;\n",
              "      cursor: pointer;\n",
              "      display: none;\n",
              "      fill: #1967D2;\n",
              "      height: 32px;\n",
              "      padding: 0 0 0 0;\n",
              "      width: 32px;\n",
              "    }\n",
              "\n",
              "    .colab-df-convert:hover {\n",
              "      background-color: #E2EBFA;\n",
              "      box-shadow: 0px 1px 2px rgba(60, 64, 67, 0.3), 0px 1px 3px 1px rgba(60, 64, 67, 0.15);\n",
              "      fill: #174EA6;\n",
              "    }\n",
              "\n",
              "    .colab-df-buttons div {\n",
              "      margin-bottom: 4px;\n",
              "    }\n",
              "\n",
              "    [theme=dark] .colab-df-convert {\n",
              "      background-color: #3B4455;\n",
              "      fill: #D2E3FC;\n",
              "    }\n",
              "\n",
              "    [theme=dark] .colab-df-convert:hover {\n",
              "      background-color: #434B5C;\n",
              "      box-shadow: 0px 1px 3px 1px rgba(0, 0, 0, 0.15);\n",
              "      filter: drop-shadow(0px 1px 2px rgba(0, 0, 0, 0.3));\n",
              "      fill: #FFFFFF;\n",
              "    }\n",
              "  </style>\n",
              "\n",
              "    <script>\n",
              "      const buttonEl =\n",
              "        document.querySelector('#df-4b773c74-4c9f-4e9a-ac55-661b21c5952c button.colab-df-convert');\n",
              "      buttonEl.style.display =\n",
              "        google.colab.kernel.accessAllowed ? 'block' : 'none';\n",
              "\n",
              "      async function convertToInteractive(key) {\n",
              "        const element = document.querySelector('#df-4b773c74-4c9f-4e9a-ac55-661b21c5952c');\n",
              "        const dataTable =\n",
              "          await google.colab.kernel.invokeFunction('convertToInteractive',\n",
              "                                                    [key], {});\n",
              "        if (!dataTable) return;\n",
              "\n",
              "        const docLinkHtml = 'Like what you see? Visit the ' +\n",
              "          '<a target=\"_blank\" href=https://colab.research.google.com/notebooks/data_table.ipynb>data table notebook</a>'\n",
              "          + ' to learn more about interactive tables.';\n",
              "        element.innerHTML = '';\n",
              "        dataTable['output_type'] = 'display_data';\n",
              "        await google.colab.output.renderOutput(dataTable, element);\n",
              "        const docLink = document.createElement('div');\n",
              "        docLink.innerHTML = docLinkHtml;\n",
              "        element.appendChild(docLink);\n",
              "      }\n",
              "    </script>\n",
              "  </div>\n",
              "\n",
              "\n",
              "<div id=\"df-8d687032-3329-4bac-ba30-c56d1fa0f952\">\n",
              "  <button class=\"colab-df-quickchart\" onclick=\"quickchart('df-8d687032-3329-4bac-ba30-c56d1fa0f952')\"\n",
              "            title=\"Suggest charts\"\n",
              "            style=\"display:none;\">\n",
              "\n",
              "<svg xmlns=\"http://www.w3.org/2000/svg\" height=\"24px\"viewBox=\"0 0 24 24\"\n",
              "     width=\"24px\">\n",
              "    <g>\n",
              "        <path d=\"M19 3H5c-1.1 0-2 .9-2 2v14c0 1.1.9 2 2 2h14c1.1 0 2-.9 2-2V5c0-1.1-.9-2-2-2zM9 17H7v-7h2v7zm4 0h-2V7h2v10zm4 0h-2v-4h2v4z\"/>\n",
              "    </g>\n",
              "</svg>\n",
              "  </button>\n",
              "\n",
              "<style>\n",
              "  .colab-df-quickchart {\n",
              "      --bg-color: #E8F0FE;\n",
              "      --fill-color: #1967D2;\n",
              "      --hover-bg-color: #E2EBFA;\n",
              "      --hover-fill-color: #174EA6;\n",
              "      --disabled-fill-color: #AAA;\n",
              "      --disabled-bg-color: #DDD;\n",
              "  }\n",
              "\n",
              "  [theme=dark] .colab-df-quickchart {\n",
              "      --bg-color: #3B4455;\n",
              "      --fill-color: #D2E3FC;\n",
              "      --hover-bg-color: #434B5C;\n",
              "      --hover-fill-color: #FFFFFF;\n",
              "      --disabled-bg-color: #3B4455;\n",
              "      --disabled-fill-color: #666;\n",
              "  }\n",
              "\n",
              "  .colab-df-quickchart {\n",
              "    background-color: var(--bg-color);\n",
              "    border: none;\n",
              "    border-radius: 50%;\n",
              "    cursor: pointer;\n",
              "    display: none;\n",
              "    fill: var(--fill-color);\n",
              "    height: 32px;\n",
              "    padding: 0;\n",
              "    width: 32px;\n",
              "  }\n",
              "\n",
              "  .colab-df-quickchart:hover {\n",
              "    background-color: var(--hover-bg-color);\n",
              "    box-shadow: 0 1px 2px rgba(60, 64, 67, 0.3), 0 1px 3px 1px rgba(60, 64, 67, 0.15);\n",
              "    fill: var(--button-hover-fill-color);\n",
              "  }\n",
              "\n",
              "  .colab-df-quickchart-complete:disabled,\n",
              "  .colab-df-quickchart-complete:disabled:hover {\n",
              "    background-color: var(--disabled-bg-color);\n",
              "    fill: var(--disabled-fill-color);\n",
              "    box-shadow: none;\n",
              "  }\n",
              "\n",
              "  .colab-df-spinner {\n",
              "    border: 2px solid var(--fill-color);\n",
              "    border-color: transparent;\n",
              "    border-bottom-color: var(--fill-color);\n",
              "    animation:\n",
              "      spin 1s steps(1) infinite;\n",
              "  }\n",
              "\n",
              "  @keyframes spin {\n",
              "    0% {\n",
              "      border-color: transparent;\n",
              "      border-bottom-color: var(--fill-color);\n",
              "      border-left-color: var(--fill-color);\n",
              "    }\n",
              "    20% {\n",
              "      border-color: transparent;\n",
              "      border-left-color: var(--fill-color);\n",
              "      border-top-color: var(--fill-color);\n",
              "    }\n",
              "    30% {\n",
              "      border-color: transparent;\n",
              "      border-left-color: var(--fill-color);\n",
              "      border-top-color: var(--fill-color);\n",
              "      border-right-color: var(--fill-color);\n",
              "    }\n",
              "    40% {\n",
              "      border-color: transparent;\n",
              "      border-right-color: var(--fill-color);\n",
              "      border-top-color: var(--fill-color);\n",
              "    }\n",
              "    60% {\n",
              "      border-color: transparent;\n",
              "      border-right-color: var(--fill-color);\n",
              "    }\n",
              "    80% {\n",
              "      border-color: transparent;\n",
              "      border-right-color: var(--fill-color);\n",
              "      border-bottom-color: var(--fill-color);\n",
              "    }\n",
              "    90% {\n",
              "      border-color: transparent;\n",
              "      border-bottom-color: var(--fill-color);\n",
              "    }\n",
              "  }\n",
              "</style>\n",
              "\n",
              "  <script>\n",
              "    async function quickchart(key) {\n",
              "      const quickchartButtonEl =\n",
              "        document.querySelector('#' + key + ' button');\n",
              "      quickchartButtonEl.disabled = true;  // To prevent multiple clicks.\n",
              "      quickchartButtonEl.classList.add('colab-df-spinner');\n",
              "      try {\n",
              "        const charts = await google.colab.kernel.invokeFunction(\n",
              "            'suggestCharts', [key], {});\n",
              "      } catch (error) {\n",
              "        console.error('Error during call to suggestCharts:', error);\n",
              "      }\n",
              "      quickchartButtonEl.classList.remove('colab-df-spinner');\n",
              "      quickchartButtonEl.classList.add('colab-df-quickchart-complete');\n",
              "    }\n",
              "    (() => {\n",
              "      let quickchartButtonEl =\n",
              "        document.querySelector('#df-8d687032-3329-4bac-ba30-c56d1fa0f952 button');\n",
              "      quickchartButtonEl.style.display =\n",
              "        google.colab.kernel.accessAllowed ? 'block' : 'none';\n",
              "    })();\n",
              "  </script>\n",
              "</div>\n",
              "\n",
              "    </div>\n",
              "  </div>\n"
            ],
            "text/plain": [
              "                            user_id                       artist_name  \\\n",
              "0  9cc0cfd4d7d7885102480dd99e7a90d6                    elvis costello   \n",
              "1  9cc0cfd4d7d7885102480dd99e7a90d6  elvis costello & the attractions   \n",
              "2  9cc0cfd4d7d7885102480dd99e7a90d6                      tiffany page   \n",
              "3  9cc0cfd4d7d7885102480dd99e7a90d6  elvis costello & the attractions   \n",
              "4  9cc0cfd4d7d7885102480dd99e7a90d6                    elvis costello   \n",
              "\n",
              "                                          track_name   playlist_name  \\\n",
              "0               (the angels wanna wear my) red shoes  hard rock 2010   \n",
              "1  (what's so funny 'bout) peace, love and unders...  hard rock 2010   \n",
              "2                                   7 years too late  hard rock 2010   \n",
              "3                              accidents will happen  hard rock 2010   \n",
              "4                                             alison  hard rock 2010   \n",
              "\n",
              "                                           song_name  \\\n",
              "0  elvis costello - (the angels wanna wear my) re...   \n",
              "1  elvis costello & the attractions - (what's so ...   \n",
              "2                    tiffany page - 7 years too late   \n",
              "3  elvis costello & the attractions - accidents w...   \n",
              "4                            elvis costello - alison   \n",
              "\n",
              "                                   unq_playlist_name  \n",
              "0  9cc0cfd4d7d7885102480dd99e7a90d6 - hard rock 2010  \n",
              "1  9cc0cfd4d7d7885102480dd99e7a90d6 - hard rock 2010  \n",
              "2  9cc0cfd4d7d7885102480dd99e7a90d6 - hard rock 2010  \n",
              "3  9cc0cfd4d7d7885102480dd99e7a90d6 - hard rock 2010  \n",
              "4  9cc0cfd4d7d7885102480dd99e7a90d6 - hard rock 2010  "
            ]
          },
          "execution_count": 9,
          "metadata": {},
          "output_type": "execute_result"
        }
      ],
      "source": [
        "df_cleaned_final.head()"
      ]
    },
    {
      "cell_type": "markdown",
      "metadata": {
        "id": "YrFSLCMTsRAW"
      },
      "source": [
        "# Numbers and Distributions"
      ]
    },
    {
      "cell_type": "code",
      "execution_count": null,
      "metadata": {
        "colab": {
          "base_uri": "https://localhost:8080/"
        },
        "id": "hTgoLX0cyl-R",
        "outputId": "8646ccc2-c485-426d-e562-025effe090d2"
      },
      "outputs": [
        {
          "name": "stdout",
          "output_type": "stream",
          "text": [
            "Number of unique artists: 279658\n",
            "Number of unique users: 15898\n"
          ]
        }
      ],
      "source": [
        "# Number of unique artists\n",
        "\n",
        "df_cleaned_final['artist_name'].nunique()\n",
        "print(f\"Number of unique artists: {df_cleaned_final['artist_name'].nunique()}\")\n",
        "\n",
        "# Number of unique users\n",
        "\n",
        "unique_users = df_cleaned_final['user_id'].nunique()\n",
        "print(f\"Number of unique users: {unique_users}\")"
      ]
    },
    {
      "cell_type": "markdown",
      "metadata": {
        "id": "B-fKqv5e1GNt"
      },
      "source": [
        "## Songs per playlists"
      ]
    },
    {
      "cell_type": "code",
      "execution_count": null,
      "metadata": {
        "colab": {
          "base_uri": "https://localhost:8080/"
        },
        "id": "yV6seS6aXz6b",
        "outputId": "b3d6b432-d992-4679-d5ea-6dd76feeca82"
      },
      "outputs": [
        {
          "name": "stdout",
          "output_type": "stream",
          "text": [
            "Mean songs per playlist: 55.24\n",
            "Mode songs per playlist: 0    12\n",
            "Name: song_name, dtype: int64\n",
            "25th percentile: 11.0, Median: 16.0, 75th percentile: 38.0\n"
          ]
        }
      ],
      "source": [
        "# Songs per playlists\n",
        "songs_per_playlist = df_cleaned_final.groupby(['unq_playlist_name'])['song_name'].nunique()\n",
        "\n",
        "# Descriptive statistics\n",
        "mean_songs = songs_per_playlist.mean()\n",
        "mode_songs = songs_per_playlist.mode()\n",
        "quantiles = songs_per_playlist.quantile([0.25, 0.5, 0.75])\n",
        "\n",
        "print(f\"Mean songs per playlist: {mean_songs:.2f}\")\n",
        "print(f\"Mode songs per playlist: {mode_songs}\")\n",
        "print(f\"25th percentile: {quantiles[0.25]}, Median: {quantiles[0.5]}, 75th percentile: {quantiles[0.75]}\")\n"
      ]
    },
    {
      "cell_type": "code",
      "execution_count": null,
      "metadata": {
        "colab": {
          "base_uri": "https://localhost:8080/",
          "height": 489
        },
        "id": "y2rxl7qQonal",
        "outputId": "80600884-9f7c-4345-bf2b-ec9cb7520262"
      },
      "outputs": [
        {
          "data": {
            "text/html": [
              "<div>\n",
              "<style scoped>\n",
              "    .dataframe tbody tr th:only-of-type {\n",
              "        vertical-align: middle;\n",
              "    }\n",
              "\n",
              "    .dataframe tbody tr th {\n",
              "        vertical-align: top;\n",
              "    }\n",
              "\n",
              "    .dataframe thead th {\n",
              "        text-align: right;\n",
              "    }\n",
              "</style>\n",
              "<table border=\"1\" class=\"dataframe\">\n",
              "  <thead>\n",
              "    <tr style=\"text-align: right;\">\n",
              "      <th></th>\n",
              "      <th>song_name</th>\n",
              "    </tr>\n",
              "    <tr>\n",
              "      <th>unq_playlist_name</th>\n",
              "      <th></th>\n",
              "    </tr>\n",
              "  </thead>\n",
              "  <tbody>\n",
              "    <tr>\n",
              "      <th>00055176fea33f6e027cd3302289378b - favs</th>\n",
              "      <td>119</td>\n",
              "    </tr>\n",
              "    <tr>\n",
              "      <th>0007f3dd09c91198371454c608d47f22 - 2014</th>\n",
              "      <td>8</td>\n",
              "    </tr>\n",
              "    <tr>\n",
              "      <th>0007f3dd09c91198371454c608d47f22 - fav songs</th>\n",
              "      <td>87</td>\n",
              "    </tr>\n",
              "    <tr>\n",
              "      <th>0007f3dd09c91198371454c608d47f22 - sad songs</th>\n",
              "      <td>2</td>\n",
              "    </tr>\n",
              "    <tr>\n",
              "      <th>000b0f32b5739f052b9d40fcc5c41079 - agnetha faltskog</th>\n",
              "      <td>2</td>\n",
              "    </tr>\n",
              "    <tr>\n",
              "      <th>...</th>\n",
              "      <td>...</td>\n",
              "    </tr>\n",
              "    <tr>\n",
              "      <th>fff616055993498d6127f3f467cf9f2b - say you love me</th>\n",
              "      <td>12</td>\n",
              "    </tr>\n",
              "    <tr>\n",
              "      <th>fff616055993498d6127f3f467cf9f2b - summer</th>\n",
              "      <td>362</td>\n",
              "    </tr>\n",
              "    <tr>\n",
              "      <th>fff616055993498d6127f3f467cf9f2b - sunday alt.</th>\n",
              "      <td>508</td>\n",
              "    </tr>\n",
              "    <tr>\n",
              "      <th>fff616055993498d6127f3f467cf9f2b - uneducated hallways</th>\n",
              "      <td>101</td>\n",
              "    </tr>\n",
              "    <tr>\n",
              "      <th>fff77dadf8528083c920b9c018847e8b - liked from radio</th>\n",
              "      <td>295</td>\n",
              "    </tr>\n",
              "  </tbody>\n",
              "</table>\n",
              "<p>230708 rows × 1 columns</p>\n",
              "</div><br><label><b>dtype:</b> int64</label>"
            ],
            "text/plain": [
              "unq_playlist_name\n",
              "00055176fea33f6e027cd3302289378b - favs                   119\n",
              "0007f3dd09c91198371454c608d47f22 - 2014                     8\n",
              "0007f3dd09c91198371454c608d47f22 - fav songs               87\n",
              "0007f3dd09c91198371454c608d47f22 - sad songs                2\n",
              "000b0f32b5739f052b9d40fcc5c41079 - agnetha faltskog         2\n",
              "                                                         ... \n",
              "fff616055993498d6127f3f467cf9f2b - say you love me         12\n",
              "fff616055993498d6127f3f467cf9f2b - summer                 362\n",
              "fff616055993498d6127f3f467cf9f2b - sunday alt.            508\n",
              "fff616055993498d6127f3f467cf9f2b - uneducated hallways    101\n",
              "fff77dadf8528083c920b9c018847e8b - liked from radio       295\n",
              "Name: song_name, Length: 230708, dtype: int64"
            ]
          },
          "execution_count": 8,
          "metadata": {},
          "output_type": "execute_result"
        }
      ],
      "source": [
        "songs_per_playlist"
      ]
    },
    {
      "cell_type": "code",
      "execution_count": null,
      "metadata": {
        "colab": {
          "base_uri": "https://localhost:8080/"
        },
        "id": "RqHsLupLvAFD",
        "outputId": "8f3abedc-7e30-4f56-f616-9598e5cf35f7"
      },
      "outputs": [
        {
          "name": "stdout",
          "output_type": "stream",
          "text": [
            "count    230708.000000\n",
            "mean         55.238930\n",
            "std         269.603424\n",
            "min           1.000000\n",
            "25%          11.000000\n",
            "50%          16.000000\n",
            "75%          38.000000\n",
            "max       47259.000000\n",
            "Name: song_name, dtype: float64\n"
          ]
        }
      ],
      "source": [
        "# Playlist Diversity\n",
        "playlist_diversity = df_cleaned_final.groupby('unq_playlist_name')['song_name'].nunique()\n",
        "print(playlist_diversity.describe())"
      ]
    },
    {
      "cell_type": "code",
      "execution_count": null,
      "metadata": {
        "colab": {
          "base_uri": "https://localhost:8080/",
          "height": 1000
        },
        "id": "OW1uZpbxYMfj",
        "outputId": "51479abe-b754-4ce4-c6fb-882310285498"
      },
      "outputs": [
        {
          "data": {
            "image/png": "[encoded data removed]",
            "text/plain": [
              "<Figure size 640x480 with 1 Axes>"
            ]
          },
          "metadata": {},
          "output_type": "display_data"
        },
        {
          "data": {
            "image/png": "[encoded data removed]",
            "text/plain": [
              "<Figure size 1000x600 with 1 Axes>"
            ]
          },
          "metadata": {},
          "output_type": "display_data"
        },
        {
          "data": {
            "image/png": "[encoded data removed]",
            "text/plain": [
              "<Figure size 640x480 with 1 Axes>"
            ]
          },
          "metadata": {},
          "output_type": "display_data"
        },
        {
          "data": {
            "image/png": "[encoded data removed]",
            "text/plain": [
              "<Figure size 1000x200 with 1 Axes>"
            ]
          },
          "metadata": {},
          "output_type": "display_data"
        }
      ],
      "source": [
        "from matplotlib import pyplot as plt\n",
        "import seaborn as sns\n",
        "\n",
        "# Histogram for song distribution\n",
        "plt.hist(songs_per_playlist, bins=30, color='purple', alpha=0.7)\n",
        "plt.title(\"Distribution of Songs Per Playlist\")\n",
        "plt.xlabel(\"Number of Songs\")\n",
        "plt.ylabel(\"Number of Playlists\")\n",
        "plt.show()\n",
        "\n",
        "\n",
        "# Histogram for song distribution with limited X-axis to 4000\n",
        "plt.figure(figsize=(10, 6))\n",
        "plt.hist(songs_per_playlist, bins=30, color='purple', alpha=0.7)\n",
        "plt.title(\"Distribution of Songs Per Playlist (Limited X-axis)\")\n",
        "plt.xlabel(\"Number of Songs\")\n",
        "plt.ylabel(\"Number of Playlists\")\n",
        "plt.xlim(0, 4000)  # Limit X-axis to 4000\n",
        "plt.grid(axis='y', linestyle='--', alpha=0.7)\n",
        "plt.show()\n",
        "\n",
        "\n",
        "# Boxplot for song distribution with limited X-axis\n",
        "plt.figure(figsize=(10, 2))\n",
        "plt.boxplot(songs_per_playlist[songs_per_playlist <= 200], vert=False, patch_artist=True,\n",
        "            boxprops=dict(color=\"navy\", facecolor=\"lightblue\"))\n",
        "plt.title(\"Boxplot of Songs Per Playlist (Limited to 200 Songs)\")\n",
        "plt.xlabel(\"Number of Songs\")\n",
        "plt.grid(axis='x', linestyle='--', alpha=0.7)\n",
        "plt.show()\n",
        "\n"
      ]
    },
    {
      "cell_type": "code",
      "execution_count": null,
      "metadata": {
        "colab": {
          "base_uri": "https://localhost:8080/",
          "height": 256
        },
        "id": "Kfoqc6d00Yk0",
        "outputId": "f60c0972-805f-4d73-a663-9790558c25d2"
      },
      "outputs": [
        {
          "data": {
            "image/png": "[encoded data removed]",
            "text/plain": [
              "<Figure size 1000x200 with 1 Axes>"
            ]
          },
          "metadata": {},
          "output_type": "display_data"
        }
      ],
      "source": [
        "import matplotlib.pyplot as plt\n",
        "import numpy as np\n",
        "\n",
        "# Calculate mean and median for the entire dataset\n",
        "mean_value = songs_per_playlist.mean()\n",
        "median_value = songs_per_playlist.median()\n",
        "percentile_80 = np.percentile(songs_per_playlist, 80)\n",
        "\n",
        "# Create the boxplot (limit display to playlists with <= 200 songs for visualization purposes)\n",
        "plt.figure(figsize=(10, 2))\n",
        "plt.boxplot(songs_per_playlist[songs_per_playlist <= 200], vert=False, patch_artist=True,\n",
        "            boxprops=dict(color=\"navy\", facecolor=\"lightblue\"))\n",
        "\n",
        "# Add vertical lines for mean and median\n",
        "plt.axvline(mean_value, color='red', linestyle='--', label=f'Mean: {mean_value:.2f}')\n",
        "plt.axvline(median_value, color='green', linestyle='--', label=f'Median: {median_value:.2f}')\n",
        "plt.axvline(percentile_80, color='orange', linestyle='--', label=f'80th Percentile: {percentile_80:.2f}')\n",
        "\n",
        "# Add title, labels, and legend\n",
        "plt.title(\"Boxplot of Songs Per Playlist (Limited to 200 Songs)\")\n",
        "plt.xlabel(\"Number of Songs\")\n",
        "plt.grid(axis='x', linestyle='--', alpha=0.7)\n",
        "plt.legend(loc='upper right')  # Add legend for mean and median\n",
        "\n",
        "# Show the plot\n",
        "plt.show()\n",
        "\n"
      ]
    },
    {
      "cell_type": "markdown",
      "metadata": {
        "id": "67HGEvu11QcW"
      },
      "source": [
        "## Songs per artist"
      ]
    },
    {
      "cell_type": "code",
      "execution_count": null,
      "metadata": {
        "colab": {
          "base_uri": "https://localhost:8080/",
          "height": 394
        },
        "id": "Y9zrcPKhxB1n",
        "outputId": "299a90fc-edf0-47ed-9dae-e1c5c1a8a68b"
      },
      "outputs": [
        {
          "data": {
            "application/vnd.google.colaboratory.intrinsic+json": {
              "type": "dataframe",
              "variable_name": "sorted_by_song_count_desc"
            },
            "text/html": [
              "\n",
              "  <div id=\"df-4d690672-6e26-439a-b131-39d2e585d533\" class=\"colab-df-container\">\n",
              "    <div>\n",
              "<style scoped>\n",
              "    .dataframe tbody tr th:only-of-type {\n",
              "        vertical-align: middle;\n",
              "    }\n",
              "\n",
              "    .dataframe tbody tr th {\n",
              "        vertical-align: top;\n",
              "    }\n",
              "\n",
              "    .dataframe thead th {\n",
              "        text-align: right;\n",
              "    }\n",
              "</style>\n",
              "<table border=\"1\" class=\"dataframe\">\n",
              "  <thead>\n",
              "    <tr style=\"text-align: right;\">\n",
              "      <th></th>\n",
              "      <th>unique_song_count</th>\n",
              "      <th>song_names_list</th>\n",
              "    </tr>\n",
              "    <tr>\n",
              "      <th>artist_name</th>\n",
              "      <th></th>\n",
              "      <th></th>\n",
              "    </tr>\n",
              "  </thead>\n",
              "  <tbody>\n",
              "    <tr>\n",
              "      <th>various artists</th>\n",
              "      <td>6725</td>\n",
              "      <td>[various artists - i fancy laura marling, vari...</td>\n",
              "    </tr>\n",
              "    <tr>\n",
              "      <th>johann sebastian bach</th>\n",
              "      <td>6303</td>\n",
              "      <td>[johann sebastian bach - air, johann sebastian...</td>\n",
              "    </tr>\n",
              "    <tr>\n",
              "      <th>wolfgang amadeus mozart</th>\n",
              "      <td>4510</td>\n",
              "      <td>[wolfgang amadeus mozart - piano sonata no. 11...</td>\n",
              "    </tr>\n",
              "    <tr>\n",
              "      <th>vitamin string quartet</th>\n",
              "      <td>3597</td>\n",
              "      <td>[vitamin string quartet - jack and sally monta...</td>\n",
              "    </tr>\n",
              "    <tr>\n",
              "      <th>grateful dead</th>\n",
              "      <td>3378</td>\n",
              "      <td>[grateful dead - box of rain - remastered vers...</td>\n",
              "    </tr>\n",
              "    <tr>\n",
              "      <th>frank sinatra</th>\n",
              "      <td>2966</td>\n",
              "      <td>[frank sinatra - serenade in blue, frank sinat...</td>\n",
              "    </tr>\n",
              "    <tr>\n",
              "      <th>ella fitzgerald</th>\n",
              "      <td>2845</td>\n",
              "      <td>[ella fitzgerald - dream a little dream of me,...</td>\n",
              "    </tr>\n",
              "    <tr>\n",
              "      <th>ludwig van beethoven</th>\n",
              "      <td>2425</td>\n",
              "      <td>[ludwig van beethoven - fur elise, ludwig van ...</td>\n",
              "    </tr>\n",
              "    <tr>\n",
              "      <th>lata mangeshkar</th>\n",
              "      <td>2419</td>\n",
              "      <td>[lata mangeshkar - tujhe dekha to yeh, lata ma...</td>\n",
              "    </tr>\n",
              "    <tr>\n",
              "      <th>johnny cash</th>\n",
              "      <td>2213</td>\n",
              "      <td>[johnny cash - hurt, johnny cash - hurt, johnn...</td>\n",
              "    </tr>\n",
              "  </tbody>\n",
              "</table>\n",
              "</div>\n",
              "    <div class=\"colab-df-buttons\">\n",
              "\n",
              "  <div class=\"colab-df-container\">\n",
              "    <button class=\"colab-df-convert\" onclick=\"convertToInteractive('df-4d690672-6e26-439a-b131-39d2e585d533')\"\n",
              "            title=\"Convert this dataframe to an interactive table.\"\n",
              "            style=\"display:none;\">\n",
              "\n",
              "  <svg xmlns=\"http://www.w3.org/2000/svg\" height=\"24px\" viewBox=\"0 -960 960 960\">\n",
              "    <path d=\"M120-120v-720h720v720H120Zm60-500h600v-160H180v160Zm220 220h160v-160H400v160Zm0 220h160v-160H400v160ZM180-400h160v-160H180v160Zm440 0h160v-160H620v160ZM180-180h160v-160H180v160Zm440 0h160v-160H620v160Z\"/>\n",
              "  </svg>\n",
              "    </button>\n",
              "\n",
              "  <style>\n",
              "    .colab-df-container {\n",
              "      display:flex;\n",
              "      gap: 12px;\n",
              "    }\n",
              "\n",
              "    .colab-df-convert {\n",
              "      background-color: #E8F0FE;\n",
              "      border: none;\n",
              "      border-radius: 50%;\n",
              "      cursor: pointer;\n",
              "      display: none;\n",
              "      fill: #1967D2;\n",
              "      height: 32px;\n",
              "      padding: 0 0 0 0;\n",
              "      width: 32px;\n",
              "    }\n",
              "\n",
              "    .colab-df-convert:hover {\n",
              "      background-color: #E2EBFA;\n",
              "      box-shadow: 0px 1px 2px rgba(60, 64, 67, 0.3), 0px 1px 3px 1px rgba(60, 64, 67, 0.15);\n",
              "      fill: #174EA6;\n",
              "    }\n",
              "\n",
              "    .colab-df-buttons div {\n",
              "      margin-bottom: 4px;\n",
              "    }\n",
              "\n",
              "    [theme=dark] .colab-df-convert {\n",
              "      background-color: #3B4455;\n",
              "      fill: #D2E3FC;\n",
              "    }\n",
              "\n",
              "    [theme=dark] .colab-df-convert:hover {\n",
              "      background-color: #434B5C;\n",
              "      box-shadow: 0px 1px 3px 1px rgba(0, 0, 0, 0.15);\n",
              "      filter: drop-shadow(0px 1px 2px rgba(0, 0, 0, 0.3));\n",
              "      fill: #FFFFFF;\n",
              "    }\n",
              "  </style>\n",
              "\n",
              "    <script>\n",
              "      const buttonEl =\n",
              "        document.querySelector('#df-4d690672-6e26-439a-b131-39d2e585d533 button.colab-df-convert');\n",
              "      buttonEl.style.display =\n",
              "        google.colab.kernel.accessAllowed ? 'block' : 'none';\n",
              "\n",
              "      async function convertToInteractive(key) {\n",
              "        const element = document.querySelector('#df-4d690672-6e26-439a-b131-39d2e585d533');\n",
              "        const dataTable =\n",
              "          await google.colab.kernel.invokeFunction('convertToInteractive',\n",
              "                                                    [key], {});\n",
              "        if (!dataTable) return;\n",
              "\n",
              "        const docLinkHtml = 'Like what you see? Visit the ' +\n",
              "          '<a target=\"_blank\" href=https://colab.research.google.com/notebooks/data_table.ipynb>data table notebook</a>'\n",
              "          + ' to learn more about interactive tables.';\n",
              "        element.innerHTML = '';\n",
              "        dataTable['output_type'] = 'display_data';\n",
              "        await google.colab.output.renderOutput(dataTable, element);\n",
              "        const docLink = document.createElement('div');\n",
              "        docLink.innerHTML = docLinkHtml;\n",
              "        element.appendChild(docLink);\n",
              "      }\n",
              "    </script>\n",
              "  </div>\n",
              "\n",
              "\n",
              "<div id=\"df-9bc2352d-020f-4d0f-b501-54a4829a03fc\">\n",
              "  <button class=\"colab-df-quickchart\" onclick=\"quickchart('df-9bc2352d-020f-4d0f-b501-54a4829a03fc')\"\n",
              "            title=\"Suggest charts\"\n",
              "            style=\"display:none;\">\n",
              "\n",
              "<svg xmlns=\"http://www.w3.org/2000/svg\" height=\"24px\"viewBox=\"0 0 24 24\"\n",
              "     width=\"24px\">\n",
              "    <g>\n",
              "        <path d=\"M19 3H5c-1.1 0-2 .9-2 2v14c0 1.1.9 2 2 2h14c1.1 0 2-.9 2-2V5c0-1.1-.9-2-2-2zM9 17H7v-7h2v7zm4 0h-2V7h2v10zm4 0h-2v-4h2v4z\"/>\n",
              "    </g>\n",
              "</svg>\n",
              "  </button>\n",
              "\n",
              "<style>\n",
              "  .colab-df-quickchart {\n",
              "      --bg-color: #E8F0FE;\n",
              "      --fill-color: #1967D2;\n",
              "      --hover-bg-color: #E2EBFA;\n",
              "      --hover-fill-color: #174EA6;\n",
              "      --disabled-fill-color: #AAA;\n",
              "      --disabled-bg-color: #DDD;\n",
              "  }\n",
              "\n",
              "  [theme=dark] .colab-df-quickchart {\n",
              "      --bg-color: #3B4455;\n",
              "      --fill-color: #D2E3FC;\n",
              "      --hover-bg-color: #434B5C;\n",
              "      --hover-fill-color: #FFFFFF;\n",
              "      --disabled-bg-color: #3B4455;\n",
              "      --disabled-fill-color: #666;\n",
              "  }\n",
              "\n",
              "  .colab-df-quickchart {\n",
              "    background-color: var(--bg-color);\n",
              "    border: none;\n",
              "    border-radius: 50%;\n",
              "    cursor: pointer;\n",
              "    display: none;\n",
              "    fill: var(--fill-color);\n",
              "    height: 32px;\n",
              "    padding: 0;\n",
              "    width: 32px;\n",
              "  }\n",
              "\n",
              "  .colab-df-quickchart:hover {\n",
              "    background-color: var(--hover-bg-color);\n",
              "    box-shadow: 0 1px 2px rgba(60, 64, 67, 0.3), 0 1px 3px 1px rgba(60, 64, 67, 0.15);\n",
              "    fill: var(--button-hover-fill-color);\n",
              "  }\n",
              "\n",
              "  .colab-df-quickchart-complete:disabled,\n",
              "  .colab-df-quickchart-complete:disabled:hover {\n",
              "    background-color: var(--disabled-bg-color);\n",
              "    fill: var(--disabled-fill-color);\n",
              "    box-shadow: none;\n",
              "  }\n",
              "\n",
              "  .colab-df-spinner {\n",
              "    border: 2px solid var(--fill-color);\n",
              "    border-color: transparent;\n",
              "    border-bottom-color: var(--fill-color);\n",
              "    animation:\n",
              "      spin 1s steps(1) infinite;\n",
              "  }\n",
              "\n",
              "  @keyframes spin {\n",
              "    0% {\n",
              "      border-color: transparent;\n",
              "      border-bottom-color: var(--fill-color);\n",
              "      border-left-color: var(--fill-color);\n",
              "    }\n",
              "    20% {\n",
              "      border-color: transparent;\n",
              "      border-left-color: var(--fill-color);\n",
              "      border-top-color: var(--fill-color);\n",
              "    }\n",
              "    30% {\n",
              "      border-color: transparent;\n",
              "      border-left-color: var(--fill-color);\n",
              "      border-top-color: var(--fill-color);\n",
              "      border-right-color: var(--fill-color);\n",
              "    }\n",
              "    40% {\n",
              "      border-color: transparent;\n",
              "      border-right-color: var(--fill-color);\n",
              "      border-top-color: var(--fill-color);\n",
              "    }\n",
              "    60% {\n",
              "      border-color: transparent;\n",
              "      border-right-color: var(--fill-color);\n",
              "    }\n",
              "    80% {\n",
              "      border-color: transparent;\n",
              "      border-right-color: var(--fill-color);\n",
              "      border-bottom-color: var(--fill-color);\n",
              "    }\n",
              "    90% {\n",
              "      border-color: transparent;\n",
              "      border-bottom-color: var(--fill-color);\n",
              "    }\n",
              "  }\n",
              "</style>\n",
              "\n",
              "  <script>\n",
              "    async function quickchart(key) {\n",
              "      const quickchartButtonEl =\n",
              "        document.querySelector('#' + key + ' button');\n",
              "      quickchartButtonEl.disabled = true;  // To prevent multiple clicks.\n",
              "      quickchartButtonEl.classList.add('colab-df-spinner');\n",
              "      try {\n",
              "        const charts = await google.colab.kernel.invokeFunction(\n",
              "            'suggestCharts', [key], {});\n",
              "      } catch (error) {\n",
              "        console.error('Error during call to suggestCharts:', error);\n",
              "      }\n",
              "      quickchartButtonEl.classList.remove('colab-df-spinner');\n",
              "      quickchartButtonEl.classList.add('colab-df-quickchart-complete');\n",
              "    }\n",
              "    (() => {\n",
              "      let quickchartButtonEl =\n",
              "        document.querySelector('#df-9bc2352d-020f-4d0f-b501-54a4829a03fc button');\n",
              "      quickchartButtonEl.style.display =\n",
              "        google.colab.kernel.accessAllowed ? 'block' : 'none';\n",
              "    })();\n",
              "  </script>\n",
              "</div>\n",
              "\n",
              "    </div>\n",
              "  </div>\n"
            ],
            "text/plain": [
              "                         unique_song_count  \\\n",
              "artist_name                                  \n",
              "various artists                       6725   \n",
              "johann sebastian bach                 6303   \n",
              "wolfgang amadeus mozart               4510   \n",
              "vitamin string quartet                3597   \n",
              "grateful dead                         3378   \n",
              "frank sinatra                         2966   \n",
              "ella fitzgerald                       2845   \n",
              "ludwig van beethoven                  2425   \n",
              "lata mangeshkar                       2419   \n",
              "johnny cash                           2213   \n",
              "\n",
              "                                                           song_names_list  \n",
              "artist_name                                                                 \n",
              "various artists          [various artists - i fancy laura marling, vari...  \n",
              "johann sebastian bach    [johann sebastian bach - air, johann sebastian...  \n",
              "wolfgang amadeus mozart  [wolfgang amadeus mozart - piano sonata no. 11...  \n",
              "vitamin string quartet   [vitamin string quartet - jack and sally monta...  \n",
              "grateful dead            [grateful dead - box of rain - remastered vers...  \n",
              "frank sinatra            [frank sinatra - serenade in blue, frank sinat...  \n",
              "ella fitzgerald          [ella fitzgerald - dream a little dream of me,...  \n",
              "ludwig van beethoven     [ludwig van beethoven - fur elise, ludwig van ...  \n",
              "lata mangeshkar          [lata mangeshkar - tujhe dekha to yeh, lata ma...  \n",
              "johnny cash              [johnny cash - hurt, johnny cash - hurt, johnn...  "
            ]
          },
          "execution_count": 25,
          "metadata": {},
          "output_type": "execute_result"
        }
      ],
      "source": [
        "track_details_per_artist = df_cleaned_final.groupby('artist_name').agg({'song_name': ['nunique', list]})\n",
        "track_details_per_artist.columns = ['unique_song_count', 'song_names_list']\n",
        "\n",
        "# Sort in descending order (most songs first)\n",
        "sorted_by_song_count_desc = track_details_per_artist.sort_values(by='unique_song_count', ascending=False)\n",
        "sorted_by_song_count_desc.head(10)"
      ]
    },
    {
      "cell_type": "code",
      "execution_count": null,
      "metadata": {
        "colab": {
          "base_uri": "https://localhost:8080/",
          "height": 807
        },
        "id": "sqf5YF5dyGsK",
        "outputId": "e2e2d9e4-9b26-4141-9b20-ba71acf6352a"
      },
      "outputs": [
        {
          "data": {
            "image/png": "[encoded data removed]",
            "text/plain": [
              "<Figure size 1000x800 with 1 Axes>"
            ]
          },
          "metadata": {},
          "output_type": "display_data"
        }
      ],
      "source": [
        "from matplotlib import pyplot as plt\n",
        "\n",
        "# Plotting the sorted data\n",
        "plt.figure(figsize=(10, 8))  # You can adjust the figure size if needed\n",
        "sorted_by_song_count_desc['unique_song_count'].head(20).plot(kind='bar', color='skyblue')  # Plot top 20 artists\n",
        "\n",
        "plt.title('Number of Unique Tracks per Artist')\n",
        "plt.xlabel('Artist Name')\n",
        "plt.ylabel('Unique Track Count')\n",
        "plt.xticks(rotation=45, ha='right')  # Rotate x-axis labels for readability\n",
        "plt.tight_layout()  # Adjust layout to prevent clipping of labels\n",
        "plt.show()\n"
      ]
    },
    {
      "cell_type": "markdown",
      "metadata": {
        "id": "vYMD6cuk1e_V"
      },
      "source": [
        "## Playlists Lengths"
      ]
    },
    {
      "cell_type": "code",
      "execution_count": null,
      "metadata": {
        "colab": {
          "base_uri": "https://localhost:8080/",
          "height": 892
        },
        "id": "EK_vAekDowsG",
        "outputId": "cb2d39d5-7320-4649-f213-a12a7a27692f"
      },
      "outputs": [
        {
          "data": {
            "image/png": "[encoded data removed]",
            "text/plain": [
              "<Figure size 1000x500 with 1 Axes>"
            ]
          },
          "metadata": {},
          "output_type": "display_data"
        },
        {
          "data": {
            "image/png": "[encoded data removed]",
            "text/plain": [
              "<Figure size 1000x200 with 1 Axes>"
            ]
          },
          "metadata": {},
          "output_type": "display_data"
        },
        {
          "name": "stdout",
          "output_type": "stream",
          "text": [
            "Playlist Length Statistics:\n",
            "count    230708.000000\n",
            "mean         55.238930\n",
            "std         269.603424\n",
            "min           1.000000\n",
            "25%          11.000000\n",
            "50%          16.000000\n",
            "75%          38.000000\n",
            "max       47259.000000\n",
            "Name: song_name, dtype: float64\n"
          ]
        }
      ],
      "source": [
        "import matplotlib.pyplot as plt\n",
        "\n",
        "# Calculate playlist lengths\n",
        "playlist_lengths = df_cleaned_final.groupby('unq_playlist_name')['song_name'].count()\n",
        "\n",
        "# Save the playlist lengths for reference\n",
        "playlist_lengths.to_csv('playlist_lengths.csv')\n",
        "\n",
        "# Plot histogram for playlist lengths\n",
        "plt.figure(figsize=(10, 5))\n",
        "playlist_lengths.plot(kind='hist', bins=50, edgecolor='black', logy=True)\n",
        "plt.title('Playlist Length Distribution')\n",
        "plt.xlabel('Number of Tracks per Playlist')\n",
        "plt.ylabel('Frequency')\n",
        "plt.grid(axis='y')\n",
        "plt.show()\n",
        "\n",
        "# Boxplot to visualize outliers\n",
        "plt.figure(figsize=(10, 2))\n",
        "playlist_lengths.plot(kind='box', vert=False)\n",
        "plt.title('Boxplot of Playlist Lengths')\n",
        "plt.grid(axis='x')\n",
        "plt.show()\n",
        "\n",
        "# Basic statistics of playlist lengths\n",
        "print(\"Playlist Length Statistics:\")\n",
        "print(playlist_lengths.describe())\n"
      ]
    },
    {
      "cell_type": "code",
      "execution_count": null,
      "metadata": {
        "colab": {
          "base_uri": "https://localhost:8080/",
          "height": 106
        },
        "id": "M5OiYXdFpFDg",
        "outputId": "7575c95a-7156-4ce8-a7a6-c14a64b02799"
      },
      "outputs": [
        {
          "ename": "SyntaxError",
          "evalue": "incomplete input (<ipython-input-41-7dcee0d3f114>, line 2)",
          "output_type": "error",
          "traceback": [
            "\u001b[0;36m  File \u001b[0;32m\"<ipython-input-41-7dcee0d3f114>\"\u001b[0;36m, line \u001b[0;32m2\u001b[0m\n\u001b[0;31m    \"\"\"\u001b[0m\n\u001b[0m    ^\u001b[0m\n\u001b[0;31mSyntaxError\u001b[0m\u001b[0;31m:\u001b[0m incomplete input\n"
          ]
        }
      ],
      "source": [
        "import matplotlib.pyplot as plt\n",
        "\"\"\"\n",
        "I dont agree with the Conservative/modorate/liberal Threshold here.\n",
        "100 Threshold is not conservative,\n",
        "As the descriptive satistics shows  80% of the playlisst have no more than 50 tracks\n",
        "Therefore, around 50-60 Threshold is liberal\n",
        "\n",
        "\n",
        "\n",
        "# Plot histogram of playlist lengths\n",
        "playlist_lengths = df_cleaned_final.groupby('unq_playlist_name')['song_name'].count()\n",
        "plt.figure(figsize=(10, 6))\n",
        "playlist_lengths.plot(kind='hist', bins=50, edgecolor='black', logy=True)\n",
        "plt.axvline(x=100, color='red', linestyle='--', label='Conservative Threshold (100)')\n",
        "plt.axvline(x=500, color='green', linestyle='--', label='Moderate Threshold (500)')\n",
        "plt.axvline(x=1000, color='blue', linestyle='--', label='Liberal Threshold (1000)')\n",
        "plt.title('Distribution of Playlist Lengths')\n",
        "plt.xlabel('Number of Tracks per Playlist')\n",
        "plt.ylabel('Frequency (log scale)')\n",
        "plt.legend()\n",
        "plt.show()\n"
      ]
    },
    {
      "cell_type": "markdown",
      "metadata": {
        "id": "2Mf6kSsRrVxi"
      },
      "source": [
        "# Summary"
      ]
    },
    {
      "cell_type": "code",
      "execution_count": null,
      "metadata": {
        "colab": {
          "base_uri": "https://localhost:8080/",
          "height": 272
        },
        "id": "AyBAaeMpsTVi",
        "outputId": "4f843be4-19b6-4ac2-afd8-1a4427d45711"
      },
      "outputs": [
        {
          "data": {
            "text/html": [
              "<div>\n",
              "<style scoped>\n",
              "    .dataframe tbody tr th:only-of-type {\n",
              "        vertical-align: middle;\n",
              "    }\n",
              "\n",
              "    .dataframe tbody tr th {\n",
              "        vertical-align: top;\n",
              "    }\n",
              "\n",
              "    .dataframe thead th {\n",
              "        text-align: right;\n",
              "    }\n",
              "</style>\n",
              "<table border=\"1\" class=\"dataframe\">\n",
              "  <thead>\n",
              "    <tr style=\"text-align: right;\">\n",
              "      <th></th>\n",
              "      <th>0</th>\n",
              "    </tr>\n",
              "  </thead>\n",
              "  <tbody>\n",
              "    <tr>\n",
              "      <th>user_id</th>\n",
              "      <td>15898</td>\n",
              "    </tr>\n",
              "    <tr>\n",
              "      <th>artist_name</th>\n",
              "      <td>279658</td>\n",
              "    </tr>\n",
              "    <tr>\n",
              "      <th>track_name</th>\n",
              "      <td>1854971</td>\n",
              "    </tr>\n",
              "    <tr>\n",
              "      <th>playlist_name</th>\n",
              "      <td>143640</td>\n",
              "    </tr>\n",
              "    <tr>\n",
              "      <th>song_name</th>\n",
              "      <td>2658530</td>\n",
              "    </tr>\n",
              "    <tr>\n",
              "      <th>unq_playlist_name</th>\n",
              "      <td>230708</td>\n",
              "    </tr>\n",
              "  </tbody>\n",
              "</table>\n",
              "</div><br><label><b>dtype:</b> int64</label>"
            ],
            "text/plain": [
              "user_id                15898\n",
              "artist_name           279658\n",
              "track_name           1854971\n",
              "playlist_name         143640\n",
              "song_name            2658530\n",
              "unq_playlist_name     230708\n",
              "dtype: int64"
            ]
          },
          "execution_count": 29,
          "metadata": {},
          "output_type": "execute_result"
        }
      ],
      "source": [
        "# Analyze unique values in columns\n",
        "df_cleaned_final.nunique()"
      ]
    },
    {
      "cell_type": "code",
      "execution_count": null,
      "metadata": {
        "colab": {
          "base_uri": "https://localhost:8080/",
          "height": 175
        },
        "id": "E7yDQ1clsVDy",
        "outputId": "9a34e1a2-483c-4641-e591-38678c21b9f4"
      },
      "outputs": [
        {
          "data": {
            "application/vnd.google.colaboratory.intrinsic+json": {
              "summary": "{\n  \"name\": \"df_cleaned_final\",\n  \"rows\": 4,\n  \"fields\": [\n    {\n      \"column\": \"user_id\",\n      \"properties\": {\n        \"dtype\": \"string\",\n        \"num_unique_values\": 4,\n        \"samples\": [\n          15898,\n          \"294764\",\n          \"12744063\"\n        ],\n        \"semantic_type\": \"\",\n        \"description\": \"\"\n      }\n    },\n    {\n      \"column\": \"artist_name\",\n      \"properties\": {\n        \"dtype\": \"string\",\n        \"num_unique_values\": 4,\n        \"samples\": [\n          279658,\n          \"35935\",\n          \"12744060\"\n        ],\n        \"semantic_type\": \"\",\n        \"description\": \"\"\n      }\n    },\n    {\n      \"column\": \"track_name\",\n      \"properties\": {\n        \"dtype\": \"string\",\n        \"num_unique_values\": 4,\n        \"samples\": [\n          1854971,\n          \"6709\",\n          \"12744048\"\n        ],\n        \"semantic_type\": \"\",\n        \"description\": \"\"\n      }\n    },\n    {\n      \"column\": \"playlist_name\",\n      \"properties\": {\n        \"dtype\": \"string\",\n        \"num_unique_values\": 4,\n        \"samples\": [\n          143640,\n          \"1327148\",\n          \"12744063\"\n        ],\n        \"semantic_type\": \"\",\n        \"description\": \"\"\n      }\n    },\n    {\n      \"column\": \"song_name\",\n      \"properties\": {\n        \"dtype\": \"string\",\n        \"num_unique_values\": 4,\n        \"samples\": [\n          2658530,\n          \"2605\",\n          \"12744063\"\n        ],\n        \"semantic_type\": \"\",\n        \"description\": \"\"\n      }\n    },\n    {\n      \"column\": \"unq_playlist_name\",\n      \"properties\": {\n        \"dtype\": \"string\",\n        \"num_unique_values\": 4,\n        \"samples\": [\n          230708,\n          \"47259\",\n          \"12744063\"\n        ],\n        \"semantic_type\": \"\",\n        \"description\": \"\"\n      }\n    }\n  ]\n}",
              "type": "dataframe"
            },
            "text/html": [
              "\n",
              "  <div id=\"df-e1745280-cd59-4db0-8651-712530e28f17\" class=\"colab-df-container\">\n",
              "    <div>\n",
              "<style scoped>\n",
              "    .dataframe tbody tr th:only-of-type {\n",
              "        vertical-align: middle;\n",
              "    }\n",
              "\n",
              "    .dataframe tbody tr th {\n",
              "        vertical-align: top;\n",
              "    }\n",
              "\n",
              "    .dataframe thead th {\n",
              "        text-align: right;\n",
              "    }\n",
              "</style>\n",
              "<table border=\"1\" class=\"dataframe\">\n",
              "  <thead>\n",
              "    <tr style=\"text-align: right;\">\n",
              "      <th></th>\n",
              "      <th>user_id</th>\n",
              "      <th>artist_name</th>\n",
              "      <th>track_name</th>\n",
              "      <th>playlist_name</th>\n",
              "      <th>song_name</th>\n",
              "      <th>unq_playlist_name</th>\n",
              "    </tr>\n",
              "  </thead>\n",
              "  <tbody>\n",
              "    <tr>\n",
              "      <th>count</th>\n",
              "      <td>12744063</td>\n",
              "      <td>12744060</td>\n",
              "      <td>12744048</td>\n",
              "      <td>12744063</td>\n",
              "      <td>12744063</td>\n",
              "      <td>12744063</td>\n",
              "    </tr>\n",
              "    <tr>\n",
              "      <th>unique</th>\n",
              "      <td>15898</td>\n",
              "      <td>279658</td>\n",
              "      <td>1854971</td>\n",
              "      <td>143640</td>\n",
              "      <td>2658530</td>\n",
              "      <td>230708</td>\n",
              "    </tr>\n",
              "    <tr>\n",
              "      <th>top</th>\n",
              "      <td>4398de6902abde3351347b048fcdc287</td>\n",
              "      <td>daft punk</td>\n",
              "      <td>intro</td>\n",
              "      <td>starred</td>\n",
              "      <td>m83 - midnight city</td>\n",
              "      <td>4398de6902abde3351347b048fcdc287 - starred</td>\n",
              "    </tr>\n",
              "    <tr>\n",
              "      <th>freq</th>\n",
              "      <td>294764</td>\n",
              "      <td>35935</td>\n",
              "      <td>6709</td>\n",
              "      <td>1327148</td>\n",
              "      <td>2605</td>\n",
              "      <td>47259</td>\n",
              "    </tr>\n",
              "  </tbody>\n",
              "</table>\n",
              "</div>\n",
              "    <div class=\"colab-df-buttons\">\n",
              "\n",
              "  <div class=\"colab-df-container\">\n",
              "    <button class=\"colab-df-convert\" onclick=\"convertToInteractive('df-e1745280-cd59-4db0-8651-712530e28f17')\"\n",
              "            title=\"Convert this dataframe to an interactive table.\"\n",
              "            style=\"display:none;\">\n",
              "\n",
              "  <svg xmlns=\"http://www.w3.org/2000/svg\" height=\"24px\" viewBox=\"0 -960 960 960\">\n",
              "    <path d=\"M120-120v-720h720v720H120Zm60-500h600v-160H180v160Zm220 220h160v-160H400v160Zm0 220h160v-160H400v160ZM180-400h160v-160H180v160Zm440 0h160v-160H620v160ZM180-180h160v-160H180v160Zm440 0h160v-160H620v160Z\"/>\n",
              "  </svg>\n",
              "    </button>\n",
              "\n",
              "  <style>\n",
              "    .colab-df-container {\n",
              "      display:flex;\n",
              "      gap: 12px;\n",
              "    }\n",
              "\n",
              "    .colab-df-convert {\n",
              "      background-color: #E8F0FE;\n",
              "      border: none;\n",
              "      border-radius: 50%;\n",
              "      cursor: pointer;\n",
              "      display: none;\n",
              "      fill: #1967D2;\n",
              "      height: 32px;\n",
              "      padding: 0 0 0 0;\n",
              "      width: 32px;\n",
              "    }\n",
              "\n",
              "    .colab-df-convert:hover {\n",
              "      background-color: #E2EBFA;\n",
              "      box-shadow: 0px 1px 2px rgba(60, 64, 67, 0.3), 0px 1px 3px 1px rgba(60, 64, 67, 0.15);\n",
              "      fill: #174EA6;\n",
              "    }\n",
              "\n",
              "    .colab-df-buttons div {\n",
              "      margin-bottom: 4px;\n",
              "    }\n",
              "\n",
              "    [theme=dark] .colab-df-convert {\n",
              "      background-color: #3B4455;\n",
              "      fill: #D2E3FC;\n",
              "    }\n",
              "\n",
              "    [theme=dark] .colab-df-convert:hover {\n",
              "      background-color: #434B5C;\n",
              "      box-shadow: 0px 1px 3px 1px rgba(0, 0, 0, 0.15);\n",
              "      filter: drop-shadow(0px 1px 2px rgba(0, 0, 0, 0.3));\n",
              "      fill: #FFFFFF;\n",
              "    }\n",
              "  </style>\n",
              "\n",
              "    <script>\n",
              "      const buttonEl =\n",
              "        document.querySelector('#df-e1745280-cd59-4db0-8651-712530e28f17 button.colab-df-convert');\n",
              "      buttonEl.style.display =\n",
              "        google.colab.kernel.accessAllowed ? 'block' : 'none';\n",
              "\n",
              "      async function convertToInteractive(key) {\n",
              "        const element = document.querySelector('#df-e1745280-cd59-4db0-8651-712530e28f17');\n",
              "        const dataTable =\n",
              "          await google.colab.kernel.invokeFunction('convertToInteractive',\n",
              "                                                    [key], {});\n",
              "        if (!dataTable) return;\n",
              "\n",
              "        const docLinkHtml = 'Like what you see? Visit the ' +\n",
              "          '<a target=\"_blank\" href=https://colab.research.google.com/notebooks/data_table.ipynb>data table notebook</a>'\n",
              "          + ' to learn more about interactive tables.';\n",
              "        element.innerHTML = '';\n",
              "        dataTable['output_type'] = 'display_data';\n",
              "        await google.colab.output.renderOutput(dataTable, element);\n",
              "        const docLink = document.createElement('div');\n",
              "        docLink.innerHTML = docLinkHtml;\n",
              "        element.appendChild(docLink);\n",
              "      }\n",
              "    </script>\n",
              "  </div>\n",
              "\n",
              "\n",
              "<div id=\"df-b115af84-8159-42b0-bdf7-43d4653b0750\">\n",
              "  <button class=\"colab-df-quickchart\" onclick=\"quickchart('df-b115af84-8159-42b0-bdf7-43d4653b0750')\"\n",
              "            title=\"Suggest charts\"\n",
              "            style=\"display:none;\">\n",
              "\n",
              "<svg xmlns=\"http://www.w3.org/2000/svg\" height=\"24px\"viewBox=\"0 0 24 24\"\n",
              "     width=\"24px\">\n",
              "    <g>\n",
              "        <path d=\"M19 3H5c-1.1 0-2 .9-2 2v14c0 1.1.9 2 2 2h14c1.1 0 2-.9 2-2V5c0-1.1-.9-2-2-2zM9 17H7v-7h2v7zm4 0h-2V7h2v10zm4 0h-2v-4h2v4z\"/>\n",
              "    </g>\n",
              "</svg>\n",
              "  </button>\n",
              "\n",
              "<style>\n",
              "  .colab-df-quickchart {\n",
              "      --bg-color: #E8F0FE;\n",
              "      --fill-color: #1967D2;\n",
              "      --hover-bg-color: #E2EBFA;\n",
              "      --hover-fill-color: #174EA6;\n",
              "      --disabled-fill-color: #AAA;\n",
              "      --disabled-bg-color: #DDD;\n",
              "  }\n",
              "\n",
              "  [theme=dark] .colab-df-quickchart {\n",
              "      --bg-color: #3B4455;\n",
              "      --fill-color: #D2E3FC;\n",
              "      --hover-bg-color: #434B5C;\n",
              "      --hover-fill-color: #FFFFFF;\n",
              "      --disabled-bg-color: #3B4455;\n",
              "      --disabled-fill-color: #666;\n",
              "  }\n",
              "\n",
              "  .colab-df-quickchart {\n",
              "    background-color: var(--bg-color);\n",
              "    border: none;\n",
              "    border-radius: 50%;\n",
              "    cursor: pointer;\n",
              "    display: none;\n",
              "    fill: var(--fill-color);\n",
              "    height: 32px;\n",
              "    padding: 0;\n",
              "    width: 32px;\n",
              "  }\n",
              "\n",
              "  .colab-df-quickchart:hover {\n",
              "    background-color: var(--hover-bg-color);\n",
              "    box-shadow: 0 1px 2px rgba(60, 64, 67, 0.3), 0 1px 3px 1px rgba(60, 64, 67, 0.15);\n",
              "    fill: var(--button-hover-fill-color);\n",
              "  }\n",
              "\n",
              "  .colab-df-quickchart-complete:disabled,\n",
              "  .colab-df-quickchart-complete:disabled:hover {\n",
              "    background-color: var(--disabled-bg-color);\n",
              "    fill: var(--disabled-fill-color);\n",
              "    box-shadow: none;\n",
              "  }\n",
              "\n",
              "  .colab-df-spinner {\n",
              "    border: 2px solid var(--fill-color);\n",
              "    border-color: transparent;\n",
              "    border-bottom-color: var(--fill-color);\n",
              "    animation:\n",
              "      spin 1s steps(1) infinite;\n",
              "  }\n",
              "\n",
              "  @keyframes spin {\n",
              "    0% {\n",
              "      border-color: transparent;\n",
              "      border-bottom-color: var(--fill-color);\n",
              "      border-left-color: var(--fill-color);\n",
              "    }\n",
              "    20% {\n",
              "      border-color: transparent;\n",
              "      border-left-color: var(--fill-color);\n",
              "      border-top-color: var(--fill-color);\n",
              "    }\n",
              "    30% {\n",
              "      border-color: transparent;\n",
              "      border-left-color: var(--fill-color);\n",
              "      border-top-color: var(--fill-color);\n",
              "      border-right-color: var(--fill-color);\n",
              "    }\n",
              "    40% {\n",
              "      border-color: transparent;\n",
              "      border-right-color: var(--fill-color);\n",
              "      border-top-color: var(--fill-color);\n",
              "    }\n",
              "    60% {\n",
              "      border-color: transparent;\n",
              "      border-right-color: var(--fill-color);\n",
              "    }\n",
              "    80% {\n",
              "      border-color: transparent;\n",
              "      border-right-color: var(--fill-color);\n",
              "      border-bottom-color: var(--fill-color);\n",
              "    }\n",
              "    90% {\n",
              "      border-color: transparent;\n",
              "      border-bottom-color: var(--fill-color);\n",
              "    }\n",
              "  }\n",
              "</style>\n",
              "\n",
              "  <script>\n",
              "    async function quickchart(key) {\n",
              "      const quickchartButtonEl =\n",
              "        document.querySelector('#' + key + ' button');\n",
              "      quickchartButtonEl.disabled = true;  // To prevent multiple clicks.\n",
              "      quickchartButtonEl.classList.add('colab-df-spinner');\n",
              "      try {\n",
              "        const charts = await google.colab.kernel.invokeFunction(\n",
              "            'suggestCharts', [key], {});\n",
              "      } catch (error) {\n",
              "        console.error('Error during call to suggestCharts:', error);\n",
              "      }\n",
              "      quickchartButtonEl.classList.remove('colab-df-spinner');\n",
              "      quickchartButtonEl.classList.add('colab-df-quickchart-complete');\n",
              "    }\n",
              "    (() => {\n",
              "      let quickchartButtonEl =\n",
              "        document.querySelector('#df-b115af84-8159-42b0-bdf7-43d4653b0750 button');\n",
              "      quickchartButtonEl.style.display =\n",
              "        google.colab.kernel.accessAllowed ? 'block' : 'none';\n",
              "    })();\n",
              "  </script>\n",
              "</div>\n",
              "\n",
              "    </div>\n",
              "  </div>\n"
            ],
            "text/plain": [
              "                                 user_id artist_name track_name playlist_name  \\\n",
              "count                           12744063    12744060   12744048      12744063   \n",
              "unique                             15898      279658    1854971        143640   \n",
              "top     4398de6902abde3351347b048fcdc287   daft punk      intro       starred   \n",
              "freq                              294764       35935       6709       1327148   \n",
              "\n",
              "                  song_name                           unq_playlist_name  \n",
              "count              12744063                                    12744063  \n",
              "unique              2658530                                      230708  \n",
              "top     m83 - midnight city  4398de6902abde3351347b048fcdc287 - starred  \n",
              "freq                   2605                                       47259  "
            ]
          },
          "execution_count": 30,
          "metadata": {},
          "output_type": "execute_result"
        }
      ],
      "source": [
        "# Describe the dataset\n",
        "df_cleaned_final.describe(include='all')"
      ]
    },
    {
      "cell_type": "markdown",
      "metadata": {
        "id": "Mr_xiQCHoB2R"
      },
      "source": [
        "# Steps for further preprocessing of the data"
      ]
    },
    {
      "cell_type": "markdown",
      "metadata": {
        "id": "7jLjOs-AseoX"
      },
      "source": [
        "\n",
        "\n",
        "* removing outliers - playlists of many songs, playlists of few songs\n",
        "* removing \"various artists\" songs\n",
        "* capping playlists from certain lengths\n",
        "* tokenizing playlists\n",
        "\n",
        "#### note - for reducing data volume, you can safely remove the \"playlist_name\" and \"track_name\" columns, as they appear in more suitable formats in the dataset\n",
        "\n"
      ]
    },
    {
      "cell_type": "markdown",
      "metadata": {
        "id": "TXjk2E4jskjp"
      },
      "source": [
        "## Capping example Use a Moderate Threshold (50) to filter out extremely long playlists while\n"
      ]
    },
    {
      "cell_type": "code",
      "execution_count": null,
      "metadata": {
        "colab": {
          "base_uri": "https://localhost:8080/"
        },
        "id": "f-7tf26_smai",
        "outputId": "d20768a1-78ea-437d-dff9-fd708f6c54da"
      },
      "outputs": [
        {
          "name": "stdout",
          "output_type": "stream",
          "text": [
            "Filtered dataset saved with playlists capped at 500 tracks.\n"
          ]
        }
      ],
      "source": [
        "\"\"\"\n",
        "CAP_THRESHOLD = 50\n",
        "\n",
        "# Filter playlists\n",
        "valid_playlists = playlist_lengths[playlist_lengths <= CAP_THRESHOLD].index\n",
        "df_final = df_cleaned_final[df_cleaned_final['playlist_name'].isin(valid_playlists)]\n",
        "\n",
        "# Save the capped dataset\n",
        "df_cleaned_final.to_csv('processed_data_capped_playlists.csv', index=False)\n",
        "print(f\"Filtered dataset saved with playlists capped at {CAP_THRESHOLD} tracks.\")\n"
      ]
    },
    {
      "cell_type": "markdown",
      "metadata": {
        "id": "T7jaNSZ0tVhu"
      },
      "source": [
        "## Playlist Diversity Analysis"
      ]
    },
    {
      "cell_type": "markdown",
      "metadata": {
        "id": "jwelse8lten8"
      },
      "source": [
        "Analyze the diversity of playlists based on unique artists or tracks.\n"
      ]
    },
    {
      "cell_type": "code",
      "execution_count": null,
      "metadata": {
        "colab": {
          "base_uri": "https://localhost:8080/"
        },
        "id": "efT7BjSntc_m",
        "outputId": "a8025869-8246-4fc2-d6c4-8ab081a67c87"
      },
      "outputs": [
        {
          "name": "stdout",
          "output_type": "stream",
          "text": [
            "Playlist Diversity (Tracks):\n",
            "count    230708.000000\n",
            "mean         55.238930\n",
            "std         269.603424\n",
            "min           1.000000\n",
            "25%          11.000000\n",
            "50%          16.000000\n",
            "75%          38.000000\n",
            "max       47259.000000\n",
            "Name: song_name, dtype: float64\n",
            "\n",
            "Playlist Diversity (Artists):\n",
            "count    230708.000000\n",
            "mean         18.733208\n",
            "std          67.789819\n",
            "min           1.000000\n",
            "25%           1.000000\n",
            "50%           2.000000\n",
            "75%          17.000000\n",
            "max       16931.000000\n",
            "Name: artist_name, dtype: float64\n"
          ]
        }
      ],
      "source": [
        "# Unique tracks per playlist\n",
        "unique_tracks = df_cleaned_final.groupby('unq_playlist_name')['song_name'].nunique()\n",
        "unique_tracks.to_csv('unique_tracks_per_playlist.csv')\n",
        "\n",
        "# Unique artists per playlist\n",
        "unique_artists = df_cleaned_final.groupby('unq_playlist_name')['artist_name'].nunique()\n",
        "unique_artists.to_csv('unique_artists_per_playlist.csv')\n",
        "\n",
        "# Display diversity statistics\n",
        "print(\"Playlist Diversity (Tracks):\")\n",
        "print(unique_tracks.describe())\n",
        "\n",
        "print(\"\\nPlaylist Diversity (Artists):\")\n",
        "print(unique_artists.describe())\n"
      ]
    },
    {
      "cell_type": "markdown",
      "metadata": {
        "id": "f4dIaWJz3ZZ9"
      },
      "source": [
        "# Word2Vec based on 1 objective\n",
        "The First Objective: To teach the model the conection between the songs within the playlists"
      ]
    },
    {
      "cell_type": "code",
      "execution_count": null,
      "metadata": {
        "colab": {
          "base_uri": "https://localhost:8080/"
        },
        "id": "ZHKiodBgRlKx",
        "outputId": "b10b738d-01ee-4a2c-b025-fcb47ba629c4"
      },
      "outputs": [
        {
          "name": "stdout",
          "output_type": "stream",
          "text": [
            "Drive already mounted at /content/drive; to attempt to forcibly remount, call drive.mount(\"/content/drive\", force_remount=True).\n"
          ]
        }
      ],
      "source": [
        "import pandas as pd\n",
        "\n",
        "# Unfortunately, you should download the file to your drive\n",
        "# file link: https://drive.google.com/file/d/1zTEsmlHihMUmWNw90VDIvnK5s8SvJgLH/view?usp=sharing\n",
        "# Then correct the file path accordingly\n",
        "\n",
        "from google.colab import drive\n",
        "drive.mount('/content/drive')\n",
        "df_cleaned_final = '/content/drive/My Drive/Colab Notebooks/Final Project/cleaned_step3.csv'\n",
        "df_cleaned_final = pd.read_csv(df_cleaned_final)"
      ]
    },
    {
      "cell_type": "code",
      "execution_count": null,
      "metadata": {
        "colab": {
          "base_uri": "https://localhost:8080/"
        },
        "id": "5UwpMY1_dBiD",
        "outputId": "445b163f-2679-454a-a341-bcd31d383535"
      },
      "outputs": [
        {
          "name": "stdout",
          "output_type": "stream",
          "text": [
            "Total songs before filtering: 2658530\n",
            "Total songs after filtering: 99266\n"
          ]
        }
      ],
      "source": [
        "#Purpose: Keeping songs that apear in at least 20 different playlists\n",
        "#This will delete rare songs from the model\n",
        "#By filtering rare songs early, you reduce noise and improve the quality of training data.\n",
        "\n",
        "song_counts = df_cleaned_final['song_name'].value_counts()\n",
        "\n",
        "#Filter songs appearing at least 20 times\n",
        "common_songs = song_counts[song_counts >= 20].index  # Adjust threshold as needed\n",
        "filtered_songs_df = df_cleaned_final[df_cleaned_final['song_name'].isin(common_songs)]\n",
        "\n",
        "# Count songs per playlist (after removing rare songs)\n",
        "songs_per_playlist = filtered_songs_df.groupby('unq_playlist_name')['song_name'].count()\n",
        "\n",
        "print(f\"Total songs before filtering: {len(song_counts)}\")\n",
        "print(f\"Total songs after filtering: {len(common_songs)}\")\n"
      ]
    },
    {
      "cell_type": "code",
      "execution_count": null,
      "metadata": {
        "id": "VjPMPVmXdBiE"
      },
      "outputs": [],
      "source": [
        "#Purpose: Ensures the model is trained on playlists with meaningful context (neither too small nor too large).\n",
        "#Therefore, we filter playlists that include between 10 to 50 songs for efficient training.\n",
        "#(Up to 25% of the playlists in this df have max 10 songs and Up to 80% of the playlists in the df have max 50 songs).\n",
        "\n",
        "# Filter playlists with 10 to 50 songs\n",
        "valid_playlists = songs_per_playlist[(songs_per_playlist >= 10) & (songs_per_playlist <= 50)].index\n",
        "\n",
        "# Subset the DataFrame to include only these playlists\n",
        "filtered_df = df_cleaned_final[df_cleaned_final['unq_playlist_name'].isin(valid_playlists)]\n",
        "\n",
        "filtered_df.to_csv(\"filtered_data.csv\", index=False)\n",
        "\n"
      ]
    },
    {
      "cell_type": "code",
      "execution_count": null,
      "metadata": {
        "colab": {
          "base_uri": "https://localhost:8080/"
        },
        "id": "NkkpjGfYflwf",
        "outputId": "1750bb8a-c747-4c3f-8051-9e678b4215af"
      },
      "outputs": [
        {
          "name": "stdout",
          "output_type": "stream",
          "text": [
            "Average length of song names: 34.06\n",
            "80th percentile of song name lengths: 43.00\n",
            "Number of long song names to exclude from the model: 587145\n",
            "Number of song names to include in the model: 2423741\n",
            "Number of rows in filtered_short_df: 2423741\n"
          ]
        }
      ],
      "source": [
        "#We know that some songs are too long and may harm the model recognition.\n",
        "\n",
        "#Calculate average song name\n",
        "\n",
        "# חישוב אורך כל שם שיר\n",
        "song_name_lengths = [len(song) for song in filtered_df['song_name']]\n",
        "\n",
        "# חישוב ממוצע אורך השמות\n",
        "average_length = sum(song_name_lengths) / len(song_name_lengths)\n",
        "\n",
        "\n",
        "print(f\"Average length of song names: {average_length:.2f}\")\n",
        "\n",
        "\n",
        "#calculate the 80 percentile of song_name length\n",
        "import numpy as np\n",
        "\n",
        "# חישוב אורכי כל שמות השירים\n",
        "song_name_lengths = [len(song) for song in filtered_df['song_name']]\n",
        "\n",
        "# חישוב אחוזון ה-80\n",
        "percentile_80 = np.percentile(song_name_lengths, 80)\n",
        "\n",
        "# הדפסה של התוצאה\n",
        "print(f\"80th percentile of song name lengths: {percentile_80:.2f}\")\n",
        "\n",
        "\n",
        "#We define a max value for song_name lenght for the model\n",
        "# הגדר אורך מקסימלי לשם השיר\n",
        "max_length = 43\n",
        "\n",
        "# סינון שמות ארוכים מהמילון\n",
        "long_songs = [song for song in filtered_df['song_name'] if len(song) > max_length]\n",
        "print(f\"Number of long song names to exclude from the model: {len(long_songs)}\")\n",
        "\n",
        "\n",
        "short_songs = [song for song in filtered_df['song_name'] if len(song) <= max_length]\n",
        "print(f\"Number of song names to include in the model: {len(short_songs)}\")\n",
        "\n",
        "\n",
        "# Filter the DataFrame to include only short songs\n",
        "filtered_short_df = filtered_df[filtered_df['song_name'].isin(short_songs)]\n",
        "print(f\"Number of rows in filtered_short_df: {filtered_short_df.shape[0]}\")\n",
        "\n"
      ]
    },
    {
      "cell_type": "code",
      "execution_count": null,
      "metadata": {
        "colab": {
          "base_uri": "https://localhost:8080/"
        },
        "id": "jHsiJ1INjODf",
        "outputId": "fd4db84e-6b63-4680-e081-6b4a748ca519"
      },
      "outputs": [
        {
          "name": "stdout",
          "output_type": "stream",
          "text": [
            "Number of playlists: 90375\n",
            "Example playlist tokens: [['veronica maggio - bas gillar horn', 'titiyo - blajeans och stjarnljus', 'first aid kit - emmylou', 'laleh - goliat', 'veronica maggio - hela huset', 'veronica maggio - hadanefter', 'titiyo - i need you now', 'lars winnerback - kom anglar', 'first aid kit - master pretender', 'first aid kit - my silver lining', 'lars winnerback - om du lamnade mig nu', 'veronica maggio - sergels torg', 'veronica maggio - snalla bli min', 'first aid kit - stay gold', \"first aid kit - the lion's roar\", 'bjorn afzelius - tusen bitar', 'bjorn afzelius - tva ljus', 'veronica maggio - valkommen in', 'laleh - varens forsta dag', 'first aid kit - wolf']]\n"
          ]
        }
      ],
      "source": [
        "#Generate Tokens\n",
        "#Playlist-Song Tokens\n",
        "#Purpose: Converts each playlist into a list of song names (tokens) for Word2Vec training\n",
        "\n",
        "# Group songs by unique playlist names to create tokens\n",
        "playlist_tokens = filtered_short_df.groupby('unq_playlist_name')['song_name'].apply(list).tolist()\n",
        "\n",
        "print(f\"Number of playlists: {len(playlist_tokens)}\")\n",
        "print(\"Example playlist tokens:\", playlist_tokens[:1])"
      ]
    },
    {
      "cell_type": "code",
      "execution_count": null,
      "metadata": {
        "id": "P3PBGJweJJTB"
      },
      "outputs": [],
      "source": []
    },
    {
      "cell_type": "code",
      "execution_count": null,
      "metadata": {
        "colab": {
          "base_uri": "https://localhost:8080/"
        },
        "id": "ocvToLj-JJlc",
        "outputId": "c1c9c183-5ea0-4c9d-ed89-be6acac5524e"
      },
      "outputs": [
        {
          "name": "stdout",
          "output_type": "stream",
          "text": [
            "Execution Time: 3382.09 seconds\n"
          ]
        }
      ],
      "source": [
        "#Train the Word2Vec Model # it takes 56 min to run\n",
        "import time\n",
        "#Purpose:\n",
        "#Learns embeddings for songs and playlists, capturing their contextual relationships.\n",
        "#Saves the trained model for reuse without retraining\n",
        "# Start the timer\n",
        "\"\"\"\n",
        "Train Word2Vec Model\n",
        "2.1 Import and Configure Word2Vec\n",
        "Use Gensim’s Word2Vec model to train embeddings.\n",
        "Configure parameters like vector_size, window, min_count, and epochs.\n",
        "\"\"\"\n",
        "\n",
        "\n",
        "from gensim.models import Word2Vec\n",
        "\n",
        "# Train Word2Vec model\n",
        "w2v_model = Word2Vec(\n",
        "    sentences=playlist_tokens,  # Filtered tokens\n",
        "    vector_size=100,            # Embedding dimensions\n",
        "    window=5,                   # Context window size\n",
        "    min_count=1,                # Minimum frequency of songs\n",
        "    sg=1,                       # Skip-gram  model sg=1 :Suitable for larger datasets\n",
        "    epochs=20,                  # Number of training epochs\n",
        "    workers=4                   # Number of CPU threads\n",
        ")\n",
        "\n",
        "# Save the model\n",
        "w2v_model.save(\"filtered_song2vec_short_songs.model\")"
      ]
    },
    {
      "cell_type": "code",
      "execution_count": null,
      "metadata": {
        "id": "xy9TD4FfKaP-"
      },
      "outputs": [],
      "source": [
        "#Save the file here so u done need to rerun it\n",
        "from google.colab import drive\n",
        "drive.mount('/content/drive')\n",
        "\n",
        "# Save to Google Drive\n",
        "w2v_model.save('/content/drive/My Drive/Colab Notebooks/Final Project/filtered_song2vec_short_songs.model')"
      ]
    },
    {
      "cell_type": "code",
      "execution_count": null,
      "metadata": {
        "colab": {
          "base_uri": "https://localhost:8080/"
        },
        "id": "3MDz-LjUKePj",
        "outputId": "1ead22a6-24ec-45e3-be42-ad59837662c6"
      },
      "outputs": [
        {
          "name": "stdout",
          "output_type": "stream",
          "text": [
            "Songs similar to 'daft punk - get lucky':\n",
            "renaud garcia-fons - gallipoli (similarity: 0.79)\n",
            "kinlochard ceilidh band - dashing white sergeant - the dashing white sergeant - aitken drum - bill sutherland - old french air (similarity: 0.79)\n",
            "the quill - freak parade (similarity: 0.79)\n",
            "renaud garcia-fons - il confino (similarity: 0.79)\n",
            "urbanus - belastingcontroleur (similarity: 0.78)\n",
            "b the star - colt 45 - originally performed by afroman (similarity: 0.78)\n",
            "wayko & bill brosnan - cancion del mariachi - radio mix (similarity: 0.77)\n",
            "els surfing sirles - epitafi (similarity: 0.77)\n",
            "renaud garcia-fons - dancar (similarity: 0.77)\n",
            "a tribe called quest - bonita applebum - why? edit (similarity: 0.77)\n"
          ]
        }
      ],
      "source": [
        "#Test the Trained Model\n",
        "\n",
        "# Load the model if needed\n",
        "from gensim.models import Word2Vec\n",
        "w2v_model = Word2Vec.load('/content/drive/My Drive/Colab Notebooks/Final Project/filtered_song2vec.model')\n",
        "\n",
        "# Find similar songs\n",
        "input_song = \"daft punk - get lucky\"\n",
        "if input_song in w2v_model.wv:\n",
        "    similar_songs = w2v_model.wv.most_similar(input_song, topn=10)\n",
        "    print(f\"Songs similar to '{input_song}':\")\n",
        "    for song, similarity in similar_songs:\n",
        "        print(f\"{song} (similarity: {similarity:.2f})\")\n",
        "else:\n",
        "    print(f\"'{input_song}' not found in the model vocabulary.\")"
      ]
    },
    {
      "cell_type": "code",
      "execution_count": null,
      "metadata": {
        "id": "6EiEWTasKeSQ"
      },
      "outputs": [],
      "source": [
        "#Recommend Playlists for a Song\n",
        "def recommend_playlists(input_song, model, df):\n",
        "    # Check if the song exists in the model\n",
        "    if input_song not in model.wv:\n",
        "        return \"Song not found in model vocabulary.\"\n",
        "\n",
        "    # Get similar songs\n",
        "    similar_songs = [s for s, _ in model.wv.most_similar(input_song, topn=10)]\n",
        "\n",
        "    # Filter playlists that contain similar songs\n",
        "    recommended_playlists = df[df['song_name'].isin(similar_songs)]['unq_playlist_name'].unique()\n",
        "    return recommended_playlists\n",
        "\n",
        "# Example usage\n",
        "input_song = \"daft punk - get lucky\"\n",
        "playlists = recommend_playlists(input_song, w2v_model, df_cleaned_final)\n",
        "print(f\"Recommended playlists for '{input_song}':\", playlists)\n",
        "\n"
      ]
    },
    {
      "cell_type": "markdown",
      "metadata": {
        "id": "5qY73LwgMtPs"
      },
      "source": [
        "יצירת מילון של פלייליסטים דומים\n",
        "אפשר להשתמש בחפיפת שירים בין פלייליסטים כדי לחשב דמיון בין פלייליסטים."
      ]
    },
    {
      "cell_type": "code",
      "execution_count": null,
      "metadata": {
        "colab": {
          "base_uri": "https://localhost:8080/",
          "height": 356
        },
        "id": "EeqXj-AVKeU5",
        "outputId": "7e54c74f-ae4d-430f-9cc0-97a4d3f43cc0"
      },
      "outputs": [
        {
          "ename": "KeyboardInterrupt",
          "evalue": "",
          "output_type": "error",
          "traceback": [
            "\u001b[0;31m---------------------------------------------------------------------------\u001b[0m",
            "\u001b[0;31mKeyboardInterrupt\u001b[0m                         Traceback (most recent call last)",
            "\u001b[0;32m<ipython-input-8-7bb34c7fe9d7>\u001b[0m in \u001b[0;36m<cell line: 0>\u001b[0;34m()\u001b[0m\n\u001b[1;32m     30\u001b[0m \u001b[0;34m\u001b[0m\u001b[0m\n\u001b[1;32m     31\u001b[0m \u001b[0;31m# Create the optimized similarity map\u001b[0m\u001b[0;34m\u001b[0m\u001b[0;34m\u001b[0m\u001b[0m\n\u001b[0;32m---> 32\u001b[0;31m \u001b[0mplaylist_similarity_map\u001b[0m \u001b[0;34m=\u001b[0m \u001b[0mcreate_playlist_similarity_map_optimized\u001b[0m\u001b[0;34m(\u001b[0m\u001b[0mfiltered_short_df\u001b[0m\u001b[0;34m)\u001b[0m\u001b[0;34m\u001b[0m\u001b[0;34m\u001b[0m\u001b[0m\n\u001b[0m\u001b[1;32m     33\u001b[0m \u001b[0;34m\u001b[0m\u001b[0m\n\u001b[1;32m     34\u001b[0m \u001b[0;34m\u001b[0m\u001b[0m\n",
            "\u001b[0;32m<ipython-input-8-7bb34c7fe9d7>\u001b[0m in \u001b[0;36mcreate_playlist_similarity_map_optimized\u001b[0;34m(filtered_short_df, min_overlap)\u001b[0m\n\u001b[1;32m     23\u001b[0m             \u001b[0;31m# Calculate actual overlap\u001b[0m\u001b[0;34m\u001b[0m\u001b[0;34m\u001b[0m\u001b[0m\n\u001b[1;32m     24\u001b[0m             \u001b[0msongs_a\u001b[0m \u001b[0;34m=\u001b[0m \u001b[0mset\u001b[0m\u001b[0;34m(\u001b[0m\u001b[0mfiltered_short_df\u001b[0m\u001b[0;34m[\u001b[0m\u001b[0mfiltered_short_df\u001b[0m\u001b[0;34m[\u001b[0m\u001b[0;34m'unq_playlist_name'\u001b[0m\u001b[0;34m]\u001b[0m \u001b[0;34m==\u001b[0m \u001b[0mplaylist_a\u001b[0m\u001b[0;34m]\u001b[0m\u001b[0;34m[\u001b[0m\u001b[0;34m'song_name'\u001b[0m\u001b[0;34m]\u001b[0m\u001b[0;34m)\u001b[0m\u001b[0;34m\u001b[0m\u001b[0;34m\u001b[0m\u001b[0m\n\u001b[0;32m---> 25\u001b[0;31m             \u001b[0msongs_b\u001b[0m \u001b[0;34m=\u001b[0m \u001b[0mset\u001b[0m\u001b[0;34m(\u001b[0m\u001b[0mfiltered_short_df\u001b[0m\u001b[0;34m[\u001b[0m\u001b[0mfiltered_short_df\u001b[0m\u001b[0;34m[\u001b[0m\u001b[0;34m'unq_playlist_name'\u001b[0m\u001b[0;34m]\u001b[0m \u001b[0;34m==\u001b[0m \u001b[0mplaylist_b\u001b[0m\u001b[0;34m]\u001b[0m\u001b[0;34m[\u001b[0m\u001b[0;34m'song_name'\u001b[0m\u001b[0;34m]\u001b[0m\u001b[0;34m)\u001b[0m\u001b[0;34m\u001b[0m\u001b[0;34m\u001b[0m\u001b[0m\n\u001b[0m\u001b[1;32m     26\u001b[0m             \u001b[0;32mif\u001b[0m \u001b[0mlen\u001b[0m\u001b[0;34m(\u001b[0m\u001b[0msongs_a\u001b[0m\u001b[0;34m.\u001b[0m\u001b[0mintersection\u001b[0m\u001b[0;34m(\u001b[0m\u001b[0msongs_b\u001b[0m\u001b[0;34m)\u001b[0m\u001b[0;34m)\u001b[0m \u001b[0;34m>\u001b[0m \u001b[0mmin_overlap\u001b[0m\u001b[0;34m:\u001b[0m\u001b[0;34m\u001b[0m\u001b[0;34m\u001b[0m\u001b[0m\n\u001b[1;32m     27\u001b[0m                 \u001b[0mfinal_similarity_map\u001b[0m\u001b[0;34m[\u001b[0m\u001b[0mplaylist_a\u001b[0m\u001b[0;34m]\u001b[0m\u001b[0;34m.\u001b[0m\u001b[0madd\u001b[0m\u001b[0;34m(\u001b[0m\u001b[0mplaylist_b\u001b[0m\u001b[0;34m)\u001b[0m\u001b[0;34m\u001b[0m\u001b[0;34m\u001b[0m\u001b[0m\n",
            "\u001b[0;32m/usr/local/lib/python3.11/dist-packages/pandas/core/ops/common.py\u001b[0m in \u001b[0;36mnew_method\u001b[0;34m(self, other)\u001b[0m\n\u001b[1;32m     74\u001b[0m         \u001b[0mother\u001b[0m \u001b[0;34m=\u001b[0m \u001b[0mitem_from_zerodim\u001b[0m\u001b[0;34m(\u001b[0m\u001b[0mother\u001b[0m\u001b[0;34m)\u001b[0m\u001b[0;34m\u001b[0m\u001b[0;34m\u001b[0m\u001b[0m\n\u001b[1;32m     75\u001b[0m \u001b[0;34m\u001b[0m\u001b[0m\n\u001b[0;32m---> 76\u001b[0;31m         \u001b[0;32mreturn\u001b[0m \u001b[0mmethod\u001b[0m\u001b[0;34m(\u001b[0m\u001b[0mself\u001b[0m\u001b[0;34m,\u001b[0m \u001b[0mother\u001b[0m\u001b[0;34m)\u001b[0m\u001b[0;34m\u001b[0m\u001b[0;34m\u001b[0m\u001b[0m\n\u001b[0m\u001b[1;32m     77\u001b[0m \u001b[0;34m\u001b[0m\u001b[0m\n\u001b[1;32m     78\u001b[0m     \u001b[0;32mreturn\u001b[0m \u001b[0mnew_method\u001b[0m\u001b[0;34m\u001b[0m\u001b[0;34m\u001b[0m\u001b[0m\n",
            "\u001b[0;32m/usr/local/lib/python3.11/dist-packages/pandas/core/arraylike.py\u001b[0m in \u001b[0;36m__eq__\u001b[0;34m(self, other)\u001b[0m\n\u001b[1;32m     38\u001b[0m     \u001b[0;34m@\u001b[0m\u001b[0munpack_zerodim_and_defer\u001b[0m\u001b[0;34m(\u001b[0m\u001b[0;34m\"__eq__\"\u001b[0m\u001b[0;34m)\u001b[0m\u001b[0;34m\u001b[0m\u001b[0;34m\u001b[0m\u001b[0m\n\u001b[1;32m     39\u001b[0m     \u001b[0;32mdef\u001b[0m \u001b[0m__eq__\u001b[0m\u001b[0;34m(\u001b[0m\u001b[0mself\u001b[0m\u001b[0;34m,\u001b[0m \u001b[0mother\u001b[0m\u001b[0;34m)\u001b[0m\u001b[0;34m:\u001b[0m\u001b[0;34m\u001b[0m\u001b[0;34m\u001b[0m\u001b[0m\n\u001b[0;32m---> 40\u001b[0;31m         \u001b[0;32mreturn\u001b[0m \u001b[0mself\u001b[0m\u001b[0;34m.\u001b[0m\u001b[0m_cmp_method\u001b[0m\u001b[0;34m(\u001b[0m\u001b[0mother\u001b[0m\u001b[0;34m,\u001b[0m \u001b[0moperator\u001b[0m\u001b[0;34m.\u001b[0m\u001b[0meq\u001b[0m\u001b[0;34m)\u001b[0m\u001b[0;34m\u001b[0m\u001b[0;34m\u001b[0m\u001b[0m\n\u001b[0m\u001b[1;32m     41\u001b[0m \u001b[0;34m\u001b[0m\u001b[0m\n\u001b[1;32m     42\u001b[0m     \u001b[0;34m@\u001b[0m\u001b[0munpack_zerodim_and_defer\u001b[0m\u001b[0;34m(\u001b[0m\u001b[0;34m\"__ne__\"\u001b[0m\u001b[0;34m)\u001b[0m\u001b[0;34m\u001b[0m\u001b[0;34m\u001b[0m\u001b[0m\n",
            "\u001b[0;32m/usr/local/lib/python3.11/dist-packages/pandas/core/series.py\u001b[0m in \u001b[0;36m_cmp_method\u001b[0;34m(self, other, op)\u001b[0m\n\u001b[1;32m   6117\u001b[0m         \u001b[0mrvalues\u001b[0m \u001b[0;34m=\u001b[0m \u001b[0mextract_array\u001b[0m\u001b[0;34m(\u001b[0m\u001b[0mother\u001b[0m\u001b[0;34m,\u001b[0m \u001b[0mextract_numpy\u001b[0m\u001b[0;34m=\u001b[0m\u001b[0;32mTrue\u001b[0m\u001b[0;34m,\u001b[0m \u001b[0mextract_range\u001b[0m\u001b[0;34m=\u001b[0m\u001b[0;32mTrue\u001b[0m\u001b[0;34m)\u001b[0m\u001b[0;34m\u001b[0m\u001b[0;34m\u001b[0m\u001b[0m\n\u001b[1;32m   6118\u001b[0m \u001b[0;34m\u001b[0m\u001b[0m\n\u001b[0;32m-> 6119\u001b[0;31m         \u001b[0mres_values\u001b[0m \u001b[0;34m=\u001b[0m \u001b[0mops\u001b[0m\u001b[0;34m.\u001b[0m\u001b[0mcomparison_op\u001b[0m\u001b[0;34m(\u001b[0m\u001b[0mlvalues\u001b[0m\u001b[0;34m,\u001b[0m \u001b[0mrvalues\u001b[0m\u001b[0;34m,\u001b[0m \u001b[0mop\u001b[0m\u001b[0;34m)\u001b[0m\u001b[0;34m\u001b[0m\u001b[0;34m\u001b[0m\u001b[0m\n\u001b[0m\u001b[1;32m   6120\u001b[0m \u001b[0;34m\u001b[0m\u001b[0m\n\u001b[1;32m   6121\u001b[0m         \u001b[0;32mreturn\u001b[0m \u001b[0mself\u001b[0m\u001b[0;34m.\u001b[0m\u001b[0m_construct_result\u001b[0m\u001b[0;34m(\u001b[0m\u001b[0mres_values\u001b[0m\u001b[0;34m,\u001b[0m \u001b[0mname\u001b[0m\u001b[0;34m=\u001b[0m\u001b[0mres_name\u001b[0m\u001b[0;34m)\u001b[0m\u001b[0;34m\u001b[0m\u001b[0;34m\u001b[0m\u001b[0m\n",
            "\u001b[0;32m/usr/local/lib/python3.11/dist-packages/pandas/core/ops/array_ops.py\u001b[0m in \u001b[0;36mcomparison_op\u001b[0;34m(left, right, op)\u001b[0m\n\u001b[1;32m    342\u001b[0m \u001b[0;34m\u001b[0m\u001b[0m\n\u001b[1;32m    343\u001b[0m     \u001b[0;32melif\u001b[0m \u001b[0mlvalues\u001b[0m\u001b[0;34m.\u001b[0m\u001b[0mdtype\u001b[0m \u001b[0;34m==\u001b[0m \u001b[0mobject\u001b[0m \u001b[0;32mor\u001b[0m \u001b[0misinstance\u001b[0m\u001b[0;34m(\u001b[0m\u001b[0mrvalues\u001b[0m\u001b[0;34m,\u001b[0m \u001b[0mstr\u001b[0m\u001b[0;34m)\u001b[0m\u001b[0;34m:\u001b[0m\u001b[0;34m\u001b[0m\u001b[0;34m\u001b[0m\u001b[0m\n\u001b[0;32m--> 344\u001b[0;31m         \u001b[0mres_values\u001b[0m \u001b[0;34m=\u001b[0m \u001b[0mcomp_method_OBJECT_ARRAY\u001b[0m\u001b[0;34m(\u001b[0m\u001b[0mop\u001b[0m\u001b[0;34m,\u001b[0m \u001b[0mlvalues\u001b[0m\u001b[0;34m,\u001b[0m \u001b[0mrvalues\u001b[0m\u001b[0;34m)\u001b[0m\u001b[0;34m\u001b[0m\u001b[0;34m\u001b[0m\u001b[0m\n\u001b[0m\u001b[1;32m    345\u001b[0m \u001b[0;34m\u001b[0m\u001b[0m\n\u001b[1;32m    346\u001b[0m     \u001b[0;32melse\u001b[0m\u001b[0;34m:\u001b[0m\u001b[0;34m\u001b[0m\u001b[0;34m\u001b[0m\u001b[0m\n",
            "\u001b[0;32m/usr/local/lib/python3.11/dist-packages/pandas/core/ops/array_ops.py\u001b[0m in \u001b[0;36mcomp_method_OBJECT_ARRAY\u001b[0;34m(op, x, y)\u001b[0m\n\u001b[1;32m    127\u001b[0m         \u001b[0mresult\u001b[0m \u001b[0;34m=\u001b[0m \u001b[0mlibops\u001b[0m\u001b[0;34m.\u001b[0m\u001b[0mvec_compare\u001b[0m\u001b[0;34m(\u001b[0m\u001b[0mx\u001b[0m\u001b[0;34m.\u001b[0m\u001b[0mravel\u001b[0m\u001b[0;34m(\u001b[0m\u001b[0;34m)\u001b[0m\u001b[0;34m,\u001b[0m \u001b[0my\u001b[0m\u001b[0;34m.\u001b[0m\u001b[0mravel\u001b[0m\u001b[0;34m(\u001b[0m\u001b[0;34m)\u001b[0m\u001b[0;34m,\u001b[0m \u001b[0mop\u001b[0m\u001b[0;34m)\u001b[0m\u001b[0;34m\u001b[0m\u001b[0;34m\u001b[0m\u001b[0m\n\u001b[1;32m    128\u001b[0m     \u001b[0;32melse\u001b[0m\u001b[0;34m:\u001b[0m\u001b[0;34m\u001b[0m\u001b[0;34m\u001b[0m\u001b[0m\n\u001b[0;32m--> 129\u001b[0;31m         \u001b[0mresult\u001b[0m \u001b[0;34m=\u001b[0m \u001b[0mlibops\u001b[0m\u001b[0;34m.\u001b[0m\u001b[0mscalar_compare\u001b[0m\u001b[0;34m(\u001b[0m\u001b[0mx\u001b[0m\u001b[0;34m.\u001b[0m\u001b[0mravel\u001b[0m\u001b[0;34m(\u001b[0m\u001b[0;34m)\u001b[0m\u001b[0;34m,\u001b[0m \u001b[0my\u001b[0m\u001b[0;34m,\u001b[0m \u001b[0mop\u001b[0m\u001b[0;34m)\u001b[0m\u001b[0;34m\u001b[0m\u001b[0;34m\u001b[0m\u001b[0m\n\u001b[0m\u001b[1;32m    130\u001b[0m     \u001b[0;32mreturn\u001b[0m \u001b[0mresult\u001b[0m\u001b[0;34m.\u001b[0m\u001b[0mreshape\u001b[0m\u001b[0;34m(\u001b[0m\u001b[0mx\u001b[0m\u001b[0;34m.\u001b[0m\u001b[0mshape\u001b[0m\u001b[0;34m)\u001b[0m\u001b[0;34m\u001b[0m\u001b[0;34m\u001b[0m\u001b[0m\n\u001b[1;32m    131\u001b[0m \u001b[0;34m\u001b[0m\u001b[0m\n",
            "\u001b[0;31mKeyboardInterrupt\u001b[0m: "
          ]
        }
      ],
      "source": [
        "from collections import defaultdict\n",
        "\n",
        "def create_playlist_similarity_map_optimized(filtered_short_df, min_overlap=1):\n",
        "    # Map each song to the playlists it appears in\n",
        "    song_to_playlists = defaultdict(set)\n",
        "    for playlist, songs in filtered_short_df.groupby('unq_playlist_name')['song_name']:\n",
        "        for song in songs:\n",
        "            song_to_playlists[song].add(playlist)\n",
        "\n",
        "    # Create similarity map\n",
        "    similarity_map = defaultdict(set)\n",
        "    for playlists in song_to_playlists.values():\n",
        "        playlists = list(playlists)\n",
        "        for i in range(len(playlists)):\n",
        "            for j in range(i + 1, len(playlists)):\n",
        "                similarity_map[playlists[i]].add(playlists[j])\n",
        "                similarity_map[playlists[j]].add(playlists[i])\n",
        "\n",
        "    # Filter by minimum overlap\n",
        "    final_similarity_map = defaultdict(set)\n",
        "    for playlist_a, related_playlists in similarity_map.items():\n",
        "        for playlist_b in related_playlists:\n",
        "            # Calculate actual overlap\n",
        "            songs_a = set(filtered_short_df[filtered_short_df['unq_playlist_name'] == playlist_a]['song_name'])\n",
        "            songs_b = set(filtered_short_df[filtered_short_df['unq_playlist_name'] == playlist_b]['song_name'])\n",
        "            if len(songs_a.intersection(songs_b)) > min_overlap:\n",
        "                final_similarity_map[playlist_a].add(playlist_b)\n",
        "\n",
        "    return final_similarity_map\n",
        "\n",
        "# Create the optimized similarity map\n",
        "playlist_similarity_map = create_playlist_similarity_map_optimized(filtered_short_df)\n",
        "\n",
        "\n"
      ]
    },
    {
      "cell_type": "code",
      "execution_count": null,
      "metadata": {
        "id": "yvX4wa4rV-5P"
      },
      "outputs": [],
      "source": [
        "print(f\"Number of playlists with similarities: {len(playlist_similarity_map)}\")\n",
        "example_playlist = next(iter(playlist_similarity_map))\n",
        "print(f\"Playlists similar to '{example_playlist}': {playlist_similarity_map[example_playlist]}\")\n"
      ]
    },
    {
      "cell_type": "markdown",
      "metadata": {
        "id": "vMo_MGXXMziL"
      },
      "source": [
        "עדכון Precision רך\n",
        "נשתמש במפת הפלייליסטים הדומים כדי להרחיב את קבוצת השירים הצפויים."
      ]
    },
    {
      "cell_type": "code",
      "execution_count": null,
      "metadata": {
        "id": "ljA72-xPKeXN"
      },
      "outputs": [],
      "source": [
        "from sklearn.metrics.pairwise import cosine_similarity\n",
        "\n",
        "def soft_precision_at_k_with_similar_playlists(test_df, model, embeddings, song_list, playlist_similarity_map, top_n=5, similarity_threshold=0.8):\n",
        "    total_playlists = 0\n",
        "    total_precision = 0\n",
        "\n",
        "    for playlist_id, group in test_df.groupby('unq_playlist_name'):\n",
        "        songs = group['song_name'].tolist()\n",
        "        songs_in_vocab = [song for song in songs if song in model.wv]\n",
        "        if len(songs_in_vocab) < 2:\n",
        "            continue\n",
        "\n",
        "        input_song = songs_in_vocab[0]\n",
        "        input_index = song_list.index(input_song)\n",
        "        input_embedding = embeddings[input_index].reshape(1, -1)  # הוספת מימד\n",
        "\n",
        "        # הרחבת \"אמת\" עם שירים מפלייליסטים דומים\n",
        "        true_songs = set(songs_in_vocab[1:])\n",
        "        if playlist_id in playlist_similarity_map:\n",
        "            for similar_playlist in playlist_similarity_map[playlist_id]:\n",
        "                similar_songs = test_df[test_df['unq_playlist_name'] == similar_playlist]['song_name'].tolist()\n",
        "                true_songs.update(similar_songs)\n",
        "\n",
        "        # ניבוי שירים\n",
        "        predicted_songs = [song for song, _ in model.wv.most_similar(input_song, topn=top_n)]\n",
        "\n",
        "        # חישוב דמיון\n",
        "        predicted_indices = [song_list.index(song) for song in predicted_songs if song in song_list]\n",
        "        if not predicted_indices:  # אם אין ניבויים תואמים\n",
        "            continue\n",
        "\n",
        "        predicted_embeddings = embeddings[predicted_indices]\n",
        "        if predicted_embeddings.size == 0:  # אם המערך ריק\n",
        "            continue\n",
        "\n",
        "        similarities = cosine_similarity(input_embedding, predicted_embeddings).flatten()\n",
        "        relevant_songs = [predicted_songs[i] for i, sim in enumerate(similarities) if sim >= similarity_threshold]\n",
        "\n",
        "        # Precision רך\n",
        "        precision = len(set(relevant_songs).intersection(true_songs)) / top_n\n",
        "        total_precision += precision\n",
        "        total_playlists += 1\n",
        "\n",
        "    return total_precision / total_playlists if total_playlists > 0 else 0\n"
      ]
    },
    {
      "cell_type": "markdown",
      "metadata": {
        "id": "SSjVT-BZNBke"
      },
      "source": [
        "הפעלת הפונקציה:"
      ]
    },
    {
      "cell_type": "code",
      "execution_count": null,
      "metadata": {
        "id": "GC47f-hFKeZ2"
      },
      "outputs": [],
      "source": [
        "precision_soft_extended = soft_precision_at_k_with_similar_playlists(\n",
        "    test_df,\n",
        "    w2v_model,\n",
        "    song_embeddings,\n",
        "    track_list,\n",
        "    playlist_similarity_map,\n",
        "    top_n=5,\n",
        "    similarity_threshold=0.8\n",
        ")\n",
        "\n",
        "print(f\"Extended Soft Precision@5: {precision_soft_extended:.2f}\")\n"
      ]
    },
    {
      "cell_type": "markdown",
      "metadata": {
        "id": "wBXAJOftU328"
      },
      "source": [
        "#Word2Vec based on 2 objectives\n",
        "Training the Word2Vec model to learn the relationships between songs within playlists and user-playlist preferences."
      ]
    },
    {
      "cell_type": "code",
      "execution_count": null,
      "metadata": {
        "id": "-ySMtmEY7yet"
      },
      "outputs": [],
      "source": [
        "#Purpose: Keeping songs that apear in at least 5 different playlists\n",
        "#This will delete rare songs from the model\n",
        "#By filtering rare songs early, you reduce noise and improve the quality of training data.\n",
        "\n",
        "song_counts = df_cleaned_final['song_name'].value_counts()\n",
        "\n",
        "#Filter songs appearing at least 5 times\n",
        "common_songs = song_counts[song_counts >= 5].index  # Adjust threshold as needed\n",
        "filtered_songs_df = df_cleaned_final[df_cleaned_final['song_name'].isin(common_songs)]\n",
        "\n",
        "# Count songs per playlist (after removing rare songs)\n",
        "songs_per_playlist = filtered_songs_df.groupby('unq_playlist_name')['song_name'].count()\n",
        "\n",
        "print(f\"Total songs before filtering: {len(song_counts)}\")\n",
        "print(f\"Total songs after filtering: {len(common_songs)}\")\n"
      ]
    },
    {
      "cell_type": "code",
      "execution_count": null,
      "metadata": {
        "id": "ZI2UG3pAU8N2"
      },
      "outputs": [],
      "source": [
        "#Purpose: Ensures the model is trained on playlists with meaningful context (neither too small nor too large).\n",
        "#Filters playlists to those with between 10 and 50 songs for efficient training.\n",
        "#Up to 25% of the playlists in this df have max 10 songs and Up to 80% of the playlists in the df have max 50 songs.\n",
        "\n",
        "# Filter playlists with 10 to 50 songs\n",
        "valid_playlists = songs_per_playlist[(songs_per_playlist >= 10) & (songs_per_playlist <= 50)].index\n",
        "\n",
        "# Subset the DataFrame to include only these playlists\n",
        "filtered_df = df_cleaned_final[df_cleaned_final['unq_playlist_name'].isin(valid_playlists)]\n",
        "\n",
        "filtered_df.to_csv(\"filtered_data.csv\", index=False)\n",
        "\n"
      ]
    },
    {
      "cell_type": "code",
      "execution_count": null,
      "metadata": {
        "colab": {
          "base_uri": "https://localhost:8080/"
        },
        "id": "DDqJuIuhVrsX",
        "outputId": "c06fd042-71b6-48d3-9687-d370f88f2dfc"
      },
      "outputs": [
        {
          "name": "stdout",
          "output_type": "stream",
          "text": [
            "Number of playlists: 116881\n",
            "Example playlist tokens: [['veronica maggio - bas gillar horn', 'titiyo - blajeans och stjarnljus', 'first aid kit - emmylou', 'laleh - goliat', 'veronica maggio - hela huset', 'veronica maggio - hadanefter', 'titiyo - i need you now', 'lars winnerback - kom anglar', 'first aid kit - master pretender', 'first aid kit - my silver lining', 'lars winnerback - om du lamnade mig nu', 'veronica maggio - sergels torg', 'veronica maggio - snalla bli min', 'melissa horn - som jag hade dig forut - med lars winnerback', 'first aid kit - stay gold', 'lana del rey - summertime sadness [lana del rey vs. cedric gervais] - cedric gervais remix', \"first aid kit - the lion's roar\", 'bjorn afzelius - tusen bitar', 'bjorn afzelius - tva ljus', 'veronica maggio - valkommen in', 'laleh - varens forsta dag', 'first aid kit - wolf']]\n"
          ]
        }
      ],
      "source": [
        "#Generate Tokens\n",
        "#Playlist-Song Tokens\n",
        "#Purpose: Converts each playlist into a list of song names (tokens) for Word2Vec training\n",
        "\n",
        "# Group songs by unique playlist names to create tokens\n",
        "playlist_tokens = filtered_df.groupby('unq_playlist_name')['song_name'].apply(list).tolist()\n",
        "\n",
        "print(f\"Number of playlists: {len(playlist_tokens)}\")\n",
        "print(\"Example playlist tokens:\", playlist_tokens[:1])\n"
      ]
    },
    {
      "cell_type": "code",
      "execution_count": null,
      "metadata": {
        "colab": {
          "base_uri": "https://localhost:8080/"
        },
        "id": "n_04FoQ2VrvF",
        "outputId": "051d682d-93da-4ed7-cf0f-1c338ebe16f8"
      },
      "outputs": [
        {
          "name": "stdout",
          "output_type": "stream",
          "text": [
            "Number of users: 15898\n",
            "Example user playlist tokens: [['00055176fea33f6e027cd3302289378b - favs', '00055176fea33f6e027cd3302289378b - favs', '00055176fea33f6e027cd3302289378b - favs', '00055176fea33f6e027cd3302289378b - favs', '00055176fea33f6e027cd3302289378b - favs', '00055176fea33f6e027cd3302289378b - favs', '00055176fea33f6e027cd3302289378b - favs', '00055176fea33f6e027cd3302289378b - favs', '00055176fea33f6e027cd3302289378b - favs', '00055176fea33f6e027cd3302289378b - favs', '00055176fea33f6e027cd3302289378b - favs', '00055176fea33f6e027cd3302289378b - favs', '00055176fea33f6e027cd3302289378b - favs', '00055176fea33f6e027cd3302289378b - favs', '00055176fea33f6e027cd3302289378b - favs', '00055176fea33f6e027cd3302289378b - favs', '00055176fea33f6e027cd3302289378b - favs', '00055176fea33f6e027cd3302289378b - favs', '00055176fea33f6e027cd3302289378b - favs', '00055176fea33f6e027cd3302289378b - favs', '00055176fea33f6e027cd3302289378b - favs', '00055176fea33f6e027cd3302289378b - favs', '00055176fea33f6e027cd3302289378b - favs', '00055176fea33f6e027cd3302289378b - favs', '00055176fea33f6e027cd3302289378b - favs', '00055176fea33f6e027cd3302289378b - favs', '00055176fea33f6e027cd3302289378b - favs', '00055176fea33f6e027cd3302289378b - favs', '00055176fea33f6e027cd3302289378b - favs', '00055176fea33f6e027cd3302289378b - favs', '00055176fea33f6e027cd3302289378b - favs', '00055176fea33f6e027cd3302289378b - favs', '00055176fea33f6e027cd3302289378b - favs', '00055176fea33f6e027cd3302289378b - favs', '00055176fea33f6e027cd3302289378b - favs', '00055176fea33f6e027cd3302289378b - favs', '00055176fea33f6e027cd3302289378b - favs', '00055176fea33f6e027cd3302289378b - favs', '00055176fea33f6e027cd3302289378b - favs', '00055176fea33f6e027cd3302289378b - favs', '00055176fea33f6e027cd3302289378b - favs', '00055176fea33f6e027cd3302289378b - favs', '00055176fea33f6e027cd3302289378b - favs', '00055176fea33f6e027cd3302289378b - favs', '00055176fea33f6e027cd3302289378b - favs', '00055176fea33f6e027cd3302289378b - favs', '00055176fea33f6e027cd3302289378b - favs', '00055176fea33f6e027cd3302289378b - favs', '00055176fea33f6e027cd3302289378b - favs', '00055176fea33f6e027cd3302289378b - favs', '00055176fea33f6e027cd3302289378b - favs', '00055176fea33f6e027cd3302289378b - favs', '00055176fea33f6e027cd3302289378b - favs', '00055176fea33f6e027cd3302289378b - favs', '00055176fea33f6e027cd3302289378b - favs', '00055176fea33f6e027cd3302289378b - favs', '00055176fea33f6e027cd3302289378b - favs', '00055176fea33f6e027cd3302289378b - favs', '00055176fea33f6e027cd3302289378b - favs', '00055176fea33f6e027cd3302289378b - favs', '00055176fea33f6e027cd3302289378b - favs', '00055176fea33f6e027cd3302289378b - favs', '00055176fea33f6e027cd3302289378b - favs', '00055176fea33f6e027cd3302289378b - favs', '00055176fea33f6e027cd3302289378b - favs', '00055176fea33f6e027cd3302289378b - favs', '00055176fea33f6e027cd3302289378b - favs', '00055176fea33f6e027cd3302289378b - favs', '00055176fea33f6e027cd3302289378b - favs', '00055176fea33f6e027cd3302289378b - favs', '00055176fea33f6e027cd3302289378b - favs', '00055176fea33f6e027cd3302289378b - favs', '00055176fea33f6e027cd3302289378b - favs', '00055176fea33f6e027cd3302289378b - favs', '00055176fea33f6e027cd3302289378b - favs', '00055176fea33f6e027cd3302289378b - favs', '00055176fea33f6e027cd3302289378b - favs', '00055176fea33f6e027cd3302289378b - favs', '00055176fea33f6e027cd3302289378b - favs', '00055176fea33f6e027cd3302289378b - favs', '00055176fea33f6e027cd3302289378b - favs', '00055176fea33f6e027cd3302289378b - favs', '00055176fea33f6e027cd3302289378b - favs', '00055176fea33f6e027cd3302289378b - favs', '00055176fea33f6e027cd3302289378b - favs', '00055176fea33f6e027cd3302289378b - favs', '00055176fea33f6e027cd3302289378b - favs', '00055176fea33f6e027cd3302289378b - favs', '00055176fea33f6e027cd3302289378b - favs', '00055176fea33f6e027cd3302289378b - favs', '00055176fea33f6e027cd3302289378b - favs', '00055176fea33f6e027cd3302289378b - favs', '00055176fea33f6e027cd3302289378b - favs', '00055176fea33f6e027cd3302289378b - favs', '00055176fea33f6e027cd3302289378b - favs', '00055176fea33f6e027cd3302289378b - favs', '00055176fea33f6e027cd3302289378b - favs', '00055176fea33f6e027cd3302289378b - favs', '00055176fea33f6e027cd3302289378b - favs', '00055176fea33f6e027cd3302289378b - favs', '00055176fea33f6e027cd3302289378b - favs', '00055176fea33f6e027cd3302289378b - favs', '00055176fea33f6e027cd3302289378b - favs', '00055176fea33f6e027cd3302289378b - favs', '00055176fea33f6e027cd3302289378b - favs', '00055176fea33f6e027cd3302289378b - favs', '00055176fea33f6e027cd3302289378b - favs', '00055176fea33f6e027cd3302289378b - favs', '00055176fea33f6e027cd3302289378b - favs', '00055176fea33f6e027cd3302289378b - favs', '00055176fea33f6e027cd3302289378b - favs', '00055176fea33f6e027cd3302289378b - favs', '00055176fea33f6e027cd3302289378b - favs', '00055176fea33f6e027cd3302289378b - favs', '00055176fea33f6e027cd3302289378b - favs', '00055176fea33f6e027cd3302289378b - favs', '00055176fea33f6e027cd3302289378b - favs', '00055176fea33f6e027cd3302289378b - favs', '00055176fea33f6e027cd3302289378b - favs'], ['0007f3dd09c91198371454c608d47f22 - 2014', '0007f3dd09c91198371454c608d47f22 - 2014', '0007f3dd09c91198371454c608d47f22 - 2014', '0007f3dd09c91198371454c608d47f22 - 2014', '0007f3dd09c91198371454c608d47f22 - 2014', '0007f3dd09c91198371454c608d47f22 - 2014', '0007f3dd09c91198371454c608d47f22 - 2014', '0007f3dd09c91198371454c608d47f22 - 2014', '0007f3dd09c91198371454c608d47f22 - fav songs', '0007f3dd09c91198371454c608d47f22 - fav songs', '0007f3dd09c91198371454c608d47f22 - fav songs', '0007f3dd09c91198371454c608d47f22 - fav songs', '0007f3dd09c91198371454c608d47f22 - fav songs', '0007f3dd09c91198371454c608d47f22 - fav songs', '0007f3dd09c91198371454c608d47f22 - fav songs', '0007f3dd09c91198371454c608d47f22 - fav songs', '0007f3dd09c91198371454c608d47f22 - fav songs', '0007f3dd09c91198371454c608d47f22 - fav songs', '0007f3dd09c91198371454c608d47f22 - fav songs', '0007f3dd09c91198371454c608d47f22 - fav songs', '0007f3dd09c91198371454c608d47f22 - fav songs', '0007f3dd09c91198371454c608d47f22 - fav songs', '0007f3dd09c91198371454c608d47f22 - fav songs', '0007f3dd09c91198371454c608d47f22 - fav songs', '0007f3dd09c91198371454c608d47f22 - fav songs', '0007f3dd09c91198371454c608d47f22 - fav songs', '0007f3dd09c91198371454c608d47f22 - fav songs', '0007f3dd09c91198371454c608d47f22 - fav songs', '0007f3dd09c91198371454c608d47f22 - fav songs', '0007f3dd09c91198371454c608d47f22 - fav songs', '0007f3dd09c91198371454c608d47f22 - fav songs', '0007f3dd09c91198371454c608d47f22 - fav songs', '0007f3dd09c91198371454c608d47f22 - fav songs', '0007f3dd09c91198371454c608d47f22 - fav songs', '0007f3dd09c91198371454c608d47f22 - fav songs', '0007f3dd09c91198371454c608d47f22 - fav songs', '0007f3dd09c91198371454c608d47f22 - fav songs', '0007f3dd09c91198371454c608d47f22 - fav songs', '0007f3dd09c91198371454c608d47f22 - fav songs', '0007f3dd09c91198371454c608d47f22 - fav songs', '0007f3dd09c91198371454c608d47f22 - fav songs', '0007f3dd09c91198371454c608d47f22 - fav songs', '0007f3dd09c91198371454c608d47f22 - fav songs', '0007f3dd09c91198371454c608d47f22 - fav songs', '0007f3dd09c91198371454c608d47f22 - fav songs', '0007f3dd09c91198371454c608d47f22 - fav songs', '0007f3dd09c91198371454c608d47f22 - fav songs', '0007f3dd09c91198371454c608d47f22 - fav songs', '0007f3dd09c91198371454c608d47f22 - fav songs', '0007f3dd09c91198371454c608d47f22 - fav songs', '0007f3dd09c91198371454c608d47f22 - fav songs', '0007f3dd09c91198371454c608d47f22 - fav songs', '0007f3dd09c91198371454c608d47f22 - fav songs', '0007f3dd09c91198371454c608d47f22 - fav songs', '0007f3dd09c91198371454c608d47f22 - fav songs', '0007f3dd09c91198371454c608d47f22 - fav songs', '0007f3dd09c91198371454c608d47f22 - fav songs', '0007f3dd09c91198371454c608d47f22 - fav songs', '0007f3dd09c91198371454c608d47f22 - fav songs', '0007f3dd09c91198371454c608d47f22 - fav songs', '0007f3dd09c91198371454c608d47f22 - fav songs', '0007f3dd09c91198371454c608d47f22 - fav songs', '0007f3dd09c91198371454c608d47f22 - fav songs', '0007f3dd09c91198371454c608d47f22 - fav songs', '0007f3dd09c91198371454c608d47f22 - fav songs', '0007f3dd09c91198371454c608d47f22 - fav songs', '0007f3dd09c91198371454c608d47f22 - fav songs', '0007f3dd09c91198371454c608d47f22 - fav songs', '0007f3dd09c91198371454c608d47f22 - fav songs', '0007f3dd09c91198371454c608d47f22 - fav songs', '0007f3dd09c91198371454c608d47f22 - fav songs', '0007f3dd09c91198371454c608d47f22 - fav songs', '0007f3dd09c91198371454c608d47f22 - fav songs', '0007f3dd09c91198371454c608d47f22 - fav songs', '0007f3dd09c91198371454c608d47f22 - fav songs', '0007f3dd09c91198371454c608d47f22 - fav songs', '0007f3dd09c91198371454c608d47f22 - fav songs', '0007f3dd09c91198371454c608d47f22 - fav songs', '0007f3dd09c91198371454c608d47f22 - fav songs', '0007f3dd09c91198371454c608d47f22 - fav songs', '0007f3dd09c91198371454c608d47f22 - fav songs', '0007f3dd09c91198371454c608d47f22 - fav songs', '0007f3dd09c91198371454c608d47f22 - fav songs', '0007f3dd09c91198371454c608d47f22 - fav songs', '0007f3dd09c91198371454c608d47f22 - fav songs', '0007f3dd09c91198371454c608d47f22 - fav songs', '0007f3dd09c91198371454c608d47f22 - fav songs', '0007f3dd09c91198371454c608d47f22 - fav songs', '0007f3dd09c91198371454c608d47f22 - fav songs', '0007f3dd09c91198371454c608d47f22 - fav songs', '0007f3dd09c91198371454c608d47f22 - fav songs', '0007f3dd09c91198371454c608d47f22 - fav songs', '0007f3dd09c91198371454c608d47f22 - fav songs', '0007f3dd09c91198371454c608d47f22 - fav songs', '0007f3dd09c91198371454c608d47f22 - fav songs', '0007f3dd09c91198371454c608d47f22 - sad songs', '0007f3dd09c91198371454c608d47f22 - sad songs'], ['000b0f32b5739f052b9d40fcc5c41079 - agnetha faltskog', '000b0f32b5739f052b9d40fcc5c41079 - agnetha faltskog', '000b0f32b5739f052b9d40fcc5c41079 - choralerna mm', '000b0f32b5739f052b9d40fcc5c41079 - choralerna mm', '000b0f32b5739f052b9d40fcc5c41079 - choralerna mm', '000b0f32b5739f052b9d40fcc5c41079 - choralerna mm', '000b0f32b5739f052b9d40fcc5c41079 - choralerna mm', '000b0f32b5739f052b9d40fcc5c41079 - choralerna mm', '000b0f32b5739f052b9d40fcc5c41079 - choralerna mm', '000b0f32b5739f052b9d40fcc5c41079 - contacta', '000b0f32b5739f052b9d40fcc5c41079 - contacta', '000b0f32b5739f052b9d40fcc5c41079 - contacta', '000b0f32b5739f052b9d40fcc5c41079 - contacta', '000b0f32b5739f052b9d40fcc5c41079 - contacta', '000b0f32b5739f052b9d40fcc5c41079 - contacta', '000b0f32b5739f052b9d40fcc5c41079 - contacta', '000b0f32b5739f052b9d40fcc5c41079 - contacta', '000b0f32b5739f052b9d40fcc5c41079 - contacta', '000b0f32b5739f052b9d40fcc5c41079 - contacta', '000b0f32b5739f052b9d40fcc5c41079 - contacta', '000b0f32b5739f052b9d40fcc5c41079 - contacta', '000b0f32b5739f052b9d40fcc5c41079 - contacta', '000b0f32b5739f052b9d40fcc5c41079 - contacta', '000b0f32b5739f052b9d40fcc5c41079 - contacta', '000b0f32b5739f052b9d40fcc5c41079 - contacta', '000b0f32b5739f052b9d40fcc5c41079 - contacta', '000b0f32b5739f052b9d40fcc5c41079 - contacta', '000b0f32b5739f052b9d40fcc5c41079 - contacta', '000b0f32b5739f052b9d40fcc5c41079 - contacta', '000b0f32b5739f052b9d40fcc5c41079 - contacta', '000b0f32b5739f052b9d40fcc5c41079 - contacta', '000b0f32b5739f052b9d40fcc5c41079 - dansen pa sunnano', '000b0f32b5739f052b9d40fcc5c41079 - gospel', '000b0f32b5739f052b9d40fcc5c41079 - gospel', '000b0f32b5739f052b9d40fcc5c41079 - gospel', '000b0f32b5739f052b9d40fcc5c41079 - gospel', '000b0f32b5739f052b9d40fcc5c41079 - gospel', '000b0f32b5739f052b9d40fcc5c41079 - gospel', '000b0f32b5739f052b9d40fcc5c41079 - gospel', '000b0f32b5739f052b9d40fcc5c41079 - gospel', '000b0f32b5739f052b9d40fcc5c41079 - gospel', '000b0f32b5739f052b9d40fcc5c41079 - gospel', '000b0f32b5739f052b9d40fcc5c41079 - gospel', '000b0f32b5739f052b9d40fcc5c41079 - gospel', '000b0f32b5739f052b9d40fcc5c41079 - gospel', '000b0f32b5739f052b9d40fcc5c41079 - gospel', '000b0f32b5739f052b9d40fcc5c41079 - gospel', '000b0f32b5739f052b9d40fcc5c41079 - gospel', '000b0f32b5739f052b9d40fcc5c41079 - gospel', '000b0f32b5739f052b9d40fcc5c41079 - gospel', '000b0f32b5739f052b9d40fcc5c41079 - gospel', '000b0f32b5739f052b9d40fcc5c41079 - gospel', '000b0f32b5739f052b9d40fcc5c41079 - gospel', '000b0f32b5739f052b9d40fcc5c41079 - gospel', '000b0f32b5739f052b9d40fcc5c41079 - gospel', '000b0f32b5739f052b9d40fcc5c41079 - gospel', '000b0f32b5739f052b9d40fcc5c41079 - gospel', '000b0f32b5739f052b9d40fcc5c41079 - gospel', '000b0f32b5739f052b9d40fcc5c41079 - gospel', '000b0f32b5739f052b9d40fcc5c41079 - gospel', '000b0f32b5739f052b9d40fcc5c41079 - gospel', '000b0f32b5739f052b9d40fcc5c41079 - gospel', '000b0f32b5739f052b9d40fcc5c41079 - gospel', '000b0f32b5739f052b9d40fcc5c41079 - gospel', '000b0f32b5739f052b9d40fcc5c41079 - gospel', '000b0f32b5739f052b9d40fcc5c41079 - gospel', '000b0f32b5739f052b9d40fcc5c41079 - gospel', '000b0f32b5739f052b9d40fcc5c41079 - gospel', '000b0f32b5739f052b9d40fcc5c41079 - gospel', '000b0f32b5739f052b9d40fcc5c41079 - gospel', '000b0f32b5739f052b9d40fcc5c41079 - gospel', '000b0f32b5739f052b9d40fcc5c41079 - gospel', '000b0f32b5739f052b9d40fcc5c41079 - gospel', '000b0f32b5739f052b9d40fcc5c41079 - gospel', '000b0f32b5739f052b9d40fcc5c41079 - liked from radio', '000b0f32b5739f052b9d40fcc5c41079 - starred', '000b0f32b5739f052b9d40fcc5c41079 - starred', '000b0f32b5739f052b9d40fcc5c41079 - starred', '000b0f32b5739f052b9d40fcc5c41079 - starred', '000b0f32b5739f052b9d40fcc5c41079 - starred', '000b0f32b5739f052b9d40fcc5c41079 - starred', '000b0f32b5739f052b9d40fcc5c41079 - starred', '000b0f32b5739f052b9d40fcc5c41079 - starred', '000b0f32b5739f052b9d40fcc5c41079 - starred', '000b0f32b5739f052b9d40fcc5c41079 - starred', '000b0f32b5739f052b9d40fcc5c41079 - starred', '000b0f32b5739f052b9d40fcc5c41079 - starred', '000b0f32b5739f052b9d40fcc5c41079 - starred', '000b0f32b5739f052b9d40fcc5c41079 - starred', '000b0f32b5739f052b9d40fcc5c41079 - starred', '000b0f32b5739f052b9d40fcc5c41079 - starred', '000b0f32b5739f052b9d40fcc5c41079 - starred', '000b0f32b5739f052b9d40fcc5c41079 - starred', '000b0f32b5739f052b9d40fcc5c41079 - starred', '000b0f32b5739f052b9d40fcc5c41079 - starred', '000b0f32b5739f052b9d40fcc5c41079 - starred', '000b0f32b5739f052b9d40fcc5c41079 - starred', '000b0f32b5739f052b9d40fcc5c41079 - starred', '000b0f32b5739f052b9d40fcc5c41079 - starred', '000b0f32b5739f052b9d40fcc5c41079 - starred', '000b0f32b5739f052b9d40fcc5c41079 - starred', '000b0f32b5739f052b9d40fcc5c41079 - starred', '000b0f32b5739f052b9d40fcc5c41079 - starred', '000b0f32b5739f052b9d40fcc5c41079 - starred', '000b0f32b5739f052b9d40fcc5c41079 - starred', '000b0f32b5739f052b9d40fcc5c41079 - starred', '000b0f32b5739f052b9d40fcc5c41079 - starred', '000b0f32b5739f052b9d40fcc5c41079 - starred', '000b0f32b5739f052b9d40fcc5c41079 - starred', '000b0f32b5739f052b9d40fcc5c41079 - starred', '000b0f32b5739f052b9d40fcc5c41079 - starred', '000b0f32b5739f052b9d40fcc5c41079 - starred', '000b0f32b5739f052b9d40fcc5c41079 - starred', '000b0f32b5739f052b9d40fcc5c41079 - starred', '000b0f32b5739f052b9d40fcc5c41079 - starred', '000b0f32b5739f052b9d40fcc5c41079 - starred', '000b0f32b5739f052b9d40fcc5c41079 - starred', '000b0f32b5739f052b9d40fcc5c41079 - starred', '000b0f32b5739f052b9d40fcc5c41079 - starred', '000b0f32b5739f052b9d40fcc5c41079 - starred', '000b0f32b5739f052b9d40fcc5c41079 - starred', '000b0f32b5739f052b9d40fcc5c41079 - starred', '000b0f32b5739f052b9d40fcc5c41079 - starred', '000b0f32b5739f052b9d40fcc5c41079 - starred', '000b0f32b5739f052b9d40fcc5c41079 - starred', '000b0f32b5739f052b9d40fcc5c41079 - starred', '000b0f32b5739f052b9d40fcc5c41079 - starred', '000b0f32b5739f052b9d40fcc5c41079 - starred', '000b0f32b5739f052b9d40fcc5c41079 - starred', '000b0f32b5739f052b9d40fcc5c41079 - starred', '000b0f32b5739f052b9d40fcc5c41079 - starred', '000b0f32b5739f052b9d40fcc5c41079 - starred', '000b0f32b5739f052b9d40fcc5c41079 - starred', '000b0f32b5739f052b9d40fcc5c41079 - starred', '000b0f32b5739f052b9d40fcc5c41079 - starred', '000b0f32b5739f052b9d40fcc5c41079 - starred', '000b0f32b5739f052b9d40fcc5c41079 - starred', '000b0f32b5739f052b9d40fcc5c41079 - starred', '000b0f32b5739f052b9d40fcc5c41079 - starred', '000b0f32b5739f052b9d40fcc5c41079 - starred', '000b0f32b5739f052b9d40fcc5c41079 - starred', '000b0f32b5739f052b9d40fcc5c41079 - starred', '000b0f32b5739f052b9d40fcc5c41079 - starred', '000b0f32b5739f052b9d40fcc5c41079 - starred', '000b0f32b5739f052b9d40fcc5c41079 - starred', '000b0f32b5739f052b9d40fcc5c41079 - starred', '000b0f32b5739f052b9d40fcc5c41079 - starred', '000b0f32b5739f052b9d40fcc5c41079 - starred', '000b0f32b5739f052b9d40fcc5c41079 - starred', '000b0f32b5739f052b9d40fcc5c41079 - starred', '000b0f32b5739f052b9d40fcc5c41079 - starred', '000b0f32b5739f052b9d40fcc5c41079 - starred', '000b0f32b5739f052b9d40fcc5c41079 - starred', '000b0f32b5739f052b9d40fcc5c41079 - starred', '000b0f32b5739f052b9d40fcc5c41079 - starred', '000b0f32b5739f052b9d40fcc5c41079 - starred', '000b0f32b5739f052b9d40fcc5c41079 - starred', '000b0f32b5739f052b9d40fcc5c41079 - starred', '000b0f32b5739f052b9d40fcc5c41079 - starred', '000b0f32b5739f052b9d40fcc5c41079 - starred', '000b0f32b5739f052b9d40fcc5c41079 - starred', '000b0f32b5739f052b9d40fcc5c41079 - starred', '000b0f32b5739f052b9d40fcc5c41079 - starred', '000b0f32b5739f052b9d40fcc5c41079 - starred', '000b0f32b5739f052b9d40fcc5c41079 - starred', '000b0f32b5739f052b9d40fcc5c41079 - starred', '000b0f32b5739f052b9d40fcc5c41079 - starred', '000b0f32b5739f052b9d40fcc5c41079 - starred', '000b0f32b5739f052b9d40fcc5c41079 - starred', '000b0f32b5739f052b9d40fcc5c41079 - starred', '000b0f32b5739f052b9d40fcc5c41079 - starred', '000b0f32b5739f052b9d40fcc5c41079 - starred', '000b0f32b5739f052b9d40fcc5c41079 - starred', '000b0f32b5739f052b9d40fcc5c41079 - starred', '000b0f32b5739f052b9d40fcc5c41079 - starred', '000b0f32b5739f052b9d40fcc5c41079 - starred', '000b0f32b5739f052b9d40fcc5c41079 - starred', '000b0f32b5739f052b9d40fcc5c41079 - starred', '000b0f32b5739f052b9d40fcc5c41079 - starred', '000b0f32b5739f052b9d40fcc5c41079 - starred', '000b0f32b5739f052b9d40fcc5c41079 - starred', '000b0f32b5739f052b9d40fcc5c41079 - starred', '000b0f32b5739f052b9d40fcc5c41079 - starred', '000b0f32b5739f052b9d40fcc5c41079 - starred', '000b0f32b5739f052b9d40fcc5c41079 - starred', '000b0f32b5739f052b9d40fcc5c41079 - starred', '000b0f32b5739f052b9d40fcc5c41079 - starred', '000b0f32b5739f052b9d40fcc5c41079 - starred', '000b0f32b5739f052b9d40fcc5c41079 - starred', '000b0f32b5739f052b9d40fcc5c41079 - starred', '000b0f32b5739f052b9d40fcc5c41079 - starred', '000b0f32b5739f052b9d40fcc5c41079 - starred', '000b0f32b5739f052b9d40fcc5c41079 - starred', '000b0f32b5739f052b9d40fcc5c41079 - starred', '000b0f32b5739f052b9d40fcc5c41079 - starred', '000b0f32b5739f052b9d40fcc5c41079 - starred', '000b0f32b5739f052b9d40fcc5c41079 - starred', '000b0f32b5739f052b9d40fcc5c41079 - starred', '000b0f32b5739f052b9d40fcc5c41079 - starred', '000b0f32b5739f052b9d40fcc5c41079 - starred', '000b0f32b5739f052b9d40fcc5c41079 - starred', '000b0f32b5739f052b9d40fcc5c41079 - starred', '000b0f32b5739f052b9d40fcc5c41079 - starred', '000b0f32b5739f052b9d40fcc5c41079 - starred', '000b0f32b5739f052b9d40fcc5c41079 - starred', '000b0f32b5739f052b9d40fcc5c41079 - starred', '000b0f32b5739f052b9d40fcc5c41079 - starred', '000b0f32b5739f052b9d40fcc5c41079 - starred', '000b0f32b5739f052b9d40fcc5c41079 - starred', '000b0f32b5739f052b9d40fcc5c41079 - starred', '000b0f32b5739f052b9d40fcc5c41079 - starred', '000b0f32b5739f052b9d40fcc5c41079 - starred', '000b0f32b5739f052b9d40fcc5c41079 - starred', '000b0f32b5739f052b9d40fcc5c41079 - starred', '000b0f32b5739f052b9d40fcc5c41079 - starred', '000b0f32b5739f052b9d40fcc5c41079 - starred', '000b0f32b5739f052b9d40fcc5c41079 - starred', '000b0f32b5739f052b9d40fcc5c41079 - starred', '000b0f32b5739f052b9d40fcc5c41079 - starred', '000b0f32b5739f052b9d40fcc5c41079 - starred', '000b0f32b5739f052b9d40fcc5c41079 - starred', '000b0f32b5739f052b9d40fcc5c41079 - starred', '000b0f32b5739f052b9d40fcc5c41079 - starred', '000b0f32b5739f052b9d40fcc5c41079 - starred', '000b0f32b5739f052b9d40fcc5c41079 - starred', '000b0f32b5739f052b9d40fcc5c41079 - starred', '000b0f32b5739f052b9d40fcc5c41079 - starred', '000b0f32b5739f052b9d40fcc5c41079 - starred', '000b0f32b5739f052b9d40fcc5c41079 - starred', '000b0f32b5739f052b9d40fcc5c41079 - starred', '000b0f32b5739f052b9d40fcc5c41079 - starred', '000b0f32b5739f052b9d40fcc5c41079 - starred', '000b0f32b5739f052b9d40fcc5c41079 - starred', '000b0f32b5739f052b9d40fcc5c41079 - starred', '000b0f32b5739f052b9d40fcc5c41079 - starred', '000b0f32b5739f052b9d40fcc5c41079 - starred', '000b0f32b5739f052b9d40fcc5c41079 - starred', '000b0f32b5739f052b9d40fcc5c41079 - starred', '000b0f32b5739f052b9d40fcc5c41079 - starred', '000b0f32b5739f052b9d40fcc5c41079 - starred', '000b0f32b5739f052b9d40fcc5c41079 - starred', '000b0f32b5739f052b9d40fcc5c41079 - starred', '000b0f32b5739f052b9d40fcc5c41079 - starred', '000b0f32b5739f052b9d40fcc5c41079 - starred', '000b0f32b5739f052b9d40fcc5c41079 - starred', '000b0f32b5739f052b9d40fcc5c41079 - starred', '000b0f32b5739f052b9d40fcc5c41079 - starred', '000b0f32b5739f052b9d40fcc5c41079 - starred', '000b0f32b5739f052b9d40fcc5c41079 - starred', '000b0f32b5739f052b9d40fcc5c41079 - starred', '000b0f32b5739f052b9d40fcc5c41079 - starred', '000b0f32b5739f052b9d40fcc5c41079 - starred', '000b0f32b5739f052b9d40fcc5c41079 - starred', '000b0f32b5739f052b9d40fcc5c41079 - starred', '000b0f32b5739f052b9d40fcc5c41079 - starred', '000b0f32b5739f052b9d40fcc5c41079 - starred', '000b0f32b5739f052b9d40fcc5c41079 - starred', '000b0f32b5739f052b9d40fcc5c41079 - starred', '000b0f32b5739f052b9d40fcc5c41079 - starred', '000b0f32b5739f052b9d40fcc5c41079 - starred', '000b0f32b5739f052b9d40fcc5c41079 - starred', '000b0f32b5739f052b9d40fcc5c41079 - starred', '000b0f32b5739f052b9d40fcc5c41079 - starred', '000b0f32b5739f052b9d40fcc5c41079 - starred', '000b0f32b5739f052b9d40fcc5c41079 - starred', '000b0f32b5739f052b9d40fcc5c41079 - starred', '000b0f32b5739f052b9d40fcc5c41079 - starred', '000b0f32b5739f052b9d40fcc5c41079 - starred', '000b0f32b5739f052b9d40fcc5c41079 - starred', '000b0f32b5739f052b9d40fcc5c41079 - starred']]\n"
          ]
        }
      ],
      "source": [
        "#Generating User-Playlist Tokens\n",
        "#Purpose: Creates a list of playlists for each user, helping the model learn user-level relationships.\n",
        "#This addition allows the model to consider playlist similarities at the user level.\n",
        "\n",
        "user_playlist_tokens = df_cleaned_final.groupby('user_id')['unq_playlist_name'].apply(list).tolist()\n",
        "\n",
        "print(f\"Number of users: {len(user_playlist_tokens)}\")\n",
        "print(\"Example user playlist tokens:\", user_playlist_tokens[:3])\n",
        "\n"
      ]
    },
    {
      "cell_type": "code",
      "execution_count": null,
      "metadata": {
        "colab": {
          "base_uri": "https://localhost:8080/"
        },
        "id": "WnnJKwZ4Vrx3",
        "outputId": "7d53c8d6-4c4c-48bc-b9c4-5d0525634b01"
      },
      "outputs": [
        {
          "name": "stdout",
          "output_type": "stream",
          "text": [
            "Total combined tokens: 132779\n",
            "Example combined tokens: [['veronica maggio - bas gillar horn', 'titiyo - blajeans och stjarnljus', 'first aid kit - emmylou', 'laleh - goliat', 'veronica maggio - hela huset', 'veronica maggio - hadanefter', 'titiyo - i need you now', 'lars winnerback - kom anglar', 'first aid kit - master pretender', 'first aid kit - my silver lining', 'lars winnerback - om du lamnade mig nu', 'veronica maggio - sergels torg', 'veronica maggio - snalla bli min', 'melissa horn - som jag hade dig forut - med lars winnerback', 'first aid kit - stay gold', 'lana del rey - summertime sadness [lana del rey vs. cedric gervais] - cedric gervais remix', \"first aid kit - the lion's roar\", 'bjorn afzelius - tusen bitar', 'bjorn afzelius - tva ljus', 'veronica maggio - valkommen in', 'laleh - varens forsta dag', 'first aid kit - wolf'], ['java gospel - a blessed christmas eve', 'java gospel - a child is born', 'java gospel - a king is coming to town', 'sofia kallgren - a rose among thorns', 'fred hammond - a song of strength - live', 'mans zelmerlow - a stranger saved my life', 'robert wells - adagio', 'solid gospel - afterwhile', 'mans zelmerlow - agent zero', 'java gospel - aldrig', 'mans zelmerlow - all i want for christmas is you', 'mariah carey - all i want for christmas is you - extra festive - album version', 'mariah carey - all i want for christmas is you - original version', \"mariah carey - all i want for christmas is you (mariah's new dance mix 2009)\", 'java gospel - att aldrig vaga stanna upp', \"mariah carey - auld lang syne - the new year's anthem\", 'christer sjogren - ave maria no morro', 'sofia kallgren - barnet i betlehem (blev fott i juletid)', 'sofia kallgren - beatrice', 'solid gospel - because of who you are', 'christer sjogren - bella notte', 'sonja alden - blott en dag', 'christer sjogren - blue christmas', 'peter johansson - breathe', 'mans zelmerlow - brother oh brother - pj harmony remix', 'mans zelmerlow - brother oh brother - west coast version', 'mans zelmerlow - brother oh brother - payami remix', 'mans zelmerlow - brother oh brother - video version', 'mans zelmerlow - cara mia', 'mans zelmerlow - cara mia - acoustic version', 'mans zelmerlow - cara mia - pj harmony day remix', 'mans zelmerlow - cara mia - perra dance remix', 'sofia kallgren - cavatina', 'mariah carey - charlie brown christmas', 'mariah carey - christmas (baby please come home)', 'mariah carey - christmas time is in the air again', 'peter johansson - circle of life', 'matilda hansson - come give me love', 'sofia kallgren - come what may', 'hootenanny singers - dansen pa sunnano', 'asa nomark - den du ar', 'sonja alden - den gyllene staden', 'asa nomark - det har ar for evigt', 'sofia kallgren - det stralar en stjarna', 'sofia kallgren - ding dong hor i hojd', \"vocalettes - don't fence me in\", 'mans zelmerlow - dreaming', 'asa nomark - du ger mig inget val', 'asa nomark - du sa', 'sofia kallgren - du lilla stad o betlehem', 'asa nomark - du ar all min langtan', 'matilda hansson - duvemala hage', 'matilda hansson - ein bisschien frieden', 'peter johansson - eleanor rigby', 'java gospel - emmanuel', 'christer sjogren - en stjarna lyser i natt', 'laleh - en stund pa jorden', \"freda' - erika\", 'peter johansson - fattig bonddrang', 'peter johansson - fields of gold', 'mans zelmerlow - find love', 'mans zelmerlow - forever', 'mans zelmerlow - freak out', 'asa nomark - far man?', 'matilda hansson - gabriellas sang', 'peter johansson - gethsemane', 'peter johansson - give a little bit', 'fred hammond - glory to glory to glory', 'sofia kallgren - glans over sjo och strand', 'christer sjogren - go, tell it on the mountain', 'java gospel - gud, vi vill att du hor var bon', 'java gospel - gavan', 'christer sjogren - happy christmas (war is over)', 'mariah carey - here comes santa claus (right down santa claus lane)/housetop celebration', 'peter johansson - himlen ar oskyldigt bla', 'asa nomark - himmelsbla', 'mans zelmerlow - hold on', 'mans zelmerlow - home', 'mans zelmerlow - hope and glory', 'mans zelmerlow - hope and glory - chainbreaker remix by holter & erixson', 'mans zelmerlow - hope and glory - pj harmony remix', 'java gospel - hosianna (interlude)', 'sofia kallgren - harlig ar jorden', 'commissioned - i really love the lord (interlude)', 'sonja alden - i den stora sorgens famn', 'sonja alden - i denna stund', \"fred hammond - i'm not afraid\", 'mans zelmerlow - impossible', 'asa nomark - inte en blund', \"andy williams - it's the most wonderful time of the year\", 'java gospel - jag kan inte se', 'java gospel - jag vill ge denna dag till dig', 'sonja alden - jag ger dig min morgon', 'sonja alden - jag ser', 'java gospel - jag onskar att du tande ett ljus', 'fred hammond - jesus be a fence around me', 'mariah carey - jesus born on this day', 'mariah carey - jesus oh what a wonderful child', 'sofia kallgren - jul, jul, stralande jul', 'christer sjogren - julen ar har', 'sofia kallgren - julen ar kommen', 'sofia kallgren - julvisa', 'asa nomark - karlek och forvantan', 'sofia kallgren - karleksvals', 'christer sjogren - let it snow', 'fred hammond - let the praise begin', 'peter johansson - life on mars?', 'java gospel - little drummer boy', 'mans zelmerlow - lively up your monday', 'sonja alden - ljuset', 'sofia kallgren - lat mig fa tanda ett ljus', 'mans zelmerlow - maniac', 'arnold borud - maria, hvorfar grater du?', 'sofia kallgren - may it be', 'fred hammond - mender of broken hearts', 'arnold borud - mester og herre', 'mans zelmerlow - millenium', 'sofia kallgren - mio my mio', 'mans zelmerlow - miss america', 'mans zelmerlow - miss america - funky pee remix', 'mans zelmerlow - miss america - grizzly mix', 'mans zelmerlow - miss america - pj harmony extended edit', 'mans zelmerlow - miss america - pj harmony radio edit', 'asa nomark - mitt sista andetag', 'peter johansson - moon river', 'fred hammond - my heart depends on you', 'sofia kallgren - my heart will go on', 'the worship crew - my life is in your hands', 'sofia kallgren - my love', 'mans zelmerlow - my mistake', 'lena philipsson - mansken i augusti', 'fred hammond - no weapon', 'sofia kallgren - now we are free', 'sofia kallgren - nu tandas tusen juleljus', 'sofia kallgren - nu ar julen har', 'sofia kallgren - nar julkvallen tander sin stjarna', 'java gospel - o come all ye faithful', 'mariah carey - o holy night', 'mariah carey - o holy night - live from wpc in south central los angeles', 'mariah carey - o little town of bethlehem / little drummer boy medley', 'christer sjogren - o helga natt', 'sonja alden - om det var gud', \"sonja alden - omkring tiggar'n fran luossa\", 'mariah carey - one child', 'peter johansson - one love', 'mans zelmerlow - one minute more', 'mans zelmerlow - paradise', 'sofia kallgren - pie jesu', 'brolle - playing with fire', \"fred hammond - please don't pass me by\", 'mans zelmerlow - please me', 'fred hammond - praise belongs to you', 'maria haukaas storeng - precious to me', 'java gospel - rejoice (feat. dogge doggelito)', 'java gospel - resa mellan tvivel och tro', 'java gospel - resa mellan tvivel och tro (outro)', 'mans zelmerlow - rewind', 'robert wells - rockaria', 'peter johansson & matilda hansson - rors jag av karleken', \"mariah carey - santa claus is comin' to town\", 'mans zelmerlow - saved again', \"roxette - she's got nothing on (but the radio)\", 'solid gospel - silent night', 'java gospel - silent night / stilla natt', 'hootenanny singers - skargardsfrun', 'sofia kallgren - solveigs sang', 'sofia kallgren - stilla natt', 'matilda hansson - stop in the name of love', 'asa nomark - storst av allt ar karleken', 'asa nomark - sa nara', 'peter johansson - take it easy', 'solid gospel - thank you jesus', 'mariah carey - the first noel/born is the king interlude', 'mans zelmerlow - the prayer', 'java gospel - tank att jag far vara har hos dig', 'peter johansson - ukulele-extas', 'java gospel - vem tror jag att jag lurar?', 'java gospel - vill du mota mig har?', 'java gospel - vingslag', 'peter johansson - vanta pa mig', 'visitors/sofia kallgren - varlden ar var', 'brolle - watching the stars', \"choralerna - we'll meet again\", \"fred hammond - we're blessed/shout unto god - live\", 'peter johansson - west side story-medley', 'mariah carey - when christmas comes', 'fred hammond - when the spirit of the lord', 'christer sjogren - white christmas', 'mans zelmerlow - whole new world', 'mans zelmerlow - work of art [da vinci]', 'mans zelmerlow - work of art [da vinci] - ali payami club remix', 'mans zelmerlow - work of art [da vinci] - ali payami vocal remix', 'mans zelmerlow - work of art [da vinci] - pj harmony summer nice version', 'mans zelmerlow - work of art [da vinci] - pj harmony summer radio edit', 'matilda hansson - angeln i rummet'], ['leon larregui - brillas', 'passion pit - carried away', 'tegan and sara - closer', 'onerepublic - counting stars', 'taylor swift - drops of jupiter - live 2011', 'the whitest boy alive - fireworks', \"drake - hold on, we're going home\", \"tegan and sara - i couldn't be your friend\", \"john mayer - i don't trust myself (with loving you)\", 'tegan and sara - i was a fool', 'russian red - john michael', 'p!nk - just like a pill - main', 'coldplay - magic', 'hello seahorse! - no es que no te quiera', 'bastille - pompeii', 'cafe tacvba - quiero ver', 'franz ferdinand - right action', 'the black keys - the baddest man alive', 'bastille - things we lost in the fire', 'lord huron - time to run', 'john mayer - why georgia', 'of montreal - wraith pinned to the mist and other games', 'beyonce - xo', 'john mayer - your body is a wonderland', \"bibio - a tout a l'heure\"]]\n"
          ]
        }
      ],
      "source": [
        "#Combine tokens\n",
        "#Purpose: Merges song-level and user-level context into a single dataset for training.\n",
        "#Combines both song relationships and user preferences for a richer model.\n",
        "\n",
        "combined_tokens = playlist_tokens + user_playlist_tokens\n",
        "\n",
        "print(f\"Total combined tokens: {len(combined_tokens)}\")\n",
        "print(\"Example combined tokens:\", combined_tokens[:3])\n",
        "\n"
      ]
    },
    {
      "cell_type": "code",
      "execution_count": null,
      "metadata": {
        "id": "DxTQDJKoEl1Z"
      },
      "outputs": [],
      "source": [
        "#Saving the Tokens to CSV\n",
        "\n",
        "#Save playlist_tokens\n",
        "import pandas as pd\n",
        "\n",
        "# Convert playlist_tokens to a long format DataFrame\n",
        "playlist_long = []\n",
        "for i, playlist in enumerate(playlist_tokens):\n",
        "    for song in playlist:\n",
        "        playlist_long.append({'playlist_id': i, 'song_name': song})\n",
        "\n",
        "# Convert to DataFrame and save to CSV\n",
        "playlist_long_df = pd.DataFrame(playlist_long)\n",
        "playlist_long_df.to_csv(\"playlist_tokens.csv\", index=False)\n",
        "\n",
        "print(\"playlist_tokens saved to playlist_tokens.csv\")\n",
        "\n",
        "#Save user_playlist_tokens\n",
        "# Convert user_playlist_tokens to a long format DataFrame\n",
        "user_long = []\n",
        "for i, user_playlists in enumerate(user_playlist_tokens):\n",
        "    for playlist in user_playlists:\n",
        "        user_long.append({'user_id': i, 'playlist_name': playlist})\n",
        "\n",
        "# Convert to DataFrame and save to CSV\n",
        "user_long_df = pd.DataFrame(user_long)\n",
        "user_long_df.to_csv(\"user_playlist_tokens.csv\", index=False)\n",
        "\n",
        "print(\"user_playlist_tokens saved to user_playlist_tokens.csv\")\n",
        "\n",
        "\n"
      ]
    },
    {
      "cell_type": "code",
      "execution_count": null,
      "metadata": {
        "colab": {
          "base_uri": "https://localhost:8080/"
        },
        "id": "46FZD2OFVr0c",
        "outputId": "c1c9c183-5ea0-4c9d-ed89-be6acac5524e"
      },
      "outputs": [
        {
          "name": "stdout",
          "output_type": "stream",
          "text": [
            "Execution Time: 3382.09 seconds\n"
          ]
        }
      ],
      "source": [
        "#Train the Word2Vec Model # it takes 56 min to run\n",
        "import time\n",
        "#Purpose:\n",
        "#Learns embeddings for songs and playlists, capturing their contextual relationships.\n",
        "#Saves the trained model for reuse without retraining\n",
        "# Start the timer\n",
        "start_time = time.time()\n",
        "\n",
        "from gensim.models import Word2Vec\n",
        "import time\n",
        "\n",
        "# Train Word2Vec model\n",
        "w2v_model = Word2Vec(\n",
        "    sentences=combined_tokens,\n",
        "    vector_size=100,  # Embedding dimensions\n",
        "    window=5,         # Context window size\n",
        "    min_count=1,      # Include all tokens\n",
        "    sg=1,             # Skip-Gram model\n",
        "    epochs=20,        # Training epochs\n",
        "    workers=4         # Number of threads\n",
        ")\n",
        "\n",
        "# Save the model\n",
        "w2v_model.save(\"new_song2vec.model\")\n",
        "\n",
        "# Stop the timer\n",
        "end_time = time.time()\n",
        "\n",
        "# Print execution time\n",
        "print(f\"Execution Time: {end_time - start_time:.2f} seconds\")"
      ]
    },
    {
      "cell_type": "code",
      "execution_count": null,
      "metadata": {
        "colab": {
          "base_uri": "https://localhost:8080/"
        },
        "id": "9rM1q53Id0DM",
        "outputId": "708c750e-37ad-4bb1-a0ee-10a0a69ebf80"
      },
      "outputs": [
        {
          "name": "stdout",
          "output_type": "stream",
          "text": [
            "Drive already mounted at /content/drive; to attempt to forcibly remount, call drive.mount(\"/content/drive\", force_remount=True).\n"
          ]
        }
      ],
      "source": [
        "#Save the file here so u don't need to rerun it\n",
        "from google.colab import drive\n",
        "drive.mount('/content/drive')\n",
        "\n",
        "# Save to Google Drive- adjust it to your Google Drive\n",
        "w2v_model.save('/content/drive/My Drive/Colab Notebooks/Final Project/new_song2vec.model')"
      ]
    },
    {
      "cell_type": "code",
      "execution_count": null,
      "metadata": {
        "colab": {
          "base_uri": "https://localhost:8080/"
        },
        "id": "aW1N_bxIVr3R",
        "outputId": "95660bb4-2cc4-4f02-b5cd-47eba262696c"
      },
      "outputs": [
        {
          "name": "stdout",
          "output_type": "stream",
          "text": [
            "Songs similar to 'michael jackson - thriller':\n",
            "quincy jones - voice-over intro quincy jones interview #1/quincy jones interview #1 (similarity: 0.91)\n",
            "quincy jones - voice-over intro quincy jones interview #2/quincy jones interview #2/voice-over intro billie jean (demo) (similarity: 0.91)\n",
            "quincy jones - voice-over intro quincy jones interview #6/quincy jones interview #6 (similarity: 0.91)\n",
            "michael jackson - thriller - instrumental (similarity: 0.91)\n",
            "rod temperton - voice-over intro rod temperton interview #1/rod temperton interview #1 (similarity: 0.90)\n",
            "quincy jones - voice-over intro quincy jones interview # 1/quincy jones interview #1 (similarity: 0.90)\n",
            "michael jackson - the girl is mine 2008 with will.i.am - thriller 25th anniversary remix (similarity: 0.90)\n",
            "michael jackson - this is it (similarity: 0.90)\n",
            "quincy jones - voice-over intro quincy jones interview #2/quincy jones interview #2 (similarity: 0.90)\n",
            "rod temperton - voice-over intro voice-over session from thriller/voice-over session from thriller (similarity: 0.90)\n"
          ]
        }
      ],
      "source": [
        "#Test and Use the Model\n",
        "#Find Similar Songs-Validates that the model can identify songs similar to a given input.\n",
        "\n",
        "input_song = \"michael jackson - thriller\"\n",
        "if input_song in w2v_model.wv:\n",
        "    similar_songs = w2v_model.wv.most_similar(input_song, topn=10)\n",
        "    print(f\"Songs similar to '{input_song}':\")\n",
        "    for song, similarity in similar_songs:\n",
        "        print(f\"{song} (similarity: {similarity:.2f})\")\n",
        "else:\n",
        "    print(f\"'{input_song}' not found in the vocabulary.\")\n"
      ]
    },
    {
      "cell_type": "code",
      "execution_count": null,
      "metadata": {
        "colab": {
          "base_uri": "https://localhost:8080/"
        },
        "id": "b4TmQD0oTH24",
        "outputId": "72678452-0196-4f0d-eea6-f91af6f75a7d"
      },
      "outputs": [
        {
          "name": "stdout",
          "output_type": "stream",
          "text": [
            "Recommended playlists for 'michael jackson - thriller': ['156fd148c44f2bce755b09bf95985ee8 - world pop'\n",
            " \"29ca1f6e4ac7abe46ab2dbf05d848237 - michael jackson - michael jackson's this is it\"\n",
            " '5a0db868e06bbbee554b7b24b6512c41 - starred'\n",
            " '8d2bb087f06ef345de4570460a60aeb7 - chill!!!'\n",
            " 'c90db1ceff371548c40a6a86bcfe2765 - mj'\n",
            " '955e388ff681c2517162d2eb9a3479b3 - daily playlist'\n",
            " '11ea81ca4d3fd6965af593f63ca3a18d - michael jackson'\n",
            " \"088a872bf5f32d2713953b0805a84cb3 - michael jackson - michael jackson's this is it\"\n",
            " '141970246646c7a0a6af2e1f6e834233 - love addiction (stalker,  romantic obsession, unrequited love songs)'\n",
            " 'f7051f52e9565e22d0d0097809c1611b - annnnnnaa'\n",
            " 'fdeeb79b4f3e32f20a298a2581351a56 - starred'\n",
            " 'eb619429451636d2dbe0450efe740e8f - michael jackson'\n",
            " \"001c4e5b73eca68ee9756bb0c7d2f855 - michael jackson - michael jackson's this is it\"\n",
            " 'cba242053229db043497e4dd284b025f - starred'\n",
            " \"0e34052048fa61c5d1e235992a6b57f5 - michael jackson - michael jackson's this is it\"\n",
            " '60dddf67f3d16128530a9575755d7fd7 - wine night'\n",
            " '4abb5dc668cd8c9f97fe7d59307ef8cc - michael jackson - thriller 25 super deluxe edition'\n",
            " 'e674d30cfd4939c3779b4393122ce589 - michael jackson - thriller 25 super deluxe edition'\n",
            " 'c1bb35bb4fa59d61162ea4ade71c1cf6 - starred'\n",
            " \"636bc940ffd8f458305ca36b757da8f6 - michael jackson -- michael jackson's this is it\"\n",
            " 'deb505ddd9cc64080d64ed45b7f02d5e - 2000s'\n",
            " '631942d45f187d753528579469d2e2c5 - starred'\n",
            " 'af9a3f04515c63fd68c18f882d4e315b - greatalbums ^^'\n",
            " '40ef782b7710a0614d27a077644f3d6a - starred'\n",
            " 'dfd0e5bb60c2b0c3703862987da4161f - starred'\n",
            " 'ad6a1cf3f12144a092e2f2799eb06744 - michael jackson '\n",
            " \"1727ea1dffb675a850aeb7846f79999b - g's hip hop / r&b / soul\"\n",
            " 'd513ea6a840436a466f5b602b645f579 - thriller 25 super deluxe edition'\n",
            " '8fd12714d928e19c129949c9a6215975 - michael jackson / jackson 5'\n",
            " 'eb9d95f63ac8d360e8dbf55b8f229395 - thriller'\n",
            " \"476888a40da7b22983e7cd86610a7b70 - michael jackson - michael jackson's this is it\"\n",
            " '2dc0b3824e36595f3ec7efd453a0e76c - michael jackson - thriller 25 super deluxe edition'\n",
            " 'b93f26ad06e2ba613575be8324ed6d44 - michael jackson'\n",
            " '0cd24fabcffc5c4c93f3d84b7a598378 - michael jackson'\n",
            " 'ca47458b29f65ae73969ed25a9982183 - michael jackson'\n",
            " 'd926057f680d13381e678e94a694bb06 - michael jackson - bad'\n",
            " '24a52abac63c4855c6b467da28f854f6 - work in progress'\n",
            " \"ff12ef652fe7e7a8d6e8c4061840bf6d - michael jackson - michael jackson's this is it\"\n",
            " \"73d060db1fa5d71e8853de6f902ac017 - michael jackson - michael jackson's this is it\"\n",
            " 'eb068eee85dff0fd4e7c67d3c6acf92a - v0213'\n",
            " 'eb068eee85dff0fd4e7c67d3c6acf92a - we11.02'\n",
            " 'b7c916d65b8e73ac5f6ca20a566d04f9 - michael <3'\n",
            " 'ff83b4f72197d1c04338887bbebb9ce1 - electronica og div'\n",
            " \"bc33b88327ee2a412aea65ff0cf2777e - michael jackson - michael jackson's this is it\"\n",
            " '6327e3454b77d7f31832484816b2d236 - michael jackson'\n",
            " \"e4400c97eec0ef488f29fc17e428abd4 - michael jackson - michael jackson's this is it\"\n",
            " 'ccd63f6e1250ed601e84d2f25416a6fe - howie'\n",
            " 'ccd63f6e1250ed601e84d2f25416a6fe - michael jackson'\n",
            " '71545347653784fb888d83b0b5f45721 - michael jackson - thriller 25 super deluxe edition'\n",
            " 'bb8f866084c2f79b89490ebb97f0984d - starred'\n",
            " 'c19c58cf7b661d8c9478e57e6e003500 - frank turner'\n",
            " '6a828f1053c103c68beb6041fdf92d89 - michael jackson'\n",
            " 'ed63ba54339224ded35bd7e7d7af29b0 - thriller'\n",
            " '583b369dffb53ca5daa0e3caf0cff339 - pluras kok istanbul'\n",
            " \"724c3404a69cd348433c1d8c871d803d - alex's playlist\"\n",
            " '32b524ed367b1e5a714228fbec80849d - jb - the past'\n",
            " 'e6dc50dbd72dd79f8e9626b1bbd5475e - mj - discography'\n",
            " '5db07615b404164395bc2adc03ee2688 - michael jackson - thriller 25 super deluxe edition'\n",
            " \"4be5f9f7e42b51677552004f37fcb625 - michael jackson - michael jackson's this is it 2\"\n",
            " 'cc9985b3045b39eeeb28f0f81ce31354 - michael jackson - thriller'\n",
            " 'd3a85c44687e7b3fce8853c1cc3e44e6 - emmas'\n",
            " 'c16fab031a8781ae446b454b4b795d60 - michael jackson'\n",
            " '7b0887e8be8d46fc2f7ac9e82f4f0d57 - missa in illo tempore: gloria'\n",
            " '20f97e1d3b619fa2ad0010c770ece6fd - michael jackson - thriller 25 super deluxe edition'\n",
            " '9cf0d3b54fd8844c9edcca5c9be0596c - tokyo kosei wind orchestra - this is brass -beat it-'\n",
            " 'eaa229eeb775f5dd5b1b867f089062cc - michael favs '\n",
            " \"eaa229eeb775f5dd5b1b867f089062cc - michael jackson - michael jackson's this is it\"\n",
            " 'eaa229eeb775f5dd5b1b867f089062cc - thriller 25 super deluxe edition'\n",
            " 'aeae8c6a8beeda7abc36ab37a881f3df - michael jackson'\n",
            " '5d281399da2be2b34d9de8b7aa1e3535 - baby n playlist'\n",
            " 'e8eab6c743606e479ae39c3827b751f5 - liked from radio'\n",
            " 'b0f12052f01bc1c4e5deac9b213768c1 - henrik'\n",
            " 'c030504e2872b58b62e557f6f80b1373 - bad ass mansion parties'\n",
            " '8c3e1191cb28f7c57bbf35c1e2ad1bf1 - singing divas and divos'\n",
            " '21eb055d8278b95a20a5a7ea877d821e - veel liejes'\n",
            " '5d13dced79356a64f15625cd7d11f922 - las mas mejores'\n",
            " '5d13dced79356a64f15625cd7d11f922 - american classics'\n",
            " '89046877791b75d92e333c4155a3f72a - mj'\n",
            " '37dc947342ea5217c2890c395f840d7f - insrumental'\n",
            " 'cb5a6a33ae09a08de06d67db10784b8f - cargando pilas'\n",
            " '5dc6e7fcc38fa779acf7b76ec673395d - michael jackson - bad'\n",
            " '5dc6e7fcc38fa779acf7b76ec673395d - michael jackson - thriller'\n",
            " '12f7a3883dc476b5bf9dd7c3ecd5e3bd - allt annat skit'\n",
            " '8ddcc73e858cfbe4bb111725d7c81f21 - mj'\n",
            " '76ceb892488810463545f9fa90ca8d4c - michael jackson'\n",
            " '33038d360334f3d9c1d70d018899bea9 - michael jackson - bad'\n",
            " '25c9f3c07194701e769a120cb38fe696 - best of mj'\n",
            " '991249d181b744671f85851c765ab8c0 - compilado'\n",
            " 'bc5bbc9a740a7b5b295369b0d55124b5 - mj<3'\n",
            " \"58685b450a245d2da54b01a9d24f0958 - michael jackson - michael jackson's this is it\"\n",
            " '51c4a3f722bd23bbec2da8a6bef615ee - michael jackson - thriller 25 super deluxe edition'\n",
            " '7e6a7d86681092dded1c5e5915054bd4 - music.'\n",
            " '7e6a7d86681092dded1c5e5915054bd4 - starred'\n",
            " '3faa7935970c0399bd2064dc4ed4a305 - angel'\n",
            " \"a715d9710f1e7c427081e1cc9a75a605 - michael jackson - michael jackson's this is it\"\n",
            " '5fc3293b3bffb352220f4ffee8883cb6 - oldies'\n",
            " 'e7ac5712ca6b7bd9734a51897debbe80 - todo'\n",
            " 'aa0a23aa06c640aa86a9b4ccadb91439 - starred'\n",
            " 'b21e6e59a937104d3ccaaeb02ab0be8b - michael jackson - thriller 25 super deluxe edition'\n",
            " '1e96cede11e5bc520c9993f1a079756d - mj'\n",
            " 'e97830f439186befeed6ee57f797d415 - michael jackson'\n",
            " '36eabe925b8385c48e4ec3ccbf02b8f2 - goodness & light'\n",
            " 'a33b6a790f4f39c809d7dcd7c8fd3959 - fiesta de cumple'\n",
            " 'd7000bbdeabcd7ff91be8264ada308a0 - a whole year'\n",
            " '441230b7eebc6a60e3fe16866ab3db2f - starred'\n",
            " '052a5646131d65d399d20c7d4897d384 - this is it'\n",
            " '7e52a845c8e213749ba06236944804e3 - rock & roll & otros...??'\n",
            " \"9c62bd5f7ce5923282f8e7c8dc9dc052 - - rock n' roll -\"\n",
            " '9c62bd5f7ce5923282f8e7c8dc9dc052 - michael jackson'\n",
            " '9c62bd5f7ce5923282f8e7c8dc9dc052 - myself'\n",
            " 'e979c447d3747b097b58a83f1fb4e894 - michael jackson & family'\n",
            " '5f6a58f85fbacbed9d20cd9e44490ea1 - rafaeltinoko'\n",
            " '8242edc92fee25dcae83a1287b2edcc9 - michael jackson - bad'\n",
            " '14c084b0114c2a65f3cc3101c61d45b7 - tunes!'\n",
            " '954ff5b0c8d11fa0f1ad53c4d7a91abf - the ultimate michael jackson collection'\n",
            " '5d737acba545e68b2921bfd328a28ba2 - all'\n",
            " '612358bd2a00fa5df0cc974094a23be0 - michael jackson'\n",
            " '36356fe4102e311278ab0e40aa611a51 - massive list'\n",
            " 'd6c62f726984278d2c6fe1e601001576 - jakobs gamla'\n",
            " '51e0cd136c63b1ded20a9e6d6ab0035d - michael jackson'\n",
            " 'a37f951634350e73d4f810a93a438c17 - fleur'\n",
            " '8d6c1601d5b28431dcfd5d10374ad218 - mj'\n",
            " 'ae7140291386f1ffc89de6b203dbcca3 - michael jackson'\n",
            " '3196442b472af9bbb51e1628ca3c188a - hijklmn'\n",
            " \"2a848c33b20fa5816287568d0447ec8c - michael jackson - michael jackson's this is it\"\n",
            " '36ed222dab541663004adc160317e69d - michael jackson - thriller 25 super deluxe edition'\n",
            " '2ac7eb91b075faf1b269507474eb75ea - bar exam (better)'\n",
            " \"2ac7eb91b075faf1b269507474eb75ea - michael jackson - michael jackson's this is it\"\n",
            " '5711c5c6e1e476930378248a69f4f4a3 - michael jacksons birthday'\n",
            " \"8ed1f4adbbe1f81829b0a78f4f92d394 - harold's r&b 2\"\n",
            " '65e69b2990abddb1afe1a1af1cf18c26 - jams'\n",
            " '24d6d495d00df636fd121f1ee642ab0c - michael jackson'\n",
            " 'bbb99148c21865797d7a47ba35eac81b - kim2'\n",
            " '59cef25640211fd1eae154a615d97374 - m80'\n",
            " '3bd6307ecc25a9115a2db5dd9a21d7e5 - on-the-go 2: compact'\n",
            " '3bd6307ecc25a9115a2db5dd9a21d7e5 - on-the-go: everyday listening'\n",
            " '3bd6307ecc25a9115a2db5dd9a21d7e5 - starred'\n",
            " '574495e1d22589125e009dd093e140a8 - michael jackson'\n",
            " 'a6e8aeda4ffffb4b4a9b5613c6a59589 - mj'\n",
            " 'fc0d058c6c9683c2efe0e3fb34d59234 - mj'\n",
            " '92b60714de6f6ded5ddb2cc3acd1d0b3 - dance mixtape'\n",
            " '909adee5b131e3341310aa0777d54f79 - michael jackson - thriller 25 super deluxe edition'\n",
            " '1dcaa0c136f62562a57acf67b4d0b27f - thriller 25 super deluxe edition'\n",
            " '76604238bf5d221de438f8c8f85174ba - michael jackson'\n",
            " \"ec125445f2bdfe5d3d6f49b30dd755b3 - michael jackson - michael jackson's this is it\"]\n"
          ]
        }
      ],
      "source": [
        "# Recommend playlists\n",
        "\n",
        "\n",
        "def recommend_playlists(input_song, model, df):\n",
        "    if input_song not in w2v_model.wv:\n",
        "        return \"Song not found in model vocabulary.\"\n",
        "\n",
        "    similar_songs = [s for s, _ in w2v_model.wv.most_similar(input_song, topn=10)]\n",
        "    recommended_playlists = df[df['song_name'].isin(similar_songs)]['unq_playlist_name'].unique()\n",
        "    return recommended_playlists\n",
        "\n",
        "\n",
        "\n",
        "    # Example Input Song- u can choose any other song from the playlist and check it yourself\n",
        "input_song = \"michael jackson - thriller\"\n",
        "\n",
        "# Call the Function\n",
        "recommended_playlists = recommend_playlists(input_song, w2v_model, df_cleaned_final)\n",
        "\n",
        "# Display the Playlists\n",
        "if isinstance(recommended_playlists, str):  # If the function returns an error message\n",
        "    print(recommended_playlists)\n",
        "else:\n",
        "    print(f\"Recommended playlists for '{input_song}': {recommended_playlists}\")\n",
        "\n",
        "    \"\"\"\n",
        "    If we got less then 10 playlist it is because\n",
        "    If the dataset has been filtered (e.g., to remove rare songs or limit playlists to 10-50 songs),\n",
        "    some similar songs may have been excluded from the dataset. This limits the number of playlists the function can find.\n",
        "    So it is ok and not a mistake\n",
        "    \"\"\"\n"
      ]
    },
    {
      "cell_type": "code",
      "execution_count": null,
      "metadata": {
        "id": "4vrLTK1bW9nG"
      },
      "outputs": [],
      "source": [
        "#Evaluate the Model\n",
        "#Cross-Validation\n",
        "#Purpose:Splits the dataset into training and testing sets for validation.\n",
        "import pandas as pd\n",
        "\n",
        "from sklearn.model_selection import train_test_split\n",
        "\n",
        "# Split playlists into training and testing sets\n",
        "playlists = df_cleaned_final['unq_playlist_name'].drop_duplicates()\n",
        "train_playlists, test_playlists = train_test_split(playlists, test_size=0.2, random_state=42)\n",
        "\n",
        "# Create train and test datasets\n",
        "train_df = df_cleaned_final[df_cleaned_final['unq_playlist_name'].isin(train_playlists)]\n",
        "test_df = df_cleaned_final[df_cleaned_final['unq_playlist_name'].isin(test_playlists)]\n"
      ]
    },
    {
      "cell_type": "code",
      "execution_count": null,
      "metadata": {
        "colab": {
          "base_uri": "https://localhost:8080/"
        },
        "id": "6kxOAyUHW9vG",
        "outputId": "529588db-eb8b-43f9-b9b7-ab38776fd5ae"
      },
      "outputs": [
        {
          "name": "stdout",
          "output_type": "stream",
          "text": [
            "Recall@5: 0.01\n",
            "Execution Time: 2328.31 seconds\n"
          ]
        }
      ],
      "source": [
        "# Recall@K   #it takes 38 min to run\n",
        "#Purpose:\n",
        "#Measures the fraction of relevant songs correctly predicted by the model.\n",
        "import time\n",
        "from gensim.models import Word2Vec\n",
        "\n",
        "# Load the saved model from Google Drive\n",
        "model_path = '/content/drive/My Drive/Colab Notebooks/Final Project/new_song2vec.model'\n",
        "w2v_model = Word2Vec.load(model_path)\n",
        "\n",
        "# Define Recall@K evaluation function\n",
        "def evaluate_model(test_df, model, top_n=5):\n",
        "    hits = 0\n",
        "    total = 0\n",
        "\n",
        "    for playlist_id, group in test_df.groupby('unq_playlist_name'):\n",
        "        songs = group['song_name'].tolist()\n",
        "        songs_in_vocab = [song for song in songs if song in model.wv]\n",
        "        if len(songs_in_vocab) < 2:\n",
        "            continue\n",
        "\n",
        "        input_song = songs_in_vocab[0]\n",
        "        true_songs = set(songs_in_vocab[1:])\n",
        "        predicted_songs = [song for song, _ in model.wv.most_similar(input_song, topn=top_n)]\n",
        "\n",
        "        hits += len(true_songs.intersection(predicted_songs))\n",
        "        total += len(true_songs)\n",
        "\n",
        "    return hits / total if total > 0 else 0\n",
        "\n",
        "# Measure execution time\n",
        "start_time = time.time()\n",
        "\n",
        "# Run Recall@5 evaluation\n",
        "recall_at_k = evaluate_model(test_df, w2v_model, top_n=5)\n",
        "\n",
        "end_time = time.time()\n",
        "\n",
        "# Print results and execution time\n",
        "print(f\"Recall@5: {recall_at_k:.2f}\")\n",
        "print(f\"Execution Time: {end_time - start_time:.2f} seconds\")\n",
        "\n"
      ]
    },
    {
      "cell_type": "code",
      "execution_count": null,
      "metadata": {
        "colab": {
          "base_uri": "https://localhost:8080/"
        },
        "id": "s6Pc4_yHWFmc",
        "outputId": "46345e49-5e8e-4e8d-e900-7db015dce604"
      },
      "outputs": [
        {
          "name": "stdout",
          "output_type": "stream",
          "text": [
            "Precision@5: 0.13\n"
          ]
        }
      ],
      "source": [
        "#Precision@K #it takes 38 min to run\n",
        "def precision_at_k(test_df, model, top_n=5):\n",
        "    total_playlists = 0\n",
        "    total_precision = 0\n",
        "\n",
        "    for playlist_id, group in test_df.groupby('unq_playlist_name'):\n",
        "        # Get the songs in the playlist\n",
        "        songs = group['song_name'].tolist()\n",
        "\n",
        "        # Filter songs that exist in the model's vocabulary\n",
        "        songs_in_vocab = [song for song in songs if song in w2v_model.wv]\n",
        "        if len(songs_in_vocab) < 2:  # Skip if there are not enough songs to evaluate\n",
        "            continue\n",
        "\n",
        "        # Use the first song as input and the rest as true songs\n",
        "        input_song = songs_in_vocab[0]\n",
        "        true_songs = set(songs_in_vocab[1:])\n",
        "\n",
        "        # Get top-N recommendations\n",
        "        predicted_songs = [song for song, _ in w2v_model.wv.most_similar(input_song, topn=top_n)]\n",
        "\n",
        "        # Calculate the number of relevant songs in the top-N recommendations\n",
        "        relevant_songs = true_songs.intersection(predicted_songs)\n",
        "        precision = len(relevant_songs) / top_n  # Precision for this playlist\n",
        "\n",
        "        total_precision += precision\n",
        "        total_playlists += 1\n",
        "\n",
        "    # Return the mean precision over all playlists\n",
        "    return total_precision / total_playlists if total_playlists > 0 else 0\n",
        "\n",
        "# Set K (number of recommendations)\n",
        "top_n = 5\n",
        "\n",
        "# Call the precision_at_k function\n",
        "precision_score = precision_at_k(test_df, w2v_model, top_n=top_n)\n",
        "\n",
        "# Print the results\n",
        "print(f\"Precision@{top_n}: {precision_score:.2f}\")\n",
        "\n",
        "\n"
      ]
    },
    {
      "cell_type": "code",
      "execution_count": null,
      "metadata": {
        "colab": {
          "base_uri": "https://localhost:8080/"
        },
        "id": "L77dHn3kW9xk",
        "outputId": "a46fa83e-a3b0-4f44-b15d-9c0719b7ffb7"
      },
      "outputs": [
        {
          "name": "stdout",
          "output_type": "stream",
          "text": [
            "Mean Reciprocal Rank (MRR): 0.25\n"
          ]
        }
      ],
      "source": [
        "#Mean Reciprocal Rank (MRR)\n",
        "#Purpose:\n",
        "#Evaluates how quickly the correct predictions appear in the ranking.\n",
        "def mean_reciprocal_rank(test_df, model):\n",
        "    reciprocal_ranks = []\n",
        "\n",
        "    for playlist_id, group in test_df.groupby('unq_playlist_name'):\n",
        "        songs = group['song_name'].tolist()\n",
        "        songs_in_vocab = [song for song in songs if song in model.wv]\n",
        "        if len(songs_in_vocab) < 2:\n",
        "            continue\n",
        "\n",
        "        input_song = songs_in_vocab[0]\n",
        "        true_songs = set(songs_in_vocab[1:])\n",
        "        predicted_songs = [song for song, _ in model.wv.most_similar(input_song, topn=10)]\n",
        "\n",
        "        for rank, song in enumerate(predicted_songs, start=1):\n",
        "            if song in true_songs:\n",
        "                reciprocal_ranks.append(1 / rank)\n",
        "                break\n",
        "        else:\n",
        "            reciprocal_ranks.append(0)\n",
        "\n",
        "    return sum(reciprocal_ranks) / len(reciprocal_ranks) if reciprocal_ranks else 0\n",
        "\n",
        "mrr = mean_reciprocal_rank(test_df, w2v_model)\n",
        "print(f\"Mean Reciprocal Rank (MRR): {mrr:.2f}\")\n",
        "\n",
        "\n",
        "\n"
      ]
    },
    {
      "cell_type": "code",
      "execution_count": null,
      "metadata": {
        "id": "5rc-YkIbVr8F"
      },
      "outputs": [],
      "source": []
    },
    {
      "cell_type": "markdown",
      "metadata": {
        "id": "cx1lrzrtbNAk"
      },
      "source": [
        "#Word2Vec on 50% of the data"
      ]
    },
    {
      "cell_type": "code",
      "execution_count": null,
      "metadata": {
        "colab": {
          "base_uri": "https://localhost:8080/"
        },
        "id": "HYPovsc1GsVR",
        "outputId": "96a75dc3-771a-45fb-cad6-50bae8048e59"
      },
      "outputs": [
        {
          "name": "stdout",
          "output_type": "stream",
          "text": [
            "Drive already mounted at /content/drive; to attempt to forcibly remount, call drive.mount(\"/content/drive\", force_remount=True).\n"
          ]
        }
      ],
      "source": [
        "import pandas as pd\n",
        "\n",
        "# Unfortunately, you should download the file to your drive\n",
        "# file link: https://drive.google.com/file/d/1zTEsmlHihMUmWNw90VDIvnK5s8SvJgLH/view?usp=sharing\n",
        "# Then correct the file path accordingly\n",
        "\n",
        "from google.colab import drive\n",
        "drive.mount('/content/drive')\n",
        "df_cleaned_final = '/content/drive/My Drive/Colab Notebooks/Final Project/cleaned_step3.csv'\n",
        "df_cleaned_final = pd.read_csv(df_cleaned_final)"
      ]
    },
    {
      "cell_type": "code",
      "execution_count": null,
      "metadata": {
        "colab": {
          "base_uri": "https://localhost:8080/"
        },
        "id": "sX5SJLhgFKvu",
        "outputId": "45205ed3-c93b-4fe3-c9cb-c128b6b8897b"
      },
      "outputs": [
        {
          "name": "stdout",
          "output_type": "stream",
          "text": [
            "Number of rows in sampled data: 3823219\n",
            "                                   user_id               artist_name  \\\n",
            "536677    e1908ed3528f78587878788ff5522e12  the airborne toxic event   \n",
            "6738392   c2d2fed26e858f82fdd8ac2e791cab1f               motley crue   \n",
            "5560761   679bb6cd7bf07a25238950867139c6fc           collective soul   \n",
            "6287448   13236ba441b3b546b31b231c5fa1da4f             schuyler fisk   \n",
            "10235637  671bb2f635b192979fb39fc0b7cfebdf             azealia banks   \n",
            "\n",
            "                     track_name                     playlist_name  \\\n",
            "536677            bride & groom                         discovery   \n",
            "6738392          helter skelter               koiken's long plays   \n",
            "5560761   where the river flows                          90's ish   \n",
            "6287448               afterglow    schuyler fisk - the good stuff   \n",
            "10235637                   1991  house of rover (deep tech house)   \n",
            "\n",
            "                                         song_name  \\\n",
            "536677    the airborne toxic event - bride & groom   \n",
            "6738392               motley crue - helter skelter   \n",
            "5560761    collective soul - where the river flows   \n",
            "6287448                  schuyler fisk - afterglow   \n",
            "10235637                      azealia banks - 1991   \n",
            "\n",
            "                                          unq_playlist_name  \n",
            "536677         e1908ed3528f78587878788ff5522e12 - discovery  \n",
            "6738392   c2d2fed26e858f82fdd8ac2e791cab1f - koiken's lo...  \n",
            "5560761         679bb6cd7bf07a25238950867139c6fc - 90's ish  \n",
            "6287448   13236ba441b3b546b31b231c5fa1da4f - schuyler fi...  \n",
            "10235637  671bb2f635b192979fb39fc0b7cfebdf - house of ro...  \n"
          ]
        }
      ],
      "source": [
        "import pandas as pd\n",
        "\n",
        "# דגימה של 10% מהדאטה\n",
        "df_cleaned_final = df_cleaned_final.sample(frac=0.3, random_state=42)\n",
        "\n",
        "\n",
        "print(f\"Number of rows in sampled data: {len(df_cleaned_final)}\")\n",
        "print(df_cleaned_final.head())\n"
      ]
    },
    {
      "cell_type": "code",
      "execution_count": null,
      "metadata": {
        "colab": {
          "base_uri": "https://localhost:8080/"
        },
        "id": "nsXyWjMpFwTG",
        "outputId": "2436465c-0e1c-4538-bb79-4e954cfb1f43"
      },
      "outputs": [
        {
          "name": "stdout",
          "output_type": "stream",
          "text": [
            "Total songs before filtering: 1289879\n",
            "Total songs after filtering: 24509\n"
          ]
        }
      ],
      "source": [
        "#Purpose: Keeping songs that apear in at least 20 different playlists\n",
        "#This will delete rare songs from the model\n",
        "#By filtering rare songs early, you reduce noise and improve the quality of training data.\n",
        "\n",
        "song_counts = df_cleaned_final['song_name'].value_counts()\n",
        "\n",
        "#Filter songs appearing at least 20 times\n",
        "common_songs = song_counts[song_counts >= 20].index  # Adjust threshold as needed\n",
        "filtered_songs_df = df_cleaned_final[df_cleaned_final['song_name'].isin(common_songs)]\n",
        "\n",
        "# Count songs per playlist (after removing rare songs)\n",
        "songs_per_playlist = filtered_songs_df.groupby('unq_playlist_name')['song_name'].count()\n",
        "\n",
        "print(f\"Total songs before filtering: {len(song_counts)}\")\n",
        "print(f\"Total songs after filtering: {len(common_songs)}\")\n"
      ]
    },
    {
      "cell_type": "code",
      "execution_count": null,
      "metadata": {
        "id": "zxeQZBN4FwTI"
      },
      "outputs": [],
      "source": [
        "#Purpose: Ensures the model is trained on playlists with meaningful context (neither too small nor too large).\n",
        "#Therefore, we filter playlists that include between 10 to 50 songs for efficient training.\n",
        "#(Up to 25% of the playlists in this df have max 10 songs and Up to 80% of the playlists in the df have max 50 songs).\n",
        "\n",
        "# Filter playlists with 10 to 50 songs\n",
        "valid_playlists = songs_per_playlist[(songs_per_playlist >= 10) & (songs_per_playlist <= 50)].index\n",
        "\n",
        "# Subset the DataFrame to include only these playlists\n",
        "filtered_df = df_cleaned_final[df_cleaned_final['unq_playlist_name'].isin(valid_playlists)]\n",
        "\n",
        "filtered_df.to_csv(\"filtered_data.csv\", index=False)\n",
        "\n"
      ]
    },
    {
      "cell_type": "code",
      "execution_count": null,
      "metadata": {
        "colab": {
          "base_uri": "https://localhost:8080/"
        },
        "id": "s2EfEbPiFwTI",
        "outputId": "f67d05ef-8b5e-4c9e-a12a-1e446facc0e5"
      },
      "outputs": [
        {
          "name": "stdout",
          "output_type": "stream",
          "text": [
            "Average length of song names: 32.93\n",
            "80th percentile of song name lengths: 42.00\n",
            "Number of long song names to exclude from the model: 187017\n",
            "Number of song names to include in the model: 889308\n",
            "Number of rows in filtered_short_df: 889308\n"
          ]
        }
      ],
      "source": [
        "#We know that some songs are too long and may harm the model recognition.\n",
        "\n",
        "#Calculate average song name\n",
        "\n",
        "# חישוב אורך כל שם שיר\n",
        "song_name_lengths = [len(song) for song in filtered_df['song_name']]\n",
        "\n",
        "# חישוב ממוצע אורך השמות\n",
        "average_length = sum(song_name_lengths) / len(song_name_lengths)\n",
        "\n",
        "\n",
        "print(f\"Average length of song names: {average_length:.2f}\")\n",
        "\n",
        "\n",
        "#calculate the 80 percentile of song_name length\n",
        "import numpy as np\n",
        "\n",
        "# חישוב אורכי כל שמות השירים\n",
        "song_name_lengths = [len(song) for song in filtered_df['song_name']]\n",
        "\n",
        "# חישוב אחוזון ה-80\n",
        "percentile_80 = np.percentile(song_name_lengths, 80)\n",
        "\n",
        "# הדפסה של התוצאה\n",
        "print(f\"80th percentile of song name lengths: {percentile_80:.2f}\")\n",
        "\n",
        "\n",
        "#We define a max value for song_name lenght for the model\n",
        "# הגדר אורך מקסימלי לשם השיר\n",
        "max_length = 43\n",
        "\n",
        "# סינון שמות ארוכים מהמילון\n",
        "long_songs = [song for song in filtered_df['song_name'] if len(song) > max_length]\n",
        "print(f\"Number of long song names to exclude from the model: {len(long_songs)}\")\n",
        "\n",
        "\n",
        "short_songs = [song for song in filtered_df['song_name'] if len(song) <= max_length]\n",
        "print(f\"Number of song names to include in the model: {len(short_songs)}\")\n",
        "\n",
        "\n",
        "# Filter the DataFrame to include only short songs\n",
        "filtered_short_df = filtered_df[filtered_df['song_name'].isin(short_songs)]\n",
        "print(f\"Number of rows in filtered_short_df: {filtered_short_df.shape[0]}\")\n",
        "\n"
      ]
    },
    {
      "cell_type": "code",
      "execution_count": null,
      "metadata": {
        "colab": {
          "base_uri": "https://localhost:8080/"
        },
        "id": "SeOLUJNUFwTJ",
        "outputId": "e7359fcd-4ba7-4079-a536-6f0a3a769fc9"
      },
      "outputs": [
        {
          "name": "stdout",
          "output_type": "stream",
          "text": [
            "Number of playlists: 24194\n",
            "Example playlist tokens: [['cimorelli - i got you', 'shawn mendes - the weight', '5 seconds of summer - long way home', 'jannik brunke - 18', 'christina perri - human', 'high school musical cast - breaking free', 'charli xcx - boom clap', 'blink-182 - first date', 'bruno mars - treasure', '5 seconds of summer - the only reason', 'one direction - night changes', 'ed sheeran - thinking out loud', 'the cat empire - still young', 'panic! at the disco - northern downpour', 'one direction - steal my girl', 'shawn mendes - something big', 'the vamps - wild heart', 'gerard way - brother', 'the 1975 - girls', 'all time low - backseat serenade', 'blink-182 - ghost on the dance floor', \"cimorelli - you're worth it\", \"avril lavigne - here's to never growing up\", 'abigail breslin - you suck', 'simple plan - welcome to my life', 'fall out boy - centuries', 'all time low - dear maria, count me in', 'simple plan - you suck at love', 'green day - american idiot', 'ed sheeran - friends', 'shawn mendes - life of the party', 'against the current - gravity', 'shawn mendes - show you', 'against the current - closer, faster']]\n"
          ]
        }
      ],
      "source": [
        "#Generate Tokens\n",
        "#Playlist-Song Tokens\n",
        "#Purpose: Converts each playlist into a list of song names (tokens) for Word2Vec training\n",
        "\n",
        "# Group songs by unique playlist names to create tokens\n",
        "playlist_tokens = filtered_short_df.groupby('unq_playlist_name')['song_name'].apply(list).tolist()\n",
        "\n",
        "print(f\"Number of playlists: {len(playlist_tokens)}\")\n",
        "print(\"Example playlist tokens:\", playlist_tokens[:1])"
      ]
    },
    {
      "cell_type": "code",
      "execution_count": null,
      "metadata": {
        "id": "09s3XGMnFwTJ"
      },
      "outputs": [],
      "source": [
        "#Train the Word2Vec Model # it takes  min to run\n",
        "import time\n",
        "#Purpose:\n",
        "#Learns embeddings for songs and playlists, capturing their contextual relationships.\n",
        "#Saves the trained model for reuse without retraining\n",
        "# Start the timer\n",
        "\"\"\"\n",
        "Train Word2Vec Model\n",
        "2.1 Import and Configure Word2Vec\n",
        "Use Gensim’s Word2Vec model to train embeddings.\n",
        "Configure parameters like vector_size, window, min_count, and epochs.\n",
        "\"\"\"\n",
        "\n",
        "\n",
        "from gensim.models import Word2Vec\n",
        "\n",
        "# Train Word2Vec model\n",
        "w2v_model = Word2Vec(\n",
        "    sentences=playlist_tokens,  # Filtered tokens\n",
        "    vector_size=100,            # Embedding dimensions\n",
        "    window=5,                   # Context window size\n",
        "    min_count=1,                # Minimum frequency of songs\n",
        "    sg=1,                       # Skip-gram  model sg=1 :Suitable for larger datasets\n",
        "    epochs=20,                  # Number of training epochs\n",
        "    workers=4                   # Number of CPU threads\n",
        ")\n",
        "\n",
        "# Save the model\n",
        "w2v_model.save(\"filtered_song2vec_short_songs0.3.model\")"
      ]
    },
    {
      "cell_type": "code",
      "execution_count": null,
      "metadata": {
        "colab": {
          "base_uri": "https://localhost:8080/"
        },
        "id": "ITS3IB0YFwTJ",
        "outputId": "54070e57-7081-47f6-a648-89d0bab5161a"
      },
      "outputs": [
        {
          "name": "stdout",
          "output_type": "stream",
          "text": [
            "Drive already mounted at /content/drive; to attempt to forcibly remount, call drive.mount(\"/content/drive\", force_remount=True).\n"
          ]
        }
      ],
      "source": [
        "#Save the file here so u done need to rerun it\n",
        "from google.colab import drive\n",
        "drive.mount('/content/drive')\n",
        "\n",
        "# Save to Google Drive\n",
        "w2v_model.save('/content/drive/My Drive/Colab Notebooks/Final Project/filtered_song2vec_short_songs0.3.model')"
      ]
    },
    {
      "cell_type": "code",
      "execution_count": null,
      "metadata": {
        "colab": {
          "base_uri": "https://localhost:8080/"
        },
        "id": "Tu3v0YqzFwTK",
        "outputId": "ef21e62f-637e-4393-cce7-425cdd2928b0"
      },
      "outputs": [
        {
          "name": "stdout",
          "output_type": "stream",
          "text": [
            "Songs similar to 'daft punk - get lucky':\n",
            "daft punk - give life back to music (similarity: 0.84)\n",
            "daft punk - instant crush (similarity: 0.81)\n",
            "daft punk - doin' it right (similarity: 0.81)\n",
            "daft punk - the game of love (similarity: 0.81)\n",
            "daft punk - contact (similarity: 0.80)\n",
            "daft punk - giorgio by moroder (similarity: 0.79)\n",
            "daft punk - within (similarity: 0.78)\n",
            "daft punk - touch (similarity: 0.78)\n",
            "daft punk - lose yourself to dance (similarity: 0.78)\n",
            "daft punk - fragments of time (similarity: 0.77)\n"
          ]
        }
      ],
      "source": [
        "#Test the Trained Model\n",
        "\n",
        "# Load the model if needed\n",
        "from gensim.models import Word2Vec\n",
        "w2v_model = Word2Vec.load('/content/drive/My Drive/Colab Notebooks/Final Project/filtered_song2vec_short_songs0.3.model')\n",
        "\n",
        "# Find similar songs\n",
        "input_song = \"daft punk - get lucky\"\n",
        "if input_song in w2v_model.wv:\n",
        "    similar_songs = w2v_model.wv.most_similar(input_song, topn=10)\n",
        "    print(f\"Songs similar to '{input_song}':\")\n",
        "    for song, similarity in similar_songs:\n",
        "        print(f\"{song} (similarity: {similarity:.2f})\")\n",
        "else:\n",
        "    print(f\"'{input_song}' not found in the model vocabulary.\")"
      ]
    },
    {
      "cell_type": "code",
      "execution_count": null,
      "metadata": {
        "colab": {
          "base_uri": "https://localhost:8080/"
        },
        "id": "XcVbyF6CFwTK",
        "outputId": "319dfbe8-7a0b-4c38-d570-ed2fecece793"
      },
      "outputs": [
        {
          "name": "stdout",
          "output_type": "stream",
          "text": [
            "Recommended playlists for 'daft punk - get lucky': ['f63cfc40bf823a5f59814e4dc327ddab - 2 0 1 0 s'\n",
            " '3dfedb08308a41634294b348da8499f3 - daft punk - random access memories'\n",
            " '47da47915c9498e321bacc6789a70b8c - daft punk - random access memories 2'\n",
            " ... 'f01a0a3b160e28a90342cdddfc827361 - liked from radio'\n",
            " 'a4d5993ca306d971615e9932661209a5 - funkier party mix'\n",
            " 'a813c19d00483ed5fef3906029c6cd9d - starred']\n"
          ]
        }
      ],
      "source": [
        "#Recommend Playlists for a Song\n",
        "def recommend_playlists(input_song, model, df):\n",
        "    # Check if the song exists in the model\n",
        "    if input_song not in model.wv:\n",
        "        return \"Song not found in model vocabulary.\"\n",
        "\n",
        "    # Get similar songs\n",
        "    similar_songs = [s for s, _ in model.wv.most_similar(input_song, topn=10)]\n",
        "\n",
        "    # Filter playlists that contain similar songs\n",
        "    recommended_playlists = df[df['song_name'].isin(similar_songs)]['unq_playlist_name'].unique()\n",
        "    return recommended_playlists\n",
        "\n",
        "# Example usage\n",
        "input_song = \"daft punk - get lucky\"\n",
        "playlists = recommend_playlists(input_song, w2v_model, df_cleaned_final)\n",
        "print(f\"Recommended playlists for '{input_song}':\", playlists)\n",
        "\n"
      ]
    },
    {
      "cell_type": "code",
      "execution_count": null,
      "metadata": {
        "colab": {
          "background_save": true
        },
        "id": "8ByhAvCUFwTK",
        "outputId": "616da41e-557c-4ec4-98d8-f56c02dbdf51"
      },
      "outputs": [
        {
          "name": "stdout",
          "output_type": "stream",
          "text": [
            "Buffered data was truncated after reaching the output size limit."
          ]
        }
      ],
      "source": [
        "from collections import defaultdict\n",
        "\n",
        "def create_playlist_similarity_map_optimized(filtered_short_df, min_overlap=1):\n",
        "    # Map playlists to their songs\n",
        "    playlist_to_songs = defaultdict(set)\n",
        "    for playlist, songs in filtered_short_df.groupby('unq_playlist_name')['song_name']:\n",
        "        playlist_to_songs[playlist] = set(songs)\n",
        "\n",
        "    # Create similarity map\n",
        "    similarity_map = defaultdict(set)\n",
        "    playlist_names = list(playlist_to_songs.keys())\n",
        "\n",
        "    for i in range(len(playlist_names)):\n",
        "        for j in range(i + 1, len(playlist_names)):\n",
        "            playlist_a = playlist_names[i]\n",
        "            playlist_b = playlist_names[j]\n",
        "\n",
        "            # Calculate overlap once\n",
        "            overlap = len(playlist_to_songs[playlist_a].intersection(playlist_to_songs[playlist_b]))\n",
        "            if overlap >= min_overlap:\n",
        "                similarity_map[playlist_a].add(playlist_b)\n",
        "                similarity_map[playlist_b].add(playlist_a)\n",
        "\n",
        "    return similarity_map\n",
        "\n",
        "# Create the optimized similarity map\n",
        "playlist_similarity_map = create_playlist_similarity_map_optimized(filtered_short_df)\n",
        "playlist_similarity_map\n",
        "\n",
        "\n"
      ]
    },
    {
      "cell_type": "code",
      "execution_count": null,
      "metadata": {
        "colab": {
          "base_uri": "https://localhost:8080/"
        },
        "id": "CF4B7qH46Xlf",
        "outputId": "e59fb492-84b5-4d38-af72-fc3481fddb64"
      },
      "outputs": [
        {
          "name": "stdout",
          "output_type": "stream",
          "text": [
            "Top 10 most connected playlists: [('c2c30e68129d68ef9e533ff6611d146c - songbird', 188), ('99deafd9b792af8e6a535483088faef2 - indie', 185), ('df2bb65a3c5b30d2acd3d09d56dbb35b - starred', 185), ('7ef86fa47eb6ef097ff487ea275f19ae - home itunes', 180), ('1039e5bfd726bb324ce7f5ea2d0d6fc4 - albums 1', 180), ('99deafd9b792af8e6a535483088faef2 - all spotify stuff', 180), ('8c2c608fe2e41fea7c467ed210a90864 - todo lo que quiero', 176), ('5dc0338fa8d7d70eec08f60a7e1aa045 - u xfm top 1000 of all time', 172), ('9c6dc5b8e9c69c7b47cc53719b06d072 - alt/indie rock albums  - all of and only the best', 167), ('dbfd967c7ccf80c6ea86e1934052aa54 - temps perdu', 166)]\n"
          ]
        }
      ],
      "source": [
        "# מספר הקשרים (connections) לכל פלייליסט\n",
        "playlist_connections = {playlist: len(related_playlists) for playlist, related_playlists in playlist_similarity_map.items()}\n",
        "\n",
        "# פלייליסטים עם הכי הרבה קשרים\n",
        "most_connected = sorted(playlist_connections.items(), key=lambda x: x[1], reverse=True)[:10]\n",
        "print(\"Top 10 most connected playlists:\", most_connected)\n"
      ]
    },
    {
      "cell_type": "code",
      "execution_count": null,
      "metadata": {
        "colab": {
          "base_uri": "https://localhost:8080/",
          "height": 356
        },
        "id": "zsCPczXp6hxf",
        "outputId": "db6b6449-1cfd-4133-eade-4ad449bccf27"
      },
      "outputs": [
        {
          "ename": "KeyboardInterrupt",
          "evalue": "",
          "output_type": "error",
          "traceback": [
            "\u001b[0;31m---------------------------------------------------------------------------\u001b[0m",
            "\u001b[0;31mKeyboardInterrupt\u001b[0m                         Traceback (most recent call last)",
            "\u001b[0;32m<ipython-input-14-9d4273e931ae>\u001b[0m in \u001b[0;36m<cell line: 0>\u001b[0;34m()\u001b[0m\n\u001b[1;32m     14\u001b[0m \u001b[0mnx\u001b[0m\u001b[0;34m.\u001b[0m\u001b[0mdraw\u001b[0m\u001b[0;34m(\u001b[0m\u001b[0mG\u001b[0m\u001b[0;34m,\u001b[0m \u001b[0mwith_labels\u001b[0m\u001b[0;34m=\u001b[0m\u001b[0;32mTrue\u001b[0m\u001b[0;34m,\u001b[0m \u001b[0mnode_size\u001b[0m\u001b[0;34m=\u001b[0m\u001b[0;36m50\u001b[0m\u001b[0;34m,\u001b[0m \u001b[0mfont_size\u001b[0m\u001b[0;34m=\u001b[0m\u001b[0;36m8\u001b[0m\u001b[0;34m)\u001b[0m\u001b[0;34m\u001b[0m\u001b[0;34m\u001b[0m\u001b[0m\n\u001b[1;32m     15\u001b[0m \u001b[0mplt\u001b[0m\u001b[0;34m.\u001b[0m\u001b[0mtitle\u001b[0m\u001b[0;34m(\u001b[0m\u001b[0;34m\"Playlist Similarity Network\"\u001b[0m\u001b[0;34m)\u001b[0m\u001b[0;34m\u001b[0m\u001b[0;34m\u001b[0m\u001b[0m\n\u001b[0;32m---> 16\u001b[0;31m \u001b[0mplt\u001b[0m\u001b[0;34m.\u001b[0m\u001b[0mshow\u001b[0m\u001b[0;34m(\u001b[0m\u001b[0;34m)\u001b[0m\u001b[0;34m\u001b[0m\u001b[0;34m\u001b[0m\u001b[0m\n\u001b[0m",
            "\u001b[0;32m/usr/local/lib/python3.11/dist-packages/matplotlib/pyplot.py\u001b[0m in \u001b[0;36mshow\u001b[0;34m(*args, **kwargs)\u001b[0m\n\u001b[1;32m    612\u001b[0m     \"\"\"\n\u001b[1;32m    613\u001b[0m     \u001b[0m_warn_if_gui_out_of_main_thread\u001b[0m\u001b[0;34m(\u001b[0m\u001b[0;34m)\u001b[0m\u001b[0;34m\u001b[0m\u001b[0;34m\u001b[0m\u001b[0m\n\u001b[0;32m--> 614\u001b[0;31m     \u001b[0;32mreturn\u001b[0m \u001b[0m_get_backend_mod\u001b[0m\u001b[0;34m(\u001b[0m\u001b[0;34m)\u001b[0m\u001b[0;34m.\u001b[0m\u001b[0mshow\u001b[0m\u001b[0;34m(\u001b[0m\u001b[0;34m*\u001b[0m\u001b[0margs\u001b[0m\u001b[0;34m,\u001b[0m \u001b[0;34m**\u001b[0m\u001b[0mkwargs\u001b[0m\u001b[0;34m)\u001b[0m\u001b[0;34m\u001b[0m\u001b[0;34m\u001b[0m\u001b[0m\n\u001b[0m\u001b[1;32m    615\u001b[0m \u001b[0;34m\u001b[0m\u001b[0m\n\u001b[1;32m    616\u001b[0m \u001b[0;34m\u001b[0m\u001b[0m\n",
            "\u001b[0;32m/usr/local/lib/python3.11/dist-packages/matplotlib_inline/backend_inline.py\u001b[0m in \u001b[0;36mshow\u001b[0;34m(close, block)\u001b[0m\n\u001b[1;32m     88\u001b[0m     \u001b[0;32mtry\u001b[0m\u001b[0;34m:\u001b[0m\u001b[0;34m\u001b[0m\u001b[0;34m\u001b[0m\u001b[0m\n\u001b[1;32m     89\u001b[0m         \u001b[0;32mfor\u001b[0m \u001b[0mfigure_manager\u001b[0m \u001b[0;32min\u001b[0m \u001b[0mGcf\u001b[0m\u001b[0;34m.\u001b[0m\u001b[0mget_all_fig_managers\u001b[0m\u001b[0;34m(\u001b[0m\u001b[0;34m)\u001b[0m\u001b[0;34m:\u001b[0m\u001b[0;34m\u001b[0m\u001b[0;34m\u001b[0m\u001b[0m\n\u001b[0;32m---> 90\u001b[0;31m             display(\n\u001b[0m\u001b[1;32m     91\u001b[0m                 \u001b[0mfigure_manager\u001b[0m\u001b[0;34m.\u001b[0m\u001b[0mcanvas\u001b[0m\u001b[0;34m.\u001b[0m\u001b[0mfigure\u001b[0m\u001b[0;34m,\u001b[0m\u001b[0;34m\u001b[0m\u001b[0;34m\u001b[0m\u001b[0m\n\u001b[1;32m     92\u001b[0m                 \u001b[0mmetadata\u001b[0m\u001b[0;34m=\u001b[0m\u001b[0m_fetch_figure_metadata\u001b[0m\u001b[0;34m(\u001b[0m\u001b[0mfigure_manager\u001b[0m\u001b[0;34m.\u001b[0m\u001b[0mcanvas\u001b[0m\u001b[0;34m.\u001b[0m\u001b[0mfigure\u001b[0m\u001b[0;34m)\u001b[0m\u001b[0;34m\u001b[0m\u001b[0;34m\u001b[0m\u001b[0m\n",
            "\u001b[0;32m/usr/local/lib/python3.11/dist-packages/IPython/core/display.py\u001b[0m in \u001b[0;36mdisplay\u001b[0;34m(include, exclude, metadata, transient, display_id, *objs, **kwargs)\u001b[0m\n\u001b[1;32m    318\u001b[0m             \u001b[0mpublish_display_data\u001b[0m\u001b[0;34m(\u001b[0m\u001b[0mdata\u001b[0m\u001b[0;34m=\u001b[0m\u001b[0mobj\u001b[0m\u001b[0;34m,\u001b[0m \u001b[0mmetadata\u001b[0m\u001b[0;34m=\u001b[0m\u001b[0mmetadata\u001b[0m\u001b[0;34m,\u001b[0m \u001b[0;34m**\u001b[0m\u001b[0mkwargs\u001b[0m\u001b[0;34m)\u001b[0m\u001b[0;34m\u001b[0m\u001b[0;34m\u001b[0m\u001b[0m\n\u001b[1;32m    319\u001b[0m         \u001b[0;32melse\u001b[0m\u001b[0;34m:\u001b[0m\u001b[0;34m\u001b[0m\u001b[0;34m\u001b[0m\u001b[0m\n\u001b[0;32m--> 320\u001b[0;31m             \u001b[0mformat_dict\u001b[0m\u001b[0;34m,\u001b[0m \u001b[0mmd_dict\u001b[0m \u001b[0;34m=\u001b[0m \u001b[0mformat\u001b[0m\u001b[0;34m(\u001b[0m\u001b[0mobj\u001b[0m\u001b[0;34m,\u001b[0m \u001b[0minclude\u001b[0m\u001b[0;34m=\u001b[0m\u001b[0minclude\u001b[0m\u001b[0;34m,\u001b[0m \u001b[0mexclude\u001b[0m\u001b[0;34m=\u001b[0m\u001b[0mexclude\u001b[0m\u001b[0;34m)\u001b[0m\u001b[0;34m\u001b[0m\u001b[0;34m\u001b[0m\u001b[0m\n\u001b[0m\u001b[1;32m    321\u001b[0m             \u001b[0;32mif\u001b[0m \u001b[0;32mnot\u001b[0m \u001b[0mformat_dict\u001b[0m\u001b[0;34m:\u001b[0m\u001b[0;34m\u001b[0m\u001b[0;34m\u001b[0m\u001b[0m\n\u001b[1;32m    322\u001b[0m                 \u001b[0;31m# nothing to display (e.g. _ipython_display_ took over)\u001b[0m\u001b[0;34m\u001b[0m\u001b[0;34m\u001b[0m\u001b[0m\n",
            "\u001b[0;32m/usr/local/lib/python3.11/dist-packages/IPython/core/formatters.py\u001b[0m in \u001b[0;36mformat\u001b[0;34m(self, obj, include, exclude)\u001b[0m\n\u001b[1;32m    178\u001b[0m             \u001b[0mmd\u001b[0m \u001b[0;34m=\u001b[0m \u001b[0;32mNone\u001b[0m\u001b[0;34m\u001b[0m\u001b[0;34m\u001b[0m\u001b[0m\n\u001b[1;32m    179\u001b[0m             \u001b[0;32mtry\u001b[0m\u001b[0;34m:\u001b[0m\u001b[0;34m\u001b[0m\u001b[0;34m\u001b[0m\u001b[0m\n\u001b[0;32m--> 180\u001b[0;31m                 \u001b[0mdata\u001b[0m \u001b[0;34m=\u001b[0m \u001b[0mformatter\u001b[0m\u001b[0;34m(\u001b[0m\u001b[0mobj\u001b[0m\u001b[0;34m)\u001b[0m\u001b[0;34m\u001b[0m\u001b[0;34m\u001b[0m\u001b[0m\n\u001b[0m\u001b[1;32m    181\u001b[0m             \u001b[0;32mexcept\u001b[0m\u001b[0;34m:\u001b[0m\u001b[0;34m\u001b[0m\u001b[0;34m\u001b[0m\u001b[0m\n\u001b[1;32m    182\u001b[0m                 \u001b[0;31m# FIXME: log the exception\u001b[0m\u001b[0;34m\u001b[0m\u001b[0;34m\u001b[0m\u001b[0m\n",
            "\u001b[0;32m<decorator-gen-2>\u001b[0m in \u001b[0;36m__call__\u001b[0;34m(self, obj)\u001b[0m\n",
            "\u001b[0;32m/usr/local/lib/python3.11/dist-packages/IPython/core/formatters.py\u001b[0m in \u001b[0;36mcatch_format_error\u001b[0;34m(method, self, *args, **kwargs)\u001b[0m\n\u001b[1;32m    222\u001b[0m     \u001b[0;34m\"\"\"show traceback on failed format call\"\"\"\u001b[0m\u001b[0;34m\u001b[0m\u001b[0;34m\u001b[0m\u001b[0m\n\u001b[1;32m    223\u001b[0m     \u001b[0;32mtry\u001b[0m\u001b[0;34m:\u001b[0m\u001b[0;34m\u001b[0m\u001b[0;34m\u001b[0m\u001b[0m\n\u001b[0;32m--> 224\u001b[0;31m         \u001b[0mr\u001b[0m \u001b[0;34m=\u001b[0m \u001b[0mmethod\u001b[0m\u001b[0;34m(\u001b[0m\u001b[0mself\u001b[0m\u001b[0;34m,\u001b[0m \u001b[0;34m*\u001b[0m\u001b[0margs\u001b[0m\u001b[0;34m,\u001b[0m \u001b[0;34m**\u001b[0m\u001b[0mkwargs\u001b[0m\u001b[0;34m)\u001b[0m\u001b[0;34m\u001b[0m\u001b[0;34m\u001b[0m\u001b[0m\n\u001b[0m\u001b[1;32m    225\u001b[0m     \u001b[0;32mexcept\u001b[0m \u001b[0mNotImplementedError\u001b[0m\u001b[0;34m:\u001b[0m\u001b[0;34m\u001b[0m\u001b[0;34m\u001b[0m\u001b[0m\n\u001b[1;32m    226\u001b[0m         \u001b[0;31m# don't warn on NotImplementedErrors\u001b[0m\u001b[0;34m\u001b[0m\u001b[0;34m\u001b[0m\u001b[0m\n",
            "\u001b[0;32m/usr/local/lib/python3.11/dist-packages/IPython/core/formatters.py\u001b[0m in \u001b[0;36m__call__\u001b[0;34m(self, obj)\u001b[0m\n\u001b[1;32m    339\u001b[0m                 \u001b[0;32mpass\u001b[0m\u001b[0;34m\u001b[0m\u001b[0;34m\u001b[0m\u001b[0m\n\u001b[1;32m    340\u001b[0m             \u001b[0;32melse\u001b[0m\u001b[0;34m:\u001b[0m\u001b[0;34m\u001b[0m\u001b[0;34m\u001b[0m\u001b[0m\n\u001b[0;32m--> 341\u001b[0;31m                 \u001b[0;32mreturn\u001b[0m \u001b[0mprinter\u001b[0m\u001b[0;34m(\u001b[0m\u001b[0mobj\u001b[0m\u001b[0;34m)\u001b[0m\u001b[0;34m\u001b[0m\u001b[0;34m\u001b[0m\u001b[0m\n\u001b[0m\u001b[1;32m    342\u001b[0m             \u001b[0;31m# Finally look for special method names\u001b[0m\u001b[0;34m\u001b[0m\u001b[0;34m\u001b[0m\u001b[0m\n\u001b[1;32m    343\u001b[0m             \u001b[0mmethod\u001b[0m \u001b[0;34m=\u001b[0m \u001b[0mget_real_method\u001b[0m\u001b[0;34m(\u001b[0m\u001b[0mobj\u001b[0m\u001b[0;34m,\u001b[0m \u001b[0mself\u001b[0m\u001b[0;34m.\u001b[0m\u001b[0mprint_method\u001b[0m\u001b[0;34m)\u001b[0m\u001b[0;34m\u001b[0m\u001b[0;34m\u001b[0m\u001b[0m\n",
            "\u001b[0;32m/usr/local/lib/python3.11/dist-packages/IPython/core/pylabtools.py\u001b[0m in \u001b[0;36mprint_figure\u001b[0;34m(fig, fmt, bbox_inches, base64, **kwargs)\u001b[0m\n\u001b[1;32m    149\u001b[0m         \u001b[0mFigureCanvasBase\u001b[0m\u001b[0;34m(\u001b[0m\u001b[0mfig\u001b[0m\u001b[0;34m)\u001b[0m\u001b[0;34m\u001b[0m\u001b[0;34m\u001b[0m\u001b[0m\n\u001b[1;32m    150\u001b[0m \u001b[0;34m\u001b[0m\u001b[0m\n\u001b[0;32m--> 151\u001b[0;31m     \u001b[0mfig\u001b[0m\u001b[0;34m.\u001b[0m\u001b[0mcanvas\u001b[0m\u001b[0;34m.\u001b[0m\u001b[0mprint_figure\u001b[0m\u001b[0;34m(\u001b[0m\u001b[0mbytes_io\u001b[0m\u001b[0;34m,\u001b[0m \u001b[0;34m**\u001b[0m\u001b[0mkw\u001b[0m\u001b[0;34m)\u001b[0m\u001b[0;34m\u001b[0m\u001b[0;34m\u001b[0m\u001b[0m\n\u001b[0m\u001b[1;32m    152\u001b[0m     \u001b[0mdata\u001b[0m \u001b[0;34m=\u001b[0m \u001b[0mbytes_io\u001b[0m\u001b[0;34m.\u001b[0m\u001b[0mgetvalue\u001b[0m\u001b[0;34m(\u001b[0m\u001b[0;34m)\u001b[0m\u001b[0;34m\u001b[0m\u001b[0;34m\u001b[0m\u001b[0m\n\u001b[1;32m    153\u001b[0m     \u001b[0;32mif\u001b[0m \u001b[0mfmt\u001b[0m \u001b[0;34m==\u001b[0m \u001b[0;34m'svg'\u001b[0m\u001b[0;34m:\u001b[0m\u001b[0;34m\u001b[0m\u001b[0;34m\u001b[0m\u001b[0m\n",
            "\u001b[0;32m/usr/local/lib/python3.11/dist-packages/matplotlib/backend_bases.py\u001b[0m in \u001b[0;36mprint_figure\u001b[0;34m(self, filename, dpi, facecolor, edgecolor, orientation, format, bbox_inches, pad_inches, bbox_extra_artists, backend, **kwargs)\u001b[0m\n\u001b[1;32m   2182\u001b[0m                 \u001b[0;31m# force the figure dpi to 72), so we need to set it again here.\u001b[0m\u001b[0;34m\u001b[0m\u001b[0;34m\u001b[0m\u001b[0m\n\u001b[1;32m   2183\u001b[0m                 \u001b[0;32mwith\u001b[0m \u001b[0mcbook\u001b[0m\u001b[0;34m.\u001b[0m\u001b[0m_setattr_cm\u001b[0m\u001b[0;34m(\u001b[0m\u001b[0mself\u001b[0m\u001b[0;34m.\u001b[0m\u001b[0mfigure\u001b[0m\u001b[0;34m,\u001b[0m \u001b[0mdpi\u001b[0m\u001b[0;34m=\u001b[0m\u001b[0mdpi\u001b[0m\u001b[0;34m)\u001b[0m\u001b[0;34m:\u001b[0m\u001b[0;34m\u001b[0m\u001b[0;34m\u001b[0m\u001b[0m\n\u001b[0;32m-> 2184\u001b[0;31m                     result = print_method(\n\u001b[0m\u001b[1;32m   2185\u001b[0m                         \u001b[0mfilename\u001b[0m\u001b[0;34m,\u001b[0m\u001b[0;34m\u001b[0m\u001b[0;34m\u001b[0m\u001b[0m\n\u001b[1;32m   2186\u001b[0m                         \u001b[0mfacecolor\u001b[0m\u001b[0;34m=\u001b[0m\u001b[0mfacecolor\u001b[0m\u001b[0;34m,\u001b[0m\u001b[0;34m\u001b[0m\u001b[0;34m\u001b[0m\u001b[0m\n",
            "\u001b[0;32m/usr/local/lib/python3.11/dist-packages/matplotlib/backend_bases.py\u001b[0m in \u001b[0;36m<lambda>\u001b[0;34m(*args, **kwargs)\u001b[0m\n\u001b[1;32m   2038\u001b[0m                 \"bbox_inches_restore\"}\n\u001b[1;32m   2039\u001b[0m             \u001b[0mskip\u001b[0m \u001b[0;34m=\u001b[0m \u001b[0moptional_kws\u001b[0m \u001b[0;34m-\u001b[0m \u001b[0;34m{\u001b[0m\u001b[0;34m*\u001b[0m\u001b[0minspect\u001b[0m\u001b[0;34m.\u001b[0m\u001b[0msignature\u001b[0m\u001b[0;34m(\u001b[0m\u001b[0mmeth\u001b[0m\u001b[0;34m)\u001b[0m\u001b[0;34m.\u001b[0m\u001b[0mparameters\u001b[0m\u001b[0;34m}\u001b[0m\u001b[0;34m\u001b[0m\u001b[0;34m\u001b[0m\u001b[0m\n\u001b[0;32m-> 2040\u001b[0;31m             print_method = functools.wraps(meth)(lambda *args, **kwargs: meth(\n\u001b[0m\u001b[1;32m   2041\u001b[0m                 *args, **{k: v for k, v in kwargs.items() if k not in skip}))\n\u001b[1;32m   2042\u001b[0m         \u001b[0;32melse\u001b[0m\u001b[0;34m:\u001b[0m  \u001b[0;31m# Let third-parties do as they see fit.\u001b[0m\u001b[0;34m\u001b[0m\u001b[0;34m\u001b[0m\u001b[0m\n",
            "\u001b[0;32m/usr/local/lib/python3.11/dist-packages/matplotlib/backends/backend_agg.py\u001b[0m in \u001b[0;36mprint_png\u001b[0;34m(self, filename_or_obj, metadata, pil_kwargs)\u001b[0m\n\u001b[1;32m    479\u001b[0m             \u001b[0;34m*\u001b[0m\u001b[0mmetadata\u001b[0m\u001b[0;34m*\u001b[0m\u001b[0;34m,\u001b[0m \u001b[0mincluding\u001b[0m \u001b[0mthe\u001b[0m \u001b[0mdefault\u001b[0m \u001b[0;34m'Software'\u001b[0m \u001b[0mkey\u001b[0m\u001b[0;34m.\u001b[0m\u001b[0;34m\u001b[0m\u001b[0;34m\u001b[0m\u001b[0m\n\u001b[1;32m    480\u001b[0m         \"\"\"\n\u001b[0;32m--> 481\u001b[0;31m         \u001b[0mself\u001b[0m\u001b[0;34m.\u001b[0m\u001b[0m_print_pil\u001b[0m\u001b[0;34m(\u001b[0m\u001b[0mfilename_or_obj\u001b[0m\u001b[0;34m,\u001b[0m \u001b[0;34m\"png\"\u001b[0m\u001b[0;34m,\u001b[0m \u001b[0mpil_kwargs\u001b[0m\u001b[0;34m,\u001b[0m \u001b[0mmetadata\u001b[0m\u001b[0;34m)\u001b[0m\u001b[0;34m\u001b[0m\u001b[0;34m\u001b[0m\u001b[0m\n\u001b[0m\u001b[1;32m    482\u001b[0m \u001b[0;34m\u001b[0m\u001b[0m\n\u001b[1;32m    483\u001b[0m     \u001b[0;32mdef\u001b[0m \u001b[0mprint_to_buffer\u001b[0m\u001b[0;34m(\u001b[0m\u001b[0mself\u001b[0m\u001b[0;34m)\u001b[0m\u001b[0;34m:\u001b[0m\u001b[0;34m\u001b[0m\u001b[0;34m\u001b[0m\u001b[0m\n",
            "\u001b[0;32m/usr/local/lib/python3.11/dist-packages/matplotlib/backends/backend_agg.py\u001b[0m in \u001b[0;36m_print_pil\u001b[0;34m(self, filename_or_obj, fmt, pil_kwargs, metadata)\u001b[0m\n\u001b[1;32m    427\u001b[0m         *pil_kwargs* and *metadata* are forwarded).\n\u001b[1;32m    428\u001b[0m         \"\"\"\n\u001b[0;32m--> 429\u001b[0;31m         \u001b[0mFigureCanvasAgg\u001b[0m\u001b[0;34m.\u001b[0m\u001b[0mdraw\u001b[0m\u001b[0;34m(\u001b[0m\u001b[0mself\u001b[0m\u001b[0;34m)\u001b[0m\u001b[0;34m\u001b[0m\u001b[0;34m\u001b[0m\u001b[0m\n\u001b[0m\u001b[1;32m    430\u001b[0m         mpl.image.imsave(\n\u001b[1;32m    431\u001b[0m             \u001b[0mfilename_or_obj\u001b[0m\u001b[0;34m,\u001b[0m \u001b[0mself\u001b[0m\u001b[0;34m.\u001b[0m\u001b[0mbuffer_rgba\u001b[0m\u001b[0;34m(\u001b[0m\u001b[0;34m)\u001b[0m\u001b[0;34m,\u001b[0m \u001b[0mformat\u001b[0m\u001b[0;34m=\u001b[0m\u001b[0mfmt\u001b[0m\u001b[0;34m,\u001b[0m \u001b[0morigin\u001b[0m\u001b[0;34m=\u001b[0m\u001b[0;34m\"upper\"\u001b[0m\u001b[0;34m,\u001b[0m\u001b[0;34m\u001b[0m\u001b[0;34m\u001b[0m\u001b[0m\n",
            "\u001b[0;32m/usr/local/lib/python3.11/dist-packages/matplotlib/backends/backend_agg.py\u001b[0m in \u001b[0;36mdraw\u001b[0;34m(self)\u001b[0m\n\u001b[1;32m    380\u001b[0m         with (self.toolbar._wait_cursor_for_draw_cm() if self.toolbar\n\u001b[1;32m    381\u001b[0m               else nullcontext()):\n\u001b[0;32m--> 382\u001b[0;31m             \u001b[0mself\u001b[0m\u001b[0;34m.\u001b[0m\u001b[0mfigure\u001b[0m\u001b[0;34m.\u001b[0m\u001b[0mdraw\u001b[0m\u001b[0;34m(\u001b[0m\u001b[0mself\u001b[0m\u001b[0;34m.\u001b[0m\u001b[0mrenderer\u001b[0m\u001b[0;34m)\u001b[0m\u001b[0;34m\u001b[0m\u001b[0;34m\u001b[0m\u001b[0m\n\u001b[0m\u001b[1;32m    383\u001b[0m             \u001b[0;31m# A GUI class may be need to update a window using this draw, so\u001b[0m\u001b[0;34m\u001b[0m\u001b[0;34m\u001b[0m\u001b[0m\n\u001b[1;32m    384\u001b[0m             \u001b[0;31m# don't forget to call the superclass.\u001b[0m\u001b[0;34m\u001b[0m\u001b[0;34m\u001b[0m\u001b[0m\n",
            "\u001b[0;32m/usr/local/lib/python3.11/dist-packages/matplotlib/artist.py\u001b[0m in \u001b[0;36mdraw_wrapper\u001b[0;34m(artist, renderer, *args, **kwargs)\u001b[0m\n\u001b[1;32m     92\u001b[0m     \u001b[0;34m@\u001b[0m\u001b[0mwraps\u001b[0m\u001b[0;34m(\u001b[0m\u001b[0mdraw\u001b[0m\u001b[0;34m)\u001b[0m\u001b[0;34m\u001b[0m\u001b[0;34m\u001b[0m\u001b[0m\n\u001b[1;32m     93\u001b[0m     \u001b[0;32mdef\u001b[0m \u001b[0mdraw_wrapper\u001b[0m\u001b[0;34m(\u001b[0m\u001b[0martist\u001b[0m\u001b[0;34m,\u001b[0m \u001b[0mrenderer\u001b[0m\u001b[0;34m,\u001b[0m \u001b[0;34m*\u001b[0m\u001b[0margs\u001b[0m\u001b[0;34m,\u001b[0m \u001b[0;34m**\u001b[0m\u001b[0mkwargs\u001b[0m\u001b[0;34m)\u001b[0m\u001b[0;34m:\u001b[0m\u001b[0;34m\u001b[0m\u001b[0;34m\u001b[0m\u001b[0m\n\u001b[0;32m---> 94\u001b[0;31m         \u001b[0mresult\u001b[0m \u001b[0;34m=\u001b[0m \u001b[0mdraw\u001b[0m\u001b[0;34m(\u001b[0m\u001b[0martist\u001b[0m\u001b[0;34m,\u001b[0m \u001b[0mrenderer\u001b[0m\u001b[0;34m,\u001b[0m \u001b[0;34m*\u001b[0m\u001b[0margs\u001b[0m\u001b[0;34m,\u001b[0m \u001b[0;34m**\u001b[0m\u001b[0mkwargs\u001b[0m\u001b[0;34m)\u001b[0m\u001b[0;34m\u001b[0m\u001b[0;34m\u001b[0m\u001b[0m\n\u001b[0m\u001b[1;32m     95\u001b[0m         \u001b[0;32mif\u001b[0m \u001b[0mrenderer\u001b[0m\u001b[0;34m.\u001b[0m\u001b[0m_rasterizing\u001b[0m\u001b[0;34m:\u001b[0m\u001b[0;34m\u001b[0m\u001b[0;34m\u001b[0m\u001b[0m\n\u001b[1;32m     96\u001b[0m             \u001b[0mrenderer\u001b[0m\u001b[0;34m.\u001b[0m\u001b[0mstop_rasterizing\u001b[0m\u001b[0;34m(\u001b[0m\u001b[0;34m)\u001b[0m\u001b[0;34m\u001b[0m\u001b[0;34m\u001b[0m\u001b[0m\n",
            "\u001b[0;32m/usr/local/lib/python3.11/dist-packages/matplotlib/artist.py\u001b[0m in \u001b[0;36mdraw_wrapper\u001b[0;34m(artist, renderer)\u001b[0m\n\u001b[1;32m     69\u001b[0m                 \u001b[0mrenderer\u001b[0m\u001b[0;34m.\u001b[0m\u001b[0mstart_filter\u001b[0m\u001b[0;34m(\u001b[0m\u001b[0;34m)\u001b[0m\u001b[0;34m\u001b[0m\u001b[0;34m\u001b[0m\u001b[0m\n\u001b[1;32m     70\u001b[0m \u001b[0;34m\u001b[0m\u001b[0m\n\u001b[0;32m---> 71\u001b[0;31m             \u001b[0;32mreturn\u001b[0m \u001b[0mdraw\u001b[0m\u001b[0;34m(\u001b[0m\u001b[0martist\u001b[0m\u001b[0;34m,\u001b[0m \u001b[0mrenderer\u001b[0m\u001b[0;34m)\u001b[0m\u001b[0;34m\u001b[0m\u001b[0;34m\u001b[0m\u001b[0m\n\u001b[0m\u001b[1;32m     72\u001b[0m         \u001b[0;32mfinally\u001b[0m\u001b[0;34m:\u001b[0m\u001b[0;34m\u001b[0m\u001b[0;34m\u001b[0m\u001b[0m\n\u001b[1;32m     73\u001b[0m             \u001b[0;32mif\u001b[0m \u001b[0martist\u001b[0m\u001b[0;34m.\u001b[0m\u001b[0mget_agg_filter\u001b[0m\u001b[0;34m(\u001b[0m\u001b[0;34m)\u001b[0m \u001b[0;32mis\u001b[0m \u001b[0;32mnot\u001b[0m \u001b[0;32mNone\u001b[0m\u001b[0;34m:\u001b[0m\u001b[0;34m\u001b[0m\u001b[0;34m\u001b[0m\u001b[0m\n",
            "\u001b[0;32m/usr/local/lib/python3.11/dist-packages/matplotlib/figure.py\u001b[0m in \u001b[0;36mdraw\u001b[0;34m(self, renderer)\u001b[0m\n\u001b[1;32m   3255\u001b[0m \u001b[0;34m\u001b[0m\u001b[0m\n\u001b[1;32m   3256\u001b[0m                 \u001b[0mself\u001b[0m\u001b[0;34m.\u001b[0m\u001b[0mpatch\u001b[0m\u001b[0;34m.\u001b[0m\u001b[0mdraw\u001b[0m\u001b[0;34m(\u001b[0m\u001b[0mrenderer\u001b[0m\u001b[0;34m)\u001b[0m\u001b[0;34m\u001b[0m\u001b[0;34m\u001b[0m\u001b[0m\n\u001b[0;32m-> 3257\u001b[0;31m                 mimage._draw_list_compositing_images(\n\u001b[0m\u001b[1;32m   3258\u001b[0m                     renderer, self, artists, self.suppressComposite)\n\u001b[1;32m   3259\u001b[0m \u001b[0;34m\u001b[0m\u001b[0m\n",
            "\u001b[0;32m/usr/local/lib/python3.11/dist-packages/matplotlib/image.py\u001b[0m in \u001b[0;36m_draw_list_compositing_images\u001b[0;34m(renderer, parent, artists, suppress_composite)\u001b[0m\n\u001b[1;32m    132\u001b[0m     \u001b[0;32mif\u001b[0m \u001b[0mnot_composite\u001b[0m \u001b[0;32mor\u001b[0m \u001b[0;32mnot\u001b[0m \u001b[0mhas_images\u001b[0m\u001b[0;34m:\u001b[0m\u001b[0;34m\u001b[0m\u001b[0;34m\u001b[0m\u001b[0m\n\u001b[1;32m    133\u001b[0m         \u001b[0;32mfor\u001b[0m \u001b[0ma\u001b[0m \u001b[0;32min\u001b[0m \u001b[0martists\u001b[0m\u001b[0;34m:\u001b[0m\u001b[0;34m\u001b[0m\u001b[0;34m\u001b[0m\u001b[0m\n\u001b[0;32m--> 134\u001b[0;31m             \u001b[0ma\u001b[0m\u001b[0;34m.\u001b[0m\u001b[0mdraw\u001b[0m\u001b[0;34m(\u001b[0m\u001b[0mrenderer\u001b[0m\u001b[0;34m)\u001b[0m\u001b[0;34m\u001b[0m\u001b[0;34m\u001b[0m\u001b[0m\n\u001b[0m\u001b[1;32m    135\u001b[0m     \u001b[0;32melse\u001b[0m\u001b[0;34m:\u001b[0m\u001b[0;34m\u001b[0m\u001b[0;34m\u001b[0m\u001b[0m\n\u001b[1;32m    136\u001b[0m         \u001b[0;31m# Composite any adjacent images together\u001b[0m\u001b[0;34m\u001b[0m\u001b[0;34m\u001b[0m\u001b[0m\n",
            "\u001b[0;32m/usr/local/lib/python3.11/dist-packages/matplotlib/artist.py\u001b[0m in \u001b[0;36mdraw_wrapper\u001b[0;34m(artist, renderer)\u001b[0m\n\u001b[1;32m     69\u001b[0m                 \u001b[0mrenderer\u001b[0m\u001b[0;34m.\u001b[0m\u001b[0mstart_filter\u001b[0m\u001b[0;34m(\u001b[0m\u001b[0;34m)\u001b[0m\u001b[0;34m\u001b[0m\u001b[0;34m\u001b[0m\u001b[0m\n\u001b[1;32m     70\u001b[0m \u001b[0;34m\u001b[0m\u001b[0m\n\u001b[0;32m---> 71\u001b[0;31m             \u001b[0;32mreturn\u001b[0m \u001b[0mdraw\u001b[0m\u001b[0;34m(\u001b[0m\u001b[0martist\u001b[0m\u001b[0;34m,\u001b[0m \u001b[0mrenderer\u001b[0m\u001b[0;34m)\u001b[0m\u001b[0;34m\u001b[0m\u001b[0;34m\u001b[0m\u001b[0m\n\u001b[0m\u001b[1;32m     72\u001b[0m         \u001b[0;32mfinally\u001b[0m\u001b[0;34m:\u001b[0m\u001b[0;34m\u001b[0m\u001b[0;34m\u001b[0m\u001b[0m\n\u001b[1;32m     73\u001b[0m             \u001b[0;32mif\u001b[0m \u001b[0martist\u001b[0m\u001b[0;34m.\u001b[0m\u001b[0mget_agg_filter\u001b[0m\u001b[0;34m(\u001b[0m\u001b[0;34m)\u001b[0m \u001b[0;32mis\u001b[0m \u001b[0;32mnot\u001b[0m \u001b[0;32mNone\u001b[0m\u001b[0;34m:\u001b[0m\u001b[0;34m\u001b[0m\u001b[0;34m\u001b[0m\u001b[0m\n",
            "\u001b[0;32m/usr/local/lib/python3.11/dist-packages/matplotlib/axes/_base.py\u001b[0m in \u001b[0;36mdraw\u001b[0;34m(self, renderer)\u001b[0m\n\u001b[1;32m   3143\u001b[0m                 \u001b[0martists\u001b[0m\u001b[0;34m.\u001b[0m\u001b[0mremove\u001b[0m\u001b[0;34m(\u001b[0m\u001b[0mspine\u001b[0m\u001b[0;34m)\u001b[0m\u001b[0;34m\u001b[0m\u001b[0;34m\u001b[0m\u001b[0m\n\u001b[1;32m   3144\u001b[0m \u001b[0;34m\u001b[0m\u001b[0m\n\u001b[0;32m-> 3145\u001b[0;31m         \u001b[0mself\u001b[0m\u001b[0;34m.\u001b[0m\u001b[0m_update_title_position\u001b[0m\u001b[0;34m(\u001b[0m\u001b[0mrenderer\u001b[0m\u001b[0;34m)\u001b[0m\u001b[0;34m\u001b[0m\u001b[0;34m\u001b[0m\u001b[0m\n\u001b[0m\u001b[1;32m   3146\u001b[0m \u001b[0;34m\u001b[0m\u001b[0m\n\u001b[1;32m   3147\u001b[0m         \u001b[0;32mif\u001b[0m \u001b[0;32mnot\u001b[0m \u001b[0mself\u001b[0m\u001b[0;34m.\u001b[0m\u001b[0maxison\u001b[0m\u001b[0;34m:\u001b[0m\u001b[0;34m\u001b[0m\u001b[0;34m\u001b[0m\u001b[0m\n",
            "\u001b[0;32m/usr/local/lib/python3.11/dist-packages/matplotlib/axes/_base.py\u001b[0m in \u001b[0;36m_update_title_position\u001b[0;34m(self, renderer)\u001b[0m\n\u001b[1;32m   3087\u001b[0m             \u001b[0;32mif\u001b[0m \u001b[0mtitle\u001b[0m\u001b[0;34m.\u001b[0m\u001b[0mget_text\u001b[0m\u001b[0;34m(\u001b[0m\u001b[0;34m)\u001b[0m\u001b[0;34m:\u001b[0m\u001b[0;34m\u001b[0m\u001b[0;34m\u001b[0m\u001b[0m\n\u001b[1;32m   3088\u001b[0m                 \u001b[0;32mfor\u001b[0m \u001b[0max\u001b[0m \u001b[0;32min\u001b[0m \u001b[0maxs\u001b[0m\u001b[0;34m:\u001b[0m\u001b[0;34m\u001b[0m\u001b[0;34m\u001b[0m\u001b[0m\n\u001b[0;32m-> 3089\u001b[0;31m                     \u001b[0max\u001b[0m\u001b[0;34m.\u001b[0m\u001b[0myaxis\u001b[0m\u001b[0;34m.\u001b[0m\u001b[0mget_tightbbox\u001b[0m\u001b[0;34m(\u001b[0m\u001b[0mrenderer\u001b[0m\u001b[0;34m)\u001b[0m  \u001b[0;31m# update offsetText\u001b[0m\u001b[0;34m\u001b[0m\u001b[0;34m\u001b[0m\u001b[0m\n\u001b[0m\u001b[1;32m   3090\u001b[0m                     \u001b[0;32mif\u001b[0m \u001b[0max\u001b[0m\u001b[0;34m.\u001b[0m\u001b[0myaxis\u001b[0m\u001b[0;34m.\u001b[0m\u001b[0moffsetText\u001b[0m\u001b[0;34m.\u001b[0m\u001b[0mget_text\u001b[0m\u001b[0;34m(\u001b[0m\u001b[0;34m)\u001b[0m\u001b[0;34m:\u001b[0m\u001b[0;34m\u001b[0m\u001b[0;34m\u001b[0m\u001b[0m\n\u001b[1;32m   3091\u001b[0m                         \u001b[0mbb\u001b[0m \u001b[0;34m=\u001b[0m \u001b[0max\u001b[0m\u001b[0;34m.\u001b[0m\u001b[0myaxis\u001b[0m\u001b[0;34m.\u001b[0m\u001b[0moffsetText\u001b[0m\u001b[0;34m.\u001b[0m\u001b[0mget_tightbbox\u001b[0m\u001b[0;34m(\u001b[0m\u001b[0mrenderer\u001b[0m\u001b[0;34m)\u001b[0m\u001b[0;34m\u001b[0m\u001b[0;34m\u001b[0m\u001b[0m\n",
            "\u001b[0;32m/usr/local/lib/python3.11/dist-packages/matplotlib/axis.py\u001b[0m in \u001b[0;36mget_tightbbox\u001b[0;34m(self, renderer, for_layout_only)\u001b[0m\n\u001b[1;32m   1362\u001b[0m         \u001b[0mticks_to_draw\u001b[0m \u001b[0;34m=\u001b[0m \u001b[0mself\u001b[0m\u001b[0;34m.\u001b[0m\u001b[0m_update_ticks\u001b[0m\u001b[0;34m(\u001b[0m\u001b[0;34m)\u001b[0m\u001b[0;34m\u001b[0m\u001b[0;34m\u001b[0m\u001b[0m\n\u001b[1;32m   1363\u001b[0m \u001b[0;34m\u001b[0m\u001b[0m\n\u001b[0;32m-> 1364\u001b[0;31m         \u001b[0mself\u001b[0m\u001b[0;34m.\u001b[0m\u001b[0m_update_label_position\u001b[0m\u001b[0;34m(\u001b[0m\u001b[0mrenderer\u001b[0m\u001b[0;34m)\u001b[0m\u001b[0;34m\u001b[0m\u001b[0;34m\u001b[0m\u001b[0m\n\u001b[0m\u001b[1;32m   1365\u001b[0m \u001b[0;34m\u001b[0m\u001b[0m\n\u001b[1;32m   1366\u001b[0m         \u001b[0;31m# go back to just this axis's tick labels\u001b[0m\u001b[0;34m\u001b[0m\u001b[0;34m\u001b[0m\u001b[0m\n",
            "\u001b[0;32m/usr/local/lib/python3.11/dist-packages/matplotlib/axis.py\u001b[0m in \u001b[0;36m_update_label_position\u001b[0;34m(self, renderer)\u001b[0m\n\u001b[1;32m   2690\u001b[0m             \u001b[0;31m# Union with extents of the left spine if present, of the axes otherwise.\u001b[0m\u001b[0;34m\u001b[0m\u001b[0;34m\u001b[0m\u001b[0m\n\u001b[1;32m   2691\u001b[0m             bbox = mtransforms.Bbox.union([\n\u001b[0;32m-> 2692\u001b[0;31m                 *bboxes, self.axes.spines.get(\"left\", self.axes).get_window_extent()])\n\u001b[0m\u001b[1;32m   2693\u001b[0m             self.label.set_position(\n\u001b[1;32m   2694\u001b[0m                 (bbox.x0 - self.labelpad * self.get_figure(root=True).dpi / 72, y))\n",
            "\u001b[0;32m/usr/local/lib/python3.11/dist-packages/matplotlib/spines.py\u001b[0m in \u001b[0;36mget_window_extent\u001b[0;34m(self, renderer)\u001b[0m\n\u001b[1;32m    156\u001b[0m             \u001b[0;32mreturn\u001b[0m \u001b[0mbb\u001b[0m\u001b[0;34m\u001b[0m\u001b[0;34m\u001b[0m\u001b[0m\n\u001b[1;32m    157\u001b[0m         \u001b[0mbboxes\u001b[0m \u001b[0;34m=\u001b[0m \u001b[0;34m[\u001b[0m\u001b[0mbb\u001b[0m\u001b[0;34m]\u001b[0m\u001b[0;34m\u001b[0m\u001b[0;34m\u001b[0m\u001b[0m\n\u001b[0;32m--> 158\u001b[0;31m         \u001b[0mdrawn_ticks\u001b[0m \u001b[0;34m=\u001b[0m \u001b[0mself\u001b[0m\u001b[0;34m.\u001b[0m\u001b[0maxis\u001b[0m\u001b[0;34m.\u001b[0m\u001b[0m_update_ticks\u001b[0m\u001b[0;34m(\u001b[0m\u001b[0;34m)\u001b[0m\u001b[0;34m\u001b[0m\u001b[0;34m\u001b[0m\u001b[0m\n\u001b[0m\u001b[1;32m    159\u001b[0m \u001b[0;34m\u001b[0m\u001b[0m\n\u001b[1;32m    160\u001b[0m         \u001b[0mmajor_tick\u001b[0m \u001b[0;34m=\u001b[0m \u001b[0mnext\u001b[0m\u001b[0;34m(\u001b[0m\u001b[0miter\u001b[0m\u001b[0;34m(\u001b[0m\u001b[0;34m{\u001b[0m\u001b[0;34m*\u001b[0m\u001b[0mdrawn_ticks\u001b[0m\u001b[0;34m}\u001b[0m \u001b[0;34m&\u001b[0m \u001b[0;34m{\u001b[0m\u001b[0;34m*\u001b[0m\u001b[0mself\u001b[0m\u001b[0;34m.\u001b[0m\u001b[0maxis\u001b[0m\u001b[0;34m.\u001b[0m\u001b[0mmajorTicks\u001b[0m\u001b[0;34m}\u001b[0m\u001b[0;34m)\u001b[0m\u001b[0;34m,\u001b[0m \u001b[0;32mNone\u001b[0m\u001b[0;34m)\u001b[0m\u001b[0;34m\u001b[0m\u001b[0;34m\u001b[0m\u001b[0m\n",
            "\u001b[0;32m/usr/local/lib/python3.11/dist-packages/matplotlib/axis.py\u001b[0m in \u001b[0;36m_update_ticks\u001b[0;34m(self)\u001b[0m\n\u001b[1;32m   1291\u001b[0m         \"\"\"\n\u001b[1;32m   1292\u001b[0m         \u001b[0mmajor_locs\u001b[0m \u001b[0;34m=\u001b[0m \u001b[0mself\u001b[0m\u001b[0;34m.\u001b[0m\u001b[0mget_majorticklocs\u001b[0m\u001b[0;34m(\u001b[0m\u001b[0;34m)\u001b[0m\u001b[0;34m\u001b[0m\u001b[0;34m\u001b[0m\u001b[0m\n\u001b[0;32m-> 1293\u001b[0;31m         \u001b[0mmajor_labels\u001b[0m \u001b[0;34m=\u001b[0m \u001b[0mself\u001b[0m\u001b[0;34m.\u001b[0m\u001b[0mmajor\u001b[0m\u001b[0;34m.\u001b[0m\u001b[0mformatter\u001b[0m\u001b[0;34m.\u001b[0m\u001b[0mformat_ticks\u001b[0m\u001b[0;34m(\u001b[0m\u001b[0mmajor_locs\u001b[0m\u001b[0;34m)\u001b[0m\u001b[0;34m\u001b[0m\u001b[0;34m\u001b[0m\u001b[0m\n\u001b[0m\u001b[1;32m   1294\u001b[0m         \u001b[0mmajor_ticks\u001b[0m \u001b[0;34m=\u001b[0m \u001b[0mself\u001b[0m\u001b[0;34m.\u001b[0m\u001b[0mget_major_ticks\u001b[0m\u001b[0;34m(\u001b[0m\u001b[0mlen\u001b[0m\u001b[0;34m(\u001b[0m\u001b[0mmajor_locs\u001b[0m\u001b[0;34m)\u001b[0m\u001b[0;34m)\u001b[0m\u001b[0;34m\u001b[0m\u001b[0;34m\u001b[0m\u001b[0m\n\u001b[1;32m   1295\u001b[0m         \u001b[0;32mfor\u001b[0m \u001b[0mtick\u001b[0m\u001b[0;34m,\u001b[0m \u001b[0mloc\u001b[0m\u001b[0;34m,\u001b[0m \u001b[0mlabel\u001b[0m \u001b[0;32min\u001b[0m \u001b[0mzip\u001b[0m\u001b[0;34m(\u001b[0m\u001b[0mmajor_ticks\u001b[0m\u001b[0;34m,\u001b[0m \u001b[0mmajor_locs\u001b[0m\u001b[0;34m,\u001b[0m \u001b[0mmajor_labels\u001b[0m\u001b[0;34m)\u001b[0m\u001b[0;34m:\u001b[0m\u001b[0;34m\u001b[0m\u001b[0;34m\u001b[0m\u001b[0m\n",
            "\u001b[0;32m/usr/local/lib/python3.11/dist-packages/matplotlib/ticker.py\u001b[0m in \u001b[0;36mformat_ticks\u001b[0;34m(self, values)\u001b[0m\n\u001b[1;32m    215\u001b[0m         \u001b[0;34m\"\"\"Return the tick labels for all the ticks at once.\"\"\"\u001b[0m\u001b[0;34m\u001b[0m\u001b[0;34m\u001b[0m\u001b[0m\n\u001b[1;32m    216\u001b[0m         \u001b[0mself\u001b[0m\u001b[0;34m.\u001b[0m\u001b[0mset_locs\u001b[0m\u001b[0;34m(\u001b[0m\u001b[0mvalues\u001b[0m\u001b[0;34m)\u001b[0m\u001b[0;34m\u001b[0m\u001b[0;34m\u001b[0m\u001b[0m\n\u001b[0;32m--> 217\u001b[0;31m         \u001b[0;32mreturn\u001b[0m \u001b[0;34m[\u001b[0m\u001b[0mself\u001b[0m\u001b[0;34m(\u001b[0m\u001b[0mvalue\u001b[0m\u001b[0;34m,\u001b[0m \u001b[0mi\u001b[0m\u001b[0;34m)\u001b[0m \u001b[0;32mfor\u001b[0m \u001b[0mi\u001b[0m\u001b[0;34m,\u001b[0m \u001b[0mvalue\u001b[0m \u001b[0;32min\u001b[0m \u001b[0menumerate\u001b[0m\u001b[0;34m(\u001b[0m\u001b[0mvalues\u001b[0m\u001b[0;34m)\u001b[0m\u001b[0;34m]\u001b[0m\u001b[0;34m\u001b[0m\u001b[0;34m\u001b[0m\u001b[0m\n\u001b[0m\u001b[1;32m    218\u001b[0m \u001b[0;34m\u001b[0m\u001b[0m\n\u001b[1;32m    219\u001b[0m     \u001b[0;32mdef\u001b[0m \u001b[0mformat_data\u001b[0m\u001b[0;34m(\u001b[0m\u001b[0mself\u001b[0m\u001b[0;34m,\u001b[0m \u001b[0mvalue\u001b[0m\u001b[0;34m)\u001b[0m\u001b[0;34m:\u001b[0m\u001b[0;34m\u001b[0m\u001b[0;34m\u001b[0m\u001b[0m\n",
            "\u001b[0;32m/usr/local/lib/python3.11/dist-packages/matplotlib/ticker.py\u001b[0m in \u001b[0;36m<listcomp>\u001b[0;34m(.0)\u001b[0m\n\u001b[1;32m    215\u001b[0m         \u001b[0;34m\"\"\"Return the tick labels for all the ticks at once.\"\"\"\u001b[0m\u001b[0;34m\u001b[0m\u001b[0;34m\u001b[0m\u001b[0m\n\u001b[1;32m    216\u001b[0m         \u001b[0mself\u001b[0m\u001b[0;34m.\u001b[0m\u001b[0mset_locs\u001b[0m\u001b[0;34m(\u001b[0m\u001b[0mvalues\u001b[0m\u001b[0;34m)\u001b[0m\u001b[0;34m\u001b[0m\u001b[0;34m\u001b[0m\u001b[0m\n\u001b[0;32m--> 217\u001b[0;31m         \u001b[0;32mreturn\u001b[0m \u001b[0;34m[\u001b[0m\u001b[0mself\u001b[0m\u001b[0;34m(\u001b[0m\u001b[0mvalue\u001b[0m\u001b[0;34m,\u001b[0m \u001b[0mi\u001b[0m\u001b[0;34m)\u001b[0m \u001b[0;32mfor\u001b[0m \u001b[0mi\u001b[0m\u001b[0;34m,\u001b[0m \u001b[0mvalue\u001b[0m \u001b[0;32min\u001b[0m \u001b[0menumerate\u001b[0m\u001b[0;34m(\u001b[0m\u001b[0mvalues\u001b[0m\u001b[0;34m)\u001b[0m\u001b[0;34m]\u001b[0m\u001b[0;34m\u001b[0m\u001b[0;34m\u001b[0m\u001b[0m\n\u001b[0m\u001b[1;32m    218\u001b[0m \u001b[0;34m\u001b[0m\u001b[0m\n\u001b[1;32m    219\u001b[0m     \u001b[0;32mdef\u001b[0m \u001b[0mformat_data\u001b[0m\u001b[0;34m(\u001b[0m\u001b[0mself\u001b[0m\u001b[0;34m,\u001b[0m \u001b[0mvalue\u001b[0m\u001b[0;34m)\u001b[0m\u001b[0;34m:\u001b[0m\u001b[0;34m\u001b[0m\u001b[0;34m\u001b[0m\u001b[0m\n",
            "\u001b[0;32m/usr/local/lib/python3.11/dist-packages/matplotlib/ticker.py\u001b[0m in \u001b[0;36m__call__\u001b[0;34m(self, x, pos)\u001b[0m\n\u001b[1;32m    616\u001b[0m             \u001b[0;32mif\u001b[0m \u001b[0mabs\u001b[0m\u001b[0;34m(\u001b[0m\u001b[0mxp\u001b[0m\u001b[0;34m)\u001b[0m \u001b[0;34m<\u001b[0m \u001b[0;36m1e-8\u001b[0m\u001b[0;34m:\u001b[0m\u001b[0;34m\u001b[0m\u001b[0;34m\u001b[0m\u001b[0m\n\u001b[1;32m    617\u001b[0m                 \u001b[0mxp\u001b[0m \u001b[0;34m=\u001b[0m \u001b[0;36m0\u001b[0m\u001b[0;34m\u001b[0m\u001b[0;34m\u001b[0m\u001b[0m\n\u001b[0;32m--> 618\u001b[0;31m             \u001b[0;32mreturn\u001b[0m \u001b[0mself\u001b[0m\u001b[0;34m.\u001b[0m\u001b[0m_format_maybe_minus_and_locale\u001b[0m\u001b[0;34m(\u001b[0m\u001b[0mself\u001b[0m\u001b[0;34m.\u001b[0m\u001b[0mformat\u001b[0m\u001b[0;34m,\u001b[0m \u001b[0mxp\u001b[0m\u001b[0;34m)\u001b[0m\u001b[0;34m\u001b[0m\u001b[0;34m\u001b[0m\u001b[0m\n\u001b[0m\u001b[1;32m    619\u001b[0m \u001b[0;34m\u001b[0m\u001b[0m\n\u001b[1;32m    620\u001b[0m     \u001b[0;32mdef\u001b[0m \u001b[0mset_scientific\u001b[0m\u001b[0;34m(\u001b[0m\u001b[0mself\u001b[0m\u001b[0;34m,\u001b[0m \u001b[0mb\u001b[0m\u001b[0;34m)\u001b[0m\u001b[0;34m:\u001b[0m\u001b[0;34m\u001b[0m\u001b[0;34m\u001b[0m\u001b[0m\n",
            "\u001b[0;32m/usr/local/lib/python3.11/dist-packages/matplotlib/ticker.py\u001b[0m in \u001b[0;36m_format_maybe_minus_and_locale\u001b[0;34m(self, fmt, arg)\u001b[0m\n\u001b[1;32m    552\u001b[0m         \u001b[0mFormat\u001b[0m \u001b[0;34m*\u001b[0m\u001b[0marg\u001b[0m\u001b[0;34m*\u001b[0m \u001b[0;32mwith\u001b[0m \u001b[0;34m*\u001b[0m\u001b[0mfmt\u001b[0m\u001b[0;34m*\u001b[0m\u001b[0;34m,\u001b[0m \u001b[0mapplying\u001b[0m \u001b[0mUnicode\u001b[0m \u001b[0mminus\u001b[0m \u001b[0;32mand\u001b[0m \u001b[0mlocale\u001b[0m \u001b[0;32mif\u001b[0m \u001b[0mdesired\u001b[0m\u001b[0;34m.\u001b[0m\u001b[0;34m\u001b[0m\u001b[0;34m\u001b[0m\u001b[0m\n\u001b[1;32m    553\u001b[0m         \"\"\"\n\u001b[0;32m--> 554\u001b[0;31m         return self.fix_minus(\n\u001b[0m\u001b[1;32m    555\u001b[0m                 \u001b[0;31m# Escape commas introduced by locale.format_string if using math text,\u001b[0m\u001b[0;34m\u001b[0m\u001b[0;34m\u001b[0m\u001b[0m\n\u001b[1;32m    556\u001b[0m                 \u001b[0;31m# but not those present from the beginning in fmt.\u001b[0m\u001b[0;34m\u001b[0m\u001b[0;34m\u001b[0m\u001b[0m\n",
            "\u001b[0;32m/usr/local/lib/python3.11/dist-packages/matplotlib/ticker.py\u001b[0m in \u001b[0;36mfix_minus\u001b[0;34m(s)\u001b[0m\n\u001b[1;32m    244\u001b[0m         \u001b[0mself\u001b[0m\u001b[0;34m.\u001b[0m\u001b[0mlocs\u001b[0m \u001b[0;34m=\u001b[0m \u001b[0mlocs\u001b[0m\u001b[0;34m\u001b[0m\u001b[0;34m\u001b[0m\u001b[0m\n\u001b[1;32m    245\u001b[0m \u001b[0;34m\u001b[0m\u001b[0m\n\u001b[0;32m--> 246\u001b[0;31m     \u001b[0;34m@\u001b[0m\u001b[0mstaticmethod\u001b[0m\u001b[0;34m\u001b[0m\u001b[0;34m\u001b[0m\u001b[0m\n\u001b[0m\u001b[1;32m    247\u001b[0m     \u001b[0;32mdef\u001b[0m \u001b[0mfix_minus\u001b[0m\u001b[0;34m(\u001b[0m\u001b[0ms\u001b[0m\u001b[0;34m)\u001b[0m\u001b[0;34m:\u001b[0m\u001b[0;34m\u001b[0m\u001b[0;34m\u001b[0m\u001b[0m\n\u001b[1;32m    248\u001b[0m         \"\"\"\n",
            "\u001b[0;31mKeyboardInterrupt\u001b[0m: "
          ]
        }
      ],
      "source": [
        "import networkx as nx\n",
        "import matplotlib.pyplot as plt\n",
        "\n",
        "# יצירת גרף\n",
        "G = nx.Graph()\n",
        "\n",
        "# הוספת קשרים לגרף\n",
        "for playlist, related_playlists in playlist_similarity_map.items():\n",
        "    for related_playlist in related_playlists:\n",
        "        G.add_edge(playlist, related_playlist)\n",
        "\n",
        "# ציור הגרף\n",
        "plt.figure(figsize=(12, 8))\n",
        "nx.draw(G, with_labels=True, node_size=50, font_size=8)\n",
        "plt.title(\"Playlist Similarity Network\")\n",
        "plt.show()\n"
      ]
    },
    {
      "cell_type": "code",
      "execution_count": null,
      "metadata": {
        "colab": {
          "background_save": true
        },
        "id": "bOeLp1Vl7Daw"
      },
      "outputs": [],
      "source": [
        "from sklearn.model_selection import train_test_split\n",
        "\n",
        "# Split playlists into training and testing sets\n",
        "playlists = df_cleaned_final['unq_playlist_name'].drop_duplicates()\n",
        "train_playlists, test_playlists = train_test_split(playlists, test_size=0.2, random_state=42)\n",
        "\n",
        "# Create train and test datasets\n",
        "train_df = df_cleaned_final[df_cleaned_final['unq_playlist_name'].isin(train_playlists)]\n",
        "test_df = df_cleaned_final[df_cleaned_final['unq_playlist_name'].isin(test_playlists)]\n"
      ]
    },
    {
      "cell_type": "code",
      "execution_count": null,
      "metadata": {
        "colab": {
          "background_save": true
        },
        "id": "6dJwjdzD7EtD"
      },
      "outputs": [],
      "source": [
        "# Generate playlist similarity map for the training set : it took 1:30 hour\n",
        "train_similarity_map = create_playlist_similarity_map_optimized(train_df)\n"
      ]
    },
    {
      "cell_type": "code",
      "execution_count": null,
      "metadata": {
        "id": "PAJ7HmItXEPs"
      },
      "outputs": [],
      "source": [
        "from sklearn.metrics import precision_score, recall_score, f1_score\n",
        "\n",
        "def evaluate_model(test_df, train_similarity_map):\n",
        "    y_true = []  # האם השיר באמת נמצא בפלייליסטים דומים\n",
        "    y_pred = []  # האם המודל זיהה קשר\n",
        "\n",
        "    # בדיקה עבור כל פלייליסט בסט הטסט\n",
        "    for playlist in test_df['unq_playlist_name'].unique():\n",
        "        # השירים בפלייליסט הנוכחי\n",
        "        playlist_songs = set(test_df[test_df['unq_playlist_name'] == playlist]['song_name'])\n",
        "\n",
        "        # פלייליסטים דומים לפי המודל\n",
        "        predicted_playlists = train_similarity_map.get(playlist, set())\n",
        "        predicted_songs = set(train_df[train_df['unq_playlist_name'].isin(predicted_playlists)]['song_name'])\n",
        "\n",
        "        # יצירת y_true ו-y_pred\n",
        "        for song in playlist_songs:\n",
        "            y_true.append(1)  # השיר קיים בפלייליסט\n",
        "            y_pred.append(1 if song in predicted_songs else 0)  # האם המודל זיהה אותו\n",
        "\n",
        "    # חישוב מדדים\n",
        "    precision = precision_score(y_true, y_pred)\n",
        "    recall = recall_score(y_true, y_pred)\n",
        "    f1 = f1_score(y_true, y_pred)\n",
        "\n",
        "    return precision, recall, f1\n",
        "\n",
        "# Evaluate the model\n",
        "precision, recall, f1 = evaluate_model(test_df, train_similarity_map)\n",
        "print(f\"Precision: {precision:.2f}, Recall: {recall:.2f}, F1 Score: {f1:.2f}\")\n"
      ]
    },
    {
      "cell_type": "code",
      "execution_count": null,
      "metadata": {
        "colab": {
          "background_save": true
        },
        "id": "hgcFWfCZbLw8",
        "outputId": "5864a128-0b8d-40b9-85f1-425ecef8a2bb"
      },
      "outputs": [
        {
          "name": "stdout",
          "output_type": "stream",
          "text": [
            "Number of playlists in similarity map: 159054\n"
          ]
        }
      ],
      "source": [
        "print(f\"Number of playlists in similarity map: {len(train_similarity_map)}\")\n"
      ]
    },
    {
      "cell_type": "code",
      "execution_count": null,
      "metadata": {
        "id": "SXTTi9v4Eo1Z"
      },
      "outputs": [],
      "source": [
        "train_songs = set(train_df['song_name'])\n",
        "test_songs = set(test_df['song_name'])\n",
        "common_songs = train_songs.intersection(test_songs)\n",
        "print(f\"Number of common songs between train and test sets: {len(common_songs)}\")\n"
      ]
    },
    {
      "cell_type": "code",
      "execution_count": null,
      "metadata": {
        "colab": {
          "base_uri": "https://localhost:8080/",
          "height": 159
        },
        "id": "jciouXHnExKQ",
        "outputId": "08de618c-f999-450c-8795-9f12b751392c"
      },
      "outputs": [
        {
          "ename": "NameError",
          "evalue": "name 'train_similarity_map' is not defined",
          "output_type": "error",
          "traceback": [
            "\u001b[0;31m---------------------------------------------------------------------------\u001b[0m",
            "\u001b[0;31mNameError\u001b[0m                                 Traceback (most recent call last)",
            "\u001b[0;32m<ipython-input-3-118030b57022>\u001b[0m in \u001b[0;36m<cell line: 0>\u001b[0;34m()\u001b[0m\n\u001b[0;32m----> 1\u001b[0;31m \u001b[0;32mfor\u001b[0m \u001b[0mplaylist\u001b[0m\u001b[0;34m,\u001b[0m \u001b[0msimilar_playlists\u001b[0m \u001b[0;32min\u001b[0m \u001b[0mlist\u001b[0m\u001b[0;34m(\u001b[0m\u001b[0mtrain_similarity_map\u001b[0m\u001b[0;34m.\u001b[0m\u001b[0mitems\u001b[0m\u001b[0;34m(\u001b[0m\u001b[0;34m)\u001b[0m\u001b[0;34m)\u001b[0m\u001b[0;34m[\u001b[0m\u001b[0;34m:\u001b[0m\u001b[0;36m5\u001b[0m\u001b[0;34m]\u001b[0m\u001b[0;34m:\u001b[0m\u001b[0;34m\u001b[0m\u001b[0;34m\u001b[0m\u001b[0m\n\u001b[0m\u001b[1;32m      2\u001b[0m     \u001b[0mprint\u001b[0m\u001b[0;34m(\u001b[0m\u001b[0;34mf\"Playlist: {playlist}, Similar Playlists: {similar_playlists}\"\u001b[0m\u001b[0;34m)\u001b[0m\u001b[0;34m\u001b[0m\u001b[0;34m\u001b[0m\u001b[0m\n",
            "\u001b[0;31mNameError\u001b[0m: name 'train_similarity_map' is not defined"
          ]
        }
      ],
      "source": [
        "for playlist, similar_playlists in list(train_similarity_map.items())[:5]:\n",
        "    print(f\"Playlist: {playlist}, Similar Playlists: {similar_playlists}\")\n"
      ]
    },
    {
      "cell_type": "code",
      "execution_count": null,
      "metadata": {
        "id": "nfi7qAaOE4HR"
      },
      "outputs": [],
      "source": [
        "for playlist in test_df['unq_playlist_name'].unique():\n",
        "    predicted_playlists = train_similarity_map.get(playlist, set())\n",
        "    if not predicted_playlists:\n",
        "        print(f\"No predictions for playlist: {playlist}\")\n"
      ]
    },
    {
      "cell_type": "markdown",
      "metadata": {
        "id": "X5oKolTAXE4R"
      },
      "source": [
        "# SentenceTransformer"
      ]
    },
    {
      "cell_type": "code",
      "execution_count": null,
      "metadata": {
        "id": "IN2Eq2TqXGGr"
      },
      "outputs": [],
      "source": [
        "from sentence_transformers import SentenceTransformer, losses, InputExample, models\n",
        "from torch.utils.data import DataLoader\n",
        "\n",
        "# יצירת פונקציה ליצירת שלשות (Anchor, Positive, Negative)\n",
        "def create_triplets(df):\n",
        "    triplets = []\n",
        "    for playlist_id, group in df.groupby('unq_playlist_name'):\n",
        "        # יצירת רשימת השירים בפלייליסט\n",
        "        songs = group['song_name'].tolist()\n",
        "        if len(songs) < 2:\n",
        "            continue\n",
        "\n",
        "        # יצירת שלשות\n",
        "        for i in range(len(songs)):\n",
        "            anchor = songs[i]\n",
        "            positive = songs[(i + 1) % len(songs)]  # שיר חיובי (מאותו פלייליסט)\n",
        "            negative_candidates = df[df['unq_playlist_name'] != playlist_id]['song_name'].sample(1).tolist()\n",
        "            if negative_candidates:\n",
        "                negative = negative_candidates[0]\n",
        "                triplets.append(InputExample(texts=[anchor, positive, negative]))\n",
        "    return triplets\n",
        "\n",
        "# קריאה לפונקציה ליצירת שלשות\n",
        "triplets = create_triplets(filtered_short_df)\n",
        "print(f\"Number of triplets created: {len(triplets)}\")\n"
      ]
    },
    {
      "cell_type": "code",
      "execution_count": null,
      "metadata": {
        "id": "UAF_J7mxXJlC"
      },
      "outputs": [],
      "source": [
        "# יצירת המודל\n",
        "word_embedding_model = models.Transformer('all-MiniLM-L6-v2')\n",
        "pooling_model = models.Pooling(word_embedding_model.get_word_embedding_dimension())\n",
        "model = SentenceTransformer(modules=[word_embedding_model, pooling_model])\n"
      ]
    },
    {
      "cell_type": "code",
      "execution_count": null,
      "metadata": {
        "id": "LfBXfbeUXLJN"
      },
      "outputs": [],
      "source": [
        "# יצירת DataLoader\n",
        "train_dataloader = DataLoader(triplets, shuffle=True, batch_size=16)\n",
        "\n",
        "# הגדרת Triplet Loss\n",
        "train_loss = losses.TripletLoss(model=model)\n"
      ]
    },
    {
      "cell_type": "code",
      "execution_count": null,
      "metadata": {
        "id": "DYO2ZHsPXOIt"
      },
      "outputs": [],
      "source": [
        "# אימון המודל\n",
        "model.fit(\n",
        "    train_objectives=[(train_dataloader, train_loss)],\n",
        "    epochs=5,\n",
        "    warmup_steps=100,\n",
        "    show_progress_bar=True\n",
        ")\n",
        "\n",
        "# שמירת המודל\n",
        "model.save(\"/content/drive/My Drive/Colab Notebooks/Final Project/siamese_song_model\")\n",
        "print(\"Model training completed and saved!\")\n"
      ]
    },
    {
      "cell_type": "code",
      "execution_count": null,
      "metadata": {
        "id": "CPDifs_XXOLU"
      },
      "outputs": [],
      "source": [
        "# טעינת המודל\n",
        "model = SentenceTransformer('/content/drive/My Drive/Colab Notebooks/Final Project/siamese_song_model')\n",
        "\n",
        "# יצירת Embeddings עבור שירים\n",
        "song_embeddings = model.encode(filtered_short_df['song_name'].tolist(), convert_to_tensor=True)\n",
        "\n",
        "print(\"Embeddings created for all tracks!\")\n"
      ]
    },
    {
      "cell_type": "code",
      "execution_count": null,
      "metadata": {
        "id": "LmtYXc7zXUKA"
      },
      "outputs": [],
      "source": [
        "from sklearn.metrics.pairwise import cosine_similarity\n",
        "import numpy as np\n",
        "\n",
        "# מציאת שירים דומים\n",
        "def find_similar_songs(input_song, song_list, embeddings, top_n=5):\n",
        "    if input_song not in song_list:\n",
        "        return f\"'{input_song}' not found in the dataset.\"\n",
        "\n",
        "    input_index = song_list.index(input_song)\n",
        "    input_embedding = embeddings[input_index].unsqueeze(0)\n",
        "    similarities = cosine_similarity(input_embedding.cpu().numpy(), embeddings.cpu().numpy()).flatten()\n",
        "\n",
        "    # מיון לפי דמיון קוסינוס\n",
        "    similar_indices = np.argsort(similarities)[::-1][1:top_n + 1]\n",
        "    similar_songs = [(song_list[i], similarities[i]) for i in similar_indices]\n",
        "    return similar_songs\n",
        "\n",
        "# דוגמה לשיר\n",
        "input_song = \"get lucky\"\n",
        "track_list = filtered_short_df['song_name'].tolist()\n",
        "similar_songs = find_similar_songs(input_song, song_name, song_embeddings)\n",
        "\n",
        "print(f\"Songs similar to '{input_song}':\")\n",
        "for song, similarity in similar_songs:\n",
        "    print(f\"{song} (similarity: {similarity:.2f})\")\n"
      ]
    },
    {
      "cell_type": "markdown",
      "metadata": {
        "id": "ahKxpagSd5Uh"
      },
      "source": [
        "#NEW DATASET"
      ]
    },
    {
      "cell_type": "code",
      "execution_count": 1,
      "metadata": {
        "colab": {
          "base_uri": "https://localhost:8080/"
        },
        "id": "q4cnLY6vd4W9",
        "outputId": "4ddc6b2a-3bdd-42f2-afaf-feff23f27827"
      },
      "outputs": [
        {
          "output_type": "stream",
          "name": "stdout",
          "text": [
            "Mounted at /content/drive\n"
          ]
        }
      ],
      "source": [
        "import pandas as pd\n",
        "\n",
        "\n",
        "# Unfortunately, you should download the file to your drive\n",
        "# file link: https://drive.google.com/file/d/1zTEsmlHihMUmWNw90VDIvnK5s8SvJgLH/view?usp=sharing\n",
        "# Then correct the file path accordingly\n",
        "\n",
        "from google.colab import drive\n",
        "drive.mount('/content/drive')\n",
        "df_cleaned_final = '/content/drive/My Drive/Colab Notebooks/Final Project/cleaned_step4.csv'\n",
        "df_cleaned_final = pd.read_csv(df_cleaned_final)\n",
        "\n"
      ]
    },
    {
      "cell_type": "code",
      "execution_count": 2,
      "metadata": {
        "colab": {
          "base_uri": "https://localhost:8080/"
        },
        "id": "0xB-yjZrl5PG",
        "outputId": "076f82a7-30f6-48fc-9bce-44865261c8c0"
      },
      "outputs": [
        {
          "output_type": "stream",
          "name": "stdout",
          "text": [
            "<class 'pandas.core.frame.DataFrame'>\n",
            "RangeIndex: 1048575 entries, 0 to 1048574\n",
            "Data columns (total 7 columns):\n",
            " #   Column             Non-Null Count    Dtype \n",
            "---  ------             --------------    ----- \n",
            " 0   user_id            1048575 non-null  object\n",
            " 1   artist_name        1048575 non-null  object\n",
            " 2   track_name         1048575 non-null  object\n",
            " 3   playlist_name      1048575 non-null  object\n",
            " 4   song_name          1048575 non-null  object\n",
            " 5   unq_playlist_name  1048575 non-null  object\n",
            " 6   track_word_count   1048575 non-null  int64 \n",
            "dtypes: int64(1), object(6)\n",
            "memory usage: 56.0+ MB\n"
          ]
        }
      ],
      "source": [
        "df_cleaned_final.info()"
      ]
    },
    {
      "cell_type": "code",
      "execution_count": null,
      "metadata": {
        "id": "oSTcd-Ltl61c"
      },
      "outputs": [],
      "source": []
    },
    {
      "cell_type": "code",
      "execution_count": null,
      "metadata": {
        "colab": {
          "base_uri": "https://localhost:8080/",
          "height": 224
        },
        "id": "O4-fP4NSne1S",
        "outputId": "3560b3d1-0fd7-4f35-eff9-031fb45dcf5a"
      },
      "outputs": [
        {
          "name": "stdout",
          "output_type": "stream",
          "text": [
            "Number of rows in sampled data: 755\n"
          ]
        },
        {
          "data": {
            "application/vnd.google.colaboratory.intrinsic+json": {
              "summary": "{\n  \"name\": \"df_cleaned_final\",\n  \"rows\": 755,\n  \"fields\": [\n    {\n      \"column\": \"user_id\",\n      \"properties\": {\n        \"dtype\": \"string\",\n        \"num_unique_values\": 511,\n        \"samples\": [\n          \"ebc6ce7772953297148815cf47eebc97\",\n          \"827eaffc664c1407f00294f44fc085c5\",\n          \"aa8abb0760dce9bc546a78e274b22da8\"\n        ],\n        \"semantic_type\": \"\",\n        \"description\": \"\"\n      }\n    },\n    {\n      \"column\": \"artist_name\",\n      \"properties\": {\n        \"dtype\": \"string\",\n        \"num_unique_values\": 668,\n        \"samples\": [\n          \"rupert holmes\",\n          \"george frideric handel\",\n          \"daddy's groove - david guetta\"\n        ],\n        \"semantic_type\": \"\",\n        \"description\": \"\"\n      }\n    },\n    {\n      \"column\": \"track_name\",\n      \"properties\": {\n        \"dtype\": \"string\",\n        \"num_unique_values\": 750,\n        \"samples\": [\n          \"the story of us\",\n          \"together\",\n          \"you could be mine\"\n        ],\n        \"semantic_type\": \"\",\n        \"description\": \"\"\n      }\n    },\n    {\n      \"column\": \"playlist_name\",\n      \"properties\": {\n        \"dtype\": \"string\",\n        \"num_unique_values\": 649,\n        \"samples\": [\n          \"111km\",\n          \"aa favs\",\n          \"first aid kit - stay gold\"\n        ],\n        \"semantic_type\": \"\",\n        \"description\": \"\"\n      }\n    },\n    {\n      \"column\": \"song_name\",\n      \"properties\": {\n        \"dtype\": \"string\",\n        \"num_unique_values\": 751,\n        \"samples\": [\n          \"foo fighters - doll\",\n          \"sufjan stevens, nico muhly, bryce dessner - #nico2\",\n          \"guns n' roses - you could be mine\"\n        ],\n        \"semantic_type\": \"\",\n        \"description\": \"\"\n      }\n    },\n    {\n      \"column\": \"unq_playlist_name\",\n      \"properties\": {\n        \"dtype\": \"string\",\n        \"num_unique_values\": 718,\n        \"samples\": [\n          \"bfc6f658e69064775f1c3f6dbdedbd32 - running\",\n          \"d98e58f7e700e5b0693ad5a598824651 - trucs cool\",\n          \"22a2edc4cca37d8732b372994cc2204d - fresh&clean\"\n        ],\n        \"semantic_type\": \"\",\n        \"description\": \"\"\n      }\n    },\n    {\n      \"column\": \"track_word_count\",\n      \"properties\": {\n        \"dtype\": \"number\",\n        \"std\": 2,\n        \"min\": 1,\n        \"max\": 19,\n        \"num_unique_values\": 16,\n        \"samples\": [\n          4,\n          6,\n          17\n        ],\n        \"semantic_type\": \"\",\n        \"description\": \"\"\n      }\n    }\n  ]\n}",
              "type": "dataframe",
              "variable_name": "df_cleaned_final"
            },
            "text/html": [
              "\n",
              "  <div id=\"df-d25e240c-68ed-4890-922c-e0d2b6b986ea\" class=\"colab-df-container\">\n",
              "    <div>\n",
              "<style scoped>\n",
              "    .dataframe tbody tr th:only-of-type {\n",
              "        vertical-align: middle;\n",
              "    }\n",
              "\n",
              "    .dataframe tbody tr th {\n",
              "        vertical-align: top;\n",
              "    }\n",
              "\n",
              "    .dataframe thead th {\n",
              "        text-align: right;\n",
              "    }\n",
              "</style>\n",
              "<table border=\"1\" class=\"dataframe\">\n",
              "  <thead>\n",
              "    <tr style=\"text-align: right;\">\n",
              "      <th></th>\n",
              "      <th>user_id</th>\n",
              "      <th>artist_name</th>\n",
              "      <th>track_name</th>\n",
              "      <th>playlist_name</th>\n",
              "      <th>song_name</th>\n",
              "      <th>unq_playlist_name</th>\n",
              "      <th>track_word_count</th>\n",
              "    </tr>\n",
              "  </thead>\n",
              "  <tbody>\n",
              "    <tr>\n",
              "      <th>408881</th>\n",
              "      <td>c0452583ce48a2071adebcec92ac3423</td>\n",
              "      <td>pallers</td>\n",
              "      <td>come rain, come sunshine</td>\n",
              "      <td>autumn tunes</td>\n",
              "      <td>pallers - come rain, come sunshine</td>\n",
              "      <td>c0452583ce48a2071adebcec92ac3423 - autumn tunes</td>\n",
              "      <td>4</td>\n",
              "    </tr>\n",
              "    <tr>\n",
              "      <th>130952</th>\n",
              "      <td>0666c52e3ab250fafe30f40512480b18</td>\n",
              "      <td>dada life</td>\n",
              "      <td>born to rage - sweden version</td>\n",
              "      <td>phat</td>\n",
              "      <td>dada life - born to rage - sweden version</td>\n",
              "      <td>0666c52e3ab250fafe30f40512480b18 - phat</td>\n",
              "      <td>6</td>\n",
              "    </tr>\n",
              "    <tr>\n",
              "      <th>677803</th>\n",
              "      <td>49cdf77f3f402a1d2957d483b37254b2</td>\n",
              "      <td>daniel adams-ray</td>\n",
              "      <td>redo att do</td>\n",
              "      <td>varsol</td>\n",
              "      <td>daniel adams-ray - redo att do</td>\n",
              "      <td>49cdf77f3f402a1d2957d483b37254b2 - varsol</td>\n",
              "      <td>3</td>\n",
              "    </tr>\n",
              "    <tr>\n",
              "      <th>203828</th>\n",
              "      <td>af55eabcb413ec256b62ca368eb8be7b</td>\n",
              "      <td>leaves' eyes</td>\n",
              "      <td>new found land</td>\n",
              "      <td>der tanz der schatten</td>\n",
              "      <td>leaves' eyes - new found land</td>\n",
              "      <td>af55eabcb413ec256b62ca368eb8be7b - der tanz de...</td>\n",
              "      <td>3</td>\n",
              "    </tr>\n",
              "    <tr>\n",
              "      <th>7014</th>\n",
              "      <td>f4052aabcb90ac2bc768b14946255b45</td>\n",
              "      <td>thelonious monk</td>\n",
              "      <td>teo</td>\n",
              "      <td>blindmonk</td>\n",
              "      <td>thelonious monk - teo</td>\n",
              "      <td>f4052aabcb90ac2bc768b14946255b45 - blindmonk</td>\n",
              "      <td>1</td>\n",
              "    </tr>\n",
              "  </tbody>\n",
              "</table>\n",
              "</div>\n",
              "    <div class=\"colab-df-buttons\">\n",
              "\n",
              "  <div class=\"colab-df-container\">\n",
              "    <button class=\"colab-df-convert\" onclick=\"convertToInteractive('df-d25e240c-68ed-4890-922c-e0d2b6b986ea')\"\n",
              "            title=\"Convert this dataframe to an interactive table.\"\n",
              "            style=\"display:none;\">\n",
              "\n",
              "  <svg xmlns=\"http://www.w3.org/2000/svg\" height=\"24px\" viewBox=\"0 -960 960 960\">\n",
              "    <path d=\"M120-120v-720h720v720H120Zm60-500h600v-160H180v160Zm220 220h160v-160H400v160Zm0 220h160v-160H400v160ZM180-400h160v-160H180v160Zm440 0h160v-160H620v160ZM180-180h160v-160H180v160Zm440 0h160v-160H620v160Z\"/>\n",
              "  </svg>\n",
              "    </button>\n",
              "\n",
              "  <style>\n",
              "    .colab-df-container {\n",
              "      display:flex;\n",
              "      gap: 12px;\n",
              "    }\n",
              "\n",
              "    .colab-df-convert {\n",
              "      background-color: #E8F0FE;\n",
              "      border: none;\n",
              "      border-radius: 50%;\n",
              "      cursor: pointer;\n",
              "      display: none;\n",
              "      fill: #1967D2;\n",
              "      height: 32px;\n",
              "      padding: 0 0 0 0;\n",
              "      width: 32px;\n",
              "    }\n",
              "\n",
              "    .colab-df-convert:hover {\n",
              "      background-color: #E2EBFA;\n",
              "      box-shadow: 0px 1px 2px rgba(60, 64, 67, 0.3), 0px 1px 3px 1px rgba(60, 64, 67, 0.15);\n",
              "      fill: #174EA6;\n",
              "    }\n",
              "\n",
              "    .colab-df-buttons div {\n",
              "      margin-bottom: 4px;\n",
              "    }\n",
              "\n",
              "    [theme=dark] .colab-df-convert {\n",
              "      background-color: #3B4455;\n",
              "      fill: #D2E3FC;\n",
              "    }\n",
              "\n",
              "    [theme=dark] .colab-df-convert:hover {\n",
              "      background-color: #434B5C;\n",
              "      box-shadow: 0px 1px 3px 1px rgba(0, 0, 0, 0.15);\n",
              "      filter: drop-shadow(0px 1px 2px rgba(0, 0, 0, 0.3));\n",
              "      fill: #FFFFFF;\n",
              "    }\n",
              "  </style>\n",
              "\n",
              "    <script>\n",
              "      const buttonEl =\n",
              "        document.querySelector('#df-d25e240c-68ed-4890-922c-e0d2b6b986ea button.colab-df-convert');\n",
              "      buttonEl.style.display =\n",
              "        google.colab.kernel.accessAllowed ? 'block' : 'none';\n",
              "\n",
              "      async function convertToInteractive(key) {\n",
              "        const element = document.querySelector('#df-d25e240c-68ed-4890-922c-e0d2b6b986ea');\n",
              "        const dataTable =\n",
              "          await google.colab.kernel.invokeFunction('convertToInteractive',\n",
              "                                                    [key], {});\n",
              "        if (!dataTable) return;\n",
              "\n",
              "        const docLinkHtml = 'Like what you see? Visit the ' +\n",
              "          '<a target=\"_blank\" href=https://colab.research.google.com/notebooks/data_table.ipynb>data table notebook</a>'\n",
              "          + ' to learn more about interactive tables.';\n",
              "        element.innerHTML = '';\n",
              "        dataTable['output_type'] = 'display_data';\n",
              "        await google.colab.output.renderOutput(dataTable, element);\n",
              "        const docLink = document.createElement('div');\n",
              "        docLink.innerHTML = docLinkHtml;\n",
              "        element.appendChild(docLink);\n",
              "      }\n",
              "    </script>\n",
              "  </div>\n",
              "\n",
              "\n",
              "<div id=\"df-27ca84fd-0237-4e44-8f23-8a462ddaa0fd\">\n",
              "  <button class=\"colab-df-quickchart\" onclick=\"quickchart('df-27ca84fd-0237-4e44-8f23-8a462ddaa0fd')\"\n",
              "            title=\"Suggest charts\"\n",
              "            style=\"display:none;\">\n",
              "\n",
              "<svg xmlns=\"http://www.w3.org/2000/svg\" height=\"24px\"viewBox=\"0 0 24 24\"\n",
              "     width=\"24px\">\n",
              "    <g>\n",
              "        <path d=\"M19 3H5c-1.1 0-2 .9-2 2v14c0 1.1.9 2 2 2h14c1.1 0 2-.9 2-2V5c0-1.1-.9-2-2-2zM9 17H7v-7h2v7zm4 0h-2V7h2v10zm4 0h-2v-4h2v4z\"/>\n",
              "    </g>\n",
              "</svg>\n",
              "  </button>\n",
              "\n",
              "<style>\n",
              "  .colab-df-quickchart {\n",
              "      --bg-color: #E8F0FE;\n",
              "      --fill-color: #1967D2;\n",
              "      --hover-bg-color: #E2EBFA;\n",
              "      --hover-fill-color: #174EA6;\n",
              "      --disabled-fill-color: #AAA;\n",
              "      --disabled-bg-color: #DDD;\n",
              "  }\n",
              "\n",
              "  [theme=dark] .colab-df-quickchart {\n",
              "      --bg-color: #3B4455;\n",
              "      --fill-color: #D2E3FC;\n",
              "      --hover-bg-color: #434B5C;\n",
              "      --hover-fill-color: #FFFFFF;\n",
              "      --disabled-bg-color: #3B4455;\n",
              "      --disabled-fill-color: #666;\n",
              "  }\n",
              "\n",
              "  .colab-df-quickchart {\n",
              "    background-color: var(--bg-color);\n",
              "    border: none;\n",
              "    border-radius: 50%;\n",
              "    cursor: pointer;\n",
              "    display: none;\n",
              "    fill: var(--fill-color);\n",
              "    height: 32px;\n",
              "    padding: 0;\n",
              "    width: 32px;\n",
              "  }\n",
              "\n",
              "  .colab-df-quickchart:hover {\n",
              "    background-color: var(--hover-bg-color);\n",
              "    box-shadow: 0 1px 2px rgba(60, 64, 67, 0.3), 0 1px 3px 1px rgba(60, 64, 67, 0.15);\n",
              "    fill: var(--button-hover-fill-color);\n",
              "  }\n",
              "\n",
              "  .colab-df-quickchart-complete:disabled,\n",
              "  .colab-df-quickchart-complete:disabled:hover {\n",
              "    background-color: var(--disabled-bg-color);\n",
              "    fill: var(--disabled-fill-color);\n",
              "    box-shadow: none;\n",
              "  }\n",
              "\n",
              "  .colab-df-spinner {\n",
              "    border: 2px solid var(--fill-color);\n",
              "    border-color: transparent;\n",
              "    border-bottom-color: var(--fill-color);\n",
              "    animation:\n",
              "      spin 1s steps(1) infinite;\n",
              "  }\n",
              "\n",
              "  @keyframes spin {\n",
              "    0% {\n",
              "      border-color: transparent;\n",
              "      border-bottom-color: var(--fill-color);\n",
              "      border-left-color: var(--fill-color);\n",
              "    }\n",
              "    20% {\n",
              "      border-color: transparent;\n",
              "      border-left-color: var(--fill-color);\n",
              "      border-top-color: var(--fill-color);\n",
              "    }\n",
              "    30% {\n",
              "      border-color: transparent;\n",
              "      border-left-color: var(--fill-color);\n",
              "      border-top-color: var(--fill-color);\n",
              "      border-right-color: var(--fill-color);\n",
              "    }\n",
              "    40% {\n",
              "      border-color: transparent;\n",
              "      border-right-color: var(--fill-color);\n",
              "      border-top-color: var(--fill-color);\n",
              "    }\n",
              "    60% {\n",
              "      border-color: transparent;\n",
              "      border-right-color: var(--fill-color);\n",
              "    }\n",
              "    80% {\n",
              "      border-color: transparent;\n",
              "      border-right-color: var(--fill-color);\n",
              "      border-bottom-color: var(--fill-color);\n",
              "    }\n",
              "    90% {\n",
              "      border-color: transparent;\n",
              "      border-bottom-color: var(--fill-color);\n",
              "    }\n",
              "  }\n",
              "</style>\n",
              "\n",
              "  <script>\n",
              "    async function quickchart(key) {\n",
              "      const quickchartButtonEl =\n",
              "        document.querySelector('#' + key + ' button');\n",
              "      quickchartButtonEl.disabled = true;  // To prevent multiple clicks.\n",
              "      quickchartButtonEl.classList.add('colab-df-spinner');\n",
              "      try {\n",
              "        const charts = await google.colab.kernel.invokeFunction(\n",
              "            'suggestCharts', [key], {});\n",
              "      } catch (error) {\n",
              "        console.error('Error during call to suggestCharts:', error);\n",
              "      }\n",
              "      quickchartButtonEl.classList.remove('colab-df-spinner');\n",
              "      quickchartButtonEl.classList.add('colab-df-quickchart-complete');\n",
              "    }\n",
              "    (() => {\n",
              "      let quickchartButtonEl =\n",
              "        document.querySelector('#df-27ca84fd-0237-4e44-8f23-8a462ddaa0fd button');\n",
              "      quickchartButtonEl.style.display =\n",
              "        google.colab.kernel.accessAllowed ? 'block' : 'none';\n",
              "    })();\n",
              "  </script>\n",
              "</div>\n",
              "\n",
              "    </div>\n",
              "  </div>\n"
            ],
            "text/plain": [
              "                                 user_id       artist_name  \\\n",
              "408881  c0452583ce48a2071adebcec92ac3423           pallers   \n",
              "130952  0666c52e3ab250fafe30f40512480b18         dada life   \n",
              "677803  49cdf77f3f402a1d2957d483b37254b2  daniel adams-ray   \n",
              "203828  af55eabcb413ec256b62ca368eb8be7b      leaves' eyes   \n",
              "7014    f4052aabcb90ac2bc768b14946255b45   thelonious monk   \n",
              "\n",
              "                           track_name          playlist_name  \\\n",
              "408881       come rain, come sunshine           autumn tunes   \n",
              "130952  born to rage - sweden version                  phat    \n",
              "677803                    redo att do                 varsol   \n",
              "203828                 new found land  der tanz der schatten   \n",
              "7014                              teo              blindmonk   \n",
              "\n",
              "                                        song_name  \\\n",
              "408881         pallers - come rain, come sunshine   \n",
              "130952  dada life - born to rage - sweden version   \n",
              "677803             daniel adams-ray - redo att do   \n",
              "203828              leaves' eyes - new found land   \n",
              "7014                        thelonious monk - teo   \n",
              "\n",
              "                                        unq_playlist_name  track_word_count  \n",
              "408881    c0452583ce48a2071adebcec92ac3423 - autumn tunes                 4  \n",
              "130952           0666c52e3ab250fafe30f40512480b18 - phat                  6  \n",
              "677803          49cdf77f3f402a1d2957d483b37254b2 - varsol                 3  \n",
              "203828  af55eabcb413ec256b62ca368eb8be7b - der tanz de...                 3  \n",
              "7014         f4052aabcb90ac2bc768b14946255b45 - blindmonk                 1  "
            ]
          },
          "execution_count": 13,
          "metadata": {},
          "output_type": "execute_result"
        }
      ],
      "source": [
        "\"\"\"  Do not run this i want the all sample\n",
        "# דגימה של 80% מהדאטה\n",
        "df_cleaned_final = df_cleaned_final.sample(frac=0.8, random_state=42)\n",
        "\n",
        "\n",
        "print(f\"Number of rows in sampled data: {len(df_cleaned_final)}\")\n",
        "df_cleaned_final.head()\n"
      ]
    },
    {
      "cell_type": "code",
      "execution_count": 3,
      "metadata": {
        "colab": {
          "base_uri": "https://localhost:8080/"
        },
        "id": "MHsXcZfnne1T",
        "outputId": "7ebbb2bd-8f39-4deb-f804-eb3fea5d5c2b"
      },
      "outputs": [
        {
          "output_type": "stream",
          "name": "stdout",
          "text": [
            "Total songs before filtering: 463072\n",
            "Total songs after filtering: 13802\n",
            "Total songs_per_playlist after filtering: 17216\n"
          ]
        }
      ],
      "source": [
        "#Purpose: Keeping songs that apear in at least 10 different playlists\n",
        "#This will delete rare songs from the model\n",
        "#By filtering rare songs early, you reduce noise and improve the quality of training data.\n",
        "\n",
        "song_counts = df_cleaned_final['song_name'].value_counts()\n",
        "\n",
        "#Filter songs appearing at least 10 different playlists\n",
        "common_songs = song_counts[song_counts >= 10].index  # Adjust threshold as needed\n",
        "filtered_songs_df = df_cleaned_final[df_cleaned_final['song_name'].isin(common_songs)]\n",
        "\n",
        "# Count songs per playlist (after removing rare songs)\n",
        "songs_per_playlist = filtered_songs_df.groupby('unq_playlist_name')['song_name'].count()\n",
        "\n",
        "print(f\"Total songs before filtering: {len(song_counts)}\")\n",
        "print(f\"Total songs after filtering: {len(common_songs)}\")\n",
        "print(f\"Total songs_per_playlist after filtering: {len(songs_per_playlist)}\")\n"
      ]
    },
    {
      "cell_type": "code",
      "execution_count": 4,
      "metadata": {
        "colab": {
          "base_uri": "https://localhost:8080/",
          "height": 713
        },
        "id": "v-1wcPzCr6Io",
        "outputId": "01d79908-c7af-469c-cee9-786100e15566"
      },
      "outputs": [
        {
          "output_type": "display_data",
          "data": {
            "text/plain": [
              "<Figure size 800x500 with 1 Axes>"
            ],
            "image/png": "[encoded data removed]"
          },
          "metadata": {}
        },
        {
          "output_type": "stream",
          "name": "stdout",
          "text": [
            "unq_playlist_name\n",
            "1      318890\n",
            "2       66810\n",
            "3       26518\n",
            "4       13776\n",
            "5        8457\n",
            "        ...  \n",
            "167         1\n",
            "132         1\n",
            "150         1\n",
            "216         1\n",
            "168         1\n",
            "Name: count, Length: 181, dtype: int64\n"
          ]
        }
      ],
      "source": [
        "import matplotlib.pyplot as plt\n",
        "\n",
        "# מספר הפלייליסטים שכל שיר מופיע בהם\n",
        "playlist_count_per_song = df_cleaned_final.groupby('song_name')['unq_playlist_name'].nunique()\n",
        "\n",
        "# התפלגות\n",
        "playlist_count_per_song.hist(bins=20, edgecolor='black', figsize=(8, 5))\n",
        "plt.title('Distribution of Number of Playlists per Song')\n",
        "plt.xlabel('Number of Playlists')\n",
        "plt.ylabel('Number of Songs')\n",
        "plt.show()\n",
        "\n",
        "\n",
        "# מספר השירים שמופיעים בלפחות X פלייליסטים\n",
        "print(playlist_count_per_song.value_counts())\n"
      ]
    },
    {
      "cell_type": "code",
      "execution_count": 5,
      "metadata": {
        "colab": {
          "base_uri": "https://localhost:8080/",
          "height": 490
        },
        "id": "cR91OohHwQNj",
        "outputId": "c7791a6a-f7b4-47d9-d6a2-980459a7f7d2"
      },
      "outputs": [
        {
          "output_type": "execute_result",
          "data": {
            "text/plain": [
              "song_name\n",
              " (crosses) - +elepa+hy                    1\n",
              " (crosses) - +hholyghs+                   1\n",
              " (crosses) - +his is a +rick              3\n",
              " (crosses) - +rophy                       1\n",
              " (crosses) - 1987                         1\n",
              "                                         ..\n",
              "zztop - gimme all your loving             1\n",
              "zzz - o.f.g.                              1\n",
              "~soundtrack - the return of the king      1\n",
              "~soundtrack - the ride of the rohirrin    1\n",
              "~soundtrack - the white tree              1\n",
              "Name: unq_playlist_name, Length: 463072, dtype: int64"
            ],
            "text/html": [
              "<div>\n",
              "<style scoped>\n",
              "    .dataframe tbody tr th:only-of-type {\n",
              "        vertical-align: middle;\n",
              "    }\n",
              "\n",
              "    .dataframe tbody tr th {\n",
              "        vertical-align: top;\n",
              "    }\n",
              "\n",
              "    .dataframe thead th {\n",
              "        text-align: right;\n",
              "    }\n",
              "</style>\n",
              "<table border=\"1\" class=\"dataframe\">\n",
              "  <thead>\n",
              "    <tr style=\"text-align: right;\">\n",
              "      <th></th>\n",
              "      <th>unq_playlist_name</th>\n",
              "    </tr>\n",
              "    <tr>\n",
              "      <th>song_name</th>\n",
              "      <th></th>\n",
              "    </tr>\n",
              "  </thead>\n",
              "  <tbody>\n",
              "    <tr>\n",
              "      <th>(crosses) - +elepa+hy</th>\n",
              "      <td>1</td>\n",
              "    </tr>\n",
              "    <tr>\n",
              "      <th>(crosses) - +hholyghs+</th>\n",
              "      <td>1</td>\n",
              "    </tr>\n",
              "    <tr>\n",
              "      <th>(crosses) - +his is a +rick</th>\n",
              "      <td>3</td>\n",
              "    </tr>\n",
              "    <tr>\n",
              "      <th>(crosses) - +rophy</th>\n",
              "      <td>1</td>\n",
              "    </tr>\n",
              "    <tr>\n",
              "      <th>(crosses) - 1987</th>\n",
              "      <td>1</td>\n",
              "    </tr>\n",
              "    <tr>\n",
              "      <th>...</th>\n",
              "      <td>...</td>\n",
              "    </tr>\n",
              "    <tr>\n",
              "      <th>zztop - gimme all your loving</th>\n",
              "      <td>1</td>\n",
              "    </tr>\n",
              "    <tr>\n",
              "      <th>zzz - o.f.g.</th>\n",
              "      <td>1</td>\n",
              "    </tr>\n",
              "    <tr>\n",
              "      <th>~soundtrack - the return of the king</th>\n",
              "      <td>1</td>\n",
              "    </tr>\n",
              "    <tr>\n",
              "      <th>~soundtrack - the ride of the rohirrin</th>\n",
              "      <td>1</td>\n",
              "    </tr>\n",
              "    <tr>\n",
              "      <th>~soundtrack - the white tree</th>\n",
              "      <td>1</td>\n",
              "    </tr>\n",
              "  </tbody>\n",
              "</table>\n",
              "<p>463072 rows × 1 columns</p>\n",
              "</div><br><label><b>dtype:</b> int64</label>"
            ]
          },
          "metadata": {},
          "execution_count": 5
        }
      ],
      "source": [
        "playlist_count_per_song"
      ]
    },
    {
      "cell_type": "code",
      "execution_count": 6,
      "metadata": {
        "colab": {
          "base_uri": "https://localhost:8080/"
        },
        "id": "flu23lmYqxYf",
        "outputId": "b11fa049-0c6b-4457-ec1f-cfd274d4a7c5"
      },
      "outputs": [
        {
          "output_type": "stream",
          "name": "stdout",
          "text": [
            "Total unique playlists: 25839\n",
            "Total unique songs: 463072\n"
          ]
        }
      ],
      "source": [
        "print(f\"Total unique playlists: {df_cleaned_final['unq_playlist_name'].nunique()}\")\n",
        "print(f\"Total unique songs: {df_cleaned_final['song_name'].nunique()}\")\n"
      ]
    },
    {
      "cell_type": "code",
      "execution_count": 7,
      "metadata": {
        "colab": {
          "base_uri": "https://localhost:8080/"
        },
        "id": "X2EUgoVPrNxL",
        "outputId": "4b95763d-8ec6-4a24-c254-fc0da1d1a5f7"
      },
      "outputs": [
        {
          "output_type": "stream",
          "name": "stdout",
          "text": [
            "count    463072.000000\n",
            "mean          2.264348\n",
            "std           5.209216\n",
            "min           1.000000\n",
            "25%           1.000000\n",
            "50%           1.000000\n",
            "75%           2.000000\n",
            "max         297.000000\n",
            "Name: unq_playlist_name, dtype: float64\n",
            "unq_playlist_name\n",
            "1      318890\n",
            "2       66810\n",
            "3       26518\n",
            "4       13776\n",
            "5        8457\n",
            "        ...  \n",
            "167         1\n",
            "132         1\n",
            "150         1\n",
            "216         1\n",
            "168         1\n",
            "Name: count, Length: 181, dtype: int64\n"
          ]
        }
      ],
      "source": [
        "playlist_count_per_song = df_cleaned_final.groupby('song_name')['unq_playlist_name'].nunique()\n",
        "print(playlist_count_per_song.describe())\n",
        "print(playlist_count_per_song.value_counts())\n"
      ]
    },
    {
      "cell_type": "code",
      "execution_count": 8,
      "metadata": {
        "colab": {
          "base_uri": "https://localhost:8080/"
        },
        "id": "_2Ar_9Glq_3c",
        "outputId": "49dde64e-7644-4f41-bffe-7b71090dd140"
      },
      "outputs": [
        {
          "output_type": "stream",
          "name": "stdout",
          "text": [
            "count    463072.000000\n",
            "mean          2.264348\n",
            "std           5.209216\n",
            "min           1.000000\n",
            "25%           1.000000\n",
            "50%           1.000000\n",
            "75%           2.000000\n",
            "max         297.000000\n",
            "Name: unq_playlist_name, dtype: float64\n"
          ]
        }
      ],
      "source": [
        "playlist_count_per_song = df_cleaned_final.groupby('song_name')['unq_playlist_name'].nunique()\n",
        "print(playlist_count_per_song.describe())\n"
      ]
    },
    {
      "cell_type": "code",
      "execution_count": null,
      "metadata": {
        "id": "JUyP-UPLne1T"
      },
      "outputs": [],
      "source": [
        "\"\"\"\n",
        "#Purpose: Ensures the model is trained on playlists with meaningful context (neither too small nor too large).\n",
        "#Therefore, we filter playlists that include between 10 to 50 songs for efficient training.\n",
        "#(Up to 25% of the playlists in this df have max 10 songs and Up to 80% of the playlists in the df have max 50 songs).\n",
        "\n",
        "# Filter playlists with 10 to 50 songs\n",
        "valid_playlists = songs_per_playlist[(songs_per_playlist >= 10) & (songs_per_playlist <= 50)].index\n",
        "\n",
        "# Subset the DataFrame to include only these playlists\n",
        "filtered_df = df_cleaned_final[df_cleaned_final['unq_playlist_name'].isin(valid_playlists)]\n",
        "\n",
        "filtered_df.to_csv(\"filtered_data.csv\", index=False)\n",
        "\n"
      ]
    },
    {
      "cell_type": "code",
      "execution_count": null,
      "metadata": {
        "colab": {
          "base_uri": "https://localhost:8080/"
        },
        "id": "rFZLj5GY6NP1",
        "outputId": "19775630-1cc7-4f81-9a51-1b3802224bb0"
      },
      "outputs": [
        {
          "name": "stdout",
          "output_type": "stream",
          "text": [
            "<class 'pandas.core.frame.DataFrame'>\n",
            "RangeIndex: 1048575 entries, 0 to 1048574\n",
            "Data columns (total 7 columns):\n",
            " #   Column             Non-Null Count    Dtype \n",
            "---  ------             --------------    ----- \n",
            " 0   user_id            1048575 non-null  object\n",
            " 1   artist_name        1048575 non-null  object\n",
            " 2   track_name         1048575 non-null  object\n",
            " 3   playlist_name      1048575 non-null  object\n",
            " 4   song_name          1048575 non-null  object\n",
            " 5   unq_playlist_name  1048575 non-null  object\n",
            " 6   track_word_count   1048575 non-null  int64 \n",
            "dtypes: int64(1), object(6)\n",
            "memory usage: 56.0+ MB\n"
          ]
        }
      ],
      "source": [
        "df_cleaned_final.info()"
      ]
    },
    {
      "cell_type": "code",
      "execution_count": 9,
      "metadata": {
        "colab": {
          "base_uri": "https://localhost:8080/"
        },
        "id": "WCAipInine1U",
        "outputId": "0ddf6fd7-1e92-428d-a0b3-3164e6b38a79"
      },
      "outputs": [
        {
          "output_type": "stream",
          "name": "stdout",
          "text": [
            "Average length of song names: 34.25\n",
            "80th percentile of song name lengths: 43.00\n",
            "Number of long song names to exclude from the model: 205900\n",
            "Number of song names to include in the model: 842675\n",
            "Number of rows in filtered_short_df: 842675\n"
          ]
        }
      ],
      "source": [
        "#We know that some songs are too long and may harm the model recognition.\n",
        "\n",
        "#Calculate average song name\n",
        "filtered_df=df_cleaned_final\n",
        "\n",
        "# חישוב אורך כל שם שיר\n",
        "song_name_lengths = [len(song) for song in filtered_df['song_name']]\n",
        "\n",
        "# חישוב ממוצע אורך השמות\n",
        "average_length = sum(song_name_lengths) / len(song_name_lengths)\n",
        "\n",
        "\n",
        "print(f\"Average length of song names: {average_length:.2f}\")\n",
        "\n",
        "\n",
        "#calculate the 80 percentile of song_name length\n",
        "import numpy as np\n",
        "\n",
        "# חישוב אורכי כל שמות השירים\n",
        "song_name_lengths = [len(song) for song in filtered_df['song_name']]\n",
        "\n",
        "# חישוב אחוזון ה-80\n",
        "percentile_80 = np.percentile(song_name_lengths, 80)\n",
        "\n",
        "# הדפסה של התוצאה\n",
        "print(f\"80th percentile of song name lengths: {percentile_80:.2f}\")\n",
        "\n",
        "\n",
        "#We define a max value for song_name lenght for the model\n",
        "# הגדר אורך מקסימלי לשם השיר\n",
        "max_length = 43\n",
        "\n",
        "# סינון שמות ארוכים מהמילון\n",
        "long_songs = [song for song in filtered_df['song_name'] if len(song) > max_length]\n",
        "print(f\"Number of long song names to exclude from the model: {len(long_songs)}\")\n",
        "\n",
        "\n",
        "short_songs = [song for song in filtered_df['song_name'] if len(song) <= max_length]\n",
        "print(f\"Number of song names to include in the model: {len(short_songs)}\")\n",
        "\n",
        "\n",
        "# Filter the DataFrame to include only short songs\n",
        "filtered_short_df = filtered_df[filtered_df['song_name'].isin(short_songs)]\n",
        "print(f\"Number of rows in filtered_short_df: {filtered_short_df.shape[0]}\")\n",
        "\n"
      ]
    },
    {
      "cell_type": "code",
      "execution_count": 10,
      "metadata": {
        "colab": {
          "base_uri": "https://localhost:8080/"
        },
        "id": "35rd6fMCne1U",
        "outputId": "98525f73-de96-4fcd-b455-a92ed2f553ad"
      },
      "outputs": [
        {
          "output_type": "stream",
          "name": "stdout",
          "text": [
            "Number of playlists: 25236\n",
            "Example playlist tokens: [['train - 50 ways to say goodbye', 'fall out boy - beat it', 'michael jackson - beat it - single version', 'foo fighters - best of you', 'n sync - bye bye bye', 'red hot chili peppers - californication', 'aqua - doctor jones', 'enrique iglesias - escape', 'five - everybody get up - radio edit', 'lenka - everything at once', 'britney spears - everytime', 'michelle branch - everywhere', 'roxette - fading like a flower', 'avril lavigne - fall to pieces', 'good charlotte - girls & boys', 'michael jackson - give in to me', \"kiss - i was made for lovin' you\", 'roxette - it must have been love', 'p!nk - just give me a reason', 'nightcore - let it burn', \"five - let's dance - radio edit\", 'r.e.m. - losing my religion', 'little mix - madhouse', 'genesis - mama', 'westlife - my love', 'n-dubz - no regrets - n-dubz version', 'bridgit mendler - ready or not', 'roxette - run to you', 'nelly furtado - say it right - main', 'will.i.am - scream & shout', 'miley cyrus - see you again', \"taylor swift - should've said no\", 'avril lavigne - smile', 'good charlotte - the anthem', 'foo fighters - times like these', 'the offspring - want you bad', 'bon jovi - wanted dead or alive', 'cascada - what hurts the most', 'bruno mars - when i was your man', 'five - when the lights go out - radio edit', 'michael jackson - who is it', 'korn - word up!']]\n"
          ]
        }
      ],
      "source": [
        "#Generate Tokens\n",
        "#Playlist-Song Tokens\n",
        "#Purpose: Converts each playlist into a list of song names (tokens) for Word2Vec training\n",
        "\n",
        "# Group songs by unique playlist names to create tokens\n",
        "playlist_tokens = filtered_short_df.groupby('unq_playlist_name')['song_name'].apply(list).tolist()\n",
        "\n",
        "print(f\"Number of playlists: {len(playlist_tokens)}\")\n",
        "print(\"Example playlist tokens:\", playlist_tokens[:1])"
      ]
    },
    {
      "cell_type": "code",
      "execution_count": 11,
      "metadata": {
        "id": "UkeTq8Zine1V"
      },
      "outputs": [],
      "source": [
        "#Train the Word2Vec Model # it takes  min to run\n",
        "import time\n",
        "#Purpose:\n",
        "#Learns embeddings for songs and playlists, capturing their contextual relationships.\n",
        "#Saves the trained model for reuse without retraining\n",
        "# Start the timer\n",
        "\"\"\"\n",
        "Train Word2Vec Model\n",
        "2.1 Import and Configure Word2Vec\n",
        "Use Gensim’s Word2Vec model to train embeddings.\n",
        "Configure parameters like vector_size, window, min_count, and epochs.\n",
        "\"\"\"\n",
        "\n",
        "\n",
        "from gensim.models import Word2Vec\n",
        "\n",
        "# Train Word2Vec model\n",
        "w2v_model = Word2Vec(\n",
        "    sentences=playlist_tokens,  # Filtered tokens\n",
        "    vector_size=100,            # Embedding dimensions\n",
        "    window=5,                   # Context window size\n",
        "    min_count=1,                # Minimum frequency of songs\n",
        "    sg=1,                       # Skip-gram  model sg=1 :Suitable for larger datasets\n",
        "    epochs=20,                  # Number of training epochs\n",
        "    workers=4                   # Number of CPU threads\n",
        ")\n",
        "\n",
        "# Save the model\n",
        "w2v_model.save(\"filtered_song2vec_short_songsall.model\")"
      ]
    },
    {
      "cell_type": "code",
      "execution_count": 12,
      "metadata": {
        "colab": {
          "base_uri": "https://localhost:8080/"
        },
        "id": "I0Ys-B4Qne1V",
        "outputId": "929495e2-a04a-4dca-bbff-81436a220c94"
      },
      "outputs": [
        {
          "output_type": "stream",
          "name": "stdout",
          "text": [
            "Drive already mounted at /content/drive; to attempt to forcibly remount, call drive.mount(\"/content/drive\", force_remount=True).\n"
          ]
        }
      ],
      "source": [
        "#Save the file here so u done need to rerun it\n",
        "from google.colab import drive\n",
        "drive.mount('/content/drive')\n",
        "\n",
        "# Save to Google Drive\n",
        "w2v_model.save('/content/drive/My Drive/Colab Notebooks/Final Project/filtered_song2vec_short_songsall.model')"
      ]
    },
    {
      "cell_type": "code",
      "execution_count": 13,
      "metadata": {
        "colab": {
          "base_uri": "https://localhost:8080/"
        },
        "id": "omIehLw9ne1V",
        "outputId": "338fba0a-62e4-4343-dd67-e6a025d5ba78"
      },
      "outputs": [
        {
          "output_type": "stream",
          "name": "stdout",
          "text": [
            "Songs similar to 'daft punk - get lucky':\n",
            "daft punk - get lucky - radio edit (similarity: 0.93)\n",
            "daft punk - giorgio by moroder (similarity: 0.91)\n",
            "oscar aleman - tico tico no fuba (similarity: 0.90)\n",
            "daft punk - give life back to music (similarity: 0.90)\n",
            "the roots - don't say nuthin' - radio edit (similarity: 0.89)\n",
            "sonny rollins - friday the 13th (similarity: 0.89)\n",
            "willy moon - get up (what you need) (similarity: 0.89)\n",
            "anna naklab - supergirl - radio edit (similarity: 0.88)\n",
            "the noisy freaks - funky kids (similarity: 0.88)\n",
            "viceroy - friday nights (bronx night dub) (similarity: 0.88)\n"
          ]
        }
      ],
      "source": [
        "#Test the Trained Model\n",
        "\n",
        "# Load the model if needed\n",
        "from gensim.models import Word2Vec\n",
        "w2v_model = Word2Vec.load('/content/drive/My Drive/Colab Notebooks/Final Project/filtered_song2vec_short_songsall.model')\n",
        "\n",
        "# Find similar songs\n",
        "input_song = \"daft punk - get lucky\"\n",
        "if input_song in w2v_model.wv:\n",
        "    similar_songs = w2v_model.wv.most_similar(input_song, topn=10)\n",
        "    print(f\"Songs similar to '{input_song}':\")\n",
        "    for song, similarity in similar_songs:\n",
        "        print(f\"{song} (similarity: {similarity:.2f})\")\n",
        "else:\n",
        "    print(f\"'{input_song}' not found in the model vocabulary.\")"
      ]
    },
    {
      "cell_type": "code",
      "execution_count": 14,
      "metadata": {
        "colab": {
          "base_uri": "https://localhost:8080/"
        },
        "id": "cEE4qOrwne1W",
        "outputId": "3bc4730c-c3b5-48b0-959e-f5d1ad2a53a2"
      },
      "outputs": [
        {
          "output_type": "stream",
          "name": "stdout",
          "text": [
            "Recommended playlists for 'daft punk - get lucky': ['7511e45f2cc6f6e609ae46c15506538c - summering'\n",
            " 'a807890a84273fb32d1eefd70916195c - blaser min rok'\n",
            " 'a807890a84273fb32d1eefd70916195c - vastervik'\n",
            " '53a80b4f5d73275d7cc00cc78ec812cd - vem vet'\n",
            " '53a80b4f5d73275d7cc00cc78ec812cd - wow!!'\n",
            " '2e3f81500105f5080c161d3daea72bbe - roadtrip til vestlandet'\n",
            " '39140985921349a4f6ca6ca108544c3a - nytt'\n",
            " 'b86510df7a1b78877f8ea6734f503c29 - play edm'\n",
            " 'ee4c2080a04f5bba5176ce0bdd927f14 - 2014'\n",
            " 'bb7d07f6f0085b99ab0dedc1e1fae091 - bicikli'\n",
            " 'bb7d07f6f0085b99ab0dedc1e1fae091 - funkygroovymoodyrockdisco'\n",
            " '171f9f8447a0962f408c51201b76439e - anto'\n",
            " '5aa28d8a9543b3cfa69330942c27f7a5 - spring was late'\n",
            " 'e4297c11550f9040baa20dc319256705 - random'\n",
            " 'a978bcc7e3d706a7c2cef3f0008fd846 - starred'\n",
            " '156fd148c44f2bce755b09bf95985ee8 - electronic dance music'\n",
            " '156fd148c44f2bce755b09bf95985ee8 - top 2013'\n",
            " '156fd148c44f2bce755b09bf95985ee8 - world pop'\n",
            " '6cdb890a9fff57be31b072777350e632 - 2013'\n",
            " '6cdb890a9fff57be31b072777350e632 - i love myself (2015)'\n",
            " '6cdb890a9fff57be31b072777350e632 - march/spring 2013'\n",
            " '6cdb890a9fff57be31b072777350e632 - pending applause'\n",
            " '1c1d009e7cd350de99c412d9a983cdc6 - starred'\n",
            " '02e7e8b832c68c0e38e6af926a225421 - otros(electro/dubstep)'\n",
            " '02e7e8b832c68c0e38e6af926a225421 - starred'\n",
            " '424678a7d04868568c9f95863a901d88 - 2013'\n",
            " '424678a7d04868568c9f95863a901d88 - heartlifting'\n",
            " '22f7b61f45b2af0cf9a33707f3710900 - starred'\n",
            " 'bb35d8debe6c3b6e74029763cf82d1b2 - lo mejor de 2013'\n",
            " '1004960393a301709456567bb8151e08 - diverse bra'\n",
            " '259842246fe2666878f22710e171c1fd - weddingshakeyothing'\n",
            " '93371db8999bd0d3586e16c9a671e1b6 - plastico'\n",
            " '65fdf0ad01992a87a2ddcc33f511ff00 - 21st century disco'\n",
            " '65fdf0ad01992a87a2ddcc33f511ff00 - daft punk'\n",
            " '65fdf0ad01992a87a2ddcc33f511ff00 - summer jams'\n",
            " '9bd66dc88ca70a99276d546a89794846 - random access memories'\n",
            " '6d91866c31fb433919bfa93d221fdfc6 - christoph'\n",
            " '638a0d0123e1972df03b49818147f0c2 - liked from radio'\n",
            " 'e4bb63911a09261dcea90cc89c4132af - best of 2013'\n",
            " '55fedaf786c16ff9de06e90f3797382b - starred'\n",
            " 'f843240c5b40a66a5e0169ec966d60b3 - california waiting'\n",
            " '8b1da91c01a055bf8c6a3f01fad469fe - spring 13'\n",
            " 'c48e4afdaf85454ecacd1178f0ae5438 - kids'\n",
            " 'ea0e4bd5eb86a066c6ff6a275c253704 - random'\n",
            " 'a8a663a542f7e28432895a75cdc8513b - daft punk'\n",
            " '52305ebb9ca033cf9b887e930b497adc - modernillo, indie, hipster'\n",
            " '22bd14638cbfec5321df86cacb311d3f - giuseppe'\n",
            " '6d96e09fc95418e0af58ce6f66006632 - starred'\n",
            " 'bee14e5197bae5fa9024dce7e2534ba5 - lounge 40'\n",
            " '5c79cfc14e580bf5b8e2a9a270882341 - daft punk'\n",
            " 'cf6a75cb39f53b985f7364ac986067df - mix'\n",
            " 'bf9cc9ba7862c9ef894d1ad4440789ca - disco'\n",
            " 'bf9cc9ba7862c9ef894d1ad4440789ca - main'\n",
            " 'bf9cc9ba7862c9ef894d1ad4440789ca - sunshine'\n",
            " '55f361fad00af15e96e790bc360ce1c6 - bill walden happy knee #1 recovery mix'\n",
            " '55f361fad00af15e96e790bc360ce1c6 - dance cook off'\n",
            " '55f361fad00af15e96e790bc360ce1c6 - summer cook out'\n",
            " '73175a00d8a5a48b197f1c505e5c7f58 - joaquin 2012'\n",
            " '47815cafadf35e21da99413080ba7539 - random access memories'\n",
            " '56a52e7a6f1e712f2de3207321ab8101 - pop 1'\n",
            " '9b01351bf3ab8e88cf689b2fe615210a - daft punk - random access memories'\n",
            " '9b01351bf3ab8e88cf689b2fe615210a - starred'\n",
            " '17c0ca616c5a86c63ceaeee990e11d86 - 2013'\n",
            " '552e2c862b95207bd5ee72f9de9820c6 - wake up you slut'\n",
            " 'c5e2dc4262aaa754927251f11fa64238 - la la la'\n",
            " '522be8a6c27516844094fade09e3aa23 - daft punk - random access memories'\n",
            " '96764cc9a42cf1b1239f4f0f3bfdfdc5 - pop'\n",
            " '96764cc9a42cf1b1239f4f0f3bfdfdc5 - random access memories'\n",
            " '618b1426346524fe467787aef7a72b34 - daft punk'\n",
            " '618b1426346524fe467787aef7a72b34 - tiririri tururu lerelere'\n",
            " 'af55eabcb413ec256b62ca368eb8be7b - an introvert happily dancing'\n",
            " '88fe51d2570cab64df7c47052243611d - my dog ate my homework'\n",
            " 'faed9d40e206860cac30d1f130498e3d - favoritas de la radio'\n",
            " 'b9c94111880f6bfb7b0feb07c30eb68c - of the moment'\n",
            " 'b9c94111880f6bfb7b0feb07c30eb68c - random access memories'\n",
            " '0ec4e1b26857f8f838b8c4eb2e4e1eeb - tretton'\n",
            " 'a879e989ddc0b2325c6255cf77a77d44 - albums2listen:daft punk - random access memories'\n",
            " 'efb6b150eb101deddfb2456509e240be - mcbryde-valley wedding'\n",
            " 'e5d0573bd749b427205245349a97981d - hits'\n",
            " 'df6d0ac666dd088a625da0d365f7c1a8 - birthday shake your booty'\n",
            " '013563dd7de2dc6431a3517d5ccdbef0 - graduacio -disco nit- top hits'\n",
            " '6a8c2124f30ae9026462733c4c4f5925 - starred'\n",
            " '27c18308edb1cab0567798dd4fa8f97e - electronica'\n",
            " '98a78d8fbf7e0a69340d3a1ebf1a87b1 - starred'\n",
            " '5c71e5b64e184b46edd84afd44ad0a46 - my playlist'\n",
            " '89b4437fc0607e8719d08be55a1e4b0e - starred'\n",
            " '5cd1473c6ce48a03c24c033c203ccb65 - starred'\n",
            " 'cdc8c8f9efc9d3d3dcd5b20f2f0be877 - 2 nos'\n",
            " 'ae4cc4292cf3b8348513874f264be54d - starred'\n",
            " 'e195e072357902d88c16948dafe2525e - fertry'\n",
            " '5e80bd0d859bcea211abe618bb47be36 - daft punk - get lucky'\n",
            " '5e80bd0d859bcea211abe618bb47be36 - summer time'\n",
            " '18d12becd0afebddcd372239212840cb - daft punk - random access memories'\n",
            " '18d12becd0afebddcd372239212840cb - miau'\n",
            " '18ab16ad229f5433722f943585072082 - favoritas de la radio'\n",
            " '45624a435588a4e06de0ba38d3664e77 - elena makes playlists'\n",
            " '45624a435588a4e06de0ba38d3664e77 - spring 2013'\n",
            " '3e50f20467b798f7835f5db11d245127 - liked from radio'\n",
            " '1e54539c9134fd0a7d94ac7996a101bf - starred'\n",
            " '7e8be9a8e5247c57d4cf6cfe77a68cf5 - random access memories'\n",
            " 'cf1a156449e0f3435b17cb745a87b5e0 - starred'\n",
            " '0e5e508cd58f796658c407478caa4929 - a++'\n",
            " '85a66f3b5aa1cd303972ce06f3e0ba27 - spring 2013'\n",
            " 'b609d3b4c0f9aa49a3661191c3ce2d1c - 2013 djing'\n",
            " 'b609d3b4c0f9aa49a3661191c3ce2d1c - shazam 2013'\n",
            " 'e64be43dcd06fda7f1c0c049ea260a5d - cool hits 2014'\n",
            " '7c20b2fe3ab2652a8855390bba0d1330 - comida'\n",
            " '7c20b2fe3ab2652a8855390bba0d1330 - mpb'\n",
            " '7c20b2fe3ab2652a8855390bba0d1330 - random access memories'\n",
            " '7c20b2fe3ab2652a8855390bba0d1330 - starred'\n",
            " '82f455fe4bab694733fa03c271147852 - so random'\n",
            " '77379eed7368418cfdedc163f5db2b0b - workout mix'\n",
            " 'e3e9f53b98a5162239d3236547e61e63 - starred'\n",
            " 'd802a41f27ff2850e51e696ce1bf4c2f - daft punk - random access memories'\n",
            " 'e66eaf5865a3d1f6109c975be264516d - diamonds'\n",
            " '9263979815465a0b315a72868a8596dd - starred'\n",
            " 'b8198eacdec609338ec33a229e5ee961 - starred'\n",
            " '24b496052cd45227296451779c23734a - soloq'\n",
            " 'cf321f653235509e8d626a9a76363678 - gym'\n",
            " '3dad1058688d39a8ae96710e2501b26a - aa'\n",
            " '3dad1058688d39a8ae96710e2501b26a - starred'\n",
            " '553a20c2ebc3619c5cf21e9dfa4ef5fd - montse'\n",
            " '553a20c2ebc3619c5cf21e9dfa4ef5fd - nochevieja total'\n",
            " 'b40336cd0d0b44d694ddaa9c1fa60a32 - karen rock en n'\n",
            " 'b40336cd0d0b44d694ddaa9c1fa60a32 - party'\n",
            " '73432f1a6e8ff32db386c53dedb8b49b - glitter & glamour'\n",
            " '619652772f9ef98148a568b1c023f1d1 - electronica '\n",
            " '990e99e06d8ac92958541e5922dedb32 - + liked from radio'\n",
            " '437117b649685e6e5b2f6a503a1581c3 - dance gurl!  dance'\n",
            " '73ad123e571450f5e874def1fc756ab5 - concentracion'\n",
            " '110a1fe648a23d2ffca251260b03beaf - liked from radio'\n",
            " '4ca01bb934873e1af1b054e8dc4794c4 - starred'\n",
            " '3487d014274ec5b2f7169d656d17e793 - electronic'\n",
            " '201b0b55feea00a64fb8cbee3dacb411 - daft punk - random access memories'\n",
            " '201b0b55feea00a64fb8cbee3dacb411 - top hits'\n",
            " '95ddabf87d94d88cf1b74bcd59f56da0 - jamz3'\n",
            " '605c4e6745ac00a02d35490b1a1a2fc5 - daft punk - random access memories'\n",
            " '11ea81ca4d3fd6965af593f63ca3a18d - daft punk'\n",
            " '649087a951b401abcd4de75072afef53 - tegueste'\n",
            " '7b3908a8612d81f6e8793ee05c00c8b8 - verano 2013'\n",
            " 'e9248caa0ae3e0f1e86523678197b18b - starred'\n",
            " '15b53a1d6bebc1daed33d53adacdd09c - alternative'\n",
            " '15b53a1d6bebc1daed33d53adacdd09c - curtida no radio'\n",
            " '47da9dffde45f2c82808d8fac6f6f133 - pal pedo '\n",
            " '3da4122ee9b54b76bfcf00691a6104ea - halloween'\n",
            " '79d1b491ffeacc1e8290a1b498604223 - michaels playlist'\n",
            " \"59e295670dddf211c71a7c9031c5880f - dre's alternative\"\n",
            " '62d739d209215635eca2fa1377ab9484 - daft punk - random access memories'\n",
            " '3b4253bf23b086cb88961667182d370c - favoritas de la radio'\n",
            " 'ba7a0b93299bf45284cc708778e43426 - bmw ride2'\n",
            " 'ba7a0b93299bf45284cc708778e43426 - outside '\n",
            " '79fa2323c0155f1581dedd747fa7662d - launch (dancing) music'\n",
            " '62299e1a1482c37dfa41bc3007806a98 - dance floor !!!!!'\n",
            " '62299e1a1482c37dfa41bc3007806a98 - electronica'\n",
            " 'b95580a5cc9fefbb226f806e6e283594 - april 2013'\n",
            " '6c0bb913c2e410f29895ec8a3f4e389e - starred'\n",
            " 'df8b5b92b6db9ec3e4af337abd046dd9 - #letsgetweird'\n",
            " '4656eb4904774f0cf498a5397aa995da - starred'\n",
            " '2f0ccde09ea9affffa0f16637e5bff25 - random access memories'\n",
            " 'b91f056bd4a568ac194fc03bbdcc26c8 - electro'\n",
            " '189b09759af1b26d2d82f0d1ed75953a - indie house disco'\n",
            " 'efccd8d90410002cbae80e5b96213068 - hottest 100 2013/14'\n",
            " '372210b4a6f7c85bac2bb49ee79446e8 - liking '\n",
            " 'f7051f52e9565e22d0d0097809c1611b - do'\n",
            " 'f7051f52e9565e22d0d0097809c1611b - garage'\n",
            " 'f7051f52e9565e22d0d0097809c1611b - sssssssommar13'\n",
            " 'f7051f52e9565e22d0d0097809c1611b - var'\n",
            " 'e3199c3fc9dea01f6aac2fc201431c43 - 34 ivo'\n",
            " 'f489b9a85ca6126de3dcb43f4d9258e5 - i feel it all'\n",
            " '86cd605c719b841060f13012b1bd5854 - kayelyns party'\n",
            " '80b06e5657a7ea4a362b396ddd54020f - myfavs'\n",
            " '8056092eea5d0aee8c26ee8a728b139d - r u n '\n",
            " '8056092eea5d0aee8c26ee8a728b139d - shake your hips'\n",
            " 'c68273d51d65a27a8ad6ef805529c5ff - anniversary music'\n",
            " '7b218a8d242cb1f57d843a49b93a01fa - daft punk - random access memories'\n",
            " 'e2d3c24d35bd968f0b50758549d8cfb8 - 2013 - un disco, una cancion'\n",
            " '66c284546ec8b88b4dd6f2e9f970d893 - electronica'\n",
            " '225326284c1823caa1d89a5debfb0505 - ok.'\n",
            " '225326284c1823caa1d89a5debfb0505 - starred'\n",
            " 'b7e624e9cdf37d3b2635b8a3c0f2fd70 - starred'\n",
            " '48ff9a8322164ddce654cfde6c73f1df - starred'\n",
            " 'b8ff8f8de30bde1a97e4283f48058a78 - starred'\n",
            " 'b8ff8f8de30bde1a97e4283f48058a78 - work'\n",
            " '38f9f2f9d20cb74d642df254261153e9 - indie wok on soundrop'\n",
            " 'cb55eb883b4bb1e3a80411bd4ad34fa9 - pekka'\n",
            " '51118ee2b2d5a458aed8d5ca674ad8d9 - favoritas de la radio'\n",
            " 'a2d6677cd0be63d48068ca53601b1598 - random access memories'\n",
            " '2be6fedc2ae3719f3c7804cc91677826 - playlist!'\n",
            " '4bb0786e00ec137c8ded623ad9306ef7 - daft punk - random access memories'\n",
            " '4919439594644d4bcd3b633629bbb2d7 - daft punk - random access memories'\n",
            " '4919439594644d4bcd3b633629bbb2d7 - bestofbest'\n",
            " '9dc4110e5fd715696396e6ff8eccfafd - daft punk'\n",
            " 'd7f96f243f5ed6e9bb3106017bfad999 - starred'\n",
            " '7a0a7d233106a967dd1fd895e9a2ffcf - random access memories'\n",
            " 'fdeeb79b4f3e32f20a298a2581351a56 - allt och lite till.....'\n",
            " 'fdeeb79b4f3e32f20a298a2581351a56 - daft punk'\n",
            " 'fdeeb79b4f3e32f20a298a2581351a56 - soft'\n",
            " '0e4ef9bc170b16fda24f167cca718a90 - indie rock'\n",
            " '798ddeb5ce830765d64b1ff2de51660d - dac speelweek 7 franse chansons'\n",
            " '61a1c44b6a9f7d515fb4b1ce9715d25c - random access memories'\n",
            " '984c9d805f92f3202a3f8cc34c99bf93 - starred'\n",
            " '41a9f98576f1ecf62b958dedf28fc665 - tompsolainen 2013'\n",
            " '5fcb19419ed9218b23e1388b695ab325 - starred'\n",
            " '22a2edc4cca37d8732b372994cc2204d - pop'\n",
            " '22a2edc4cca37d8732b372994cc2204d - you can dance'\n",
            " 'af013b8e913a30ff36e279febd309caf - random access memories'\n",
            " 'a7b951210b5d779301a0fbc514a5302e - starred'\n",
            " '991809511621433748ce488b45f1d36c - relaxing.... ;)'\n",
            " '5c655a5d56e8f4e0b20e9a12469edeb8 - daft punk - random access memories'\n",
            " '5c655a5d56e8f4e0b20e9a12469edeb8 - snowbird 2014'\n",
            " '0ea98bc523e42d5082171df6615d29cf - beats'\n",
            " '4a65b8871a927ee801585f19661c45dc - waaa'\n",
            " '49cdf77f3f402a1d2957d483b37254b2 - spektrum'\n",
            " '49cdf77f3f402a1d2957d483b37254b2 - varsol'\n",
            " 'f36bbb074eee262a24c1140c602d13d3 - daft punk - random access memories'\n",
            " 'f36bbb074eee262a24c1140c602d13d3 - panda da panda'\n",
            " '0923e1216b06abfcf3e04824205ece3e - starred'\n",
            " '1eaccdf7060adaa467b6ab93227bc39e - nebfit'\n",
            " '9975bbb4ba8242194e9fa3300cc28310 - songs that you wanna cry'\n",
            " 'a603705f6ec174fbcf0bf2b4e956d2d6 - sweden'\n",
            " 'd2049ed042ae4aa1a6ada53acfcabd6f - daft punk - random access memories'\n",
            " '2a9df249e179dc3b75b8e87412d6b3fb - dp'\n",
            " '2a9df249e179dc3b75b8e87412d6b3fb - random access memories'\n",
            " '2a9df249e179dc3b75b8e87412d6b3fb - starred'\n",
            " '7015f40950de61b7ba8cfa2e6c250821 - starred'\n",
            " '001c4e5b73eca68ee9756bb0c7d2f855 - summer 2013'\n",
            " '1747883282275c1384f54c270e702226 - coolstorybro (my top spotify tracks)'\n",
            " 'aacf45720ae43229810ca4133092f9cc - starred'\n",
            " 'cce110c5f4e37ae36dc613f0f4dd3350 - dance party'\n",
            " '6edaace9e526fb2f47ab7bed981ec1d1 - designing'\n",
            " '27b750a1e73e325bef8888acc67058d9 - various artists - the pete tong collection'\n",
            " \"12a0aa1c0280e4894d5a8f07741f3cce - summer 13 - c'monnnnn\"\n",
            " '98ab7f0d5a7b39ccff8e8171aee79215 - edm'\n",
            " '98ab7f0d5a7b39ccff8e8171aee79215 - starred'\n",
            " '6c2c8f9495273f337ab84ba57f1435b7 - april 2013'\n",
            " '6c2c8f9495273f337ab84ba57f1435b7 - may 2013'\n",
            " '75481b4228ff9639c6c75a6471d36aaa - starred'\n",
            " '102320e8fef5e1b315e68f1b515d9a19 - que me paren los pies!'\n",
            " '32bd69912a3b546da1869f5ec91debab - daft punk'\n",
            " '32bd69912a3b546da1869f5ec91debab - electro'\n",
            " '32bd69912a3b546da1869f5ec91debab - french touch'\n",
            " 'b1de51e19f283100e5d04c7cbb61d076 - may 2013'\n",
            " '29b179e124e84eedd9ffa4ff50ff48f0 - starred'\n",
            " '29b179e124e84eedd9ffa4ff50ff48f0 - the best of the 00s'\n",
            " '48b43f9ece4370dbe10fe03ecb4649a2 - good mood'\n",
            " 'a7da91b5ee257e4912984f0911c6cb2f - eclectic mangle'\n",
            " 'c84332c8d946677b2df2d478c215518e - may 2k13'\n",
            " 'ea04a3e4430d3c4246f07a84b7ea069d - soiree saou 1'\n",
            " 'ac48bc8e82ed9c6857deea3157538db6 - starred'\n",
            " '4196c501541cf69a35fabbe7eab83fa7 - april'\n",
            " '4196c501541cf69a35fabbe7eab83fa7 - june'\n",
            " '4196c501541cf69a35fabbe7eab83fa7 - may'\n",
            " '4196c501541cf69a35fabbe7eab83fa7 - summer'\n",
            " '0e34052048fa61c5d1e235992a6b57f5 - neues'\n",
            " '0fd668177b62aef6bbea31c2b4e43745 - daft punk - random access memories'\n",
            " '0fd668177b62aef6bbea31c2b4e43745 - pop'\n",
            " 'fd0af8f84288788773eb47b373a93281 - the best of 2013'\n",
            " 'b8410554bbed6ba9a05a6a9aa7e0c3ed - tavling'\n",
            " 'f472de3d8bfda65dc7a126b578b35c23 - berrentini'\n",
            " 'c13a6e8f5b87139e83f1411a22d8abf9 - nieuwe afspeellijst'\n",
            " '211e61414829de1bdb85dcead6287042 - ponys party'\n",
            " '96d81d592aa100a5bde493c7e169af70 - happy mix'\n",
            " '96d81d592aa100a5bde493c7e169af70 - matias mix'\n",
            " '3a4722aee5edda15dc6dcf33dee0ff7c - i can see through you'\n",
            " 'ee507bce1fb5ab8244f368d5695bd2db - 2014 - mk +bt wfh playlist'\n",
            " \"ee507bce1fb5ab8244f368d5695bd2db - 2014 - summer's comin'\"\n",
            " '5a8ac4439ebfeb3df1bd81078c96a31b - music (2010-2015)'\n",
            " '5a8ac4439ebfeb3df1bd81078c96a31b - starred'\n",
            " 'd58be940158a8cd79017ba4a6f29e2ee - upbeat fork'\n",
            " \"12ec89f74b308644f1538fc8cb45b403 - wakin' up\"\n",
            " 'a21cb7091c1bd79f7b21414b1d07ebdf - iphone'\n",
            " '86c5db6b197a93f7a7067fbaa91c3a6c - run'\n",
            " 'fdebfcfb8c84763f5ec151947c795e61 - daft punk - random access memories'\n",
            " 'ce7eab9cbb66a49a8b71c751458e8663 - daft punk'\n",
            " 'ce7eab9cbb66a49a8b71c751458e8663 - mys'\n",
            " \"d8cb6c36770264c968b57d561e1f66dc - chase's recommendations\"\n",
            " \"d8cb6c36770264c968b57d561e1f66dc - it's electric\"\n",
            " \"7619c2519898d5687b5612bdc23e832e - bill's favorites\"\n",
            " '7619c2519898d5687b5612bdc23e832e - starred'\n",
            " '962528725851e8efc163fc09e81d558b - daft punk - random access memories'\n",
            " '2734eb3678a0c05dbac4d342d76fd91f - party sounds'\n",
            " '3c968fddbe749dd50f9152fea9c39877 - daft punk - random access memories'\n",
            " '3c968fddbe749dd50f9152fea9c39877 - random access memories'\n",
            " '5bc53f8feab344978f1356f89276482c - daft punk - random access memories'\n",
            " 'ce14751de53724dc4ac21ccbb2986ae4 - 2.14.13'\n",
            " '6e67d134541bd804dfe9512882935521 - daft punk -- random access memories'\n",
            " 'b34be9134a0cd0d5f2c02d7224c61b8d - liked from radio'\n",
            " 'b34be9134a0cd0d5f2c02d7224c61b8d - starred'\n",
            " '578402926c5b838432f761bfe65599a0 - oontz'\n",
            " 'cee200f8d4c89fd37d86a43e28c7d705 - daft punk '\n",
            " '37ce496a15d98d1f33da39735dae4f28 - smirnoff ice'\n",
            " '29fe6856bb8ecc4319f6913b5831ba07 - feel good '\n",
            " 'd8b2774e82fc32491acae6d201837bd3 - musica hipster'\n",
            " '27fd5f74e36d4dbaf97fc346f7f33a4d - party t1m3'\n",
            " 'e4751619cc88fca15016b7fc8151e048 - svdstefan thungren'\n",
            " '3fa19c1daf995a623d4b9da1df413295 - starred'\n",
            " '8fc1d3cc1bb43870dff46cb09d11fc3d - my perfect summer'\n",
            " '8fc1d3cc1bb43870dff46cb09d11fc3d - starred'\n",
            " 'eb3ca5dcdb239da981d535381e98a96d - nnnnnnnnnnneeeeeeeeeeeewwwwwwwwww'\n",
            " '53205cdde63b67899545713101003acc - random access memories'\n",
            " '4abb5dc668cd8c9f97fe7d59307ef8cc - starred'\n",
            " '9c76f02cbaf1f58578eb9783c6e5f5a3 - blandat'\n",
            " '9c76f02cbaf1f58578eb9783c6e5f5a3 - daft punk - random access memories'\n",
            " '51907b03b0b6099ff40c3638b322f6f7 - daft punk - random access memories'\n",
            " '35028bae78a35d8fdfd651bdc5f04dd4 - first attempt at bbc playlister'\n",
            " '6d63ddf0e5cb750486fd51b2cd328e1b - advisory day'\n",
            " '6d63ddf0e5cb750486fd51b2cd328e1b - head soother'\n",
            " '93aa892d8c68a46a683d0b76a485fff3 - tercera'\n",
            " 'a1370294dd2eec9ad5cbdc6da35d0c5b - twenty thirteen (rolling)'\n",
            " '23d30df291496e1ee49e520258dbaccb - daft punk - random access memories'\n",
            " '5b8121613b5d91dcd4bd873e9b451161 - dope'\n",
            " 'ee972bd8aafa9a46efd30540c7e2176b - summatime/fall'\n",
            " '18e0277abb34fc16fc891beb5326e016 - bram'\n",
            " '18e0277abb34fc16fc891beb5326e016 - gabrielle'\n",
            " '5ddc2dad56aebb204457216ba5ac61f5 - 10 talet'\n",
            " '6c72a3b28df94bd921d81d4f9adb64b2 - brave new world april 2013']\n"
          ]
        }
      ],
      "source": [
        "#Recommend Playlists for a Song\n",
        "def recommend_playlists(input_song, model, df):\n",
        "    # Check if the song exists in the model\n",
        "    if input_song not in model.wv:\n",
        "        return \"Song not found in model vocabulary.\"\n",
        "\n",
        "    # Get similar songs\n",
        "    similar_songs = [s for s, _ in model.wv.most_similar(input_song, topn=10)]\n",
        "\n",
        "    # Filter playlists that contain similar songs\n",
        "    recommended_playlists = df[df['song_name'].isin(similar_songs)]['unq_playlist_name'].unique()\n",
        "    return recommended_playlists\n",
        "\n",
        "# Example usage\n",
        "input_song = \"daft punk - get lucky\"\n",
        "playlists = recommend_playlists(input_song, w2v_model, df_cleaned_final)\n",
        "print(f\"Recommended playlists for '{input_song}':\", playlists)\n",
        "\n"
      ]
    },
    {
      "cell_type": "code",
      "execution_count": null,
      "metadata": {
        "colab": {
          "background_save": true
        },
        "id": "SmEEPxAGne1W",
        "outputId": "d1f14aa4-95ab-423b-e137-02f5598020a8"
      },
      "outputs": [
        {
          "name": "stdout",
          "output_type": "stream",
          "text": [
            "Buffered data was truncated after reaching the output size limit."
          ]
        }
      ],
      "source": [
        "from collections import defaultdict\n",
        "\n",
        "def create_playlist_similarity_map_optimized(filtered_short_df, min_overlap=1):\n",
        "    # Map playlists to their songs\n",
        "    playlist_to_songs = defaultdict(set)\n",
        "    for playlist, songs in filtered_short_df.groupby('unq_playlist_name')['song_name']:\n",
        "        playlist_to_songs[playlist] = set(songs)\n",
        "\n",
        "    # Create similarity map\n",
        "    similarity_map = defaultdict(set)\n",
        "    playlist_names = list(playlist_to_songs.keys())\n",
        "\n",
        "    for i in range(len(playlist_names)):\n",
        "        for j in range(i + 1, len(playlist_names)):\n",
        "            playlist_a = playlist_names[i]\n",
        "            playlist_b = playlist_names[j]\n",
        "\n",
        "            # Calculate overlap once\n",
        "            overlap = len(playlist_to_songs[playlist_a].intersection(playlist_to_songs[playlist_b]))\n",
        "            if overlap >= min_overlap:\n",
        "                similarity_map[playlist_a].add(playlist_b)\n",
        "                similarity_map[playlist_b].add(playlist_a)\n",
        "\n",
        "    return similarity_map\n",
        "\n",
        "# Create the optimized similarity map\n",
        "playlist_similarity_map = create_playlist_similarity_map_optimized(filtered_short_df)\n",
        "playlist_similarity_map\n",
        "\n",
        "\n"
      ]
    },
    {
      "cell_type": "code",
      "execution_count": null,
      "metadata": {
        "colab": {
          "background_save": true
        },
        "id": "Vz7y_YlJne1W",
        "outputId": "b89a371d-4944-4ffb-a3aa-74d8772c5143"
      },
      "outputs": [
        {
          "name": "stdout",
          "output_type": "stream",
          "text": [
            "Top 10 most connected playlists: [('3b4253bf23b086cb88961667182d370c - favoritas de la radio', 7378), ('b34be9134a0cd0d5f2c02d7224c61b8d - liked from radio', 5760), ('c55fb8f1a42bedbcce1fffe26f403d4f - favoritas de la radio', 5731), ('72382b31f79adbe07435cc0d7d8dd781 - from the mess to the masses ', 5263), ('ee972bd8aafa9a46efd30540c7e2176b - summatime/fall', 5253), ('deb7336ef91f52b70b4fc1dcc9417b52 - varias', 5121), ('53a80b4f5d73275d7cc00cc78ec812cd - vem vet', 5120), ('731e39822fd86b016158700f90b1f4c9 - starred', 5064), ('1e54539c9134fd0a7d94ac7996a101bf - starred', 4918), ('156fd148c44f2bce755b09bf95985ee8 - world pop', 4905)]\n"
          ]
        }
      ],
      "source": [
        "# מספר הקשרים (connections) לכל פלייליסט\n",
        "playlist_connections = {playlist: len(related_playlists) for playlist, related_playlists in playlist_similarity_map.items()}\n",
        "\n",
        "# פלייליסטים עם הכי הרבה קשרים\n",
        "most_connected = sorted(playlist_connections.items(), key=lambda x: x[1], reverse=True)[:10]\n",
        "print(\"Top 10 most connected playlists:\", most_connected)\n"
      ]
    },
    {
      "cell_type": "code",
      "execution_count": null,
      "metadata": {
        "colab": {
          "background_save": true
        },
        "id": "rWWK0pfKne1W"
      },
      "outputs": [],
      "source": [
        "from sklearn.model_selection import train_test_split\n",
        "\n",
        "# Split playlists into training and testing sets\n",
        "playlists = df_cleaned_final['unq_playlist_name'].drop_duplicates()\n",
        "train_playlists, test_playlists = train_test_split(playlists, test_size=0.2, random_state=42)\n",
        "\n",
        "# Create train and test datasets\n",
        "train_df = df_cleaned_final[df_cleaned_final['unq_playlist_name'].isin(train_playlists)]\n",
        "test_df = df_cleaned_final[df_cleaned_final['unq_playlist_name'].isin(test_playlists)]\n"
      ]
    },
    {
      "cell_type": "code",
      "execution_count": null,
      "metadata": {
        "colab": {
          "background_save": true
        },
        "id": "IN8J33Rpne1W"
      },
      "outputs": [],
      "source": [
        "# Generate playlist similarity map for the training set : it took 1:30 hour\n",
        "train_similarity_map = create_playlist_similarity_map_optimized(train_df)\n"
      ]
    },
    {
      "cell_type": "code",
      "execution_count": null,
      "metadata": {
        "id": "PKww0QBSne1X"
      },
      "outputs": [],
      "source": [
        "from sklearn.metrics import precision_score, recall_score, f1_score\n",
        "\n",
        "def evaluate_model(test_df, train_similarity_map):\n",
        "    y_true = []  # האם השיר באמת נמצא בפלייליסטים דומים\n",
        "    y_pred = []  # האם המודל זיהה קשר\n",
        "\n",
        "    # בדיקה עבור כל פלייליסט בסט הטסט\n",
        "    for playlist in test_df['unq_playlist_name'].unique():\n",
        "        # השירים בפלייליסט הנוכחי\n",
        "        playlist_songs = set(test_df[test_df['unq_playlist_name'] == playlist]['song_name'])\n",
        "\n",
        "        # פלייליסטים דומים לפי המודל\n",
        "        predicted_playlists = train_similarity_map.get(playlist, set())\n",
        "        predicted_songs = set(train_df[train_df['unq_playlist_name'].isin(predicted_playlists)]['song_name'])\n",
        "\n",
        "        # יצירת y_true ו-y_pred\n",
        "        for song in playlist_songs:\n",
        "            y_true.append(1)  # השיר קיים בפלייליסט\n",
        "            y_pred.append(1 if song in predicted_songs else 0)  # האם המודל זיהה אותו\n",
        "\n",
        "    # חישוב מדדים\n",
        "    precision = precision_score(y_true, y_pred)\n",
        "    recall = recall_score(y_true, y_pred)\n",
        "    f1 = f1_score(y_true, y_pred)\n",
        "\n",
        "    return precision, recall, f1\n",
        "\n",
        "# Evaluate the model\n",
        "precision, recall, f1 = evaluate_model(test_df, train_similarity_map)\n",
        "print(f\"Precision: {precision:.2f}, Recall: {recall:.2f}, F1 Score: {f1:.2f}\")\n"
      ]
    },
    {
      "cell_type": "code",
      "execution_count": null,
      "metadata": {
        "colab": {
          "background_save": true
        },
        "id": "3u6zalrUne1X",
        "outputId": "5864a128-0b8d-40b9-85f1-425ecef8a2bb"
      },
      "outputs": [
        {
          "name": "stdout",
          "output_type": "stream",
          "text": [
            "Number of playlists in similarity map: 159054\n"
          ]
        }
      ],
      "source": [
        "print(f\"Number of playlists in similarity map: {len(train_similarity_map)}\")\n"
      ]
    },
    {
      "cell_type": "code",
      "execution_count": null,
      "metadata": {
        "id": "XVfa-SdNne1X"
      },
      "outputs": [],
      "source": [
        "train_songs = set(train_df['song_name'])\n",
        "test_songs = set(test_df['song_name'])\n",
        "common_songs = train_songs.intersection(test_songs)\n",
        "print(f\"Number of common songs between train and test sets: {len(common_songs)}\")\n"
      ]
    },
    {
      "cell_type": "code",
      "execution_count": null,
      "metadata": {
        "colab": {
          "base_uri": "https://localhost:8080/",
          "height": 159
        },
        "id": "I048gfkMne1X",
        "outputId": "08de618c-f999-450c-8795-9f12b751392c"
      },
      "outputs": [
        {
          "ename": "NameError",
          "evalue": "name 'train_similarity_map' is not defined",
          "output_type": "error",
          "traceback": [
            "\u001b[0;31m---------------------------------------------------------------------------\u001b[0m",
            "\u001b[0;31mNameError\u001b[0m                                 Traceback (most recent call last)",
            "\u001b[0;32m<ipython-input-3-118030b57022>\u001b[0m in \u001b[0;36m<cell line: 0>\u001b[0;34m()\u001b[0m\n\u001b[0;32m----> 1\u001b[0;31m \u001b[0;32mfor\u001b[0m \u001b[0mplaylist\u001b[0m\u001b[0;34m,\u001b[0m \u001b[0msimilar_playlists\u001b[0m \u001b[0;32min\u001b[0m \u001b[0mlist\u001b[0m\u001b[0;34m(\u001b[0m\u001b[0mtrain_similarity_map\u001b[0m\u001b[0;34m.\u001b[0m\u001b[0mitems\u001b[0m\u001b[0;34m(\u001b[0m\u001b[0;34m)\u001b[0m\u001b[0;34m)\u001b[0m\u001b[0;34m[\u001b[0m\u001b[0;34m:\u001b[0m\u001b[0;36m5\u001b[0m\u001b[0;34m]\u001b[0m\u001b[0;34m:\u001b[0m\u001b[0;34m\u001b[0m\u001b[0;34m\u001b[0m\u001b[0m\n\u001b[0m\u001b[1;32m      2\u001b[0m     \u001b[0mprint\u001b[0m\u001b[0;34m(\u001b[0m\u001b[0;34mf\"Playlist: {playlist}, Similar Playlists: {similar_playlists}\"\u001b[0m\u001b[0;34m)\u001b[0m\u001b[0;34m\u001b[0m\u001b[0;34m\u001b[0m\u001b[0m\n",
            "\u001b[0;31mNameError\u001b[0m: name 'train_similarity_map' is not defined"
          ]
        }
      ],
      "source": [
        "for playlist, similar_playlists in list(train_similarity_map.items())[:5]:\n",
        "    print(f\"Playlist: {playlist}, Similar Playlists: {similar_playlists}\")\n"
      ]
    },
    {
      "cell_type": "code",
      "execution_count": null,
      "metadata": {
        "id": "yNkpW5YBne1X"
      },
      "outputs": [],
      "source": [
        "for playlist in test_df['unq_playlist_name'].unique():\n",
        "    predicted_playlists = train_similarity_map.get(playlist, set())\n",
        "    if not predicted_playlists:\n",
        "        print(f\"No predictions for playlist: {playlist}\")\n"
      ]
    },
    {
      "cell_type": "markdown",
      "source": [
        "#similarity_map_with_cosine"
      ],
      "metadata": {
        "id": "oCGu1AP4KSH1"
      }
    },
    {
      "cell_type": "code",
      "source": [
        "import numpy as np\n",
        "from sklearn.metrics.pairwise import cosine_similarity\n",
        "from collections import defaultdict\n",
        "\n",
        "def create_similarity_map_with_cosine(filtered_short_df, w2v_model, similarity_threshold=0.7):\n",
        "    # Map playlists to their songs\n",
        "    playlist_to_songs = filtered_short_df.groupby('unq_playlist_name')['song_name'].apply(list)\n",
        "\n",
        "    # Compute vector representation for each playlist\n",
        "    playlist_vectors = {}\n",
        "    for playlist, songs in playlist_to_songs.items():\n",
        "        # Filter songs available in the Word2Vec model\n",
        "        song_vectors = [w2v_model.wv[song] for song in songs if song in w2v_model.wv]\n",
        "        if song_vectors:\n",
        "            # Average vector representation of the playlist\n",
        "            playlist_vectors[playlist] = np.mean(song_vectors, axis=0)\n",
        "\n",
        "    # Create similarity map\n",
        "    similarity_map = defaultdict(set)\n",
        "    playlist_names = list(playlist_vectors.keys())\n",
        "\n",
        "    for i in range(len(playlist_names)):\n",
        "        for j in range(i + 1, len(playlist_names)):\n",
        "            playlist_a = playlist_names[i]\n",
        "            playlist_b = playlist_names[j]\n",
        "\n",
        "            # Calculate cosine similarity\n",
        "            similarity = cosine_similarity(\n",
        "                [playlist_vectors[playlist_a]],\n",
        "                [playlist_vectors[playlist_b]]\n",
        "            )[0][0]\n",
        "\n",
        "            if similarity >= similarity_threshold:\n",
        "                similarity_map[playlist_a].add(playlist_b)\n",
        "                similarity_map[playlist_b].add(playlist_a)\n",
        "\n",
        "    return similarity_map\n",
        "\n",
        "# Create the optimized similarity map using cosine similarity\n",
        "playlist_similarity_map = create_similarity_map_with_cosine(filtered_short_df, w2v_model)\n",
        "print(f\"Number of playlists in similarity map: {len(playlist_similarity_map)}\")\n"
      ],
      "metadata": {
        "id": "yd4uTr0HKiQ3"
      },
      "execution_count": null,
      "outputs": []
    },
    {
      "cell_type": "code",
      "source": [
        "from sklearn.model_selection import train_test_split\n",
        "\n",
        "# Split playlists into training and testing sets\n",
        "playlists = df_cleaned_final['unq_playlist_name'].drop_duplicates()\n",
        "train_playlists, test_playlists = train_test_split(playlists, test_size=0.2, random_state=42)\n",
        "\n",
        "# Create train and test datasets\n",
        "train_df = df_cleaned_final[df_cleaned_final['unq_playlist_name'].isin(train_playlists)]\n",
        "test_df = df_cleaned_final[df_cleaned_final['unq_playlist_name'].isin(test_playlists)]\n"
      ],
      "metadata": {
        "id": "oa6htR1ZLN39"
      },
      "execution_count": null,
      "outputs": []
    },
    {
      "cell_type": "code",
      "source": [
        "train_similarity_map = create_similarity_map_with_cosine(train_df, w2v_model, threshold=0.7)\n"
      ],
      "metadata": {
        "id": "9UdWRUrDLO6H"
      },
      "execution_count": null,
      "outputs": []
    },
    {
      "cell_type": "code",
      "source": [
        "from sklearn.metrics import precision_score, recall_score, f1_score\n",
        "\n",
        "def evaluate_model_with_cosine(test_df, train_similarity_map, train_df):\n",
        "    y_true = []\n",
        "    y_pred = []\n",
        "\n",
        "    for playlist in test_df['unq_playlist_name'].unique():\n",
        "        # Get the songs in the current test playlist\n",
        "        playlist_songs = set(test_df[test_df['unq_playlist_name'] == playlist]['song_name'])\n",
        "\n",
        "        # Get predicted playlists based on the similarity map\n",
        "        predicted_playlists = train_similarity_map.get(playlist, set())\n",
        "\n",
        "        # Aggregate all songs in the predicted playlists\n",
        "        predicted_songs = set(train_df[train_df['unq_playlist_name'].isin(predicted_playlists)]['song_name'])\n",
        "\n",
        "        # Compare actual and predicted songs\n",
        "        for song in playlist_songs:\n",
        "            y_true.append(1)  # Song is in the playlist\n",
        "            y_pred.append(1 if song in predicted_songs else 0)  # Predicted correctly or not\n",
        "\n",
        "    # Calculate metrics\n",
        "    precision = precision_score(y_true, y_pred, zero_division=0)\n",
        "    recall = recall_score(y_true, y_pred, zero_division=0)\n",
        "    f1 = f1_score(y_true, y_pred, zero_division=0)\n",
        "\n",
        "    return precision, recall, f1\n"
      ],
      "metadata": {
        "id": "7xX__Vz2LTvu"
      },
      "execution_count": null,
      "outputs": []
    },
    {
      "cell_type": "code",
      "source": [
        "precision, recall, f1 = evaluate_model_with_cosine(test_df, train_similarity_map, train_df)\n",
        "print(f\"Precision: {precision:.2f}, Recall: {recall:.2f}, F1 Score: {f1:.2f}\")\n"
      ],
      "metadata": {
        "id": "MFd3rBWzLaDv"
      },
      "execution_count": null,
      "outputs": []
    }
  ],
  "metadata": {
    "accelerator": "GPU",
    "colab": {
      "gpuType": "L4",
      "machine_shape": "hm",
      "toc_visible": true,
      "provenance": []
    },
    "kernelspec": {
      "display_name": "Python 3",
      "name": "python3"
    },
    "language_info": {
      "codemirror_mode": {
        "name": "ipython",
        "version": 3
      },
      "file_extension": ".py",
      "mimetype": "text/x-python",
      "name": "python",
      "nbconvert_exporter": "python",
      "pygments_lexer": "ipython3",
      "version": "3.12.3"
    }
  },
  "nbformat": 4,
  "nbformat_minor": 0
}